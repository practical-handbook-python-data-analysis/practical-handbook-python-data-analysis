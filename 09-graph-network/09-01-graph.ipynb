{
 "cells": [
  {
   "cell_type": "markdown",
   "id": "448ee384",
   "metadata": {},
   "source": [
    "## グラフとNetworkX"
   ]
  },
  {
   "cell_type": "markdown",
   "id": "48f1d28a",
   "metadata": {},
   "source": [
    "### NetworkX入門"
   ]
  },
  {
   "cell_type": "code",
   "execution_count": 1,
   "id": "8391c53c",
   "metadata": {},
   "outputs": [],
   "source": [
    "import networkx as nx"
   ]
  },
  {
   "cell_type": "code",
   "execution_count": 2,
   "id": "185790e6",
   "metadata": {},
   "outputs": [],
   "source": [
    "graph = nx.Graph()"
   ]
  },
  {
   "cell_type": "code",
   "execution_count": 3,
   "id": "80646c33",
   "metadata": {},
   "outputs": [],
   "source": [
    "graph.add_edge(\"A\", \"B\")\n",
    "\n",
    "graph.add_edges_from(\n",
    "    [\n",
    "        (\"B\", \"C\"),\n",
    "        (\"B\", \"D\"),\n",
    "        (\"C\", \"D\"),\n",
    "        (\"D\", \"E\"),\n",
    "        (\"G\", \"F\"),\n",
    "        (\"G\", \"H\"),\n",
    "    ]\n",
    ")"
   ]
  },
  {
   "cell_type": "code",
   "execution_count": 4,
   "id": "c31a31e4",
   "metadata": {},
   "outputs": [
    {
     "data": {
      "image/png": "[encoded data removed]",
      "text/plain": [
       "<Figure size 432x288 with 1 Axes>"
      ]
     },
     "metadata": {},
     "output_type": "display_data"
    }
   ],
   "source": [
    "nx.draw_networkx(graph)"
   ]
  },
  {
   "cell_type": "code",
   "execution_count": 5,
   "id": "aa450f0b",
   "metadata": {},
   "outputs": [
    {
     "data": {
      "image/png": "[encoded data removed]",
      "text/plain": [
       "<Figure size 432x288 with 1 Axes>"
      ]
     },
     "metadata": {},
     "output_type": "display_data"
    }
   ],
   "source": [
    "nx.draw_networkx(graph, pos=nx.circular_layout(graph))"
   ]
  },
  {
   "cell_type": "markdown",
   "id": "b3db321e",
   "metadata": {},
   "source": [
    "### NetworkXを使ったグラフの解析"
   ]
  },
  {
   "cell_type": "code",
   "execution_count": 6,
   "id": "30fec470",
   "metadata": {},
   "outputs": [
    {
     "data": {
      "text/plain": [
       "NodeView(('A', 'B', 'C', 'D', 'E', 'G', 'F', 'H'))"
      ]
     },
     "execution_count": 6,
     "metadata": {},
     "output_type": "execute_result"
    }
   ],
   "source": [
    "graph.nodes()"
   ]
  },
  {
   "cell_type": "code",
   "execution_count": 7,
   "id": "93379a42",
   "metadata": {},
   "outputs": [
    {
     "data": {
      "text/plain": [
       "EdgeView([('A', 'B'), ('B', 'C'), ('B', 'D'), ('C', 'D'), ('D', 'E'), ('G', 'F'), ('G', 'H')])"
      ]
     },
     "execution_count": 7,
     "metadata": {},
     "output_type": "execute_result"
    }
   ],
   "source": [
    "graph.edges()"
   ]
  },
  {
   "cell_type": "code",
   "execution_count": 8,
   "id": "c965f3bb",
   "metadata": {},
   "outputs": [
    {
     "data": {
      "text/plain": [
       "AtlasView({'B': {}, 'D': {}})"
      ]
     },
     "execution_count": 8,
     "metadata": {},
     "output_type": "execute_result"
    }
   ],
   "source": [
    "graph[\"C\"]"
   ]
  },
  {
   "cell_type": "code",
   "execution_count": 11,
   "id": "aefde8d3",
   "metadata": {},
   "outputs": [
    {
     "data": {
      "text/plain": [
       "{}"
      ]
     },
     "execution_count": 11,
     "metadata": {},
     "output_type": "execute_result"
    }
   ],
   "source": [
    "graph[\"A\"][\"B\"]"
   ]
  },
  {
   "cell_type": "code",
   "execution_count": 12,
   "id": "d6cc6fd3",
   "metadata": {},
   "outputs": [],
   "source": [
    "for s, t in graph.edges():\n",
    "    graph[s][t][\"value\"] = 10"
   ]
  },
  {
   "cell_type": "code",
   "execution_count": 13,
   "id": "2b4f2c7d",
   "metadata": {},
   "outputs": [
    {
     "data": {
      "text/plain": [
       "{'value': 10}"
      ]
     },
     "execution_count": 13,
     "metadata": {},
     "output_type": "execute_result"
    }
   ],
   "source": [
    "graph[\"A\"][\"B\"]"
   ]
  },
  {
   "cell_type": "code",
   "execution_count": 14,
   "id": "b4ad7550",
   "metadata": {},
   "outputs": [
    {
     "data": {
      "text/plain": [
       "7"
      ]
     },
     "execution_count": 14,
     "metadata": {},
     "output_type": "execute_result"
    }
   ],
   "source": [
    "graph.size()"
   ]
  },
  {
   "cell_type": "code",
   "execution_count": 15,
   "id": "f54eef19",
   "metadata": {},
   "outputs": [
    {
     "data": {
      "text/plain": [
       "70.0"
      ]
     },
     "execution_count": 15,
     "metadata": {},
     "output_type": "execute_result"
    }
   ],
   "source": [
    "graph.size(weight=\"value\")"
   ]
  },
  {
   "cell_type": "code",
   "execution_count": 16,
   "id": "78e4a638",
   "metadata": {},
   "outputs": [],
   "source": [
    "for node in graph.nodes():\n",
    "    graph.nodes[node][\"color\"] = \"gray\""
   ]
  },
  {
   "cell_type": "code",
   "execution_count": 17,
   "id": "9a762d44",
   "metadata": {},
   "outputs": [
    {
     "data": {
      "text/plain": [
       "{'color': 'gray'}"
      ]
     },
     "execution_count": 17,
     "metadata": {},
     "output_type": "execute_result"
    }
   ],
   "source": [
    "graph.nodes[\"A\"]"
   ]
  },
  {
   "cell_type": "code",
   "execution_count": 18,
   "id": "3bf57989",
   "metadata": {},
   "outputs": [
    {
     "data": {
      "text/plain": [
       "True"
      ]
     },
     "execution_count": 18,
     "metadata": {},
     "output_type": "execute_result"
    }
   ],
   "source": [
    "nx.has_path(graph, \"A\", \"E\")"
   ]
  },
  {
   "cell_type": "code",
   "execution_count": 19,
   "id": "f87e0c64",
   "metadata": {},
   "outputs": [
    {
     "data": {
      "text/plain": [
       "False"
      ]
     },
     "execution_count": 19,
     "metadata": {},
     "output_type": "execute_result"
    }
   ],
   "source": [
    "nx.has_path(graph, \"A\", \"G\")"
   ]
  },
  {
   "cell_type": "code",
   "execution_count": 21,
   "id": "8aaa3ee0",
   "metadata": {},
   "outputs": [
    {
     "name": "stdout",
     "output_type": "stream",
     "text": [
      "['A', 'B', 'D', 'E']\n"
     ]
    }
   ],
   "source": [
    "for path in nx.all_shortest_paths(graph, source=\"A\", target=\"E\"):\n",
    "    print(path)"
   ]
  },
  {
   "cell_type": "code",
   "execution_count": 22,
   "id": "ab0250db",
   "metadata": {},
   "outputs": [
    {
     "data": {
      "text/plain": [
       "False"
      ]
     },
     "execution_count": 22,
     "metadata": {},
     "output_type": "execute_result"
    }
   ],
   "source": [
    "nx.is_connected(graph)"
   ]
  },
  {
   "cell_type": "code",
   "execution_count": 23,
   "id": "09e6ab4a",
   "metadata": {},
   "outputs": [
    {
     "data": {
      "text/plain": [
       "{'A', 'B', 'C', 'D', 'E'}"
      ]
     },
     "execution_count": 23,
     "metadata": {},
     "output_type": "execute_result"
    }
   ],
   "source": [
    "cc_list = list(\n",
    "    sorted(\n",
    "        nx.connected_components(graph),\n",
    "        key=lambda x: -len(x),\n",
    "    )\n",
    ")\n",
    "cc_list[0]"
   ]
  },
  {
   "cell_type": "code",
   "execution_count": 24,
   "id": "3a545dd2",
   "metadata": {},
   "outputs": [
    {
     "data": {
      "image/png": "[encoded data removed]",
      "text/plain": [
       "<Figure size 432x288 with 1 Axes>"
      ]
     },
     "metadata": {},
     "output_type": "display_data"
    }
   ],
   "source": [
    "graph_0 = graph.subgraph(cc_list[0])\n",
    "\n",
    "nx.draw_networkx(graph_0)"
   ]
  },
  {
   "cell_type": "code",
   "execution_count": 25,
   "id": "0103a67a",
   "metadata": {},
   "outputs": [
    {
     "data": {
      "text/plain": [
       "True"
      ]
     },
     "execution_count": 25,
     "metadata": {},
     "output_type": "execute_result"
    }
   ],
   "source": [
    "nx.is_connected(graph_0)"
   ]
  },
  {
   "cell_type": "code",
   "execution_count": 26,
   "id": "71147c87",
   "metadata": {},
   "outputs": [
    {
     "data": {
      "image/png": "[encoded data removed]",
      "text/plain": [
       "<Figure size 432x288 with 1 Axes>"
      ]
     },
     "metadata": {},
     "output_type": "display_data"
    }
   ],
   "source": [
    "graph_1 = graph.subgraph(cc_list[1])\n",
    "nx.draw_networkx(graph_1)"
   ]
  },
  {
   "cell_type": "code",
   "execution_count": 27,
   "id": "a1329bfc",
   "metadata": {},
   "outputs": [
    {
     "data": {
      "text/plain": [
       "True"
      ]
     },
     "execution_count": 27,
     "metadata": {},
     "output_type": "execute_result"
    }
   ],
   "source": [
    "nx.is_tree(graph_1)"
   ]
  },
  {
   "cell_type": "markdown",
   "id": "f2d3d2cf",
   "metadata": {},
   "source": [
    "### pyvisを使ったグラフの描画"
   ]
  },
  {
   "cell_type": "code",
   "execution_count": 28,
   "id": "d2e6e7b2",
   "metadata": {},
   "outputs": [
    {
     "name": "stdout",
     "output_type": "stream",
     "text": [
      "pyvis_graph.html\n"
     ]
    },
    {
     "data": {
      "text/html": [
       "\n",
       "        <iframe\n",
       "            width=\"100%\"\n",
       "            height=\"600px\"\n",
       "            src=\"pyvis_graph.html\"\n",
       "            frameborder=\"0\"\n",
       "            allowfullscreen\n",
       "            \n",
       "        ></iframe>\n",
       "        "
      ],
      "text/plain": [
       "<IPython.lib.display.IFrame at 0x7fd7d8a39f10>"
      ]
     },
     "execution_count": 28,
     "metadata": {},
     "output_type": "execute_result"
    }
   ],
   "source": [
    "from pyvis.network import Network\n",
    "\n",
    "# JupyterLabの環境で結果が埋め込まれるように引数を設定\n",
    "net = Network(notebook=True, cdn_resources=\"in_line\")\n",
    "# NetworkXのGraphオブジェクトをpyvisのNetworkに変換\n",
    "net.from_nx(graph)\n",
    "# 描画とHTMLファイルの出力\n",
    "net.show(\"pyvis_graph.html\")"
   ]
  },
  {
   "cell_type": "markdown",
   "id": "7d578d2d",
   "metadata": {},
   "source": [
    "### グラフのためのファイル形式"
   ]
  },
  {
   "cell_type": "code",
   "execution_count": 29,
   "id": "6fbd14b3",
   "metadata": {},
   "outputs": [],
   "source": [
    "# GML形式のファイルを出力\n",
    "nx.write_gml(graph, \"graph.gml\")"
   ]
  }
 ],
 "metadata": {
  "kernelspec": {
   "display_name": "Python 3 (ipykernel)",
   "language": "python",
   "name": "python3"
  },
  "language_info": {
   "codemirror_mode": {
    "name": "ipython",
    "version": 3
   },
   "file_extension": ".py",
   "mimetype": "text/x-python",
   "name": "python",
   "nbconvert_exporter": "python",
   "pygments_lexer": "ipython3",
   "version": "3.9.10"
  }
 },
 "nbformat": 4,
 "nbformat_minor": 5
}
