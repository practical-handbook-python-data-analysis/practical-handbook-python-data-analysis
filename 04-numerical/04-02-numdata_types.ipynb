{
 "cells": [
  {
   "cell_type": "markdown",
   "id": "8926772e",
   "metadata": {},
   "source": [
    "## 数値データの型\n",
    "### NumPyの数値データ型"
   ]
  },
  {
   "cell_type": "code",
   "execution_count": 1,
   "id": "4fa2fe13",
   "metadata": {},
   "outputs": [
    {
     "data": {
      "text/plain": [
       "array([1, 2, 3], dtype=int8)"
      ]
     },
     "execution_count": 1,
     "metadata": {},
     "output_type": "execute_result"
    }
   ],
   "source": [
    "import numpy as np\n",
    "\n",
    "np.array([1, 2, 3], dtype=np.byte)"
   ]
  },
  {
   "cell_type": "code",
   "execution_count": 2,
   "id": "f6bb7ed8",
   "metadata": {},
   "outputs": [
    {
     "data": {
      "text/plain": [
       "array([1, 2, 3], dtype=int8)"
      ]
     },
     "execution_count": 2,
     "metadata": {},
     "output_type": "execute_result"
    }
   ],
   "source": [
    "np.array([1, 2, 3], dtype=np.int8)"
   ]
  },
  {
   "cell_type": "code",
   "execution_count": 3,
   "id": "d36c63c9",
   "metadata": {},
   "outputs": [
    {
     "data": {
      "text/plain": [
       "array([1, 2, 3], dtype=int8)"
      ]
     },
     "execution_count": 3,
     "metadata": {},
     "output_type": "execute_result"
    }
   ],
   "source": [
    "np.array([1, 2, 3], dtype=\"byte\")"
   ]
  },
  {
   "cell_type": "code",
   "execution_count": 4,
   "id": "fa32ae28",
   "metadata": {},
   "outputs": [
    {
     "data": {
      "text/plain": [
       "array([1, 2, 3], dtype=int8)"
      ]
     },
     "execution_count": 4,
     "metadata": {},
     "output_type": "execute_result"
    }
   ],
   "source": [
    "np.array([1, 2, 3], dtype=\"int8\")"
   ]
  },
  {
   "cell_type": "code",
   "execution_count": 5,
   "id": "dc9559b3",
   "metadata": {},
   "outputs": [
    {
     "data": {
      "text/plain": [
       "array([1, 2, 3], dtype=int8)"
      ]
     },
     "execution_count": 5,
     "metadata": {},
     "output_type": "execute_result"
    }
   ],
   "source": [
    "np.array([1, 2, 3], dtype=\"b\")"
   ]
  },
  {
   "cell_type": "code",
   "execution_count": 6,
   "id": "97d84157",
   "metadata": {},
   "outputs": [
    {
     "name": "stdout",
     "output_type": "stream",
     "text": [
      "128\n",
      "<class 'numpy.uint8'>\n",
      "uint8\n"
     ]
    }
   ],
   "source": [
    "i_num = np.uint8(128)\n",
    "print(\n",
    "    i_num,\n",
    "    type(i_num),\n",
    "    i_num.dtype,\n",
    "    sep=\"\\n\",\n",
    ")"
   ]
  },
  {
   "cell_type": "code",
   "execution_count": 7,
   "id": "9ca05fd3",
   "metadata": {},
   "outputs": [
    {
     "name": "stdout",
     "output_type": "stream",
     "text": [
      "0.25\n",
      "<class 'numpy.float32'>\n",
      "float32\n"
     ]
    }
   ],
   "source": [
    "f_num = np.single(\"0.25\")\n",
    "print(\n",
    "    f_num,\n",
    "    type(f_num),\n",
    "    f_num.dtype,\n",
    "    sep=\"\\n\",\n",
    ")"
   ]
  },
  {
   "cell_type": "code",
   "execution_count": 8,
   "id": "daec7954",
   "metadata": {},
   "outputs": [
    {
     "name": "stdout",
     "output_type": "stream",
     "text": [
      "Machine parameters for int32\n",
      "---------------------------------------------------------------\n",
      "min = -2147483648\n",
      "max = 2147483647\n",
      "---------------------------------------------------------------\n",
      "\n"
     ]
    }
   ],
   "source": [
    "# 32ビット符号付き整数の最大値と最小値\n",
    "print(np.iinfo(np.intc))"
   ]
  },
  {
   "cell_type": "code",
   "execution_count": 9,
   "id": "e1cdc135",
   "metadata": {},
   "outputs": [
    {
     "name": "stdout",
     "output_type": "stream",
     "text": [
      "Machine parameters for float64\n",
      "---------------------------------------------------------------\n",
      "precision =  15   resolution = 1.0000000000000001e-15\n",
      "machep =    -52   eps =        2.2204460492503131e-16\n",
      "negep =     -53   epsneg =     1.1102230246251565e-16\n",
      "minexp =  -1022   tiny =       2.2250738585072014e-308\n",
      "maxexp =   1024   max =        1.7976931348623157e+308\n",
      "nexp =       11   min =        -max\n",
      "smallest_normal = 2.2250738585072014e-308   smallest_subnormal = 4.9406564584124654e-324\n",
      "---------------------------------------------------------------\n",
      "\n"
     ]
    }
   ],
   "source": [
    "# 64ビット浮動小数点数の情報\n",
    "print(np.finfo(np.double))"
   ]
  },
  {
   "cell_type": "markdown",
   "id": "a2c29d97",
   "metadata": {},
   "source": [
    "### 数値の演算と型の変換"
   ]
  },
  {
   "cell_type": "code",
   "execution_count": 10,
   "id": "860202f5",
   "metadata": {},
   "outputs": [
    {
     "name": "stdout",
     "output_type": "stream",
     "text": [
      "int64\n"
     ]
    }
   ],
   "source": [
    "# intにnumpy.int64が対応する例\n",
    "i_array = np.array([1, 2, 3])\n",
    "print(i_array.dtype)"
   ]
  },
  {
   "cell_type": "code",
   "execution_count": 11,
   "id": "83ba020a",
   "metadata": {},
   "outputs": [
    {
     "name": "stdout",
     "output_type": "stream",
     "text": [
      "float64\n"
     ]
    }
   ],
   "source": [
    "# 組み込み型のfloatはnumpy.float64\n",
    "f_array = np.array([1.0, 2.0, 3.0])\n",
    "print(f_array.dtype)"
   ]
  },
  {
   "cell_type": "code",
   "execution_count": 12,
   "id": "22476a7c",
   "metadata": {},
   "outputs": [
    {
     "name": "stdout",
     "output_type": "stream",
     "text": [
      "complex128\n"
     ]
    }
   ],
   "source": [
    "# 組み込み型のcomplexはnumpy.complex128\n",
    "c_array = np.array([1j, 2j, 3j])\n",
    "print(c_array.dtype)"
   ]
  },
  {
   "cell_type": "code",
   "execution_count": 13,
   "id": "ba0f3bb8",
   "metadata": {},
   "outputs": [
    {
     "data": {
      "text/plain": [
       "array([ 0, -1,  8])"
      ]
     },
     "execution_count": 13,
     "metadata": {},
     "output_type": "execute_result"
    }
   ],
   "source": [
    "f_array = np.array([0.5, -1.2, 8.9], dtype=np.double)\n",
    "f_array.astype(np.int64)"
   ]
  },
  {
   "cell_type": "code",
   "execution_count": 14,
   "id": "0e6d3df8",
   "metadata": {},
   "outputs": [
    {
     "name": "stderr",
     "output_type": "stream",
     "text": [
      "/var/folders/gg/y144ms9d1l51khjw847lxkb80000gn/T/ipykernel_16640/2114708084.py:4: RuntimeWarning: overflow encountered in ubyte_scalars\n",
      "  a - b\n"
     ]
    },
    {
     "data": {
      "text/plain": [
       "255"
      ]
     },
     "execution_count": 14,
     "metadata": {},
     "output_type": "execute_result"
    }
   ],
   "source": [
    "# 0-1が255になってしまう。\n",
    "a = np.uint8(0)\n",
    "b = np.uint8(1)\n",
    "a - b"
   ]
  },
  {
   "cell_type": "code",
   "execution_count": 15,
   "id": "608e9b74",
   "metadata": {},
   "outputs": [
    {
     "name": "stderr",
     "output_type": "stream",
     "text": [
      "/var/folders/gg/y144ms9d1l51khjw847lxkb80000gn/T/ipykernel_16640/140568556.py:4: RuntimeWarning: overflow encountered in ubyte_scalars\n",
      "  a + b\n"
     ]
    },
    {
     "data": {
      "text/plain": [
       "0"
      ]
     },
     "execution_count": 15,
     "metadata": {},
     "output_type": "execute_result"
    }
   ],
   "source": [
    "# 255+1が0になってしまう\n",
    "a = np.uint8(255)\n",
    "b = np.uint8(1)\n",
    "a + b"
   ]
  },
  {
   "cell_type": "code",
   "execution_count": 16,
   "id": "b92d3cf4",
   "metadata": {},
   "outputs": [
    {
     "data": {
      "text/plain": [
       "array([ -1, 256], dtype=int32)"
      ]
     },
     "execution_count": 16,
     "metadata": {},
     "output_type": "execute_result"
    }
   ],
   "source": [
    "np.array([0, 255], dtype=np.uint8) + np.array([-1, 1], dtype=np.int32)"
   ]
  },
  {
   "cell_type": "code",
   "execution_count": 17,
   "id": "6e331520",
   "metadata": {},
   "outputs": [
    {
     "data": {
      "text/plain": [
       "100000000000000000000"
      ]
     },
     "execution_count": 17,
     "metadata": {},
     "output_type": "execute_result"
    }
   ],
   "source": [
    "# 1の後ろに0が20個並ぶ数になる\n",
    "10**20"
   ]
  },
  {
   "cell_type": "code",
   "execution_count": 18,
   "id": "c198253e",
   "metadata": {},
   "outputs": [
    {
     "data": {
      "text/plain": [
       "7766279631452241920"
      ]
     },
     "execution_count": 18,
     "metadata": {},
     "output_type": "execute_result"
    }
   ],
   "source": [
    "# 正しい結果が得られない\n",
    "np.power(10, 20, dtype=np.int64)"
   ]
  },
  {
   "cell_type": "code",
   "execution_count": 19,
   "id": "1c173abb",
   "metadata": {},
   "outputs": [
    {
     "data": {
      "text/plain": [
       "1e+20"
      ]
     },
     "execution_count": 19,
     "metadata": {},
     "output_type": "execute_result"
    }
   ],
   "source": [
    "np.power(10, 20, dtype=np.float32)"
   ]
  },
  {
   "cell_type": "code",
   "execution_count": 20,
   "id": "5bafe1c3",
   "metadata": {},
   "outputs": [
    {
     "name": "stderr",
     "output_type": "stream",
     "text": [
      "/var/folders/gg/y144ms9d1l51khjw847lxkb80000gn/T/ipykernel_16640/1215880753.py:1: RuntimeWarning: overflow encountered in power\n",
      "  np.power(10, 100, dtype=np.float32)\n"
     ]
    },
    {
     "data": {
      "text/plain": [
       "inf"
      ]
     },
     "execution_count": 20,
     "metadata": {},
     "output_type": "execute_result"
    }
   ],
   "source": [
    "np.power(10, 100, dtype=np.float32)"
   ]
  },
  {
   "cell_type": "code",
   "execution_count": 21,
   "id": "e59a7560",
   "metadata": {},
   "outputs": [
    {
     "name": "stderr",
     "output_type": "stream",
     "text": [
      "/var/folders/gg/y144ms9d1l51khjw847lxkb80000gn/T/ipykernel_16640/3650871706.py:1: RuntimeWarning: invalid value encountered in divide\n",
      "  np.divide(np.inf, np.inf)\n"
     ]
    },
    {
     "data": {
      "text/plain": [
       "nan"
      ]
     },
     "execution_count": 21,
     "metadata": {},
     "output_type": "execute_result"
    }
   ],
   "source": [
    "np.divide(np.inf, np.inf)"
   ]
  }
 ],
 "metadata": {
  "kernelspec": {
   "display_name": "Python 3 (ipykernel)",
   "language": "python",
   "name": "python3"
  },
  "language_info": {
   "codemirror_mode": {
    "name": "ipython",
    "version": 3
   },
   "file_extension": ".py",
   "mimetype": "text/x-python",
   "name": "python",
   "nbconvert_exporter": "python",
   "pygments_lexer": "ipython3",
   "version": "3.9.10"
  }
 },
 "nbformat": 4,
 "nbformat_minor": 5
}
