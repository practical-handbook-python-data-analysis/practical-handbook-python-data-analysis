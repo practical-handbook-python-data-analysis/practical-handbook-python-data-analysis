{
 "cells": [
  {
   "cell_type": "markdown",
   "id": "3af0b774",
   "metadata": {},
   "source": [
    "# pandasとMatplotlibによる可視化"
   ]
  },
  {
   "cell_type": "markdown",
   "id": "05871356",
   "metadata": {},
   "source": [
    "## 使用データ\n",
    "※事前に、 `05-evaluation/05-01-data.ipynb` のコードをすべてを実行して、生成される `05-evaluation/data/penguins.parquet` を `appendix/data/penguins.parquet` にコピーしてください。"
   ]
  },
  {
   "cell_type": "code",
   "execution_count": null,
   "id": "594f48ec",
   "metadata": {},
   "outputs": [],
   "source": [
    "%%bash\n",
    "mkdir -p ./data && cp ../05-evaluation/data/penguins.parquet ./data/."
   ]
  },
  {
   "cell_type": "code",
   "execution_count": null,
   "id": "25f6fbed",
   "metadata": {},
   "outputs": [],
   "source": [
    "import matplotlib.pyplot as plt\n",
    "import numpy as np\n",
    "import pandas as pd\n",
    "\n",
    "df = pd.read_parquet(\"data/penguins.parquet\")\n",
    "df.head()"
   ]
  },
  {
   "cell_type": "markdown",
   "id": "b4d80c7a",
   "metadata": {},
   "source": [
    "## 散布図"
   ]
  },
  {
   "cell_type": "markdown",
   "id": "8b0b3f5f",
   "metadata": {},
   "source": [
    "### pandasによる可視化"
   ]
  },
  {
   "cell_type": "code",
   "execution_count": null,
   "id": "9a561c88",
   "metadata": {},
   "outputs": [],
   "source": [
    "df.plot(\n",
    "    x=\"Culmen_Length\",\n",
    "    y=\"Flipper_Length\",\n",
    "    kind=\"scatter\",\n",
    "    c=\"Species_short\",\n",
    "    colormap=\"Dark2\",\n",
    ");"
   ]
  },
  {
   "cell_type": "code",
   "execution_count": null,
   "id": "ea839af1",
   "metadata": {},
   "outputs": [],
   "source": [
    "# 種ごとに点の色と形（マーカー）を設定する準備\n",
    "codes = df.loc[:, \"Species_short\"].cat.codes  # 後で使う\n",
    "cm = plt.get_cmap(\"Dark2\")\n",
    "markers = [\".\", \"s\", \"^\"]  # ●、■、▲\n",
    "\n",
    "# 種ごとにグループ化\n",
    "df_grouped = df.groupby(\"Species_short\")"
   ]
  },
  {
   "cell_type": "code",
   "execution_count": null,
   "id": "c6c39aed",
   "metadata": {},
   "outputs": [],
   "source": [
    "_, ax_scatter_pandas = plt.subplots()\n",
    "for i, v in enumerate(df_grouped):\n",
    "    label, group = v\n",
    "    group.plot(\n",
    "        x=\"Culmen_Length\",\n",
    "        y=\"Flipper_Length\",\n",
    "        kind=\"scatter\",\n",
    "        color=cm(i),\n",
    "        marker=markers[i],\n",
    "        label=label,\n",
    "        ax=ax_scatter_pandas,  # 重ね打ち\n",
    "    )"
   ]
  },
  {
   "cell_type": "markdown",
   "id": "ab49bf62",
   "metadata": {},
   "source": [
    "### Matplotlibによる可視化"
   ]
  },
  {
   "cell_type": "code",
   "execution_count": null,
   "id": "564a38d0",
   "metadata": {},
   "outputs": [],
   "source": [
    "_, ax_scatter_matplotlib = plt.subplots()\n",
    "for i, v in enumerate(df_grouped):\n",
    "    label, group = v\n",
    "    ax_scatter_matplotlib.scatter(\n",
    "        x=group[\"Culmen_Length\"],\n",
    "        y=group[\"Flipper_Length\"],\n",
    "        color=cm(i),\n",
    "        marker=markers[i],\n",
    "        label=label,\n",
    "    )\n",
    "ax_scatter_matplotlib.legend()  # 凡例を表示\n",
    "plt.show()"
   ]
  },
  {
   "cell_type": "markdown",
   "id": "c642fe00",
   "metadata": {},
   "source": [
    "## 折れ線グラフ"
   ]
  },
  {
   "cell_type": "markdown",
   "id": "4b84440f",
   "metadata": {},
   "source": [
    "### 調査年と種ごとの平均体重の計算"
   ]
  },
  {
   "cell_type": "code",
   "execution_count": null,
   "id": "5b14b19c",
   "metadata": {},
   "outputs": [],
   "source": [
    "df_avg_weight_year = (\n",
    "    df.assign(\n",
    "        year=df.loc[:, \"Date_Egg\"].dt.to_period(\"Y\")\n",
    "    )  # pandasのPeriodオブジェクト（周期の単位：年）\n",
    "    .groupby([\"Species_short\", \"year\"], as_index=False)[\"Body_Mass\"]\n",
    "    .mean()\n",
    ")\n",
    "df_avg_weight_year"
   ]
  },
  {
   "cell_type": "markdown",
   "id": "4c084f14",
   "metadata": {},
   "source": [
    "### pandasによる可視化"
   ]
  },
  {
   "cell_type": "code",
   "execution_count": null,
   "id": "f209c5d4",
   "metadata": {},
   "outputs": [],
   "source": [
    "df_avg_weight_year_pivoted = df_avg_weight_year.pivot_table(\n",
    "    index=\"year\",\n",
    "    columns=\"Species_short\",\n",
    "    values=\"Body_Mass\",\n",
    ")\n",
    "df_avg_weight_year_pivoted"
   ]
  },
  {
   "cell_type": "code",
   "execution_count": null,
   "id": "4714835c",
   "metadata": {},
   "outputs": [],
   "source": [
    "# 線の色とスタイル（種類）\n",
    "species_colors = [cm(i) for i in np.unique(codes)]\n",
    "linestyles = [\n",
    "    \".-\",  # ●と実線\n",
    "    \"s:\",  # ■と点線（...）\n",
    "    \"^--\",  # ▲と破線（---）\n",
    "]\n",
    "\n",
    "# 描画\n",
    "df_avg_weight_year_pivoted.plot(\n",
    "    kind=\"line\",\n",
    "    color=species_colors,\n",
    "    style=linestyles,\n",
    "    ylim=[0, None],  # 縦軸の最小値を0にする\n",
    ");"
   ]
  },
  {
   "cell_type": "markdown",
   "id": "236254cb",
   "metadata": {},
   "source": [
    "### Matplotlibによる可視化"
   ]
  },
  {
   "cell_type": "code",
   "execution_count": null,
   "id": "3c968238",
   "metadata": {},
   "outputs": [],
   "source": [
    "# Species列でグループ化\n",
    "df_avg_weight_year_grouped = df_avg_weight_year.assign(\n",
    "    year=lambda x: x.loc[:, \"year\"].dt.to_timestamp()\n",
    ").groupby(\"Species_short\")"
   ]
  },
  {
   "cell_type": "code",
   "execution_count": null,
   "id": "4506ee82",
   "metadata": {},
   "outputs": [],
   "source": [
    "from matplotlib.dates import (\n",
    "    DateFormatter,\n",
    "    YearLocator,\n",
    ")\n",
    "\n",
    "# 種ごとにグラフを描き、重ね打ちする\n",
    "_, ax_line_matplotlib = plt.subplots()\n",
    "for (\n",
    "    i,\n",
    "    v,\n",
    ") in enumerate(df_avg_weight_year_grouped):\n",
    "    label, group = v\n",
    "    ax_line_matplotlib.plot(\n",
    "        group[\"year\"],\n",
    "        group[\"Body_Mass\"],\n",
    "        linestyles[i],\n",
    "        color=cm(i),\n",
    "        label=label,\n",
    "    )\n",
    "ax_line_matplotlib.set_ylim(0)  # 縦軸の最小値を0にする\n",
    "\n",
    "# 横軸の目盛を調整\n",
    "ax_line_matplotlib.xaxis.set_major_formatter(\n",
    "    DateFormatter(\"%Y\")\n",
    ")  # 目盛に年だけを表示\n",
    "ax_line_matplotlib.xaxis.set_major_locator(YearLocator())  # 目盛の間隔を1年に設定\n",
    "\n",
    "ax_line_matplotlib.legend()\n",
    "plt.show()"
   ]
  },
  {
   "cell_type": "markdown",
   "id": "c12bed98",
   "metadata": {},
   "source": [
    "## 棒グラフ"
   ]
  },
  {
   "cell_type": "markdown",
   "id": "379b0951",
   "metadata": {},
   "source": [
    "### 島と種ごとの平均体重の計算"
   ]
  },
  {
   "cell_type": "code",
   "execution_count": null,
   "id": "ab046f8a",
   "metadata": {},
   "outputs": [],
   "source": [
    "df_avg_weight_island = df.groupby(\n",
    "    [\"Species_short\", \"Island\"], as_index=False\n",
    ")[\"Body_Mass\"].mean()\n",
    "df_avg_weight_island"
   ]
  },
  {
   "cell_type": "markdown",
   "id": "1b2eae4d",
   "metadata": {},
   "source": [
    "### pandasによる可視化"
   ]
  },
  {
   "cell_type": "code",
   "execution_count": null,
   "id": "67a66c79",
   "metadata": {},
   "outputs": [],
   "source": [
    "# 行方向に種、列方向に島となるように変形\n",
    "df_avg_weight_island_pivoted = df_avg_weight_island.pivot_table(\n",
    "    index=\"Species_short\",\n",
    "    columns=\"Island\",\n",
    "    values=\"Body_Mass\",\n",
    ")\n",
    "df_avg_weight_island_pivoted"
   ]
  },
  {
   "cell_type": "code",
   "execution_count": null,
   "id": "05a9642e",
   "metadata": {},
   "outputs": [],
   "source": [
    "island_codes = df.loc[:, \"Island\"].cat.codes\n",
    "island_colors = [cm(i) for i in np.unique(island_codes)]\n",
    "hatches = [\"/\", \"\\\\\", \"|\"]"
   ]
  },
  {
   "cell_type": "code",
   "execution_count": null,
   "id": "47dfcc32",
   "metadata": {},
   "outputs": [],
   "source": [
    "_, ax_bar_pandas = plt.subplots()\n",
    "df_avg_weight_island_pivoted.plot(\n",
    "    kind=\"bar\",\n",
    "    color=island_colors,\n",
    "    rot=0,\n",
    "    ax=ax_bar_pandas,\n",
    "    legend=False,\n",
    ")\n",
    "\n",
    "# ハッチングの設定\n",
    "bars = ax_bar_pandas.patches\n",
    "hatch_list = [\n",
    "    p for p in hatches for i in range(len(df_avg_weight_island_pivoted))\n",
    "]\n",
    "for bar, hatch in zip(bars, hatch_list):\n",
    "    bar.set_hatch(hatch)\n",
    "\n",
    "ax_bar_pandas.legend()\n",
    "plt.show()"
   ]
  },
  {
   "cell_type": "markdown",
   "id": "f0a129b7",
   "metadata": {},
   "source": [
    "### Matplotlibによる可視化（参考）"
   ]
  },
  {
   "cell_type": "code",
   "execution_count": null,
   "id": "2ecd04bc",
   "metadata": {},
   "outputs": [],
   "source": [
    "# 島でグループ化\n",
    "df_avg_weight_island_grouped = df_avg_weight_island.groupby(\"Island\")\n",
    "\n",
    "# 島ごとにグラフを描き、重ね打ちする\n",
    "_, ax_bar_matplotlib = plt.subplots()\n",
    "species_codes = np.unique(\n",
    "    df_avg_weight_island.loc[:, \"Species_short\"].cat.codes.values\n",
    ")  # それぞれの種の基準となる位置（座標）\n",
    "n_species = df_avg_weight_island.loc[:, \"Species_short\"].nunique()  # 種の数\n",
    "width = 1 / (n_species + 1)  # それぞれの島の棒の幅（種どうしで間隔を空けるために分母に1を足す）\n",
    "for i, v in enumerate(df_avg_weight_island_grouped):\n",
    "    label, group = v\n",
    "    ax_bar_matplotlib.bar(\n",
    "        x=species_codes + width * i,  # グループ（島）ごとに位置をずらす\n",
    "        height=group[\"Body_Mass\"],\n",
    "        width=width,\n",
    "        color=cm(i),\n",
    "        hatch=hatches[i],\n",
    "        label=label,\n",
    "    )\n",
    "\n",
    "# 横軸を調整\n",
    "ax_bar_matplotlib.set_xlim(\n",
    "    min(species_codes) - 3 * width, max(species_codes) + 3 * width\n",
    ")\n",
    "ax_bar_matplotlib.set_xticks(\n",
    "    species_codes + width,\n",
    "    df_avg_weight_island.loc[:, \"Species_short\"].cat.categories,\n",
    "    rotation=0,\n",
    ")\n",
    "\n",
    "ax_bar_matplotlib.legend()\n",
    "plt.show()"
   ]
  },
  {
   "cell_type": "markdown",
   "id": "eb657f3b",
   "metadata": {},
   "source": [
    "## ヒストグラム"
   ]
  },
  {
   "cell_type": "code",
   "execution_count": null,
   "id": "721d2c14",
   "metadata": {},
   "outputs": [],
   "source": [
    "_, ax_hist_pandas_grouped = plt.subplots()\n",
    "for i, v in enumerate(df_grouped):\n",
    "    label, group = v\n",
    "    group.plot(\n",
    "        y=\"Body_Mass\",\n",
    "        kind=\"hist\",\n",
    "        color=cm(i),\n",
    "        alpha=0.7,\n",
    "        hatch=hatches[i],\n",
    "        label=label,\n",
    "        ax=ax_hist_pandas_grouped,\n",
    "    )\n",
    "\n",
    "ax_hist_pandas_grouped.legend()\n",
    "plt.show()"
   ]
  },
  {
   "cell_type": "code",
   "execution_count": null,
   "id": "3d161d15",
   "metadata": {},
   "outputs": [],
   "source": [
    "df_hist_pivoted = df.pivot(columns=\"Species_short\", values=\"Body_Mass\")\n",
    "df_hist_pivoted.head()"
   ]
  },
  {
   "cell_type": "code",
   "execution_count": null,
   "id": "2f51310d",
   "metadata": {},
   "outputs": [],
   "source": [
    "_, ax_hist_pandas_pivoted = plt.subplots()\n",
    "df_hist_pivoted.plot(\n",
    "    kind=\"hist\",\n",
    "    bins=10,\n",
    "    color=species_colors,\n",
    "    alpha=0.7,\n",
    "    ax=ax_hist_pandas_pivoted,\n",
    "    legend=False,\n",
    ")\n",
    "\n",
    "# ハッチングの設定\n",
    "bars = ax_hist_pandas_pivoted.patches\n",
    "hatch_list = [\n",
    "    p for p in hatches for i in range(int(len(bars) / len(species_colors)))\n",
    "]\n",
    "for bar, hatch in zip(bars, hatch_list):\n",
    "    bar.set_hatch(hatch)\n",
    "\n",
    "ax_hist_pandas_pivoted.legend()\n",
    "plt.show()"
   ]
  },
  {
   "cell_type": "code",
   "execution_count": null,
   "id": "a39d460e",
   "metadata": {},
   "outputs": [],
   "source": [
    "fig_hist_pandas_facets = df.plot(\n",
    "    kind=\"hist\",\n",
    "    column=\"Body_Mass\",\n",
    "    by=\"Species_short\",\n",
    "    layout=(1, 3),\n",
    "    legend=False,\n",
    ")\n",
    "\n",
    "# 各グループのサブプロット間の距離を調整\n",
    "plt.subplots_adjust(wspace=0.6)"
   ]
  },
  {
   "cell_type": "markdown",
   "id": "ea18b8dd",
   "metadata": {},
   "source": [
    "## 箱ひげ図"
   ]
  },
  {
   "cell_type": "code",
   "execution_count": null,
   "id": "f027b436",
   "metadata": {},
   "outputs": [],
   "source": [
    "_, ax_box_pandas = plt.subplots()\n",
    "df.plot(\n",
    "    kind=\"box\",\n",
    "    column=\"Body_Mass\",\n",
    "    by=\"Species_short\",\n",
    "    rot=0,\n",
    "    ax=ax_box_pandas,\n",
    ")\n",
    "plt.show()"
   ]
  },
  {
   "cell_type": "markdown",
   "id": "1fbe22b1",
   "metadata": {},
   "source": [
    "## 文字化けへの対処\n",
    "※事前に、IPA のフォントダウンロードページ [https://moji.or.jp/ipafont/ipafontdownload/](https://moji.or.jp/ipafont/ipafontdownload/) からIPAexゴシック(Ver.004.01)の `.zip` ファイルをダウンロードしてください。それを解凍して、 `ipaexg00401` フォルダごと `appendix/data/` 直下に配置します。"
   ]
  },
  {
   "cell_type": "code",
   "execution_count": null,
   "id": "f024f8dd",
   "metadata": {},
   "outputs": [],
   "source": [
    "from matplotlib import font_manager\n",
    "\n",
    "fonts_before = font_manager.fontManager.get_font_names()"
   ]
  },
  {
   "cell_type": "code",
   "execution_count": null,
   "id": "5a9868eb",
   "metadata": {},
   "outputs": [],
   "source": [
    "print(\"IPAexGothic\" in fonts_before)"
   ]
  },
  {
   "cell_type": "code",
   "execution_count": null,
   "id": "4c0b0bb2",
   "metadata": {},
   "outputs": [],
   "source": [
    "from pathlib import Path\n",
    "\n",
    "font_path = Path(\"data/ipaexg00401/ipaexg.ttf\")\n",
    "font_manager.fontManager.addfont(font_path)"
   ]
  },
  {
   "cell_type": "code",
   "execution_count": null,
   "id": "4adf90a1",
   "metadata": {},
   "outputs": [],
   "source": [
    "fonts_after = font_manager.fontManager.get_font_names()\n",
    "print(\"IPAexGothic\" in fonts_after)"
   ]
  },
  {
   "cell_type": "code",
   "execution_count": null,
   "id": "a26f4f92",
   "metadata": {},
   "outputs": [],
   "source": [
    "import matplotlib as mpl\n",
    "\n",
    "mpl.rc(\"font\", family=\"IPAexGothic\")"
   ]
  },
  {
   "cell_type": "code",
   "execution_count": null,
   "id": "fdaac19d",
   "metadata": {},
   "outputs": [],
   "source": [
    "import matplotlib.pyplot as plt\n",
    "\n",
    "plt.plot([0, 1])\n",
    "plt.title(\"日本語のタイトル\")\n",
    "plt.show()"
   ]
  },
  {
   "cell_type": "code",
   "execution_count": null,
   "id": "b131c2b8f48e7f43",
   "metadata": {
    "collapsed": false
   },
   "outputs": [],
   "source": [
    "mpl.matplotlib_fname()"
   ]
  }
 ],
 "metadata": {
  "kernelspec": {
   "display_name": "venv",
   "language": "python",
   "name": "python3"
  },
  "language_info": {
   "name": "python",
   "version": "3.11.3"
  }
 },
 "nbformat": 4,
 "nbformat_minor": 5
}
