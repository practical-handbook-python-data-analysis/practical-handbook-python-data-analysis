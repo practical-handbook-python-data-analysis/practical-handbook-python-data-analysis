{
 "cells": [
  {
   "cell_type": "markdown",
   "id": "51146f97",
   "metadata": {},
   "source": [
    "# pandasとMatplotlibによる可視化"
   ]
  },
  {
   "cell_type": "markdown",
   "id": "df3753e6",
   "metadata": {},
   "source": [
    "## 使用データ"
   ]
  },
  {
   "cell_type": "code",
   "execution_count": null,
   "id": "9bdf8d93",
   "metadata": {},
   "outputs": [],
   "source": [
    "import matplotlib.pyplot as plt\n",
    "import numpy as np\n",
    "import pandas as pd\n",
    "\n",
    "df = pd.read_parquet(\"data/penguins.parquet\")\n",
    "df.head()"
   ]
  },
  {
   "cell_type": "markdown",
   "id": "9d0c8028",
   "metadata": {},
   "source": [
    "## 散布図"
   ]
  },
  {
   "cell_type": "markdown",
   "id": "4609bdf3",
   "metadata": {},
   "source": [
    "### pandasによる可視化"
   ]
  },
  {
   "cell_type": "code",
   "execution_count": null,
   "id": "800ed13a",
   "metadata": {},
   "outputs": [],
   "source": [
    "df.plot(\n",
    "    x=\"Culmen_Length\",\n",
    "    y=\"Flipper_Length\",\n",
    "    kind=\"scatter\",\n",
    "    c=\"Species\",\n",
    "    colormap=\"Dark2\",\n",
    ");"
   ]
  },
  {
   "cell_type": "code",
   "execution_count": null,
   "id": "d912f5ed",
   "metadata": {},
   "outputs": [],
   "source": [
    "# Species列の値に応じて点の色と形（マーカー）を設定する準備\n",
    "codes = df.loc[:, \"Species\"].cat.codes\n",
    "cm = plt.get_cmap(\"Dark2\")\n",
    "markers = [\".\", \"s\", \"^\"]  # ●、■、▲\n",
    "\n",
    "# 種ごとにグルーピング\n",
    "df_grouped = df.groupby(\"Species\")"
   ]
  },
  {
   "cell_type": "code",
   "execution_count": null,
   "id": "8a22d257",
   "metadata": {},
   "outputs": [],
   "source": [
    "_, ax_scatter_pandas = plt.subplots()\n",
    "for i, v in enumerate(df_grouped):\n",
    "    label, group = v\n",
    "    group.plot(\n",
    "        x=\"Culmen_Length\",\n",
    "        y=\"Flipper_Length\",\n",
    "        kind=\"scatter\",\n",
    "        color=cm(i),\n",
    "        marker=markers[i],\n",
    "        label=label,\n",
    "        ax=ax_scatter_pandas,  # 重ね打ち\n",
    "    )"
   ]
  },
  {
   "cell_type": "markdown",
   "id": "ca4f52cb",
   "metadata": {},
   "source": [
    "### Matplotlibによる可視化"
   ]
  },
  {
   "cell_type": "code",
   "execution_count": null,
   "id": "c33b54c2",
   "metadata": {},
   "outputs": [],
   "source": [
    "_, ax_scatter_matplotlib = plt.subplots()\n",
    "for i, v in enumerate(df_grouped):\n",
    "    label, group = v\n",
    "    ax_scatter_matplotlib.scatter(\n",
    "        x=group[\"Culmen_Length\"],\n",
    "        y=group[\"Flipper_Length\"],\n",
    "        color=cm(i),\n",
    "        marker=markers[i],\n",
    "        label=label,\n",
    "    )\n",
    "plt.legend()  # 凡例を表示。\n",
    "plt.show()"
   ]
  },
  {
   "cell_type": "markdown",
   "id": "1d9da0b8",
   "metadata": {},
   "source": [
    "## 折れ線グラフ"
   ]
  },
  {
   "cell_type": "markdown",
   "id": "671f1f3a",
   "metadata": {},
   "source": [
    "### 調査年と種ごとの平均体重の計算"
   ]
  },
  {
   "cell_type": "code",
   "execution_count": null,
   "id": "b275ca1d",
   "metadata": {},
   "outputs": [],
   "source": [
    "df_avg_weight_year = (\n",
    "    df.assign(\n",
    "        year=df.loc[:, \"Date_Egg\"].dt.to_period(\"Y\")\n",
    "    )  # pandasのPeriodオブジェクト（周期の単位：年）\n",
    "    .groupby([\"Species\", \"year\"], as_index=False)[\"Body_Mass\"]\n",
    "    .mean()\n",
    ")\n",
    "df_avg_weight_year"
   ]
  },
  {
   "cell_type": "markdown",
   "id": "c1ea05a3",
   "metadata": {},
   "source": [
    "### pandasによる可視化"
   ]
  },
  {
   "cell_type": "code",
   "execution_count": null,
   "id": "50485b00",
   "metadata": {},
   "outputs": [],
   "source": [
    "df_avg_weight_year_pivoted = df_avg_weight_year.pivot_table(\n",
    "    index=\"year\",\n",
    "    columns=\"Species\",\n",
    "    values=\"Body_Mass\",\n",
    ")\n",
    "df_avg_weight_year_pivoted"
   ]
  },
  {
   "cell_type": "code",
   "execution_count": null,
   "id": "d7040117",
   "metadata": {},
   "outputs": [],
   "source": [
    "# 線の色と模様（スタイル）\n",
    "species_colors = [cm(i) for i in np.unique(codes)]\n",
    "linestyles = [\n",
    "    \".-\",  # ●と実線\n",
    "    \"s:\",  # ■と点線（...）\n",
    "    \"^--\",  # ▲と破線（---）\n",
    "]\n",
    "\n",
    "# 描画\n",
    "df_avg_weight_year_pivoted.plot(\n",
    "    kind=\"line\",\n",
    "    color=species_colors,\n",
    "    style=linestyles,\n",
    "    ylim=[0, None],  # 縦軸の最小値を0にする。\n",
    ");"
   ]
  },
  {
   "cell_type": "markdown",
   "id": "0eb83e24",
   "metadata": {},
   "source": [
    "### Matplotlibによる可視化"
   ]
  },
  {
   "cell_type": "code",
   "execution_count": null,
   "id": "08a4cb4d",
   "metadata": {},
   "outputs": [],
   "source": [
    "# Species列でグルーピング。\n",
    "df_avg_weight_year_grouped = df_avg_weight_year.assign(\n",
    "    year=lambda x: x.loc[:, \"year\"].dt.to_timestamp()\n",
    ").groupby(\"Species\")"
   ]
  },
  {
   "cell_type": "code",
   "execution_count": null,
   "id": "cafe2468",
   "metadata": {},
   "outputs": [],
   "source": [
    "# 種ごとにグラフを描き、重ね打ちする。\n",
    "_, ax_line_matplotlib = plt.subplots()\n",
    "for (\n",
    "    i,\n",
    "    v,\n",
    ") in enumerate(df_avg_weight_year_grouped):\n",
    "    label, group = v\n",
    "    ax_line_matplotlib.plot(\n",
    "        group[\"year\"],\n",
    "        group[\"Body_Mass\"],\n",
    "        linestyles[i],\n",
    "        color=cm(i),\n",
    "        label=label,\n",
    "    )\n",
    "ax_line_matplotlib.set_ylim(0)  # 縦軸の最小値を0にする。\n",
    "\n",
    "# 横軸の目盛を調整。\n",
    "from matplotlib.dates import (\n",
    "    DateFormatter,\n",
    "    YearLocator,\n",
    ")\n",
    "\n",
    "ax_line_matplotlib.xaxis.set_major_formatter(\n",
    "    DateFormatter(\"%Y\")\n",
    ")  # 目盛に年だけを表示。\n",
    "ax_line_matplotlib.xaxis.set_major_locator(YearLocator())  # 目盛の間隔を1年に設定。\n",
    "\n",
    "plt.legend()\n",
    "plt.show()"
   ]
  },
  {
   "cell_type": "markdown",
   "id": "8218a290",
   "metadata": {},
   "source": [
    "## 棒グラフ"
   ]
  },
  {
   "cell_type": "markdown",
   "id": "cfd4e521",
   "metadata": {},
   "source": [
    "### 島と種ごとの平均体重の計算"
   ]
  },
  {
   "cell_type": "code",
   "execution_count": null,
   "id": "bee79712",
   "metadata": {},
   "outputs": [],
   "source": [
    "df_avg_weight_island = df.groupby([\"Species\", \"Island\"], as_index=False)[\n",
    "    \"Body_Mass\"\n",
    "].mean()\n",
    "df_avg_weight_island"
   ]
  },
  {
   "cell_type": "markdown",
   "id": "2b7de4dd",
   "metadata": {},
   "source": [
    "### pandasによる可視化"
   ]
  },
  {
   "cell_type": "code",
   "execution_count": null,
   "id": "76f7b750",
   "metadata": {},
   "outputs": [],
   "source": [
    "# 行方向に種、列方向に島となるように変形。\n",
    "df_avg_weight_island_pivoted = df_avg_weight_island.pivot_table(\n",
    "    index=\"Species\",\n",
    "    columns=\"Island\",\n",
    "    values=\"Body_Mass\",\n",
    ")\n",
    "df_avg_weight_island_pivoted"
   ]
  },
  {
   "cell_type": "code",
   "execution_count": null,
   "id": "20577712",
   "metadata": {},
   "outputs": [],
   "source": [
    "island_codes = df.loc[:, \"Island\"].cat.codes\n",
    "island_colors = [cm(i) for i in np.unique(island_codes)]\n",
    "hatches = [\"/\", \"\\\\\", \"|\"]"
   ]
  },
  {
   "cell_type": "code",
   "execution_count": null,
   "id": "0e79aae1",
   "metadata": {},
   "outputs": [],
   "source": [
    "_, ax_bar_pandas = plt.subplots()\n",
    "df_avg_weight_island_pivoted.plot(\n",
    "    kind=\"bar\",\n",
    "    color=island_colors,\n",
    "    rot=-45,\n",
    "    ax=ax_bar_pandas,\n",
    "    legend=False,\n",
    ")\n",
    "plt.xticks(horizontalalignment=\"left\")\n",
    "\n",
    "# ハッチングの設定\n",
    "bars = ax_bar_pandas.patches\n",
    "hatch_list = [\n",
    "    p for p in hatches for i in range(len(df_avg_weight_island_pivoted))\n",
    "]\n",
    "for bar, hatch in zip(bars, hatch_list):\n",
    "    bar.set_hatch(hatch)\n",
    "\n",
    "plt.legend()\n",
    "plt.show()"
   ]
  },
  {
   "cell_type": "markdown",
   "id": "f6ee1339",
   "metadata": {},
   "source": [
    "### Matplotlibによる可視化（参考）"
   ]
  },
  {
   "cell_type": "code",
   "execution_count": null,
   "id": "ba313302",
   "metadata": {},
   "outputs": [],
   "source": [
    "# 島でグルーピング\n",
    "df_avg_weight_island_grouped = df_avg_weight_island.groupby(\"Island\")\n",
    "\n",
    "# 島ごとにグラフを描き、重ね打ちする。\n",
    "_, ax_bar_matplotlib = plt.subplots()\n",
    "species_codes = np.unique(\n",
    "    df_avg_weight_island.loc[:, \"Species\"].cat.codes.values\n",
    ")  # それぞれの種の基準となる位置（座標）\n",
    "n_species = df_avg_weight_island.loc[:, \"Species\"].nunique()  # 種の数\n",
    "width = 1 / (n_species + 1)  # それぞれの島の棒の幅（種同士で間隔を開けるために分母に1を足す。）\n",
    "for i, v in enumerate(df_avg_weight_island_grouped):\n",
    "    label, group = v\n",
    "    ax_bar_matplotlib.bar(\n",
    "        x=species_codes + width * i,  # グループ（島）ごとに位置をずらす。\n",
    "        height=group[\"Body_Mass\"],\n",
    "        width=width,\n",
    "        color=cm(i),\n",
    "        hatch=hatches[i],\n",
    "        label=label,\n",
    "    )\n",
    "\n",
    "# 横軸を調整。\n",
    "ax_bar_matplotlib.set_xlim(\n",
    "    min(species_codes) - 3 * width, max(species_codes) + 3 * width\n",
    ")\n",
    "ax_bar_matplotlib.set_xticks(\n",
    "    species_codes + width,\n",
    "    df_avg_weight_island.loc[:, \"Species\"].cat.categories,\n",
    "    rotation=-45,\n",
    "    horizontalalignment=\"left\",\n",
    ")\n",
    "\n",
    "plt.legend()\n",
    "plt.show()"
   ]
  },
  {
   "cell_type": "markdown",
   "id": "ec2152ea",
   "metadata": {},
   "source": [
    "## ヒストグラム"
   ]
  },
  {
   "cell_type": "code",
   "execution_count": null,
   "id": "ff30bc9e",
   "metadata": {},
   "outputs": [],
   "source": [
    "_, ax_hist_pandas_grouped = plt.subplots()\n",
    "for i, v in enumerate(df_grouped):\n",
    "    label, group = v\n",
    "    group.plot(\n",
    "        y=\"Body_Mass\",\n",
    "        kind=\"hist\",\n",
    "        color=cm(i),\n",
    "        alpha=0.7,\n",
    "        hatch=hatches[i],\n",
    "        label=label,\n",
    "        ax=ax_hist_pandas_grouped,\n",
    "    )\n",
    "\n",
    "plt.legend()\n",
    "plt.show()"
   ]
  },
  {
   "cell_type": "code",
   "execution_count": null,
   "id": "2c2df451",
   "metadata": {},
   "outputs": [],
   "source": [
    "df_hist_pivoted = df.pivot(columns=\"Species\", values=\"Body_Mass\")\n",
    "df_hist_pivoted.head()"
   ]
  },
  {
   "cell_type": "code",
   "execution_count": null,
   "id": "9a8ee247",
   "metadata": {},
   "outputs": [],
   "source": [
    "_, ax_hist_pandas_pivoted = plt.subplots()\n",
    "df_hist_pivoted.plot(\n",
    "    kind=\"hist\",\n",
    "    bins=10,\n",
    "    color=species_colors,\n",
    "    alpha=0.7,\n",
    "    ax=ax_hist_pandas_pivoted,\n",
    "    legend=False,\n",
    ")\n",
    "\n",
    "# ハッチングの設定\n",
    "bars = ax_hist_pandas_pivoted.patches\n",
    "hatch_list = [\n",
    "    p for p in hatches for i in range(int(len(bars) / len(species_colors)))\n",
    "]\n",
    "for bar, hatch in zip(bars, hatch_list):\n",
    "    bar.set_hatch(hatch)\n",
    "\n",
    "plt.legend()\n",
    "plt.show()"
   ]
  },
  {
   "cell_type": "code",
   "execution_count": null,
   "id": "09f8c245",
   "metadata": {},
   "outputs": [],
   "source": [
    "fig_hist_pandas_facets = df.plot(\n",
    "    kind=\"hist\",\n",
    "    column=\"Body_Mass\",\n",
    "    by=\"Species\",\n",
    "    layout=(1, 3),\n",
    "    legend=False,\n",
    ")\n",
    "\n",
    "# ファセットの見出しを調節。\n",
    "import re\n",
    "\n",
    "pattern = re.compile(r\"^[^\\s]+\")  # 先頭から続く空白を含まない文字列にマッチ。\n",
    "for facet in fig_hist_pandas_facets.ravel():\n",
    "    facet.set_title(re.search(pattern, facet.title.get_text())[0])\n",
    "\n",
    "# ファセット間の距離を調整。\n",
    "plt.subplots_adjust(wspace=0.6)"
   ]
  },
  {
   "cell_type": "markdown",
   "id": "9cccd3b0",
   "metadata": {},
   "source": [
    "## 箱ひげ図"
   ]
  },
  {
   "cell_type": "code",
   "execution_count": null,
   "id": "8c01ab55",
   "metadata": {},
   "outputs": [],
   "source": [
    "_, ax_box_pandas = plt.subplots()\n",
    "df.plot(\n",
    "    kind=\"box\", column=\"Body_Mass\", by=\"Species\", rot=-45, ax=ax_box_pandas\n",
    ")\n",
    "plt.xticks(horizontalalignment=\"left\")\n",
    "plt.show()"
   ]
  },
  {
   "cell_type": "markdown",
   "id": "f7fcd8c4",
   "metadata": {},
   "source": [
    "## 文字化けへの対処"
   ]
  },
  {
   "cell_type": "code",
   "execution_count": null,
   "id": "042ae2af",
   "metadata": {},
   "outputs": [],
   "source": [
    "from matplotlib import font_manager\n",
    "\n",
    "fonts_before = font_manager.fontManager.get_font_names()"
   ]
  },
  {
   "cell_type": "code",
   "execution_count": null,
   "id": "2b518a04",
   "metadata": {},
   "outputs": [],
   "source": [
    "print(\"IPAexGothic\" in fonts_before)\n",
    "# 業務連絡：直後の出力「True」を「False」に書き換える。"
   ]
  },
  {
   "cell_type": "code",
   "execution_count": null,
   "id": "9879b4f1",
   "metadata": {},
   "outputs": [],
   "source": [
    "from pathlib import Path\n",
    "\n",
    "ipaexg_path = Path(\"data/ipaexg00401/ipaexg.ttf\")\n",
    "font_manager.fontManager.addfont(ipaexg_path)"
   ]
  },
  {
   "cell_type": "code",
   "execution_count": null,
   "id": "6511db37",
   "metadata": {},
   "outputs": [],
   "source": [
    "fonts_after = font_manager.fontManager.get_font_names()\n",
    "print(\"IPAexGothic\" in fonts_after)"
   ]
  },
  {
   "cell_type": "code",
   "execution_count": null,
   "id": "8b111817",
   "metadata": {},
   "outputs": [],
   "source": [
    "import matplotlib as mpl\n",
    "\n",
    "mpl.rc(\"font\", family=\"IPAexGothic\")"
   ]
  },
  {
   "cell_type": "code",
   "execution_count": null,
   "id": "6918a9e8",
   "metadata": {},
   "outputs": [],
   "source": [
    "import matplotlib.pyplot as plt\n",
    "\n",
    "plt.plot([0, 1])\n",
    "plt.title(\"日本語のタイトル\")\n",
    "plt.show()"
   ]
  }
 ],
 "metadata": {},
 "nbformat": 4,
 "nbformat_minor": 5
}
