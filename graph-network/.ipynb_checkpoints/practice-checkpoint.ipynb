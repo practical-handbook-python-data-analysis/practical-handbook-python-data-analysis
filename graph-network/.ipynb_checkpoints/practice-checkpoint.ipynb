{
 "cells": [
  {
   "cell_type": "markdown",
   "id": "13865bbc",
   "metadata": {},
   "source": [
    "## 実践的なグラフデータの解析",
    "### データの準備"
   ]
  },
  {
   "cell_type": "code",
   "execution_count": null,
   "id": "50ee7820",
   "metadata": {},
   "outputs": [],
   "source": [
    "import pandas as pd\n",
    "\n",
    "titles = pd.read_csv(\"./data/titles.csv\", index_col=\"id\")\n",
    "print(titles.shape)\n",
    "titles.head()"
   ]
  },
  {
   "cell_type": "code",
   "execution_count": null,
   "id": "6b672127",
   "metadata": {},
   "outputs": [],
   "source": [
    "titles = titles.query(\"type == 'MOVIE' and 1990 < release_year < 2000\")\n",
    "titles.shape"
   ]
  },
  {
   "cell_type": "code",
   "execution_count": null,
   "id": "b5cb0185",
   "metadata": {},
   "outputs": [],
   "source": [
    "actors = pd.read_csv(\"./data/credits.csv\")\n",
    "print(actors.shape)\n",
    "actors.head()"
   ]
  },
  {
   "cell_type": "code",
   "execution_count": null,
   "id": "074f8fdb",
   "metadata": {},
   "outputs": [],
   "source": [
    "actors_gr = actors.query(\"role == 'ACTOR'\").groupby(\"id\")"
   ]
  },
  {
   "cell_type": "code",
   "execution_count": null,
   "id": "0e576995",
   "metadata": {},
   "outputs": [],
   "source": [
    "import itertools\n",
    "\n",
    "# 2つの映画のIDとそれらに共通して出演している俳優の数を保持する\n",
    "movie_a_b_list = []\n",
    "\n",
    "# actors_grにあるすべての映画のタイトル\n",
    "all_movies = set(actors_gr.groups.keys())\n",
    "\n",
    "for movie_a, movie_b in itertools.combinations(titles.index, 2):\n",
    "    # グループ化したキーにmovie_aとmovie_bが両方存在した場合\n",
    "    if movie_a in all_movies and movie_b in all_movies:\n",
    "        # movie_aとmovie_bの出演者をsetにする\n",
    "        set_a = set(actors_gr[\"person_id\"].get_group(movie_a))\n",
    "        set_b = set(actors_gr[\"person_id\"].get_group(movie_b))\n",
    "        # 共通して出演している俳優の数\n",
    "        n = len(set_a & set_b)\n",
    "        if n > 0:\n",
    "            movie_a_b_list.append([movie_a, movie_b, n])\n",
    "\n",
    "# できあがったリストの最初の5行\n",
    "movie_a_b_list[:5]"
   ]
  },
  {
   "cell_type": "code",
   "execution_count": null,
   "id": "fc7a1562",
   "metadata": {},
   "outputs": [],
   "source": [
    "actor_overlaps = pd.DataFrame(\n",
    "    movie_a_b_list,\n",
    "    columns=[\n",
    "        \"movie_A\",\n",
    "        \"movie_B\",\n",
    "        \"weight\",\n",
    "    ],\n",
    ")\n",
    "\n",
    "actor_overlaps.head()"
   ]
  },
  {
   "cell_type": "markdown",
   "id": "4e1a4e02",
   "metadata": {},
   "source": [
    "### グラフの構築"
   ]
  },
  {
   "cell_type": "code",
   "execution_count": null,
   "id": "b50c47e2",
   "metadata": {},
   "outputs": [],
   "source": [
    "import networkx as nx\n",
    "\n",
    "all_movie_graph = nx.from_pandas_edgelist(\n",
    "    actor_overlaps,\n",
    "    source=\"movie_A\",\n",
    "    target=\"movie_B\",\n",
    "    edge_attr=\"weight\",\n",
    ")"
   ]
  },
  {
   "cell_type": "code",
   "execution_count": null,
   "id": "ebedb0d6",
   "metadata": {},
   "outputs": [],
   "source": [
    "# ノードのラベルを非表示にしています\n",
    "nx.draw_networkx(all_movie_graph, with_labels=False)"
   ]
  },
  {
   "cell_type": "code",
   "execution_count": null,
   "id": "439d2194",
   "metadata": {},
   "outputs": [],
   "source": [
    "largest_component = max(\n",
    "    nx.connected_components(all_movie_graph),\n",
    "    key=len,\n",
    ")\n",
    "movie_graph = all_movie_graph.subgraph(largest_component)"
   ]
  },
  {
   "cell_type": "code",
   "execution_count": null,
   "id": "ba1bf25b",
   "metadata": {},
   "outputs": [],
   "source": [
    "from pyvis.network import Network\n",
    "\n",
    "nt = Network(\"800px\", \"800px\", notebook=True)\n",
    "nt.from_nx(movie_graph)\n",
    "nt.show(\"movie_graph.html\")"
   ]
  },
  {
   "cell_type": "code",
   "execution_count": null,
   "id": "1d65112f",
   "metadata": {},
   "outputs": [],
   "source": [
    "titles[\"production_countries\"].value_counts().head()"
   ]
  },
  {
   "cell_type": "code",
   "execution_count": null,
   "id": "9ffe50f2",
   "metadata": {},
   "outputs": [],
   "source": [
    "for node in movie_graph:\n",
    "    # nodeはタイトルのIDになっているのでDataFrameの行を取得\n",
    "    row = titles.loc[node]\n",
    "    # ノードのtitle属性に、映画のタイトルと制作した国を追加\n",
    "    movie_graph.nodes[node][\n",
    "        \"title\"\n",
    "    ] = f\"{row['title']} {row['production_countries']}\"\n",
    "    # 文字列からeval関数でリストを生成\n",
    "    countries = eval(row[\"production_countries\"])\n",
    "    # 国ごとに色分け\n",
    "    if len(countries) == 1:\n",
    "        if countries[0] == \"US\":\n",
    "            movie_graph.nodes[node][\"color\"] = \"#636EFA\"\n",
    "        if countries[0] == \"IN\":\n",
    "            movie_graph.nodes[node][\"color\"] = \"#EF553B\"\n",
    "    else:\n",
    "        movie_graph.nodes[node][\"color\"] = \"#00CC96\""
   ]
  },
  {
   "cell_type": "code",
   "execution_count": null,
   "id": "7db82a15",
   "metadata": {},
   "outputs": [],
   "source": [
    "nt = Network(\"800px\", \"800px\", notebook=True)\n",
    "nt.from_nx(movie_graph)\n",
    "nt.show(\"colored_movie_graph.html\")"
   ]
  },
  {
   "cell_type": "markdown",
   "id": "23efd0c4",
   "metadata": {},
   "source": [
    "### ノードの特徴を定量化する"
   ]
  },
  {
   "cell_type": "code",
   "execution_count": null,
   "id": "6b0596c9",
   "metadata": {},
   "outputs": [],
   "source": [
    "# ノードのリストを作成\n",
    "node_list = list(movie_graph.nodes())\n",
    "# グラフに含まれるタイトルだけのDataFrame\n",
    "titles_in_graph = titles.loc[node_list, :]\n",
    "# 次数中心性の計算\n",
    "deg_cent = nx.degree_centrality(movie_graph)\n",
    "# degree centralityの列を追加\n",
    "titles_in_graph = titles_in_graph.assign(\n",
    "    degree_centrality=[deg_cent[node] for node in node_list]\n",
    ")\n",
    "\n",
    "# 出力列を限定\n",
    "cols = [\n",
    "    \"title\",\n",
    "    \"production_countries\",\n",
    "    \"degree_centrality\",\n",
    "]\n",
    "\n",
    "# 次数中心性で降順にソート\n",
    "titles_in_graph.sort_values(\"degree_centrality\", ascending=False)[cols]"
   ]
  },
  {
   "cell_type": "code",
   "execution_count": null,
   "id": "4e782973",
   "metadata": {},
   "outputs": [],
   "source": [
    "# 媒介中心性を計算します。\n",
    "bet_cent = nx.betweenness_centrality(movie_graph)\n",
    "\n",
    "# 媒介中心性のデータを追加\n",
    "titles_in_graph = titles_in_graph.assign(\n",
    "    betweenness_centrality=[bet_cent[node] for node in node_list]\n",
    ")\n",
    "\n",
    "# 出力列を限定\n",
    "cols = [\n",
    "    \"title\",\n",
    "    \"production_countries\",\n",
    "    \"betweenness_centrality\",\n",
    "]\n",
    "\n",
    "# 降順で並べ変えて表示\n",
    "titles_in_graph.sort_values(\n",
    "    \"betweenness_centrality\",\n",
    "    ascending=False,\n",
    ")[cols]"
   ]
  }
 ],
 "metadata": {},
 "nbformat": 4,
 "nbformat_minor": 5
}
