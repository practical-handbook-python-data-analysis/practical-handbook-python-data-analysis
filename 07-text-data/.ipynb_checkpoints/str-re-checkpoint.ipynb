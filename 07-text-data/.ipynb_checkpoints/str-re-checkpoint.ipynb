{
 "cells": [
  {
   "cell_type": "markdown",
   "id": "a4b2c80c",
   "metadata": {},
   "source": [
    "# Pythonを使った文字列処理"
   ]
  },
  {
   "cell_type": "markdown",
   "id": "79faebd4",
   "metadata": {},
   "source": [
    "## 正規表現による処理"
   ]
  },
  {
   "cell_type": "markdown",
   "id": "59d1c628",
   "metadata": {},
   "source": [
    "### ルビの処理"
   ]
  },
  {
   "cell_type": "code",
   "execution_count": null,
   "id": "9be98066",
   "metadata": {},
   "outputs": [],
   "source": [
    "text = \"私は実に先生をこの雑沓《ざっとう》の間《あいだ》に見付け出したのである。\""
   ]
  },
  {
   "cell_type": "code",
   "execution_count": null,
   "id": "fea9b263",
   "metadata": {},
   "outputs": [],
   "source": [
    "import re\n",
    "\n",
    "RE_RUBY = re.compile(r\"《.+?》\")"
   ]
  },
  {
   "cell_type": "code",
   "execution_count": null,
   "id": "393c674b",
   "metadata": {},
   "outputs": [],
   "source": [
    "rubies = RE_RUBY.findall(text)\n",
    "print(rubies)"
   ]
  },
  {
   "cell_type": "code",
   "execution_count": null,
   "id": "76525460",
   "metadata": {},
   "outputs": [],
   "source": [
    "ignored_text = RE_RUBY.sub(\"\", text)\n",
    "ignored_text"
   ]
  },
  {
   "cell_type": "markdown",
   "id": "8f2a9810",
   "metadata": {},
   "source": [
    "### 複数行のテキストデータの処理"
   ]
  },
  {
   "cell_type": "code",
   "execution_count": null,
   "id": "994c9127",
   "metadata": {},
   "outputs": [],
   "source": [
    "out = []\n",
    "with open(\"data/kokoro-1.txt\", \"r\") as f:\n",
    "    for line in f:\n",
    "        if not line.strip():\n",
    "            continue\n",
    "        data = {}\n",
    "        data[\"org\"] = line\n",
    "        data[\"length\"] = len(line)\n",
    "        rubies = RE_RUBY.findall(line)  # ・・①\n",
    "        data[\"number-of-ruby\"] = len(rubies)  # ・・②\n",
    "        cleaned_text = RE_RUBY.sub(\"\", line)  # ・・③\n",
    "        data[\"ignored-text\"] = cleaned_text  # ・・④\n",
    "        data[\"ignored-length\"] = len(cleaned_text)  # ・・⑤\n",
    "        out.append(data)\n",
    "out[0]"
   ]
  },
  {
   "cell_type": "markdown",
   "id": "2b63c5f5",
   "metadata": {},
   "source": [
    "### DataFrame化"
   ]
  },
  {
   "cell_type": "code",
   "execution_count": null,
   "id": "8f700307",
   "metadata": {},
   "outputs": [],
   "source": [
    "import pandas as pd\n",
    "\n",
    "df = pd.DataFrame(out)"
   ]
  },
  {
   "cell_type": "code",
   "execution_count": null,
   "id": "fe8aa891",
   "metadata": {},
   "outputs": [],
   "source": [
    "df"
   ]
  }
 ],
 "metadata": {},
 "nbformat": 4,
 "nbformat_minor": 5
}
