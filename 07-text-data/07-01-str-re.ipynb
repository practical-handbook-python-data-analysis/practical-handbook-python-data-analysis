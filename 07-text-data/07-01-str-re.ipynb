{
 "cells": [
  {
   "cell_type": "markdown",
   "id": "a4b2c80c",
   "metadata": {},
   "source": [
    "# Pythonを使った文字列処理"
   ]
  },
  {
   "cell_type": "markdown",
   "id": "79faebd4",
   "metadata": {},
   "source": [
    "## 正規表現による処理"
   ]
  },
  {
   "cell_type": "markdown",
   "id": "59d1c628",
   "metadata": {},
   "source": [
    "### ルビの処理"
   ]
  },
  {
   "cell_type": "code",
   "execution_count": 1,
   "id": "9be98066",
   "metadata": {},
   "outputs": [],
   "source": [
    "text = \"私は実に先生をこの雑沓《ざっとう》の間《あいだ》に見付け出したのである。\""
   ]
  },
  {
   "cell_type": "code",
   "execution_count": 8,
   "id": "fea9b263",
   "metadata": {},
   "outputs": [],
   "source": [
    "import re\n",
    "\n",
    "RE_RUBY = re.compile(r\"《.+?》\")"
   ]
  },
  {
   "cell_type": "code",
   "execution_count": 9,
   "id": "393c674b",
   "metadata": {},
   "outputs": [
    {
     "name": "stdout",
     "output_type": "stream",
     "text": [
      "['《ざっとう》', '《あいだ》']\n"
     ]
    }
   ],
   "source": [
    "rubies = RE_RUBY.findall(text)\n",
    "print(rubies)"
   ]
  },
  {
   "cell_type": "code",
   "execution_count": 4,
   "id": "76525460",
   "metadata": {},
   "outputs": [
    {
     "data": {
      "text/plain": [
       "'私は実に先生をこの雑沓の間に見付け出したのである。'"
      ]
     },
     "execution_count": 4,
     "metadata": {},
     "output_type": "execute_result"
    }
   ],
   "source": [
    "ignored_text = RE_RUBY.sub(\"\", text)\n",
    "ignored_text"
   ]
  },
  {
   "cell_type": "markdown",
   "id": "8f2a9810",
   "metadata": {},
   "source": [
    "### 複数行のテキストデータの処理"
   ]
  },
  {
   "cell_type": "code",
   "execution_count": 5,
   "id": "994c9127",
   "metadata": {},
   "outputs": [
    {
     "data": {
      "text/plain": [
       "{'org': '\\u3000私《わたくし》はその人を常に先生と呼んでいた。だからここでもただ先生と書くだけで本名は打ち明けない。これは世間を憚《はば》かる遠慮というよりも、その方が私にとって自然だからである。私はその人の記憶を呼び起すごとに、すぐ「先生」といいたくなる。筆を執《と》っても心持は同じ事である。よそよそしい頭文字《かしらもじ》などはとても使う気にならない。\\n',\n",
       " 'length': 173,\n",
       " 'number-of-ruby': 4,\n",
       " 'ignored-text': '\\u3000私はその人を常に先生と呼んでいた。だからここでもただ先生と書くだけで本名は打ち明けない。これは世間を憚かる遠慮というよりも、その方が私にとって自然だからである。私はその人の記憶を呼び起すごとに、すぐ「先生」といいたくなる。筆を執っても心持は同じ事である。よそよそしい頭文字などはとても使う気にならない。\\n',\n",
       " 'ignored-length': 153}"
      ]
     },
     "execution_count": 5,
     "metadata": {},
     "output_type": "execute_result"
    }
   ],
   "source": [
    "result = []\n",
    "with open(\"data/kokoro-1.txt\", \"r\", encoding=\"utf-8\") as f:\n",
    "    for line in f:\n",
    "        if not line.strip():\n",
    "            continue\n",
    "        data = {}\n",
    "        data[\"org\"] = line\n",
    "        data[\"length\"] = len(line)\n",
    "        rubies = RE_RUBY.findall(line)  # ・・①\n",
    "        data[\"number-of-ruby\"] = len(rubies)  # ・・②\n",
    "        ignored_text = RE_RUBY.sub(\"\", line)  # ・・③\n",
    "        data[\"ignored-text\"] = ignored_text  # ・・④\n",
    "        data[\"ignored-length\"] = len(ignored_text)  # ・・⑤\n",
    "        result.append(data)\n",
    "result[0]"
   ]
  },
  {
   "cell_type": "markdown",
   "id": "2b63c5f5",
   "metadata": {},
   "source": [
    "### DataFrame化"
   ]
  },
  {
   "cell_type": "code",
   "execution_count": 10,
   "id": "8f700307",
   "metadata": {},
   "outputs": [],
   "source": [
    "import pandas as pd\n",
    "\n",
    "df = pd.DataFrame(result)"
   ]
  },
  {
   "cell_type": "code",
   "execution_count": 11,
   "id": "fe8aa891",
   "metadata": {},
   "outputs": [
    {
     "data": {
      "text/html": [
       "<div>\n",
       "<style scoped>\n",
       "    .dataframe tbody tr th:only-of-type {\n",
       "        vertical-align: middle;\n",
       "    }\n",
       "\n",
       "    .dataframe tbody tr th {\n",
       "        vertical-align: top;\n",
       "    }\n",
       "\n",
       "    .dataframe thead th {\n",
       "        text-align: right;\n",
       "    }\n",
       "</style>\n",
       "<table border=\"1\" class=\"dataframe\">\n",
       "  <thead>\n",
       "    <tr style=\"text-align: right;\">\n",
       "      <th></th>\n",
       "      <th>org</th>\n",
       "      <th>length</th>\n",
       "      <th>number-of-ruby</th>\n",
       "      <th>ignored-text</th>\n",
       "      <th>ignored-length</th>\n",
       "    </tr>\n",
       "  </thead>\n",
       "  <tbody>\n",
       "    <tr>\n",
       "      <th>0</th>\n",
       "      <td>私《わたくし》はその人を常に先生と呼んでいた。だからここでもただ先生と書くだけで本名は打ち...</td>\n",
       "      <td>173</td>\n",
       "      <td>4</td>\n",
       "      <td>私はその人を常に先生と呼んでいた。だからここでもただ先生と書くだけで本名は打ち明けない。こ...</td>\n",
       "      <td>153</td>\n",
       "    </tr>\n",
       "    <tr>\n",
       "      <th>1</th>\n",
       "      <td>私が先生と知り合いになったのは鎌倉《かまくら》である。その時私はまだ若々しい書生であった。...</td>\n",
       "      <td>476</td>\n",
       "      <td>10</td>\n",
       "      <td>私が先生と知り合いになったのは鎌倉である。その時私はまだ若々しい書生であった。暑中休暇を利...</td>\n",
       "      <td>432</td>\n",
       "    </tr>\n",
       "    <tr>\n",
       "      <th>2</th>\n",
       "      <td>学校の授業が始まるにはまだ大分《だいぶ》日数《ひかず》があるので鎌倉におってもよし、帰って...</td>\n",
       "      <td>201</td>\n",
       "      <td>6</td>\n",
       "      <td>学校の授業が始まるにはまだ大分日数があるので鎌倉におってもよし、帰ってもよいという境遇にい...</td>\n",
       "      <td>172</td>\n",
       "    </tr>\n",
       "    <tr>\n",
       "      <th>3</th>\n",
       "      <td>宿は鎌倉でも辺鄙《へんぴ》な方角にあった。玉突《たまつ》きだのアイスクリームだのというハイ...</td>\n",
       "      <td>157</td>\n",
       "      <td>3</td>\n",
       "      <td>宿は鎌倉でも辺鄙な方角にあった。玉突きだのアイスクリームだのというハイカラなものには長い畷...</td>\n",
       "      <td>142</td>\n",
       "    </tr>\n",
       "    <tr>\n",
       "      <th>4</th>\n",
       "      <td>私は毎日海へはいりに出掛けた。古い燻《くす》ぶり返った藁葺《わらぶき》の間《あいだ》を通り...</td>\n",
       "      <td>252</td>\n",
       "      <td>12</td>\n",
       "      <td>私は毎日海へはいりに出掛けた。古い燻ぶり返った藁葺の間を通り抜けて磯へ下りると、この辺にこ...</td>\n",
       "      <td>198</td>\n",
       "    </tr>\n",
       "    <tr>\n",
       "      <th>5</th>\n",
       "      <td>私は実に先生をこの雑沓《ざっとう》の間《あいだ》に見付け出したのである。その時海岸には掛茶...</td>\n",
       "      <td>356</td>\n",
       "      <td>17</td>\n",
       "      <td>私は実に先生をこの雑沓の間に見付け出したのである。その時海岸には掛茶屋が二軒あった。私はふ...</td>\n",
       "      <td>274</td>\n",
       "    </tr>\n",
       "  </tbody>\n",
       "</table>\n",
       "</div>"
      ],
      "text/plain": [
       "                                                 org  length  number-of-ruby  \\\n",
       "0  　私《わたくし》はその人を常に先生と呼んでいた。だからここでもただ先生と書くだけで本名は打ち...     173               4   \n",
       "1  　私が先生と知り合いになったのは鎌倉《かまくら》である。その時私はまだ若々しい書生であった。...     476              10   \n",
       "2  　学校の授業が始まるにはまだ大分《だいぶ》日数《ひかず》があるので鎌倉におってもよし、帰って...     201               6   \n",
       "3  　宿は鎌倉でも辺鄙《へんぴ》な方角にあった。玉突《たまつ》きだのアイスクリームだのというハイ...     157               3   \n",
       "4  　私は毎日海へはいりに出掛けた。古い燻《くす》ぶり返った藁葺《わらぶき》の間《あいだ》を通り...     252              12   \n",
       "5  　私は実に先生をこの雑沓《ざっとう》の間《あいだ》に見付け出したのである。その時海岸には掛茶...     356              17   \n",
       "\n",
       "                                        ignored-text  ignored-length  \n",
       "0  　私はその人を常に先生と呼んでいた。だからここでもただ先生と書くだけで本名は打ち明けない。こ...             153  \n",
       "1  　私が先生と知り合いになったのは鎌倉である。その時私はまだ若々しい書生であった。暑中休暇を利...             432  \n",
       "2  　学校の授業が始まるにはまだ大分日数があるので鎌倉におってもよし、帰ってもよいという境遇にい...             172  \n",
       "3  　宿は鎌倉でも辺鄙な方角にあった。玉突きだのアイスクリームだのというハイカラなものには長い畷...             142  \n",
       "4  　私は毎日海へはいりに出掛けた。古い燻ぶり返った藁葺の間を通り抜けて磯へ下りると、この辺にこ...             198  \n",
       "5  　私は実に先生をこの雑沓の間に見付け出したのである。その時海岸には掛茶屋が二軒あった。私はふ...             274  "
      ]
     },
     "execution_count": 11,
     "metadata": {},
     "output_type": "execute_result"
    }
   ],
   "source": [
    "df"
   ]
  },
  {
   "cell_type": "code",
   "execution_count": null,
   "id": "d423b06f-089f-4558-96fb-42d8aaf4635a",
   "metadata": {},
   "outputs": [],
   "source": []
  }
 ],
 "metadata": {
  "kernelspec": {
   "display_name": "Python 3 (ipykernel)",
   "language": "python",
   "name": "python3"
  },
  "language_info": {
   "codemirror_mode": {
    "name": "ipython",
    "version": 3
   },
   "file_extension": ".py",
   "mimetype": "text/x-python",
   "name": "python",
   "nbconvert_exporter": "python",
   "pygments_lexer": "ipython3",
   "version": "3.11.4"
  }
 },
 "nbformat": 4,
 "nbformat_minor": 5
}
