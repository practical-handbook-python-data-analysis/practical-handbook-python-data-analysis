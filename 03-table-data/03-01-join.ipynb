{
 "cells": [
  {
   "cell_type": "markdown",
   "id": "f782cb81-152b-4817-bd94-e39a699c8b80",
   "metadata": {},
   "source": [
    "# データの連結／結合"
   ]
  },
  {
   "cell_type": "markdown",
   "id": "ad890775-9cb2-4c02-a935-213219b27efb",
   "metadata": {},
   "source": [
    "## データの連結／結合方法と関数／メソッド"
   ]
  },
  {
   "cell_type": "markdown",
   "id": "d5322cf7-3d04-4825-bb20-825e87a0f319",
   "metadata": {},
   "source": [
    "### DataFrameの連結"
   ]
  },
  {
   "cell_type": "markdown",
   "id": "3d714697-2b0b-42e0-baeb-c10bdeaeda5b",
   "metadata": {},
   "source": [
    "### DataFrameの結合"
   ]
  },
  {
   "cell_type": "markdown",
   "id": "740421c7",
   "metadata": {},
   "source": [
    "## concat() 関数によるDataFrameの連結"
   ]
  },
  {
   "cell_type": "code",
   "execution_count": 3,
   "id": "4eeb0a1a",
   "metadata": {},
   "outputs": [
    {
     "data": {
      "text/html": [
       "<div>\n",
       "<style scoped>\n",
       "    .dataframe tbody tr th:only-of-type {\n",
       "        vertical-align: middle;\n",
       "    }\n",
       "\n",
       "    .dataframe tbody tr th {\n",
       "        vertical-align: top;\n",
       "    }\n",
       "\n",
       "    .dataframe thead th {\n",
       "        text-align: right;\n",
       "    }\n",
       "</style>\n",
       "<table border=\"1\" class=\"dataframe\">\n",
       "  <thead>\n",
       "    <tr style=\"text-align: right;\">\n",
       "      <th></th>\n",
       "      <th>A</th>\n",
       "      <th>B</th>\n",
       "      <th>C</th>\n",
       "    </tr>\n",
       "  </thead>\n",
       "  <tbody>\n",
       "    <tr>\n",
       "      <th>a</th>\n",
       "      <td>1</td>\n",
       "      <td>10</td>\n",
       "      <td>100</td>\n",
       "    </tr>\n",
       "    <tr>\n",
       "      <th>b</th>\n",
       "      <td>2</td>\n",
       "      <td>20</td>\n",
       "      <td>200</td>\n",
       "    </tr>\n",
       "    <tr>\n",
       "      <th>c</th>\n",
       "      <td>3</td>\n",
       "      <td>30</td>\n",
       "      <td>300</td>\n",
       "    </tr>\n",
       "  </tbody>\n",
       "</table>\n",
       "</div>"
      ],
      "text/plain": [
       "   A   B    C\n",
       "a  1  10  100\n",
       "b  2  20  200\n",
       "c  3  30  300"
      ]
     },
     "metadata": {},
     "output_type": "display_data"
    },
    {
     "data": {
      "text/html": [
       "<div>\n",
       "<style scoped>\n",
       "    .dataframe tbody tr th:only-of-type {\n",
       "        vertical-align: middle;\n",
       "    }\n",
       "\n",
       "    .dataframe tbody tr th {\n",
       "        vertical-align: top;\n",
       "    }\n",
       "\n",
       "    .dataframe thead th {\n",
       "        text-align: right;\n",
       "    }\n",
       "</style>\n",
       "<table border=\"1\" class=\"dataframe\">\n",
       "  <thead>\n",
       "    <tr style=\"text-align: right;\">\n",
       "      <th></th>\n",
       "      <th>A</th>\n",
       "      <th>C</th>\n",
       "      <th>D</th>\n",
       "    </tr>\n",
       "  </thead>\n",
       "  <tbody>\n",
       "    <tr>\n",
       "      <th>a</th>\n",
       "      <td>4</td>\n",
       "      <td>10</td>\n",
       "      <td>100</td>\n",
       "    </tr>\n",
       "    <tr>\n",
       "      <th>c</th>\n",
       "      <td>2</td>\n",
       "      <td>20</td>\n",
       "      <td>200</td>\n",
       "    </tr>\n",
       "    <tr>\n",
       "      <th>d</th>\n",
       "      <td>3</td>\n",
       "      <td>30</td>\n",
       "      <td>400</td>\n",
       "    </tr>\n",
       "  </tbody>\n",
       "</table>\n",
       "</div>"
      ],
      "text/plain": [
       "   A   C    D\n",
       "a  4  10  100\n",
       "c  2  20  200\n",
       "d  3  30  400"
      ]
     },
     "metadata": {},
     "output_type": "display_data"
    }
   ],
   "source": [
    "from IPython.display import display\n",
    "import pandas as pd\n",
    "\n",
    "df1 = pd.DataFrame(\n",
    "    [\n",
    "        [1, 10, 100],\n",
    "        [2, 20, 200],\n",
    "        [3, 30, 300],\n",
    "    ],\n",
    "    index=list(\"abc\"),\n",
    "    columns=list(\"ABC\"),\n",
    ")\n",
    "df2 = pd.DataFrame(\n",
    "    [\n",
    "        [4, 10, 100],\n",
    "        [2, 20, 200],\n",
    "        [3, 30, 400],\n",
    "    ],\n",
    "    index=list(\"acd\"),\n",
    "    columns=list(\"ACD\"),\n",
    ")\n",
    "display(df1, df2)"
   ]
  },
  {
   "cell_type": "code",
   "execution_count": 4,
   "id": "5777d404",
   "metadata": {},
   "outputs": [
    {
     "data": {
      "text/html": [
       "<div>\n",
       "<style scoped>\n",
       "    .dataframe tbody tr th:only-of-type {\n",
       "        vertical-align: middle;\n",
       "    }\n",
       "\n",
       "    .dataframe tbody tr th {\n",
       "        vertical-align: top;\n",
       "    }\n",
       "\n",
       "    .dataframe thead th {\n",
       "        text-align: right;\n",
       "    }\n",
       "</style>\n",
       "<table border=\"1\" class=\"dataframe\">\n",
       "  <thead>\n",
       "    <tr style=\"text-align: right;\">\n",
       "      <th></th>\n",
       "      <th>A</th>\n",
       "      <th>B</th>\n",
       "      <th>C</th>\n",
       "      <th>D</th>\n",
       "    </tr>\n",
       "  </thead>\n",
       "  <tbody>\n",
       "    <tr>\n",
       "      <th>0</th>\n",
       "      <td>1</td>\n",
       "      <td>10.0</td>\n",
       "      <td>100</td>\n",
       "      <td>NaN</td>\n",
       "    </tr>\n",
       "    <tr>\n",
       "      <th>1</th>\n",
       "      <td>2</td>\n",
       "      <td>20.0</td>\n",
       "      <td>200</td>\n",
       "      <td>NaN</td>\n",
       "    </tr>\n",
       "    <tr>\n",
       "      <th>2</th>\n",
       "      <td>3</td>\n",
       "      <td>30.0</td>\n",
       "      <td>300</td>\n",
       "      <td>NaN</td>\n",
       "    </tr>\n",
       "    <tr>\n",
       "      <th>3</th>\n",
       "      <td>4</td>\n",
       "      <td>NaN</td>\n",
       "      <td>10</td>\n",
       "      <td>100.0</td>\n",
       "    </tr>\n",
       "    <tr>\n",
       "      <th>4</th>\n",
       "      <td>2</td>\n",
       "      <td>NaN</td>\n",
       "      <td>20</td>\n",
       "      <td>200.0</td>\n",
       "    </tr>\n",
       "    <tr>\n",
       "      <th>5</th>\n",
       "      <td>3</td>\n",
       "      <td>NaN</td>\n",
       "      <td>30</td>\n",
       "      <td>400.0</td>\n",
       "    </tr>\n",
       "  </tbody>\n",
       "</table>\n",
       "</div>"
      ],
      "text/plain": [
       "   A     B    C      D\n",
       "0  1  10.0  100    NaN\n",
       "1  2  20.0  200    NaN\n",
       "2  3  30.0  300    NaN\n",
       "3  4   NaN   10  100.0\n",
       "4  2   NaN   20  200.0\n",
       "5  3   NaN   30  400.0"
      ]
     },
     "execution_count": 4,
     "metadata": {},
     "output_type": "execute_result"
    }
   ],
   "source": [
    "pd.concat([df1, df2], ignore_index=True)"
   ]
  },
  {
   "cell_type": "code",
   "execution_count": null,
   "id": "02ed3737",
   "metadata": {},
   "outputs": [],
   "source": [
    "labeled_df = pd.concat([df1, df2], keys=[\"data1\", \"data2\"])\n",
    "labeled_df"
   ]
  },
  {
   "cell_type": "markdown",
   "id": "0a287ceb",
   "metadata": {},
   "source": [
    "## concat() 関数によるDataFrameの結合"
   ]
  },
  {
   "cell_type": "code",
   "execution_count": null,
   "id": "f60693f5",
   "metadata": {},
   "outputs": [],
   "source": [
    "pd.concat([df1, df2], axis=1)"
   ]
  },
  {
   "cell_type": "code",
   "execution_count": null,
   "id": "b42ddd34",
   "metadata": {},
   "outputs": [],
   "source": [
    "pd.concat([df1, df2], axis=1, join=\"inner\")"
   ]
  },
  {
   "cell_type": "markdown",
   "id": "e824e3d9",
   "metadata": {},
   "source": [
    "## join() メソッドによるDataFrameの結合"
   ]
  },
  {
   "cell_type": "code",
   "execution_count": null,
   "id": "601f1a96",
   "metadata": {},
   "outputs": [],
   "source": [
    "df3 = pd.DataFrame(\n",
    "    [[1.3, 10.3], [2.3, 20.3]],\n",
    "    index=list(\"ab\"),\n",
    "    columns=list(\"DE\"),\n",
    ")\n",
    "display(df1, df2, df3)"
   ]
  },
  {
   "cell_type": "code",
   "execution_count": null,
   "id": "be9c749a",
   "metadata": {},
   "outputs": [],
   "source": [
    "df1.join(df3)"
   ]
  },
  {
   "cell_type": "code",
   "execution_count": null,
   "id": "d425c046",
   "metadata": {},
   "outputs": [],
   "source": [
    "df1.join(\n",
    "    df2,\n",
    "    how=\"inner\",\n",
    "    lsuffix=\"_df1\",\n",
    "    rsuffix=\"_df2\",\n",
    ")"
   ]
  },
  {
   "cell_type": "code",
   "execution_count": null,
   "id": "f9154b41",
   "metadata": {},
   "outputs": [],
   "source": [
    "df4 = pd.DataFrame(\n",
    "    [[\"a\", 1.4, 10.4], [\"b\", 2.4, 20.4]], columns=[\"key\", \"F\", \"G\"]\n",
    ")\n",
    "display(df4, df1)"
   ]
  },
  {
   "cell_type": "code",
   "execution_count": null,
   "id": "0d62119a",
   "metadata": {},
   "outputs": [],
   "source": [
    "df4.join(df1, on=\"key\")"
   ]
  },
  {
   "cell_type": "markdown",
   "id": "6ce69609",
   "metadata": {},
   "source": [
    "## merge() メソッドによるDataFrameの結合"
   ]
  },
  {
   "cell_type": "code",
   "execution_count": null,
   "id": "017ccce2",
   "metadata": {},
   "outputs": [],
   "source": [
    "pd.merge(df1, df2, on=\"A\")"
   ]
  },
  {
   "cell_type": "code",
   "execution_count": null,
   "id": "1f515c97",
   "metadata": {},
   "outputs": [],
   "source": [
    "pd.merge(df1, df2, on=\"A\", how=\"left\")"
   ]
  },
  {
   "cell_type": "code",
   "execution_count": null,
   "id": "163d17e3",
   "metadata": {},
   "outputs": [],
   "source": [
    "pd.merge(df1, df2, left_on=\"C\", right_on=\"D\")"
   ]
  },
  {
   "cell_type": "code",
   "execution_count": null,
   "id": "870fed22",
   "metadata": {},
   "outputs": [],
   "source": [
    "pd.merge(\n",
    "    df1,\n",
    "    df2,\n",
    "    on=\"A\",\n",
    "    suffixes=(\"_df1\", \"_df2\"),\n",
    ")"
   ]
  },
  {
   "cell_type": "code",
   "execution_count": null,
   "id": "fc88552e",
   "metadata": {},
   "outputs": [],
   "source": [
    "pd.merge(\n",
    "    df1,\n",
    "    df2,\n",
    "    on=\"A\",\n",
    "    how=\"outer\",\n",
    "    indicator=True,\n",
    ")"
   ]
  },
  {
   "cell_type": "code",
   "execution_count": null,
   "id": "3f12e320",
   "metadata": {},
   "outputs": [],
   "source": [
    "pd.merge(\n",
    "    df1,\n",
    "    df2,\n",
    "    how=\"cross\",\n",
    "    suffixes=(\"_df1\", \"_df2\"),\n",
    ")"
   ]
  },
  {
   "cell_type": "code",
   "execution_count": null,
   "id": "5e5b0d1c",
   "metadata": {},
   "outputs": [],
   "source": [
    "pd.merge(\n",
    "    df1,\n",
    "    df2,\n",
    "    how=\"outer\",\n",
    "    left_index=True,\n",
    "    right_index=True,\n",
    ")"
   ]
  },
  {
   "cell_type": "code",
   "execution_count": null,
   "id": "3a8ab29d",
   "metadata": {},
   "outputs": [],
   "source": [
    "import numpy as np\n",
    "\n",
    "pd.merge(\n",
    "    pd.DataFrame({\"a\": [np.nan, 1, 2]}),\n",
    "    pd.DataFrame({\"a\": [1, 3, np.nan, np.nan]}),\n",
    ")"
   ]
  },
  {
   "cell_type": "markdown",
   "id": "b4280d6f",
   "metadata": {},
   "source": [
    "### 重複したキーの検証"
   ]
  },
  {
   "cell_type": "code",
   "execution_count": null,
   "id": "3c8d4ff4",
   "metadata": {},
   "outputs": [],
   "source": [
    "df5 = pd.DataFrame(\n",
    "    [\n",
    "        [1, 10, 100],\n",
    "        [2, 20, 200],\n",
    "        [2, 20, 200],\n",
    "    ],\n",
    "    index=list(\"abc\"),\n",
    "    columns=list(\"ABC\"),\n",
    ")\n",
    "df5"
   ]
  },
  {
   "cell_type": "code",
   "execution_count": null,
   "id": "c28859ea",
   "metadata": {},
   "outputs": [],
   "source": [
    "pd.merge(df1, df5, on=\"A\", validate=\"one_to_one\")"
   ]
  },
  {
   "cell_type": "code",
   "execution_count": null,
   "id": "31bbf8d9",
   "metadata": {},
   "outputs": [],
   "source": [
    "pd.merge(\n",
    "    df1,\n",
    "    df5,\n",
    "    on=\"A\",\n",
    "    validate=\"one_to_many\",\n",
    ")"
   ]
  },
  {
   "cell_type": "markdown",
   "id": "0fcca914",
   "metadata": {},
   "source": [
    "### 近い値での結合"
   ]
  },
  {
   "cell_type": "code",
   "execution_count": null,
   "id": "eaae8b23",
   "metadata": {},
   "outputs": [],
   "source": [
    "rng = np.random.default_rng(1)\n",
    "\n",
    "\n",
    "def generate_date_range(size):\n",
    "    return pd.date_range(\n",
    "        \"2022-01-01\",\n",
    "        freq=\"1s\",\n",
    "        periods=size,\n",
    "    ) + pd.Series(rng.integers(0, 1000, size=size)).map(\n",
    "        lambda x: pd.Timedelta(x, \"ms\")\n",
    "    )\n",
    "\n",
    "\n",
    "ts_df1 = pd.DataFrame(\n",
    "    {\n",
    "        \"timestamp\": generate_date_range(10),\n",
    "        \"data\": rng.random(size=10),\n",
    "    }\n",
    ")\n",
    "ts_df2 = pd.DataFrame(\n",
    "    {\n",
    "        \"timestamp\": generate_date_range(10),\n",
    "        \"data\": rng.random(size=10),\n",
    "    }\n",
    ")\n",
    "display(ts_df1, ts_df2)"
   ]
  },
  {
   "cell_type": "code",
   "execution_count": null,
   "id": "82b32cd4",
   "metadata": {},
   "outputs": [],
   "source": [
    "pd.merge_asof(\n",
    "    ts_df1,\n",
    "    ts_df2,\n",
    "    on=\"timestamp\",\n",
    "    tolerance=pd.Timedelta(\"2s\"),\n",
    ")"
   ]
  }
 ],
 "metadata": {
  "kernelspec": {
   "display_name": "Python 3 (ipykernel)",
   "language": "python",
   "name": "python3"
  },
  "language_info": {
   "codemirror_mode": {
    "name": "ipython",
    "version": 3
   },
   "file_extension": ".py",
   "mimetype": "text/x-python",
   "name": "python",
   "nbconvert_exporter": "python",
   "pygments_lexer": "ipython3",
   "version": "3.11.4"
  }
 },
 "nbformat": 4,
 "nbformat_minor": 5
}
