{
 "cells": [
  {
   "cell_type": "markdown",
   "id": "8f56dbfb",
   "metadata": {},
   "source": [
    "# 階層型インデックス（MultiIndex）"
   ]
  },
  {
   "cell_type": "markdown",
   "id": "07d476d7",
   "metadata": {},
   "source": [
    "## MultiIndexの生成"
   ]
  },
  {
   "cell_type": "code",
   "execution_count": 1,
   "id": "db2377dc",
   "metadata": {},
   "outputs": [
    {
     "data": {
      "text/plain": [
       "MultiIndex([('1年', 'A組'),\n",
       "            ('1年', 'B組'),\n",
       "            ('2年', 'A組'),\n",
       "            ('2年', 'B組')],\n",
       "           names=['学年', '学級'])"
      ]
     },
     "execution_count": 1,
     "metadata": {},
     "output_type": "execute_result"
    }
   ],
   "source": [
    "import pandas as pd\n",
    "\n",
    "pd.MultiIndex.from_tuples(\n",
    "    [\n",
    "        [\"1年\", \"A組\"],\n",
    "        [\"1年\", \"B組\"],\n",
    "        [\"2年\", \"A組\"],\n",
    "        [\"2年\", \"B組\"],\n",
    "    ],\n",
    "    names=[\"学年\", \"学級\"],\n",
    ")"
   ]
  },
  {
   "cell_type": "code",
   "execution_count": 2,
   "id": "138cd5fa",
   "metadata": {},
   "outputs": [
    {
     "data": {
      "text/plain": [
       "MultiIndex([('1年', 'A組'),\n",
       "            ('1年', 'B組'),\n",
       "            ('1年', 'C組'),\n",
       "            ('2年', 'A組'),\n",
       "            ('2年', 'B組'),\n",
       "            ('2年', 'C組'),\n",
       "            ('3年', 'A組'),\n",
       "            ('3年', 'B組'),\n",
       "            ('3年', 'C組')],\n",
       "           names=['学年', '学級'])"
      ]
     },
     "execution_count": 2,
     "metadata": {},
     "output_type": "execute_result"
    }
   ],
   "source": [
    "ix = pd.MultiIndex.from_product(\n",
    "    [\n",
    "        [\"1年\", \"2年\", \"3年\"],\n",
    "        [\"A組\", \"B組\", \"C組\"],\n",
    "    ],\n",
    "    names=[\"学年\", \"学級\"],\n",
    ")\n",
    "ix"
   ]
  },
  {
   "cell_type": "code",
   "execution_count": 3,
   "id": "70a112ba",
   "metadata": {},
   "outputs": [
    {
     "data": {
      "text/plain": [
       "学年  学級\n",
       "1年  A組    47\n",
       "    B組    51\n",
       "    C組    75\n",
       "2年  A組    95\n",
       "    B組     3\n",
       "    C組    14\n",
       "3年  A組    82\n",
       "    B組    94\n",
       "    C組    24\n",
       "dtype: int64"
      ]
     },
     "execution_count": 3,
     "metadata": {},
     "output_type": "execute_result"
    }
   ],
   "source": [
    "import numpy as np\n",
    "\n",
    "rng = np.random.default_rng(1)\n",
    "ser = pd.Series(rng.integers(0, 100, size=9), index=ix)\n",
    "ser"
   ]
  },
  {
   "cell_type": "code",
   "execution_count": 4,
   "id": "2e7a1e1c",
   "metadata": {},
   "outputs": [
    {
     "data": {
      "text/plain": [
       "学年  学級\n",
       "1年  A組    47\n",
       "1年  B組    51\n",
       "1年  C組    75\n",
       "2年  A組    95\n",
       "2年  B組     3\n",
       "2年  C組    14\n",
       "3年  A組    82\n",
       "3年  B組    94\n",
       "3年  C組    24\n",
       "dtype: int64"
      ]
     },
     "execution_count": 4,
     "metadata": {},
     "output_type": "execute_result"
    }
   ],
   "source": [
    "pd.options.display.multi_sparse = False\n",
    "ser"
   ]
  },
  {
   "cell_type": "code",
   "execution_count": 5,
   "id": "6b7774a5",
   "metadata": {},
   "outputs": [
    {
     "data": {
      "text/html": [
       "<div>\n",
       "<style scoped>\n",
       "    .dataframe tbody tr th:only-of-type {\n",
       "        vertical-align: middle;\n",
       "    }\n",
       "\n",
       "    .dataframe tbody tr th {\n",
       "        vertical-align: top;\n",
       "    }\n",
       "\n",
       "    .dataframe thead th {\n",
       "        text-align: right;\n",
       "    }\n",
       "</style>\n",
       "<table border=\"1\" class=\"dataframe\">\n",
       "  <thead>\n",
       "    <tr style=\"text-align: right;\">\n",
       "      <th></th>\n",
       "      <th></th>\n",
       "      <th>国語</th>\n",
       "      <th>数学</th>\n",
       "    </tr>\n",
       "    <tr>\n",
       "      <th>学年</th>\n",
       "      <th>学級</th>\n",
       "      <th></th>\n",
       "      <th></th>\n",
       "    </tr>\n",
       "  </thead>\n",
       "  <tbody>\n",
       "    <tr>\n",
       "      <th>1年</th>\n",
       "      <th>A組</th>\n",
       "      <td>31</td>\n",
       "      <td>8</td>\n",
       "    </tr>\n",
       "    <tr>\n",
       "      <th>1年</th>\n",
       "      <th>B組</th>\n",
       "      <td>86</td>\n",
       "      <td>2</td>\n",
       "    </tr>\n",
       "    <tr>\n",
       "      <th>1年</th>\n",
       "      <th>C組</th>\n",
       "      <td>42</td>\n",
       "      <td>86</td>\n",
       "    </tr>\n",
       "    <tr>\n",
       "      <th>2年</th>\n",
       "      <th>A組</th>\n",
       "      <td>27</td>\n",
       "      <td>75</td>\n",
       "    </tr>\n",
       "    <tr>\n",
       "      <th>2年</th>\n",
       "      <th>B組</th>\n",
       "      <td>82</td>\n",
       "      <td>83</td>\n",
       "    </tr>\n",
       "    <tr>\n",
       "      <th>2年</th>\n",
       "      <th>C組</th>\n",
       "      <td>25</td>\n",
       "      <td>53</td>\n",
       "    </tr>\n",
       "    <tr>\n",
       "      <th>3年</th>\n",
       "      <th>A組</th>\n",
       "      <td>40</td>\n",
       "      <td>81</td>\n",
       "    </tr>\n",
       "    <tr>\n",
       "      <th>3年</th>\n",
       "      <th>B組</th>\n",
       "      <td>64</td>\n",
       "      <td>32</td>\n",
       "    </tr>\n",
       "    <tr>\n",
       "      <th>3年</th>\n",
       "      <th>C組</th>\n",
       "      <td>54</td>\n",
       "      <td>45</td>\n",
       "    </tr>\n",
       "  </tbody>\n",
       "</table>\n",
       "</div>"
      ],
      "text/plain": [
       "       国語  数学\n",
       "学年 学級        \n",
       "1年 A組  31   8\n",
       "1年 B組  86   2\n",
       "1年 C組  42  86\n",
       "2年 A組  27  75\n",
       "2年 B組  82  83\n",
       "2年 C組  25  53\n",
       "3年 A組  40  81\n",
       "3年 B組  64  32\n",
       "3年 C組  54  45"
      ]
     },
     "execution_count": 5,
     "metadata": {},
     "output_type": "execute_result"
    }
   ],
   "source": [
    "df = pd.DataFrame(\n",
    "    {\n",
    "        \"国語\": rng.integers(0, 100, size=9),\n",
    "        \"数学\": rng.integers(0, 100, size=9),\n",
    "    },\n",
    "    index=ix,\n",
    ")\n",
    "df"
   ]
  },
  {
   "cell_type": "code",
   "execution_count": 6,
   "id": "6987c77d",
   "metadata": {},
   "outputs": [
    {
     "data": {
      "text/plain": [
       "FrozenList(['学年', '学級'])"
      ]
     },
     "execution_count": 6,
     "metadata": {},
     "output_type": "execute_result"
    }
   ],
   "source": [
    "ix.names"
   ]
  },
  {
   "cell_type": "code",
   "execution_count": 7,
   "id": "8198b529",
   "metadata": {},
   "outputs": [
    {
     "data": {
      "text/plain": [
       "MultiIndex([('1年', 'A組'),\n",
       "            ('1年', 'B組'),\n",
       "            ('1年', 'C組'),\n",
       "            ('2年', 'A組'),\n",
       "            ('2年', 'B組'),\n",
       "            ('2年', 'C組'),\n",
       "            ('3年', 'A組'),\n",
       "            ('3年', 'B組'),\n",
       "            ('3年', 'C組')],\n",
       "           names=['grade', 'class'])"
      ]
     },
     "execution_count": 7,
     "metadata": {},
     "output_type": "execute_result"
    }
   ],
   "source": [
    "ix.set_names([\"grade\", \"class\"])"
   ]
  },
  {
   "cell_type": "code",
   "execution_count": 8,
   "id": "833dfc59",
   "metadata": {},
   "outputs": [
    {
     "data": {
      "text/plain": [
       "Index(['1年', '1年', '1年', '2年', '2年', '2年', '3年', '3年', '3年'], dtype='object', name='学年')"
      ]
     },
     "execution_count": 8,
     "metadata": {},
     "output_type": "execute_result"
    }
   ],
   "source": [
    "ix.get_level_values(0)\n",
    "# or\n",
    "ix.get_level_values(\"学年\")"
   ]
  },
  {
   "cell_type": "code",
   "execution_count": 9,
   "id": "f39ebbd3",
   "metadata": {},
   "outputs": [
    {
     "data": {
      "text/plain": [
       "Index(['A組', 'B組', 'C組', 'A組', 'B組', 'C組', 'A組', 'B組', 'C組'], dtype='object', name='学級')"
      ]
     },
     "execution_count": 9,
     "metadata": {},
     "output_type": "execute_result"
    }
   ],
   "source": [
    "ix.get_level_values(1)\n",
    "# or\n",
    "ix.get_level_values(\"学級\")"
   ]
  },
  {
   "cell_type": "code",
   "execution_count": 10,
   "id": "7d76206d",
   "metadata": {},
   "outputs": [
    {
     "data": {
      "text/plain": [
       "MultiIndex([('1年', '1組'),\n",
       "            ('1年', '2組'),\n",
       "            ('1年', '3組'),\n",
       "            ('2年', '1組'),\n",
       "            ('2年', '2組'),\n",
       "            ('2年', '3組'),\n",
       "            ('3年', '1組'),\n",
       "            ('3年', '2組'),\n",
       "            ('3年', '3組')],\n",
       "           names=['学年', '学級'])"
      ]
     },
     "execution_count": 10,
     "metadata": {},
     "output_type": "execute_result"
    }
   ],
   "source": [
    "ix.set_levels(\n",
    "    [\n",
    "        [\"1年\", \"2年\", \"3年\"],\n",
    "        [\"1組\", \"2組\", \"3組\"],\n",
    "    ]\n",
    ")\n",
    "# or\n",
    "ix.set_levels([\"1組\", \"2組\", \"3組\"], level=1)"
   ]
  },
  {
   "cell_type": "code",
   "execution_count": 11,
   "id": "2e8e860e",
   "metadata": {},
   "outputs": [
    {
     "data": {
      "text/html": [
       "<div>\n",
       "<style scoped>\n",
       "    .dataframe tbody tr th:only-of-type {\n",
       "        vertical-align: middle;\n",
       "    }\n",
       "\n",
       "    .dataframe tbody tr th {\n",
       "        vertical-align: top;\n",
       "    }\n",
       "\n",
       "    .dataframe thead th {\n",
       "        text-align: right;\n",
       "    }\n",
       "</style>\n",
       "<table border=\"1\" class=\"dataframe\">\n",
       "  <thead>\n",
       "    <tr style=\"text-align: right;\">\n",
       "      <th></th>\n",
       "      <th></th>\n",
       "      <th>国語</th>\n",
       "      <th>数学</th>\n",
       "    </tr>\n",
       "    <tr>\n",
       "      <th>学年</th>\n",
       "      <th>学級</th>\n",
       "      <th></th>\n",
       "      <th></th>\n",
       "    </tr>\n",
       "  </thead>\n",
       "  <tbody>\n",
       "    <tr>\n",
       "      <th>1年</th>\n",
       "      <th>1組</th>\n",
       "      <td>31</td>\n",
       "      <td>8</td>\n",
       "    </tr>\n",
       "    <tr>\n",
       "      <th>1年</th>\n",
       "      <th>2組</th>\n",
       "      <td>86</td>\n",
       "      <td>2</td>\n",
       "    </tr>\n",
       "    <tr>\n",
       "      <th>1年</th>\n",
       "      <th>3組</th>\n",
       "      <td>42</td>\n",
       "      <td>86</td>\n",
       "    </tr>\n",
       "    <tr>\n",
       "      <th>2年</th>\n",
       "      <th>1組</th>\n",
       "      <td>27</td>\n",
       "      <td>75</td>\n",
       "    </tr>\n",
       "    <tr>\n",
       "      <th>2年</th>\n",
       "      <th>2組</th>\n",
       "      <td>82</td>\n",
       "      <td>83</td>\n",
       "    </tr>\n",
       "    <tr>\n",
       "      <th>2年</th>\n",
       "      <th>3組</th>\n",
       "      <td>25</td>\n",
       "      <td>53</td>\n",
       "    </tr>\n",
       "    <tr>\n",
       "      <th>3年</th>\n",
       "      <th>1組</th>\n",
       "      <td>40</td>\n",
       "      <td>81</td>\n",
       "    </tr>\n",
       "    <tr>\n",
       "      <th>3年</th>\n",
       "      <th>2組</th>\n",
       "      <td>64</td>\n",
       "      <td>32</td>\n",
       "    </tr>\n",
       "    <tr>\n",
       "      <th>3年</th>\n",
       "      <th>3組</th>\n",
       "      <td>54</td>\n",
       "      <td>45</td>\n",
       "    </tr>\n",
       "  </tbody>\n",
       "</table>\n",
       "</div>"
      ],
      "text/plain": [
       "       国語  数学\n",
       "学年 学級        \n",
       "1年 1組  31   8\n",
       "1年 2組  86   2\n",
       "1年 3組  42  86\n",
       "2年 1組  27  75\n",
       "2年 2組  82  83\n",
       "2年 3組  25  53\n",
       "3年 1組  40  81\n",
       "3年 2組  64  32\n",
       "3年 3組  54  45"
      ]
     },
     "execution_count": 11,
     "metadata": {},
     "output_type": "execute_result"
    }
   ],
   "source": [
    "df.rename({\"A組\": \"1組\", \"B組\": \"2組\", \"C組\": \"3組\"})"
   ]
  },
  {
   "cell_type": "code",
   "execution_count": 12,
   "id": "6decc75a",
   "metadata": {},
   "outputs": [
    {
     "data": {
      "text/html": [
       "<div>\n",
       "<style scoped>\n",
       "    .dataframe tbody tr th:only-of-type {\n",
       "        vertical-align: middle;\n",
       "    }\n",
       "\n",
       "    .dataframe tbody tr th {\n",
       "        vertical-align: top;\n",
       "    }\n",
       "\n",
       "    .dataframe thead th {\n",
       "        text-align: right;\n",
       "    }\n",
       "</style>\n",
       "<table border=\"1\" class=\"dataframe\">\n",
       "  <thead>\n",
       "    <tr style=\"text-align: right;\">\n",
       "      <th></th>\n",
       "      <th></th>\n",
       "      <th>国語</th>\n",
       "      <th>数学</th>\n",
       "    </tr>\n",
       "    <tr>\n",
       "      <th>grade</th>\n",
       "      <th>class</th>\n",
       "      <th></th>\n",
       "      <th></th>\n",
       "    </tr>\n",
       "  </thead>\n",
       "  <tbody>\n",
       "    <tr>\n",
       "      <th>1年</th>\n",
       "      <th>A組</th>\n",
       "      <td>31</td>\n",
       "      <td>8</td>\n",
       "    </tr>\n",
       "    <tr>\n",
       "      <th>1年</th>\n",
       "      <th>B組</th>\n",
       "      <td>86</td>\n",
       "      <td>2</td>\n",
       "    </tr>\n",
       "    <tr>\n",
       "      <th>1年</th>\n",
       "      <th>C組</th>\n",
       "      <td>42</td>\n",
       "      <td>86</td>\n",
       "    </tr>\n",
       "    <tr>\n",
       "      <th>2年</th>\n",
       "      <th>A組</th>\n",
       "      <td>27</td>\n",
       "      <td>75</td>\n",
       "    </tr>\n",
       "    <tr>\n",
       "      <th>2年</th>\n",
       "      <th>B組</th>\n",
       "      <td>82</td>\n",
       "      <td>83</td>\n",
       "    </tr>\n",
       "    <tr>\n",
       "      <th>2年</th>\n",
       "      <th>C組</th>\n",
       "      <td>25</td>\n",
       "      <td>53</td>\n",
       "    </tr>\n",
       "    <tr>\n",
       "      <th>3年</th>\n",
       "      <th>A組</th>\n",
       "      <td>40</td>\n",
       "      <td>81</td>\n",
       "    </tr>\n",
       "    <tr>\n",
       "      <th>3年</th>\n",
       "      <th>B組</th>\n",
       "      <td>64</td>\n",
       "      <td>32</td>\n",
       "    </tr>\n",
       "    <tr>\n",
       "      <th>3年</th>\n",
       "      <th>C組</th>\n",
       "      <td>54</td>\n",
       "      <td>45</td>\n",
       "    </tr>\n",
       "  </tbody>\n",
       "</table>\n",
       "</div>"
      ],
      "text/plain": [
       "             国語  数学\n",
       "grade class        \n",
       "1年    A組     31   8\n",
       "1年    B組     86   2\n",
       "1年    C組     42  86\n",
       "2年    A組     27  75\n",
       "2年    B組     82  83\n",
       "2年    C組     25  53\n",
       "3年    A組     40  81\n",
       "3年    B組     64  32\n",
       "3年    C組     54  45"
      ]
     },
     "execution_count": 12,
     "metadata": {},
     "output_type": "execute_result"
    }
   ],
   "source": [
    "df.rename_axis(index=[\"grade\", \"class\"])"
   ]
  },
  {
   "cell_type": "markdown",
   "id": "f2d956c0",
   "metadata": {},
   "source": [
    "## MultiIndexをもつオブジェクトへのアクセス"
   ]
  },
  {
   "cell_type": "code",
   "execution_count": 13,
   "id": "9640f538",
   "metadata": {},
   "outputs": [
    {
     "data": {
      "text/plain": [
       "学級\n",
       "A組    47\n",
       "B組    51\n",
       "C組    75\n",
       "dtype: int64"
      ]
     },
     "execution_count": 13,
     "metadata": {},
     "output_type": "execute_result"
    }
   ],
   "source": [
    "ser.loc[\"1年\"]"
   ]
  },
  {
   "cell_type": "code",
   "execution_count": 14,
   "id": "d7c527ee",
   "metadata": {},
   "outputs": [
    {
     "data": {
      "text/html": [
       "<div>\n",
       "<style scoped>\n",
       "    .dataframe tbody tr th:only-of-type {\n",
       "        vertical-align: middle;\n",
       "    }\n",
       "\n",
       "    .dataframe tbody tr th {\n",
       "        vertical-align: top;\n",
       "    }\n",
       "\n",
       "    .dataframe thead th {\n",
       "        text-align: right;\n",
       "    }\n",
       "</style>\n",
       "<table border=\"1\" class=\"dataframe\">\n",
       "  <thead>\n",
       "    <tr style=\"text-align: right;\">\n",
       "      <th></th>\n",
       "      <th>国語</th>\n",
       "      <th>数学</th>\n",
       "    </tr>\n",
       "    <tr>\n",
       "      <th>学級</th>\n",
       "      <th></th>\n",
       "      <th></th>\n",
       "    </tr>\n",
       "  </thead>\n",
       "  <tbody>\n",
       "    <tr>\n",
       "      <th>A組</th>\n",
       "      <td>31</td>\n",
       "      <td>8</td>\n",
       "    </tr>\n",
       "    <tr>\n",
       "      <th>B組</th>\n",
       "      <td>86</td>\n",
       "      <td>2</td>\n",
       "    </tr>\n",
       "    <tr>\n",
       "      <th>C組</th>\n",
       "      <td>42</td>\n",
       "      <td>86</td>\n",
       "    </tr>\n",
       "  </tbody>\n",
       "</table>\n",
       "</div>"
      ],
      "text/plain": [
       "    国語  数学\n",
       "学級        \n",
       "A組  31   8\n",
       "B組  86   2\n",
       "C組  42  86"
      ]
     },
     "execution_count": 14,
     "metadata": {},
     "output_type": "execute_result"
    }
   ],
   "source": [
    "df.loc[\"1年\", :]"
   ]
  },
  {
   "cell_type": "code",
   "execution_count": 15,
   "id": "38c75ac3",
   "metadata": {},
   "outputs": [
    {
     "data": {
      "text/plain": [
       "51"
      ]
     },
     "execution_count": 15,
     "metadata": {},
     "output_type": "execute_result"
    }
   ],
   "source": [
    "ser.loc[(\"1年\", \"B組\")]"
   ]
  },
  {
   "cell_type": "code",
   "execution_count": 16,
   "id": "fe7945b2",
   "metadata": {},
   "outputs": [
    {
     "data": {
      "text/plain": [
       "国語    86\n",
       "数学     2\n",
       "Name: (1年, B組), dtype: int64"
      ]
     },
     "execution_count": 16,
     "metadata": {},
     "output_type": "execute_result"
    }
   ],
   "source": [
    "df.loc[(\"1年\", \"B組\"), :]"
   ]
  },
  {
   "cell_type": "code",
   "execution_count": 17,
   "id": "e381dc5b",
   "metadata": {},
   "outputs": [
    {
     "data": {
      "text/plain": [
       "学年  学級\n",
       "2年  A組    95\n",
       "2年  B組     3\n",
       "2年  C組    14\n",
       "3年  A組    82\n",
       "3年  B組    94\n",
       "3年  C組    24\n",
       "dtype: int64"
      ]
     },
     "execution_count": 17,
     "metadata": {},
     "output_type": "execute_result"
    }
   ],
   "source": [
    "ser.loc[\"2年\":]"
   ]
  },
  {
   "cell_type": "code",
   "execution_count": 18,
   "id": "c2ac4b87",
   "metadata": {},
   "outputs": [
    {
     "data": {
      "text/html": [
       "<div>\n",
       "<style scoped>\n",
       "    .dataframe tbody tr th:only-of-type {\n",
       "        vertical-align: middle;\n",
       "    }\n",
       "\n",
       "    .dataframe tbody tr th {\n",
       "        vertical-align: top;\n",
       "    }\n",
       "\n",
       "    .dataframe thead th {\n",
       "        text-align: right;\n",
       "    }\n",
       "</style>\n",
       "<table border=\"1\" class=\"dataframe\">\n",
       "  <thead>\n",
       "    <tr style=\"text-align: right;\">\n",
       "      <th></th>\n",
       "      <th></th>\n",
       "      <th>国語</th>\n",
       "      <th>数学</th>\n",
       "    </tr>\n",
       "    <tr>\n",
       "      <th>学年</th>\n",
       "      <th>学級</th>\n",
       "      <th></th>\n",
       "      <th></th>\n",
       "    </tr>\n",
       "  </thead>\n",
       "  <tbody>\n",
       "    <tr>\n",
       "      <th>1年</th>\n",
       "      <th>A組</th>\n",
       "      <td>31</td>\n",
       "      <td>8</td>\n",
       "    </tr>\n",
       "    <tr>\n",
       "      <th>1年</th>\n",
       "      <th>B組</th>\n",
       "      <td>86</td>\n",
       "      <td>2</td>\n",
       "    </tr>\n",
       "    <tr>\n",
       "      <th>1年</th>\n",
       "      <th>C組</th>\n",
       "      <td>42</td>\n",
       "      <td>86</td>\n",
       "    </tr>\n",
       "    <tr>\n",
       "      <th>3年</th>\n",
       "      <th>A組</th>\n",
       "      <td>40</td>\n",
       "      <td>81</td>\n",
       "    </tr>\n",
       "    <tr>\n",
       "      <th>3年</th>\n",
       "      <th>B組</th>\n",
       "      <td>64</td>\n",
       "      <td>32</td>\n",
       "    </tr>\n",
       "    <tr>\n",
       "      <th>3年</th>\n",
       "      <th>C組</th>\n",
       "      <td>54</td>\n",
       "      <td>45</td>\n",
       "    </tr>\n",
       "  </tbody>\n",
       "</table>\n",
       "</div>"
      ],
      "text/plain": [
       "       国語  数学\n",
       "学年 学級        \n",
       "1年 A組  31   8\n",
       "1年 B組  86   2\n",
       "1年 C組  42  86\n",
       "3年 A組  40  81\n",
       "3年 B組  64  32\n",
       "3年 C組  54  45"
      ]
     },
     "execution_count": 18,
     "metadata": {},
     "output_type": "execute_result"
    }
   ],
   "source": [
    "df.loc[[\"1年\", \"3年\"], :]"
   ]
  },
  {
   "cell_type": "code",
   "execution_count": 19,
   "id": "f33adbdd",
   "metadata": {},
   "outputs": [
    {
     "data": {
      "text/plain": [
       "学年  学級\n",
       "1年  B組    51\n",
       "1年  C組    75\n",
       "2年  B組     3\n",
       "2年  C組    14\n",
       "3年  B組    94\n",
       "3年  C組    24\n",
       "dtype: int64"
      ]
     },
     "execution_count": 19,
     "metadata": {},
     "output_type": "execute_result"
    }
   ],
   "source": [
    "ser.loc[(slice(None), slice(\"B組\", None))]"
   ]
  },
  {
   "cell_type": "code",
   "execution_count": 20,
   "id": "959110f8",
   "metadata": {},
   "outputs": [
    {
     "data": {
      "text/html": [
       "<div>\n",
       "<style scoped>\n",
       "    .dataframe tbody tr th:only-of-type {\n",
       "        vertical-align: middle;\n",
       "    }\n",
       "\n",
       "    .dataframe tbody tr th {\n",
       "        vertical-align: top;\n",
       "    }\n",
       "\n",
       "    .dataframe thead th {\n",
       "        text-align: right;\n",
       "    }\n",
       "</style>\n",
       "<table border=\"1\" class=\"dataframe\">\n",
       "  <thead>\n",
       "    <tr style=\"text-align: right;\">\n",
       "      <th></th>\n",
       "      <th></th>\n",
       "      <th>国語</th>\n",
       "      <th>数学</th>\n",
       "    </tr>\n",
       "    <tr>\n",
       "      <th>学年</th>\n",
       "      <th>学級</th>\n",
       "      <th></th>\n",
       "      <th></th>\n",
       "    </tr>\n",
       "  </thead>\n",
       "  <tbody>\n",
       "    <tr>\n",
       "      <th>1年</th>\n",
       "      <th>B組</th>\n",
       "      <td>86</td>\n",
       "      <td>2</td>\n",
       "    </tr>\n",
       "    <tr>\n",
       "      <th>1年</th>\n",
       "      <th>C組</th>\n",
       "      <td>42</td>\n",
       "      <td>86</td>\n",
       "    </tr>\n",
       "    <tr>\n",
       "      <th>2年</th>\n",
       "      <th>B組</th>\n",
       "      <td>82</td>\n",
       "      <td>83</td>\n",
       "    </tr>\n",
       "    <tr>\n",
       "      <th>2年</th>\n",
       "      <th>C組</th>\n",
       "      <td>25</td>\n",
       "      <td>53</td>\n",
       "    </tr>\n",
       "    <tr>\n",
       "      <th>3年</th>\n",
       "      <th>B組</th>\n",
       "      <td>64</td>\n",
       "      <td>32</td>\n",
       "    </tr>\n",
       "    <tr>\n",
       "      <th>3年</th>\n",
       "      <th>C組</th>\n",
       "      <td>54</td>\n",
       "      <td>45</td>\n",
       "    </tr>\n",
       "  </tbody>\n",
       "</table>\n",
       "</div>"
      ],
      "text/plain": [
       "       国語  数学\n",
       "学年 学級        \n",
       "1年 B組  86   2\n",
       "1年 C組  42  86\n",
       "2年 B組  82  83\n",
       "2年 C組  25  53\n",
       "3年 B組  64  32\n",
       "3年 C組  54  45"
      ]
     },
     "execution_count": 20,
     "metadata": {},
     "output_type": "execute_result"
    }
   ],
   "source": [
    "df.loc[(slice(None), slice(\"B組\", None)), :]"
   ]
  },
  {
   "cell_type": "code",
   "execution_count": 21,
   "id": "34c41a70",
   "metadata": {},
   "outputs": [
    {
     "data": {
      "text/plain": [
       "学年  学級\n",
       "1年  B組    51\n",
       "1年  C組    75\n",
       "2年  B組     3\n",
       "2年  C組    14\n",
       "3年  B組    94\n",
       "3年  C組    24\n",
       "dtype: int64"
      ]
     },
     "execution_count": 21,
     "metadata": {},
     "output_type": "execute_result"
    }
   ],
   "source": [
    "ser.loc[\n",
    "    (\n",
    "        pd.IndexSlice[:],\n",
    "        pd.IndexSlice[\"B組\":],\n",
    "    )\n",
    "]"
   ]
  },
  {
   "cell_type": "code",
   "execution_count": 22,
   "id": "fb09ac32",
   "metadata": {},
   "outputs": [
    {
     "data": {
      "text/html": [
       "<div>\n",
       "<style scoped>\n",
       "    .dataframe tbody tr th:only-of-type {\n",
       "        vertical-align: middle;\n",
       "    }\n",
       "\n",
       "    .dataframe tbody tr th {\n",
       "        vertical-align: top;\n",
       "    }\n",
       "\n",
       "    .dataframe thead th {\n",
       "        text-align: right;\n",
       "    }\n",
       "</style>\n",
       "<table border=\"1\" class=\"dataframe\">\n",
       "  <thead>\n",
       "    <tr style=\"text-align: right;\">\n",
       "      <th></th>\n",
       "      <th></th>\n",
       "      <th>国語</th>\n",
       "      <th>数学</th>\n",
       "    </tr>\n",
       "    <tr>\n",
       "      <th>学年</th>\n",
       "      <th>学級</th>\n",
       "      <th></th>\n",
       "      <th></th>\n",
       "    </tr>\n",
       "  </thead>\n",
       "  <tbody>\n",
       "    <tr>\n",
       "      <th>1年</th>\n",
       "      <th>B組</th>\n",
       "      <td>86</td>\n",
       "      <td>2</td>\n",
       "    </tr>\n",
       "    <tr>\n",
       "      <th>1年</th>\n",
       "      <th>C組</th>\n",
       "      <td>42</td>\n",
       "      <td>86</td>\n",
       "    </tr>\n",
       "    <tr>\n",
       "      <th>2年</th>\n",
       "      <th>B組</th>\n",
       "      <td>82</td>\n",
       "      <td>83</td>\n",
       "    </tr>\n",
       "    <tr>\n",
       "      <th>2年</th>\n",
       "      <th>C組</th>\n",
       "      <td>25</td>\n",
       "      <td>53</td>\n",
       "    </tr>\n",
       "    <tr>\n",
       "      <th>3年</th>\n",
       "      <th>B組</th>\n",
       "      <td>64</td>\n",
       "      <td>32</td>\n",
       "    </tr>\n",
       "    <tr>\n",
       "      <th>3年</th>\n",
       "      <th>C組</th>\n",
       "      <td>54</td>\n",
       "      <td>45</td>\n",
       "    </tr>\n",
       "  </tbody>\n",
       "</table>\n",
       "</div>"
      ],
      "text/plain": [
       "       国語  数学\n",
       "学年 学級        \n",
       "1年 B組  86   2\n",
       "1年 C組  42  86\n",
       "2年 B組  82  83\n",
       "2年 C組  25  53\n",
       "3年 B組  64  32\n",
       "3年 C組  54  45"
      ]
     },
     "execution_count": 22,
     "metadata": {},
     "output_type": "execute_result"
    }
   ],
   "source": [
    "df.loc[\n",
    "    (\n",
    "        pd.IndexSlice[:],\n",
    "        pd.IndexSlice[\"B組\":],\n",
    "    ),\n",
    "    :,\n",
    "]"
   ]
  },
  {
   "cell_type": "code",
   "execution_count": 23,
   "id": "be81bb23",
   "metadata": {},
   "outputs": [
    {
     "data": {
      "text/html": [
       "<div>\n",
       "<style scoped>\n",
       "    .dataframe tbody tr th:only-of-type {\n",
       "        vertical-align: middle;\n",
       "    }\n",
       "\n",
       "    .dataframe tbody tr th {\n",
       "        vertical-align: top;\n",
       "    }\n",
       "\n",
       "    .dataframe thead th {\n",
       "        text-align: right;\n",
       "    }\n",
       "</style>\n",
       "<table border=\"1\" class=\"dataframe\">\n",
       "  <thead>\n",
       "    <tr style=\"text-align: right;\">\n",
       "      <th></th>\n",
       "      <th></th>\n",
       "      <th>国語</th>\n",
       "      <th>数学</th>\n",
       "    </tr>\n",
       "    <tr>\n",
       "      <th>学年</th>\n",
       "      <th>学級</th>\n",
       "      <th></th>\n",
       "      <th></th>\n",
       "    </tr>\n",
       "  </thead>\n",
       "  <tbody>\n",
       "    <tr>\n",
       "      <th>3年</th>\n",
       "      <th>B組</th>\n",
       "      <td>64</td>\n",
       "      <td>32</td>\n",
       "    </tr>\n",
       "    <tr>\n",
       "      <th>3年</th>\n",
       "      <th>C組</th>\n",
       "      <td>54</td>\n",
       "      <td>45</td>\n",
       "    </tr>\n",
       "  </tbody>\n",
       "</table>\n",
       "</div>"
      ],
      "text/plain": [
       "       国語  数学\n",
       "学年 学級        \n",
       "3年 B組  64  32\n",
       "3年 C組  54  45"
      ]
     },
     "execution_count": 23,
     "metadata": {},
     "output_type": "execute_result"
    }
   ],
   "source": [
    "df.loc[\n",
    "    (\n",
    "        \"3年\",\n",
    "        pd.IndexSlice[df.loc[:, \"国語\"] > 50],\n",
    "    ),\n",
    "    :,\n",
    "]"
   ]
  },
  {
   "cell_type": "code",
   "execution_count": 24,
   "id": "c5307979",
   "metadata": {},
   "outputs": [
    {
     "data": {
      "text/plain": [
       "学年  学級\n",
       "1年  B組    51\n",
       "1年  C組    75\n",
       "2年  B組     3\n",
       "2年  C組    14\n",
       "3年  B組    94\n",
       "3年  C組    24\n",
       "dtype: int64"
      ]
     },
     "execution_count": 24,
     "metadata": {},
     "output_type": "execute_result"
    }
   ],
   "source": [
    "ser.loc[:, \"B組\":]"
   ]
  },
  {
   "cell_type": "code",
   "execution_count": 25,
   "id": "a0ffe077",
   "metadata": {},
   "outputs": [
    {
     "data": {
      "text/html": [
       "<div>\n",
       "<style scoped>\n",
       "    .dataframe tbody tr th:only-of-type {\n",
       "        vertical-align: middle;\n",
       "    }\n",
       "\n",
       "    .dataframe tbody tr th {\n",
       "        vertical-align: top;\n",
       "    }\n",
       "\n",
       "    .dataframe thead th {\n",
       "        text-align: right;\n",
       "    }\n",
       "</style>\n",
       "<table border=\"1\" class=\"dataframe\">\n",
       "  <thead>\n",
       "    <tr style=\"text-align: right;\">\n",
       "      <th></th>\n",
       "      <th></th>\n",
       "      <th>国語</th>\n",
       "      <th>数学</th>\n",
       "    </tr>\n",
       "    <tr>\n",
       "      <th>学年</th>\n",
       "      <th>学級</th>\n",
       "      <th></th>\n",
       "      <th></th>\n",
       "    </tr>\n",
       "  </thead>\n",
       "  <tbody>\n",
       "    <tr>\n",
       "      <th>1年</th>\n",
       "      <th>B組</th>\n",
       "      <td>86</td>\n",
       "      <td>2</td>\n",
       "    </tr>\n",
       "    <tr>\n",
       "      <th>2年</th>\n",
       "      <th>B組</th>\n",
       "      <td>82</td>\n",
       "      <td>83</td>\n",
       "    </tr>\n",
       "    <tr>\n",
       "      <th>3年</th>\n",
       "      <th>B組</th>\n",
       "      <td>64</td>\n",
       "      <td>32</td>\n",
       "    </tr>\n",
       "  </tbody>\n",
       "</table>\n",
       "</div>"
      ],
      "text/plain": [
       "       国語  数学\n",
       "学年 学級        \n",
       "1年 B組  86   2\n",
       "2年 B組  82  83\n",
       "3年 B組  64  32"
      ]
     },
     "execution_count": 25,
     "metadata": {},
     "output_type": "execute_result"
    }
   ],
   "source": [
    "df.loc(axis=0)[:, \"B組\"]"
   ]
  },
  {
   "cell_type": "code",
   "execution_count": 26,
   "id": "350be363",
   "metadata": {},
   "outputs": [
    {
     "data": {
      "text/plain": [
       "学年\n",
       "1年    51\n",
       "2年     3\n",
       "3年    94\n",
       "dtype: int64"
      ]
     },
     "execution_count": 26,
     "metadata": {},
     "output_type": "execute_result"
    }
   ],
   "source": [
    "ser.xs(\"B組\", level=\"学級\")"
   ]
  },
  {
   "cell_type": "code",
   "execution_count": 27,
   "id": "44c2511c",
   "metadata": {},
   "outputs": [
    {
     "data": {
      "text/html": [
       "<div>\n",
       "<style scoped>\n",
       "    .dataframe tbody tr th:only-of-type {\n",
       "        vertical-align: middle;\n",
       "    }\n",
       "\n",
       "    .dataframe tbody tr th {\n",
       "        vertical-align: top;\n",
       "    }\n",
       "\n",
       "    .dataframe thead th {\n",
       "        text-align: right;\n",
       "    }\n",
       "</style>\n",
       "<table border=\"1\" class=\"dataframe\">\n",
       "  <thead>\n",
       "    <tr style=\"text-align: right;\">\n",
       "      <th></th>\n",
       "      <th>国語</th>\n",
       "      <th>数学</th>\n",
       "    </tr>\n",
       "    <tr>\n",
       "      <th>学年</th>\n",
       "      <th></th>\n",
       "      <th></th>\n",
       "    </tr>\n",
       "  </thead>\n",
       "  <tbody>\n",
       "    <tr>\n",
       "      <th>1年</th>\n",
       "      <td>86</td>\n",
       "      <td>2</td>\n",
       "    </tr>\n",
       "    <tr>\n",
       "      <th>2年</th>\n",
       "      <td>82</td>\n",
       "      <td>83</td>\n",
       "    </tr>\n",
       "    <tr>\n",
       "      <th>3年</th>\n",
       "      <td>64</td>\n",
       "      <td>32</td>\n",
       "    </tr>\n",
       "  </tbody>\n",
       "</table>\n",
       "</div>"
      ],
      "text/plain": [
       "    国語  数学\n",
       "学年        \n",
       "1年  86   2\n",
       "2年  82  83\n",
       "3年  64  32"
      ]
     },
     "execution_count": 27,
     "metadata": {},
     "output_type": "execute_result"
    }
   ],
   "source": [
    "df.xs(\"B組\", level=\"学級\")"
   ]
  },
  {
   "cell_type": "code",
   "execution_count": 28,
   "id": "f9ba19b9",
   "metadata": {},
   "outputs": [
    {
     "data": {
      "text/plain": [
       "学年  学級\n",
       "3年  B組    94\n",
       "dtype: int64"
      ]
     },
     "execution_count": 28,
     "metadata": {},
     "output_type": "execute_result"
    }
   ],
   "source": [
    "ser.xs(\n",
    "    (\"3年\", \"B組\"),\n",
    "    level=(\"学年\", \"学級\"),\n",
    "    axis=0,\n",
    ")"
   ]
  },
  {
   "cell_type": "code",
   "execution_count": 29,
   "id": "30d7fc0a",
   "metadata": {},
   "outputs": [
    {
     "data": {
      "text/plain": [
       "学級\n",
       "A組    47\n",
       "B組    51\n",
       "C組    75\n",
       "dtype: int64"
      ]
     },
     "execution_count": 29,
     "metadata": {},
     "output_type": "execute_result"
    }
   ],
   "source": [
    "ser.xs(\"1年\")"
   ]
  },
  {
   "cell_type": "code",
   "execution_count": 30,
   "id": "17cb72dd",
   "metadata": {},
   "outputs": [
    {
     "data": {
      "text/html": [
       "<div>\n",
       "<style scoped>\n",
       "    .dataframe tbody tr th:only-of-type {\n",
       "        vertical-align: middle;\n",
       "    }\n",
       "\n",
       "    .dataframe tbody tr th {\n",
       "        vertical-align: top;\n",
       "    }\n",
       "\n",
       "    .dataframe thead th {\n",
       "        text-align: right;\n",
       "    }\n",
       "</style>\n",
       "<table border=\"1\" class=\"dataframe\">\n",
       "  <thead>\n",
       "    <tr style=\"text-align: right;\">\n",
       "      <th></th>\n",
       "      <th></th>\n",
       "      <th>国語</th>\n",
       "      <th>数学</th>\n",
       "    </tr>\n",
       "    <tr>\n",
       "      <th>学年</th>\n",
       "      <th>学級</th>\n",
       "      <th></th>\n",
       "      <th></th>\n",
       "    </tr>\n",
       "  </thead>\n",
       "  <tbody>\n",
       "    <tr>\n",
       "      <th>1年</th>\n",
       "      <th>B組</th>\n",
       "      <td>86</td>\n",
       "      <td>2</td>\n",
       "    </tr>\n",
       "    <tr>\n",
       "      <th>2年</th>\n",
       "      <th>B組</th>\n",
       "      <td>82</td>\n",
       "      <td>83</td>\n",
       "    </tr>\n",
       "    <tr>\n",
       "      <th>3年</th>\n",
       "      <th>B組</th>\n",
       "      <td>64</td>\n",
       "      <td>32</td>\n",
       "    </tr>\n",
       "  </tbody>\n",
       "</table>\n",
       "</div>"
      ],
      "text/plain": [
       "       国語  数学\n",
       "学年 学級        \n",
       "1年 B組  86   2\n",
       "2年 B組  82  83\n",
       "3年 B組  64  32"
      ]
     },
     "execution_count": 30,
     "metadata": {},
     "output_type": "execute_result"
    }
   ],
   "source": [
    "df.xs(\n",
    "    \"B組\",\n",
    "    level=\"学級\",\n",
    "    axis=0,\n",
    "    drop_level=False,\n",
    ")"
   ]
  },
  {
   "cell_type": "code",
   "execution_count": 31,
   "id": "32a14bc1",
   "metadata": {},
   "outputs": [
    {
     "data": {
      "text/plain": [
       "a    1.5\n",
       "b    3.0\n",
       "dtype: float64"
      ]
     },
     "execution_count": 31,
     "metadata": {},
     "output_type": "execute_result"
    }
   ],
   "source": [
    "pd.Series([1, 2, 3], index=[\"a\", \"a\", \"b\"]).groupby(level=0).mean()"
   ]
  },
  {
   "cell_type": "markdown",
   "id": "bfd409e0",
   "metadata": {},
   "source": [
    "## MultiIndexのグルーピング・アライメント"
   ]
  },
  {
   "cell_type": "code",
   "execution_count": 32,
   "id": "28684364",
   "metadata": {},
   "outputs": [
    {
     "data": {
      "text/html": [
       "<div>\n",
       "<style scoped>\n",
       "    .dataframe tbody tr th:only-of-type {\n",
       "        vertical-align: middle;\n",
       "    }\n",
       "\n",
       "    .dataframe tbody tr th {\n",
       "        vertical-align: top;\n",
       "    }\n",
       "\n",
       "    .dataframe thead th {\n",
       "        text-align: right;\n",
       "    }\n",
       "</style>\n",
       "<table border=\"1\" class=\"dataframe\">\n",
       "  <thead>\n",
       "    <tr style=\"text-align: right;\">\n",
       "      <th></th>\n",
       "      <th>国語</th>\n",
       "      <th>数学</th>\n",
       "    </tr>\n",
       "    <tr>\n",
       "      <th>学年</th>\n",
       "      <th></th>\n",
       "      <th></th>\n",
       "    </tr>\n",
       "  </thead>\n",
       "  <tbody>\n",
       "    <tr>\n",
       "      <th>1年</th>\n",
       "      <td>53.000000</td>\n",
       "      <td>32.000000</td>\n",
       "    </tr>\n",
       "    <tr>\n",
       "      <th>2年</th>\n",
       "      <td>44.666667</td>\n",
       "      <td>70.333333</td>\n",
       "    </tr>\n",
       "    <tr>\n",
       "      <th>3年</th>\n",
       "      <td>52.666667</td>\n",
       "      <td>52.666667</td>\n",
       "    </tr>\n",
       "  </tbody>\n",
       "</table>\n",
       "</div>"
      ],
      "text/plain": [
       "           国語         数学\n",
       "学年                      \n",
       "1年  53.000000  32.000000\n",
       "2年  44.666667  70.333333\n",
       "3年  52.666667  52.666667"
      ]
     },
     "execution_count": 32,
     "metadata": {},
     "output_type": "execute_result"
    }
   ],
   "source": [
    "group_by_mean = df.groupby(level=\"学年\").mean()\n",
    "group_by_mean"
   ]
  },
  {
   "cell_type": "code",
   "execution_count": 33,
   "id": "8337f7f2",
   "metadata": {},
   "outputs": [
    {
     "data": {
      "text/html": [
       "<div>\n",
       "<style scoped>\n",
       "    .dataframe tbody tr th:only-of-type {\n",
       "        vertical-align: middle;\n",
       "    }\n",
       "\n",
       "    .dataframe tbody tr th {\n",
       "        vertical-align: top;\n",
       "    }\n",
       "\n",
       "    .dataframe thead th {\n",
       "        text-align: right;\n",
       "    }\n",
       "</style>\n",
       "<table border=\"1\" class=\"dataframe\">\n",
       "  <thead>\n",
       "    <tr style=\"text-align: right;\">\n",
       "      <th></th>\n",
       "      <th></th>\n",
       "      <th>国語</th>\n",
       "      <th>数学</th>\n",
       "    </tr>\n",
       "    <tr>\n",
       "      <th>学年</th>\n",
       "      <th>学級</th>\n",
       "      <th></th>\n",
       "      <th></th>\n",
       "    </tr>\n",
       "  </thead>\n",
       "  <tbody>\n",
       "    <tr>\n",
       "      <th>1年</th>\n",
       "      <th>A組</th>\n",
       "      <td>53.000000</td>\n",
       "      <td>32.000000</td>\n",
       "    </tr>\n",
       "    <tr>\n",
       "      <th>1年</th>\n",
       "      <th>B組</th>\n",
       "      <td>53.000000</td>\n",
       "      <td>32.000000</td>\n",
       "    </tr>\n",
       "    <tr>\n",
       "      <th>1年</th>\n",
       "      <th>C組</th>\n",
       "      <td>53.000000</td>\n",
       "      <td>32.000000</td>\n",
       "    </tr>\n",
       "    <tr>\n",
       "      <th>2年</th>\n",
       "      <th>A組</th>\n",
       "      <td>44.666667</td>\n",
       "      <td>70.333333</td>\n",
       "    </tr>\n",
       "    <tr>\n",
       "      <th>2年</th>\n",
       "      <th>B組</th>\n",
       "      <td>44.666667</td>\n",
       "      <td>70.333333</td>\n",
       "    </tr>\n",
       "    <tr>\n",
       "      <th>2年</th>\n",
       "      <th>C組</th>\n",
       "      <td>44.666667</td>\n",
       "      <td>70.333333</td>\n",
       "    </tr>\n",
       "    <tr>\n",
       "      <th>3年</th>\n",
       "      <th>A組</th>\n",
       "      <td>52.666667</td>\n",
       "      <td>52.666667</td>\n",
       "    </tr>\n",
       "    <tr>\n",
       "      <th>3年</th>\n",
       "      <th>B組</th>\n",
       "      <td>52.666667</td>\n",
       "      <td>52.666667</td>\n",
       "    </tr>\n",
       "    <tr>\n",
       "      <th>3年</th>\n",
       "      <th>C組</th>\n",
       "      <td>52.666667</td>\n",
       "      <td>52.666667</td>\n",
       "    </tr>\n",
       "  </tbody>\n",
       "</table>\n",
       "</div>"
      ],
      "text/plain": [
       "              国語         数学\n",
       "学年 学級                      \n",
       "1年 A組  53.000000  32.000000\n",
       "1年 B組  53.000000  32.000000\n",
       "1年 C組  53.000000  32.000000\n",
       "2年 A組  44.666667  70.333333\n",
       "2年 B組  44.666667  70.333333\n",
       "2年 C組  44.666667  70.333333\n",
       "3年 A組  52.666667  52.666667\n",
       "3年 B組  52.666667  52.666667\n",
       "3年 C組  52.666667  52.666667"
      ]
     },
     "execution_count": 33,
     "metadata": {},
     "output_type": "execute_result"
    }
   ],
   "source": [
    "group_by_mean.reindex(ix, level=\"学年\")"
   ]
  },
  {
   "cell_type": "code",
   "execution_count": 34,
   "id": "c8320c52",
   "metadata": {},
   "outputs": [
    {
     "data": {
      "text/html": [
       "<div>\n",
       "<style scoped>\n",
       "    .dataframe tbody tr th:only-of-type {\n",
       "        vertical-align: middle;\n",
       "    }\n",
       "\n",
       "    .dataframe tbody tr th {\n",
       "        vertical-align: top;\n",
       "    }\n",
       "\n",
       "    .dataframe thead th {\n",
       "        text-align: right;\n",
       "    }\n",
       "</style>\n",
       "<table border=\"1\" class=\"dataframe\">\n",
       "  <thead>\n",
       "    <tr style=\"text-align: right;\">\n",
       "      <th></th>\n",
       "      <th></th>\n",
       "      <th>国語</th>\n",
       "      <th>数学</th>\n",
       "    </tr>\n",
       "    <tr>\n",
       "      <th>学年</th>\n",
       "      <th>学級</th>\n",
       "      <th></th>\n",
       "      <th></th>\n",
       "    </tr>\n",
       "  </thead>\n",
       "  <tbody>\n",
       "    <tr>\n",
       "      <th>1年</th>\n",
       "      <th>A組</th>\n",
       "      <td>31</td>\n",
       "      <td>8</td>\n",
       "    </tr>\n",
       "    <tr>\n",
       "      <th>1年</th>\n",
       "      <th>B組</th>\n",
       "      <td>86</td>\n",
       "      <td>2</td>\n",
       "    </tr>\n",
       "    <tr>\n",
       "      <th>1年</th>\n",
       "      <th>C組</th>\n",
       "      <td>42</td>\n",
       "      <td>86</td>\n",
       "    </tr>\n",
       "    <tr>\n",
       "      <th>2年</th>\n",
       "      <th>A組</th>\n",
       "      <td>27</td>\n",
       "      <td>75</td>\n",
       "    </tr>\n",
       "    <tr>\n",
       "      <th>2年</th>\n",
       "      <th>B組</th>\n",
       "      <td>82</td>\n",
       "      <td>83</td>\n",
       "    </tr>\n",
       "    <tr>\n",
       "      <th>2年</th>\n",
       "      <th>C組</th>\n",
       "      <td>25</td>\n",
       "      <td>53</td>\n",
       "    </tr>\n",
       "    <tr>\n",
       "      <th>3年</th>\n",
       "      <th>A組</th>\n",
       "      <td>40</td>\n",
       "      <td>81</td>\n",
       "    </tr>\n",
       "    <tr>\n",
       "      <th>3年</th>\n",
       "      <th>B組</th>\n",
       "      <td>64</td>\n",
       "      <td>32</td>\n",
       "    </tr>\n",
       "    <tr>\n",
       "      <th>3年</th>\n",
       "      <th>C組</th>\n",
       "      <td>54</td>\n",
       "      <td>45</td>\n",
       "    </tr>\n",
       "  </tbody>\n",
       "</table>\n",
       "</div>"
      ],
      "text/plain": [
       "       国語  数学\n",
       "学年 学級        \n",
       "1年 A組  31   8\n",
       "1年 B組  86   2\n",
       "1年 C組  42  86\n",
       "2年 A組  27  75\n",
       "2年 B組  82  83\n",
       "2年 C組  25  53\n",
       "3年 A組  40  81\n",
       "3年 B組  64  32\n",
       "3年 C組  54  45"
      ]
     },
     "execution_count": 34,
     "metadata": {},
     "output_type": "execute_result"
    }
   ],
   "source": [
    "align1, align2 = df.align(group_by_mean, level=\"学年\")\n",
    "align1"
   ]
  },
  {
   "cell_type": "code",
   "execution_count": 35,
   "id": "a6d88e9a",
   "metadata": {},
   "outputs": [
    {
     "data": {
      "text/html": [
       "<div>\n",
       "<style scoped>\n",
       "    .dataframe tbody tr th:only-of-type {\n",
       "        vertical-align: middle;\n",
       "    }\n",
       "\n",
       "    .dataframe tbody tr th {\n",
       "        vertical-align: top;\n",
       "    }\n",
       "\n",
       "    .dataframe thead th {\n",
       "        text-align: right;\n",
       "    }\n",
       "</style>\n",
       "<table border=\"1\" class=\"dataframe\">\n",
       "  <thead>\n",
       "    <tr style=\"text-align: right;\">\n",
       "      <th></th>\n",
       "      <th></th>\n",
       "      <th>国語</th>\n",
       "      <th>数学</th>\n",
       "    </tr>\n",
       "    <tr>\n",
       "      <th>学年</th>\n",
       "      <th>学級</th>\n",
       "      <th></th>\n",
       "      <th></th>\n",
       "    </tr>\n",
       "  </thead>\n",
       "  <tbody>\n",
       "    <tr>\n",
       "      <th>1年</th>\n",
       "      <th>A組</th>\n",
       "      <td>53.000000</td>\n",
       "      <td>32.000000</td>\n",
       "    </tr>\n",
       "    <tr>\n",
       "      <th>1年</th>\n",
       "      <th>B組</th>\n",
       "      <td>53.000000</td>\n",
       "      <td>32.000000</td>\n",
       "    </tr>\n",
       "    <tr>\n",
       "      <th>1年</th>\n",
       "      <th>C組</th>\n",
       "      <td>53.000000</td>\n",
       "      <td>32.000000</td>\n",
       "    </tr>\n",
       "    <tr>\n",
       "      <th>2年</th>\n",
       "      <th>A組</th>\n",
       "      <td>44.666667</td>\n",
       "      <td>70.333333</td>\n",
       "    </tr>\n",
       "    <tr>\n",
       "      <th>2年</th>\n",
       "      <th>B組</th>\n",
       "      <td>44.666667</td>\n",
       "      <td>70.333333</td>\n",
       "    </tr>\n",
       "    <tr>\n",
       "      <th>2年</th>\n",
       "      <th>C組</th>\n",
       "      <td>44.666667</td>\n",
       "      <td>70.333333</td>\n",
       "    </tr>\n",
       "    <tr>\n",
       "      <th>3年</th>\n",
       "      <th>A組</th>\n",
       "      <td>52.666667</td>\n",
       "      <td>52.666667</td>\n",
       "    </tr>\n",
       "    <tr>\n",
       "      <th>3年</th>\n",
       "      <th>B組</th>\n",
       "      <td>52.666667</td>\n",
       "      <td>52.666667</td>\n",
       "    </tr>\n",
       "    <tr>\n",
       "      <th>3年</th>\n",
       "      <th>C組</th>\n",
       "      <td>52.666667</td>\n",
       "      <td>52.666667</td>\n",
       "    </tr>\n",
       "  </tbody>\n",
       "</table>\n",
       "</div>"
      ],
      "text/plain": [
       "              国語         数学\n",
       "学年 学級                      \n",
       "1年 A組  53.000000  32.000000\n",
       "1年 B組  53.000000  32.000000\n",
       "1年 C組  53.000000  32.000000\n",
       "2年 A組  44.666667  70.333333\n",
       "2年 B組  44.666667  70.333333\n",
       "2年 C組  44.666667  70.333333\n",
       "3年 A組  52.666667  52.666667\n",
       "3年 B組  52.666667  52.666667\n",
       "3年 C組  52.666667  52.666667"
      ]
     },
     "execution_count": 35,
     "metadata": {},
     "output_type": "execute_result"
    }
   ],
   "source": [
    "align2"
   ]
  },
  {
   "cell_type": "markdown",
   "id": "a75f67f0",
   "metadata": {},
   "source": [
    "## MultiIndexの階層の変更"
   ]
  },
  {
   "cell_type": "code",
   "execution_count": 36,
   "id": "77869e65",
   "metadata": {},
   "outputs": [
    {
     "data": {
      "text/html": [
       "<div>\n",
       "<style scoped>\n",
       "    .dataframe tbody tr th:only-of-type {\n",
       "        vertical-align: middle;\n",
       "    }\n",
       "\n",
       "    .dataframe tbody tr th {\n",
       "        vertical-align: top;\n",
       "    }\n",
       "\n",
       "    .dataframe thead th {\n",
       "        text-align: right;\n",
       "    }\n",
       "</style>\n",
       "<table border=\"1\" class=\"dataframe\">\n",
       "  <thead>\n",
       "    <tr style=\"text-align: right;\">\n",
       "      <th></th>\n",
       "      <th></th>\n",
       "      <th>国語</th>\n",
       "      <th>数学</th>\n",
       "    </tr>\n",
       "    <tr>\n",
       "      <th>学級</th>\n",
       "      <th>学年</th>\n",
       "      <th></th>\n",
       "      <th></th>\n",
       "    </tr>\n",
       "  </thead>\n",
       "  <tbody>\n",
       "    <tr>\n",
       "      <th>A組</th>\n",
       "      <th>1年</th>\n",
       "      <td>31</td>\n",
       "      <td>8</td>\n",
       "    </tr>\n",
       "    <tr>\n",
       "      <th>B組</th>\n",
       "      <th>1年</th>\n",
       "      <td>86</td>\n",
       "      <td>2</td>\n",
       "    </tr>\n",
       "    <tr>\n",
       "      <th>C組</th>\n",
       "      <th>1年</th>\n",
       "      <td>42</td>\n",
       "      <td>86</td>\n",
       "    </tr>\n",
       "    <tr>\n",
       "      <th>A組</th>\n",
       "      <th>2年</th>\n",
       "      <td>27</td>\n",
       "      <td>75</td>\n",
       "    </tr>\n",
       "    <tr>\n",
       "      <th>B組</th>\n",
       "      <th>2年</th>\n",
       "      <td>82</td>\n",
       "      <td>83</td>\n",
       "    </tr>\n",
       "    <tr>\n",
       "      <th>C組</th>\n",
       "      <th>2年</th>\n",
       "      <td>25</td>\n",
       "      <td>53</td>\n",
       "    </tr>\n",
       "    <tr>\n",
       "      <th>A組</th>\n",
       "      <th>3年</th>\n",
       "      <td>40</td>\n",
       "      <td>81</td>\n",
       "    </tr>\n",
       "    <tr>\n",
       "      <th>B組</th>\n",
       "      <th>3年</th>\n",
       "      <td>64</td>\n",
       "      <td>32</td>\n",
       "    </tr>\n",
       "    <tr>\n",
       "      <th>C組</th>\n",
       "      <th>3年</th>\n",
       "      <td>54</td>\n",
       "      <td>45</td>\n",
       "    </tr>\n",
       "  </tbody>\n",
       "</table>\n",
       "</div>"
      ],
      "text/plain": [
       "       国語  数学\n",
       "学級 学年        \n",
       "A組 1年  31   8\n",
       "B組 1年  86   2\n",
       "C組 1年  42  86\n",
       "A組 2年  27  75\n",
       "B組 2年  82  83\n",
       "C組 2年  25  53\n",
       "A組 3年  40  81\n",
       "B組 3年  64  32\n",
       "C組 3年  54  45"
      ]
     },
     "execution_count": 36,
     "metadata": {},
     "output_type": "execute_result"
    }
   ],
   "source": [
    "df.swaplevel(\"学年\", \"学級\")\n",
    "# or\n",
    "df.swaplevel()"
   ]
  },
  {
   "cell_type": "code",
   "execution_count": 37,
   "id": "dce88c25",
   "metadata": {},
   "outputs": [
    {
     "data": {
      "text/plain": [
       "学校   学年  学級\n",
       "小学校  1年  A組    1\n",
       "中学校  2年  B組    2\n",
       "dtype: int64"
      ]
     },
     "execution_count": 37,
     "metadata": {},
     "output_type": "execute_result"
    }
   ],
   "source": [
    "school = pd.Series(\n",
    "    [1, 2],\n",
    "    index=pd.MultiIndex.from_tuples(\n",
    "        [\n",
    "            [\"小学校\", \"1年\", \"A組\"],\n",
    "            [\"中学校\", \"2年\", \"B組\"],\n",
    "        ],\n",
    "        names=[\"学校\", \"学年\", \"学級\"],\n",
    "    ),\n",
    ")\n",
    "school"
   ]
  },
  {
   "cell_type": "code",
   "execution_count": 38,
   "id": "b3a25193",
   "metadata": {},
   "outputs": [
    {
     "data": {
      "text/plain": [
       "学年  学級  学校 \n",
       "1年  A組  小学校    1\n",
       "2年  B組  中学校    2\n",
       "dtype: int64"
      ]
     },
     "execution_count": 38,
     "metadata": {},
     "output_type": "execute_result"
    }
   ],
   "source": [
    "school.reorder_levels([\"学年\", \"学級\", \"学校\"])"
   ]
  },
  {
   "cell_type": "markdown",
   "id": "47966fd6",
   "metadata": {},
   "source": [
    "## MultiIndexのソート"
   ]
  },
  {
   "cell_type": "code",
   "execution_count": 39,
   "id": "d3d25462",
   "metadata": {},
   "outputs": [
    {
     "data": {
      "text/html": [
       "<div>\n",
       "<style scoped>\n",
       "    .dataframe tbody tr th:only-of-type {\n",
       "        vertical-align: middle;\n",
       "    }\n",
       "\n",
       "    .dataframe tbody tr th {\n",
       "        vertical-align: top;\n",
       "    }\n",
       "\n",
       "    .dataframe thead th {\n",
       "        text-align: right;\n",
       "    }\n",
       "</style>\n",
       "<table border=\"1\" class=\"dataframe\">\n",
       "  <thead>\n",
       "    <tr style=\"text-align: right;\">\n",
       "      <th></th>\n",
       "      <th></th>\n",
       "      <th>国語</th>\n",
       "      <th>数学</th>\n",
       "    </tr>\n",
       "  </thead>\n",
       "  <tbody>\n",
       "    <tr>\n",
       "      <th>1年</th>\n",
       "      <th>A組</th>\n",
       "      <td>31</td>\n",
       "      <td>8</td>\n",
       "    </tr>\n",
       "    <tr>\n",
       "      <th>1年</th>\n",
       "      <th>C組</th>\n",
       "      <td>86</td>\n",
       "      <td>2</td>\n",
       "    </tr>\n",
       "    <tr>\n",
       "      <th>3年</th>\n",
       "      <th>A組</th>\n",
       "      <td>42</td>\n",
       "      <td>86</td>\n",
       "    </tr>\n",
       "    <tr>\n",
       "      <th>1年</th>\n",
       "      <th>B組</th>\n",
       "      <td>27</td>\n",
       "      <td>75</td>\n",
       "    </tr>\n",
       "    <tr>\n",
       "      <th>2年</th>\n",
       "      <th>A組</th>\n",
       "      <td>82</td>\n",
       "      <td>83</td>\n",
       "    </tr>\n",
       "    <tr>\n",
       "      <th>3年</th>\n",
       "      <th>C組</th>\n",
       "      <td>25</td>\n",
       "      <td>53</td>\n",
       "    </tr>\n",
       "    <tr>\n",
       "      <th>2年</th>\n",
       "      <th>B組</th>\n",
       "      <td>40</td>\n",
       "      <td>81</td>\n",
       "    </tr>\n",
       "    <tr>\n",
       "      <th>2年</th>\n",
       "      <th>B組</th>\n",
       "      <td>64</td>\n",
       "      <td>32</td>\n",
       "    </tr>\n",
       "    <tr>\n",
       "      <th>3年</th>\n",
       "      <th>C組</th>\n",
       "      <td>54</td>\n",
       "      <td>45</td>\n",
       "    </tr>\n",
       "  </tbody>\n",
       "</table>\n",
       "</div>"
      ],
      "text/plain": [
       "       国語  数学\n",
       "1年 A組  31   8\n",
       "1年 C組  86   2\n",
       "3年 A組  42  86\n",
       "1年 B組  27  75\n",
       "2年 A組  82  83\n",
       "3年 C組  25  53\n",
       "2年 B組  40  81\n",
       "2年 B組  64  32\n",
       "3年 C組  54  45"
      ]
     },
     "execution_count": 39,
     "metadata": {},
     "output_type": "execute_result"
    }
   ],
   "source": [
    "grades = list(ix.get_level_values(0))\n",
    "classes = list(ix.get_level_values(1))\n",
    "rng.shuffle(grades)\n",
    "rng.shuffle(classes)\n",
    "shuffled_df = df.set_index(pd.MultiIndex.from_tuples(zip(grades, classes)))\n",
    "shuffled_df"
   ]
  },
  {
   "cell_type": "code",
   "execution_count": 40,
   "id": "c114e4a3",
   "metadata": {},
   "outputs": [
    {
     "data": {
      "text/html": [
       "<div>\n",
       "<style scoped>\n",
       "    .dataframe tbody tr th:only-of-type {\n",
       "        vertical-align: middle;\n",
       "    }\n",
       "\n",
       "    .dataframe tbody tr th {\n",
       "        vertical-align: top;\n",
       "    }\n",
       "\n",
       "    .dataframe thead th {\n",
       "        text-align: right;\n",
       "    }\n",
       "</style>\n",
       "<table border=\"1\" class=\"dataframe\">\n",
       "  <thead>\n",
       "    <tr style=\"text-align: right;\">\n",
       "      <th></th>\n",
       "      <th></th>\n",
       "      <th>国語</th>\n",
       "      <th>数学</th>\n",
       "    </tr>\n",
       "  </thead>\n",
       "  <tbody>\n",
       "    <tr>\n",
       "      <th>1年</th>\n",
       "      <th>A組</th>\n",
       "      <td>31</td>\n",
       "      <td>8</td>\n",
       "    </tr>\n",
       "    <tr>\n",
       "      <th>1年</th>\n",
       "      <th>B組</th>\n",
       "      <td>27</td>\n",
       "      <td>75</td>\n",
       "    </tr>\n",
       "    <tr>\n",
       "      <th>1年</th>\n",
       "      <th>C組</th>\n",
       "      <td>86</td>\n",
       "      <td>2</td>\n",
       "    </tr>\n",
       "    <tr>\n",
       "      <th>2年</th>\n",
       "      <th>A組</th>\n",
       "      <td>82</td>\n",
       "      <td>83</td>\n",
       "    </tr>\n",
       "    <tr>\n",
       "      <th>2年</th>\n",
       "      <th>B組</th>\n",
       "      <td>40</td>\n",
       "      <td>81</td>\n",
       "    </tr>\n",
       "    <tr>\n",
       "      <th>2年</th>\n",
       "      <th>B組</th>\n",
       "      <td>64</td>\n",
       "      <td>32</td>\n",
       "    </tr>\n",
       "    <tr>\n",
       "      <th>3年</th>\n",
       "      <th>A組</th>\n",
       "      <td>42</td>\n",
       "      <td>86</td>\n",
       "    </tr>\n",
       "    <tr>\n",
       "      <th>3年</th>\n",
       "      <th>C組</th>\n",
       "      <td>25</td>\n",
       "      <td>53</td>\n",
       "    </tr>\n",
       "    <tr>\n",
       "      <th>3年</th>\n",
       "      <th>C組</th>\n",
       "      <td>54</td>\n",
       "      <td>45</td>\n",
       "    </tr>\n",
       "  </tbody>\n",
       "</table>\n",
       "</div>"
      ],
      "text/plain": [
       "       国語  数学\n",
       "1年 A組  31   8\n",
       "1年 B組  27  75\n",
       "1年 C組  86   2\n",
       "2年 A組  82  83\n",
       "2年 B組  40  81\n",
       "2年 B組  64  32\n",
       "3年 A組  42  86\n",
       "3年 C組  25  53\n",
       "3年 C組  54  45"
      ]
     },
     "execution_count": 40,
     "metadata": {},
     "output_type": "execute_result"
    }
   ],
   "source": [
    "shuffled_df.sort_index()\n",
    "# or\n",
    "shuffled_df.sort_index(level=0)"
   ]
  },
  {
   "cell_type": "code",
   "execution_count": 41,
   "id": "febf5061",
   "metadata": {},
   "outputs": [
    {
     "data": {
      "text/html": [
       "<div>\n",
       "<style scoped>\n",
       "    .dataframe tbody tr th:only-of-type {\n",
       "        vertical-align: middle;\n",
       "    }\n",
       "\n",
       "    .dataframe tbody tr th {\n",
       "        vertical-align: top;\n",
       "    }\n",
       "\n",
       "    .dataframe thead th {\n",
       "        text-align: right;\n",
       "    }\n",
       "</style>\n",
       "<table border=\"1\" class=\"dataframe\">\n",
       "  <thead>\n",
       "    <tr style=\"text-align: right;\">\n",
       "      <th></th>\n",
       "      <th></th>\n",
       "      <th>国語</th>\n",
       "      <th>数学</th>\n",
       "    </tr>\n",
       "  </thead>\n",
       "  <tbody>\n",
       "    <tr>\n",
       "      <th>1年</th>\n",
       "      <th>A組</th>\n",
       "      <td>31</td>\n",
       "      <td>8</td>\n",
       "    </tr>\n",
       "    <tr>\n",
       "      <th>2年</th>\n",
       "      <th>A組</th>\n",
       "      <td>82</td>\n",
       "      <td>83</td>\n",
       "    </tr>\n",
       "    <tr>\n",
       "      <th>3年</th>\n",
       "      <th>A組</th>\n",
       "      <td>42</td>\n",
       "      <td>86</td>\n",
       "    </tr>\n",
       "    <tr>\n",
       "      <th>1年</th>\n",
       "      <th>B組</th>\n",
       "      <td>27</td>\n",
       "      <td>75</td>\n",
       "    </tr>\n",
       "    <tr>\n",
       "      <th>2年</th>\n",
       "      <th>B組</th>\n",
       "      <td>40</td>\n",
       "      <td>81</td>\n",
       "    </tr>\n",
       "    <tr>\n",
       "      <th>2年</th>\n",
       "      <th>B組</th>\n",
       "      <td>64</td>\n",
       "      <td>32</td>\n",
       "    </tr>\n",
       "    <tr>\n",
       "      <th>1年</th>\n",
       "      <th>C組</th>\n",
       "      <td>86</td>\n",
       "      <td>2</td>\n",
       "    </tr>\n",
       "    <tr>\n",
       "      <th>3年</th>\n",
       "      <th>C組</th>\n",
       "      <td>25</td>\n",
       "      <td>53</td>\n",
       "    </tr>\n",
       "    <tr>\n",
       "      <th>3年</th>\n",
       "      <th>C組</th>\n",
       "      <td>54</td>\n",
       "      <td>45</td>\n",
       "    </tr>\n",
       "  </tbody>\n",
       "</table>\n",
       "</div>"
      ],
      "text/plain": [
       "       国語  数学\n",
       "1年 A組  31   8\n",
       "2年 A組  82  83\n",
       "3年 A組  42  86\n",
       "1年 B組  27  75\n",
       "2年 B組  40  81\n",
       "2年 B組  64  32\n",
       "1年 C組  86   2\n",
       "3年 C組  25  53\n",
       "3年 C組  54  45"
      ]
     },
     "execution_count": 41,
     "metadata": {},
     "output_type": "execute_result"
    }
   ],
   "source": [
    "shuffled_df.sort_index(level=1)"
   ]
  }
 ],
 "metadata": {
  "kernelspec": {
   "display_name": "Python 3 (ipykernel)",
   "language": "python",
   "name": "python3"
  },
  "language_info": {
   "codemirror_mode": {
    "name": "ipython",
    "version": 3
   },
   "file_extension": ".py",
   "mimetype": "text/x-python",
   "name": "python",
   "nbconvert_exporter": "python",
   "pygments_lexer": "ipython3",
   "version": "3.11.4"
  }
 },
 "nbformat": 4,
 "nbformat_minor": 5
}
