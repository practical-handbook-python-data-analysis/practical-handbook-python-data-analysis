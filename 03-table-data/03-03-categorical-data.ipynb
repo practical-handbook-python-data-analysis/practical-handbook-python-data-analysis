{
 "cells": [
  {
   "cell_type": "markdown",
   "id": "f20266ef-21b7-4b55-ade0-fdb5de7d3151",
   "metadata": {},
   "source": [
    "# カテゴリーデータの処理"
   ]
  },
  {
   "cell_type": "markdown",
   "id": "c68a5e1a-dc43-4c66-b813-4c8073d384d3",
   "metadata": {},
   "source": [
    "## 尺度水準"
   ]
  },
  {
   "attachments": {},
   "cell_type": "markdown",
   "id": "e3a81cea",
   "metadata": {},
   "source": [
    "## カテゴリーデータの生成"
   ]
  },
  {
   "cell_type": "code",
   "execution_count": 1,
   "id": "79b1d3a1",
   "metadata": {},
   "outputs": [
    {
     "data": {
      "text/plain": [
       "0       満足\n",
       "1       普通\n",
       "2       普通\n",
       "3    非常に不満\n",
       "4       不満\n",
       "dtype: category\n",
       "Categories (4, object): ['不満', '普通', '満足', '非常に不満']"
      ]
     },
     "execution_count": 1,
     "metadata": {},
     "output_type": "execute_result"
    }
   ],
   "source": [
    "import pandas as pd\n",
    "\n",
    "survey_data = [\n",
    "    \"満足\",\n",
    "    \"普通\",\n",
    "    \"普通\",\n",
    "    \"非常に不満\",\n",
    "    \"不満\",\n",
    "]\n",
    "survey_ser = pd.Series(survey_data, dtype=\"category\")\n",
    "survey_ser"
   ]
  },
  {
   "attachments": {},
   "cell_type": "markdown",
   "id": "7aadb045",
   "metadata": {},
   "source": [
    "## カテゴリーデータへの型変換"
   ]
  },
  {
   "cell_type": "code",
   "execution_count": 2,
   "id": "d313f651",
   "metadata": {},
   "outputs": [
    {
     "data": {
      "text/plain": [
       "CategoricalDtype(categories=['不満', '普通', '満足', '非常に不満'], ordered=False)"
      ]
     },
     "execution_count": 2,
     "metadata": {},
     "output_type": "execute_result"
    }
   ],
   "source": [
    "pd.Series(survey_data).astype(\"category\").dtype"
   ]
  },
  {
   "attachments": {},
   "cell_type": "markdown",
   "id": "99e41104",
   "metadata": {},
   "source": [
    "## カテゴリーデータの順序付け"
   ]
  },
  {
   "cell_type": "code",
   "execution_count": 3,
   "id": "af9453fd",
   "metadata": {},
   "outputs": [
    {
     "data": {
      "text/plain": [
       "4       不満\n",
       "1       普通\n",
       "2       普通\n",
       "0       満足\n",
       "3    非常に不満\n",
       "dtype: category\n",
       "Categories (4, object): ['不満', '普通', '満足', '非常に不満']"
      ]
     },
     "execution_count": 3,
     "metadata": {},
     "output_type": "execute_result"
    }
   ],
   "source": [
    "survey_ser.sort_values()"
   ]
  },
  {
   "cell_type": "code",
   "execution_count": 4,
   "id": "ac7f249d",
   "metadata": {},
   "outputs": [
    {
     "data": {
      "text/plain": [
       "普通       2\n",
       "不満       1\n",
       "満足       1\n",
       "非常に不満    1\n",
       "Name: count, dtype: int64"
      ]
     },
     "execution_count": 4,
     "metadata": {},
     "output_type": "execute_result"
    }
   ],
   "source": [
    "survey_ser.value_counts()"
   ]
  },
  {
   "cell_type": "code",
   "execution_count": 5,
   "id": "ec86d7f9",
   "metadata": {},
   "outputs": [
    {
     "data": {
      "text/plain": [
       "0       満足\n",
       "1       普通\n",
       "2       普通\n",
       "3    非常に不満\n",
       "4       不満\n",
       "dtype: category\n",
       "Categories (5, object): ['非常に不満' < '不満' < '普通' < '満足' < '非常に満足']"
      ]
     },
     "execution_count": 5,
     "metadata": {},
     "output_type": "execute_result"
    }
   ],
   "source": [
    "rating = pd.CategoricalDtype(\n",
    "    categories=[\n",
    "        \"非常に不満\",\n",
    "        \"不満\",\n",
    "        \"普通\",\n",
    "        \"満足\",\n",
    "        \"非常に満足\",\n",
    "    ],\n",
    "    ordered=True,\n",
    ")\n",
    "new_survey_ser = pd.Series(survey_data, dtype=rating)\n",
    "new_survey_ser"
   ]
  },
  {
   "cell_type": "code",
   "execution_count": 6,
   "id": "f0d0b979",
   "metadata": {},
   "outputs": [
    {
     "data": {
      "text/plain": [
       "True"
      ]
     },
     "execution_count": 6,
     "metadata": {},
     "output_type": "execute_result"
    }
   ],
   "source": [
    "new_survey_ser.cat.ordered"
   ]
  },
  {
   "cell_type": "code",
   "execution_count": 7,
   "id": "9b19405b",
   "metadata": {},
   "outputs": [
    {
     "data": {
      "text/plain": [
       "3    非常に不満\n",
       "4       不満\n",
       "1       普通\n",
       "2       普通\n",
       "0       満足\n",
       "dtype: category\n",
       "Categories (5, object): ['非常に不満' < '不満' < '普通' < '満足' < '非常に満足']"
      ]
     },
     "execution_count": 7,
     "metadata": {},
     "output_type": "execute_result"
    }
   ],
   "source": [
    "new_survey_ser.sort_values()"
   ]
  },
  {
   "cell_type": "code",
   "execution_count": 8,
   "id": "8b24c50c",
   "metadata": {},
   "outputs": [
    {
     "data": {
      "text/plain": [
       "'非常に不満'"
      ]
     },
     "execution_count": 8,
     "metadata": {},
     "output_type": "execute_result"
    }
   ],
   "source": [
    "new_survey_ser.min()"
   ]
  },
  {
   "cell_type": "code",
   "execution_count": 9,
   "id": "4cd63812",
   "metadata": {},
   "outputs": [
    {
     "data": {
      "text/plain": [
       "'満足'"
      ]
     },
     "execution_count": 9,
     "metadata": {},
     "output_type": "execute_result"
    }
   ],
   "source": [
    "new_survey_ser.max()"
   ]
  },
  {
   "cell_type": "code",
   "execution_count": 10,
   "id": "fac9f36d",
   "metadata": {},
   "outputs": [
    {
     "data": {
      "text/plain": [
       "普通       2\n",
       "非常に不満    1\n",
       "不満       1\n",
       "満足       1\n",
       "非常に満足    0\n",
       "Name: count, dtype: int64"
      ]
     },
     "execution_count": 10,
     "metadata": {},
     "output_type": "execute_result"
    }
   ],
   "source": [
    "new_survey_ser.value_counts()"
   ]
  },
  {
   "cell_type": "code",
   "execution_count": 11,
   "id": "0084bfe9",
   "metadata": {},
   "outputs": [
    {
     "data": {
      "text/plain": [
       "count      5\n",
       "unique     4\n",
       "top       普通\n",
       "freq       2\n",
       "dtype: object"
      ]
     },
     "execution_count": 11,
     "metadata": {},
     "output_type": "execute_result"
    }
   ],
   "source": [
    "new_survey_ser.describe()"
   ]
  },
  {
   "cell_type": "code",
   "execution_count": 12,
   "id": "15e3fa2e",
   "metadata": {},
   "outputs": [
    {
     "data": {
      "text/plain": [
       "0    3\n",
       "1    2\n",
       "2    2\n",
       "3    0\n",
       "4    1\n",
       "dtype: int8"
      ]
     },
     "execution_count": 12,
     "metadata": {},
     "output_type": "execute_result"
    }
   ],
   "source": [
    "new_survey_ser.cat.codes"
   ]
  },
  {
   "cell_type": "code",
   "execution_count": 13,
   "id": "d0e29869",
   "metadata": {},
   "outputs": [
    {
     "data": {
      "text/plain": [
       "0    2\n",
       "1    1\n",
       "2    1\n",
       "3    3\n",
       "4    0\n",
       "5   -1\n",
       "dtype: int8"
      ]
     },
     "execution_count": 13,
     "metadata": {},
     "output_type": "execute_result"
    }
   ],
   "source": [
    "import numpy as np\n",
    "\n",
    "survey_data.append(np.nan)\n",
    "missing_suvey_data = pd.Series(survey_data, dtype=\"category\")\n",
    "missing_suvey_data.cat.codes"
   ]
  },
  {
   "attachments": {},
   "cell_type": "markdown",
   "id": "546ead35",
   "metadata": {},
   "source": [
    "## データの離散化によるカテゴリーデータの生成"
   ]
  },
  {
   "cell_type": "code",
   "execution_count": 14,
   "id": "df115fd7",
   "metadata": {},
   "outputs": [
    {
     "data": {
      "text/html": [
       "<div>\n",
       "<style scoped>\n",
       "    .dataframe tbody tr th:only-of-type {\n",
       "        vertical-align: middle;\n",
       "    }\n",
       "\n",
       "    .dataframe tbody tr th {\n",
       "        vertical-align: top;\n",
       "    }\n",
       "\n",
       "    .dataframe thead th {\n",
       "        text-align: right;\n",
       "    }\n",
       "</style>\n",
       "<table border=\"1\" class=\"dataframe\">\n",
       "  <thead>\n",
       "    <tr style=\"text-align: right;\">\n",
       "      <th></th>\n",
       "      <th>satisfaction</th>\n",
       "      <th>score</th>\n",
       "    </tr>\n",
       "  </thead>\n",
       "  <tbody>\n",
       "    <tr>\n",
       "      <th>0</th>\n",
       "      <td>普通</td>\n",
       "      <td>47</td>\n",
       "    </tr>\n",
       "    <tr>\n",
       "      <th>1</th>\n",
       "      <td>普通</td>\n",
       "      <td>51</td>\n",
       "    </tr>\n",
       "    <tr>\n",
       "      <th>2</th>\n",
       "      <td>満足</td>\n",
       "      <td>75</td>\n",
       "    </tr>\n",
       "    <tr>\n",
       "      <th>3</th>\n",
       "      <td>非常に満足</td>\n",
       "      <td>95</td>\n",
       "    </tr>\n",
       "    <tr>\n",
       "      <th>4</th>\n",
       "      <td>非常に不満</td>\n",
       "      <td>3</td>\n",
       "    </tr>\n",
       "    <tr>\n",
       "      <th>5</th>\n",
       "      <td>非常に不満</td>\n",
       "      <td>14</td>\n",
       "    </tr>\n",
       "    <tr>\n",
       "      <th>6</th>\n",
       "      <td>非常に満足</td>\n",
       "      <td>82</td>\n",
       "    </tr>\n",
       "    <tr>\n",
       "      <th>7</th>\n",
       "      <td>非常に満足</td>\n",
       "      <td>94</td>\n",
       "    </tr>\n",
       "    <tr>\n",
       "      <th>8</th>\n",
       "      <td>不満</td>\n",
       "      <td>24</td>\n",
       "    </tr>\n",
       "    <tr>\n",
       "      <th>9</th>\n",
       "      <td>不満</td>\n",
       "      <td>31</td>\n",
       "    </tr>\n",
       "  </tbody>\n",
       "</table>\n",
       "</div>"
      ],
      "text/plain": [
       "  satisfaction  score\n",
       "0           普通     47\n",
       "1           普通     51\n",
       "2           満足     75\n",
       "3        非常に満足     95\n",
       "4        非常に不満      3\n",
       "5        非常に不満     14\n",
       "6        非常に満足     82\n",
       "7        非常に満足     94\n",
       "8           不満     24\n",
       "9           不満     31"
      ]
     },
     "execution_count": 14,
     "metadata": {},
     "output_type": "execute_result"
    }
   ],
   "source": [
    "rng = np.random.default_rng(1)\n",
    "score = rng.integers(low=0, high=100, size=10)\n",
    "satisfaction = pd.cut(\n",
    "    score,\n",
    "    bins=[0, 20, 40, 60, 80, 101],  # ①\n",
    "    right=False,  # ②\n",
    "    labels=[\n",
    "        \"非常に不満\",\n",
    "        \"不満\",\n",
    "        \"普通\",\n",
    "        \"満足\",\n",
    "        \"非常に満足\",\n",
    "    ],  # ③\n",
    ")\n",
    "survey_df = pd.DataFrame({\"satisfaction\": satisfaction, \"score\": score})\n",
    "survey_df"
   ]
  },
  {
   "cell_type": "code",
   "execution_count": 15,
   "id": "f92c6094-de5b-4539-a0d9-2958717e3a3e",
   "metadata": {},
   "outputs": [
    {
     "data": {
      "text/html": [
       "<div>\n",
       "<style scoped>\n",
       "    .dataframe tbody tr th:only-of-type {\n",
       "        vertical-align: middle;\n",
       "    }\n",
       "\n",
       "    .dataframe tbody tr th {\n",
       "        vertical-align: top;\n",
       "    }\n",
       "\n",
       "    .dataframe thead th {\n",
       "        text-align: right;\n",
       "    }\n",
       "</style>\n",
       "<table border=\"1\" class=\"dataframe\">\n",
       "  <thead>\n",
       "    <tr style=\"text-align: right;\">\n",
       "      <th></th>\n",
       "      <th>satisfaction</th>\n",
       "      <th>score</th>\n",
       "    </tr>\n",
       "  </thead>\n",
       "  <tbody>\n",
       "    <tr>\n",
       "      <th>0</th>\n",
       "      <td>普通</td>\n",
       "      <td>47</td>\n",
       "    </tr>\n",
       "    <tr>\n",
       "      <th>1</th>\n",
       "      <td>普通</td>\n",
       "      <td>51</td>\n",
       "    </tr>\n",
       "    <tr>\n",
       "      <th>2</th>\n",
       "      <td>満足</td>\n",
       "      <td>75</td>\n",
       "    </tr>\n",
       "    <tr>\n",
       "      <th>3</th>\n",
       "      <td>非常に満足</td>\n",
       "      <td>95</td>\n",
       "    </tr>\n",
       "    <tr>\n",
       "      <th>4</th>\n",
       "      <td>非常に不満</td>\n",
       "      <td>3</td>\n",
       "    </tr>\n",
       "    <tr>\n",
       "      <th>5</th>\n",
       "      <td>非常に不満</td>\n",
       "      <td>14</td>\n",
       "    </tr>\n",
       "    <tr>\n",
       "      <th>6</th>\n",
       "      <td>非常に満足</td>\n",
       "      <td>82</td>\n",
       "    </tr>\n",
       "    <tr>\n",
       "      <th>7</th>\n",
       "      <td>非常に満足</td>\n",
       "      <td>94</td>\n",
       "    </tr>\n",
       "    <tr>\n",
       "      <th>8</th>\n",
       "      <td>不満</td>\n",
       "      <td>24</td>\n",
       "    </tr>\n",
       "    <tr>\n",
       "      <th>9</th>\n",
       "      <td>NaN</td>\n",
       "      <td>0</td>\n",
       "    </tr>\n",
       "  </tbody>\n",
       "</table>\n",
       "</div>"
      ],
      "text/plain": [
       "  satisfaction  score\n",
       "0           普通     47\n",
       "1           普通     51\n",
       "2           満足     75\n",
       "3        非常に満足     95\n",
       "4        非常に不満      3\n",
       "5        非常に不満     14\n",
       "6        非常に満足     82\n",
       "7        非常に満足     94\n",
       "8           不満     24\n",
       "9          NaN      0"
      ]
     },
     "execution_count": 15,
     "metadata": {},
     "output_type": "execute_result"
    }
   ],
   "source": [
    "score[-1] = 0\n",
    "satisfaction = pd.cut(\n",
    "    score,\n",
    "    bins=[1, 20, 40, 60, 80, 100],  # ①\n",
    "    right=False,  # ②\n",
    "    labels=[\n",
    "        \"非常に不満\",\n",
    "        \"不満\",\n",
    "        \"普通\",\n",
    "        \"満足\",\n",
    "        \"非常に満足\",\n",
    "    ],  # ③\n",
    ")\n",
    "survey_df = pd.DataFrame({\"satisfaction\": satisfaction, \"score\": score})\n",
    "survey_df"
   ]
  },
  {
   "cell_type": "code",
   "execution_count": 16,
   "id": "57885b01",
   "metadata": {},
   "outputs": [
    {
     "data": {
      "text/html": [
       "<div>\n",
       "<style scoped>\n",
       "    .dataframe tbody tr th:only-of-type {\n",
       "        vertical-align: middle;\n",
       "    }\n",
       "\n",
       "    .dataframe tbody tr th {\n",
       "        vertical-align: top;\n",
       "    }\n",
       "\n",
       "    .dataframe thead th {\n",
       "        text-align: right;\n",
       "    }\n",
       "</style>\n",
       "<table border=\"1\" class=\"dataframe\">\n",
       "  <thead>\n",
       "    <tr style=\"text-align: right;\">\n",
       "      <th></th>\n",
       "      <th>satisfaction</th>\n",
       "      <th>score</th>\n",
       "    </tr>\n",
       "  </thead>\n",
       "  <tbody>\n",
       "    <tr>\n",
       "      <th>0</th>\n",
       "      <td>普通</td>\n",
       "      <td>47</td>\n",
       "    </tr>\n",
       "    <tr>\n",
       "      <th>1</th>\n",
       "      <td>普通</td>\n",
       "      <td>51</td>\n",
       "    </tr>\n",
       "    <tr>\n",
       "      <th>2</th>\n",
       "      <td>満足</td>\n",
       "      <td>75</td>\n",
       "    </tr>\n",
       "    <tr>\n",
       "      <th>3</th>\n",
       "      <td>非常に満足</td>\n",
       "      <td>95</td>\n",
       "    </tr>\n",
       "    <tr>\n",
       "      <th>4</th>\n",
       "      <td>非常に不満</td>\n",
       "      <td>3</td>\n",
       "    </tr>\n",
       "    <tr>\n",
       "      <th>5</th>\n",
       "      <td>非常に不満</td>\n",
       "      <td>14</td>\n",
       "    </tr>\n",
       "    <tr>\n",
       "      <th>6</th>\n",
       "      <td>非常に満足</td>\n",
       "      <td>82</td>\n",
       "    </tr>\n",
       "    <tr>\n",
       "      <th>7</th>\n",
       "      <td>非常に満足</td>\n",
       "      <td>94</td>\n",
       "    </tr>\n",
       "    <tr>\n",
       "      <th>8</th>\n",
       "      <td>不満</td>\n",
       "      <td>24</td>\n",
       "    </tr>\n",
       "    <tr>\n",
       "      <th>9</th>\n",
       "      <td>不満</td>\n",
       "      <td>31</td>\n",
       "    </tr>\n",
       "  </tbody>\n",
       "</table>\n",
       "</div>"
      ],
      "text/plain": [
       "  satisfaction  score\n",
       "0           普通     47\n",
       "1           普通     51\n",
       "2           満足     75\n",
       "3        非常に満足     95\n",
       "4        非常に不満      3\n",
       "5        非常に不満     14\n",
       "6        非常に満足     82\n",
       "7        非常に満足     94\n",
       "8           不満     24\n",
       "9           不満     31"
      ]
     },
     "execution_count": 16,
     "metadata": {},
     "output_type": "execute_result"
    }
   ],
   "source": [
    "rng = np.random.default_rng(1)\n",
    "score = rng.integers(low=0, high=100, size=10)\n",
    "satisfaction = pd.cut(\n",
    "    score,\n",
    "    bins=range(0, 101, 20),  # ①\n",
    "    right=False,  # ②\n",
    "    labels=[\n",
    "        \"非常に不満\",\n",
    "        \"不満\",\n",
    "        \"普通\",\n",
    "        \"満足\",\n",
    "        \"非常に満足\",\n",
    "    ],  # ③\n",
    ")\n",
    "survey_df = pd.DataFrame({\"satisfaction\": satisfaction, \"score\": score})\n",
    "survey_df"
   ]
  },
  {
   "cell_type": "code",
   "execution_count": 17,
   "id": "0f6bfb64",
   "metadata": {},
   "outputs": [
    {
     "data": {
      "text/plain": [
       "satisfaction    category\n",
       "score              int64\n",
       "dtype: object"
      ]
     },
     "execution_count": 17,
     "metadata": {},
     "output_type": "execute_result"
    }
   ],
   "source": [
    "survey_df.dtypes"
   ]
  },
  {
   "cell_type": "code",
   "execution_count": 18,
   "id": "cb05b119",
   "metadata": {},
   "outputs": [
    {
     "data": {
      "text/plain": [
       "True"
      ]
     },
     "execution_count": 18,
     "metadata": {},
     "output_type": "execute_result"
    }
   ],
   "source": [
    "survey_df.loc[:, \"satisfaction\"].cat.ordered"
   ]
  },
  {
   "cell_type": "code",
   "execution_count": 19,
   "id": "8ed8fed2",
   "metadata": {},
   "outputs": [
    {
     "data": {
      "text/html": [
       "<div>\n",
       "<style scoped>\n",
       "    .dataframe tbody tr th:only-of-type {\n",
       "        vertical-align: middle;\n",
       "    }\n",
       "\n",
       "    .dataframe tbody tr th {\n",
       "        vertical-align: top;\n",
       "    }\n",
       "\n",
       "    .dataframe thead th {\n",
       "        text-align: right;\n",
       "    }\n",
       "</style>\n",
       "<table border=\"1\" class=\"dataframe\">\n",
       "  <thead>\n",
       "    <tr style=\"text-align: right;\">\n",
       "      <th></th>\n",
       "      <th>score</th>\n",
       "    </tr>\n",
       "    <tr>\n",
       "      <th>satisfaction</th>\n",
       "      <th></th>\n",
       "    </tr>\n",
       "  </thead>\n",
       "  <tbody>\n",
       "    <tr>\n",
       "      <th>非常に不満</th>\n",
       "      <td>8.500000</td>\n",
       "    </tr>\n",
       "    <tr>\n",
       "      <th>不満</th>\n",
       "      <td>27.500000</td>\n",
       "    </tr>\n",
       "    <tr>\n",
       "      <th>普通</th>\n",
       "      <td>49.000000</td>\n",
       "    </tr>\n",
       "    <tr>\n",
       "      <th>満足</th>\n",
       "      <td>75.000000</td>\n",
       "    </tr>\n",
       "    <tr>\n",
       "      <th>非常に満足</th>\n",
       "      <td>90.333333</td>\n",
       "    </tr>\n",
       "  </tbody>\n",
       "</table>\n",
       "</div>"
      ],
      "text/plain": [
       "                  score\n",
       "satisfaction           \n",
       "非常に不満          8.500000\n",
       "不満            27.500000\n",
       "普通            49.000000\n",
       "満足            75.000000\n",
       "非常に満足         90.333333"
      ]
     },
     "execution_count": 19,
     "metadata": {},
     "output_type": "execute_result"
    }
   ],
   "source": [
    "survey_df.groupby(\"satisfaction\").mean()"
   ]
  },
  {
   "attachments": {},
   "cell_type": "markdown",
   "id": "a18559c4",
   "metadata": {},
   "source": [
    "## .catアクセサ"
   ]
  },
  {
   "cell_type": "code",
   "execution_count": 20,
   "id": "ac1b1656",
   "metadata": {},
   "outputs": [
    {
     "data": {
      "text/plain": [
       "0       普通\n",
       "1       普通\n",
       "2       満足\n",
       "3    非常に満足\n",
       "4    非常に不満\n",
       "5    非常に不満\n",
       "6    非常に満足\n",
       "7    非常に満足\n",
       "8       不満\n",
       "9       不満\n",
       "Name: satisfaction, dtype: category\n",
       "Categories (5, object): ['非常に不満', '不満', '普通', '満足', '非常に満足']"
      ]
     },
     "execution_count": 20,
     "metadata": {},
     "output_type": "execute_result"
    }
   ],
   "source": [
    "unordered_satisfaction = survey_df.loc[:, \"satisfaction\"].cat.as_unordered()\n",
    "unordered_satisfaction"
   ]
  },
  {
   "cell_type": "code",
   "execution_count": 21,
   "id": "8a643289",
   "metadata": {},
   "outputs": [
    {
     "data": {
      "text/plain": [
       "0       普通\n",
       "1       普通\n",
       "2       満足\n",
       "3    非常に満足\n",
       "4    非常に不満\n",
       "5    非常に不満\n",
       "6    非常に満足\n",
       "7    非常に満足\n",
       "8       不満\n",
       "9       不満\n",
       "Name: satisfaction, dtype: category\n",
       "Categories (5, object): ['非常に不満' < '不満' < '普通' < '満足' < '非常に満足']"
      ]
     },
     "execution_count": 21,
     "metadata": {},
     "output_type": "execute_result"
    }
   ],
   "source": [
    "unordered_satisfaction.cat.as_ordered()"
   ]
  },
  {
   "cell_type": "code",
   "execution_count": 22,
   "id": "7dd13cd8",
   "metadata": {},
   "outputs": [
    {
     "data": {
      "text/plain": [
       "0       普通\n",
       "1       普通\n",
       "2       満足\n",
       "3    非常に満足\n",
       "4    非常に不満\n",
       "5    非常に不満\n",
       "6    非常に満足\n",
       "7    非常に満足\n",
       "8       不満\n",
       "9       不満\n",
       "Name: satisfaction, dtype: category\n",
       "Categories (5, object): ['非常に満足' < '満足' < '普通' < '不満' < '非常に不満']"
      ]
     },
     "execution_count": 22,
     "metadata": {},
     "output_type": "execute_result"
    }
   ],
   "source": [
    "unordered_satisfaction.cat.reorder_categories(\n",
    "    [\n",
    "        \"非常に満足\",\n",
    "        \"満足\",\n",
    "        \"普通\",\n",
    "        \"不満\",\n",
    "        \"非常に不満\",\n",
    "    ],\n",
    "    ordered=True,\n",
    ")"
   ]
  },
  {
   "cell_type": "code",
   "execution_count": 23,
   "id": "0105bc16",
   "metadata": {},
   "outputs": [
    {
     "data": {
      "text/plain": [
       "0       普通\n",
       "1       普通\n",
       "2       満足\n",
       "3    非常に満足\n",
       "4    非常に不満\n",
       "5    非常に不満\n",
       "6    非常に満足\n",
       "7    非常に満足\n",
       "8       不満\n",
       "9       不満\n",
       "Name: satisfaction, dtype: category\n",
       "Categories (7, object): ['非常に満足' < '満足' < '少し満足' < '普通' < '少し不満' < '不満' < '非常に不満']"
      ]
     },
     "execution_count": 23,
     "metadata": {},
     "output_type": "execute_result"
    }
   ],
   "source": [
    "unordered_satisfaction.cat.set_categories(\n",
    "    [\n",
    "        \"非常に満足\",\n",
    "        \"満足\",\n",
    "        \"少し満足\",\n",
    "        \"普通\",\n",
    "        \"少し不満\",\n",
    "        \"不満\",\n",
    "        \"非常に不満\",\n",
    "    ],\n",
    "    ordered=True,\n",
    ")"
   ]
  },
  {
   "attachments": {},
   "cell_type": "markdown",
   "id": "185ff61b",
   "metadata": {},
   "source": [
    "## CategoricalIndex"
   ]
  },
  {
   "cell_type": "code",
   "execution_count": 24,
   "id": "94eb7d9b",
   "metadata": {},
   "outputs": [
    {
     "data": {
      "text/html": [
       "<div>\n",
       "<style scoped>\n",
       "    .dataframe tbody tr th:only-of-type {\n",
       "        vertical-align: middle;\n",
       "    }\n",
       "\n",
       "    .dataframe tbody tr th {\n",
       "        vertical-align: top;\n",
       "    }\n",
       "\n",
       "    .dataframe thead th {\n",
       "        text-align: right;\n",
       "    }\n",
       "</style>\n",
       "<table border=\"1\" class=\"dataframe\">\n",
       "  <thead>\n",
       "    <tr style=\"text-align: right;\">\n",
       "      <th></th>\n",
       "      <th>score</th>\n",
       "    </tr>\n",
       "    <tr>\n",
       "      <th>satisfaction</th>\n",
       "      <th></th>\n",
       "    </tr>\n",
       "  </thead>\n",
       "  <tbody>\n",
       "    <tr>\n",
       "      <th>普通</th>\n",
       "      <td>47</td>\n",
       "    </tr>\n",
       "    <tr>\n",
       "      <th>普通</th>\n",
       "      <td>51</td>\n",
       "    </tr>\n",
       "    <tr>\n",
       "      <th>満足</th>\n",
       "      <td>75</td>\n",
       "    </tr>\n",
       "    <tr>\n",
       "      <th>非常に満足</th>\n",
       "      <td>95</td>\n",
       "    </tr>\n",
       "    <tr>\n",
       "      <th>非常に不満</th>\n",
       "      <td>3</td>\n",
       "    </tr>\n",
       "    <tr>\n",
       "      <th>非常に不満</th>\n",
       "      <td>14</td>\n",
       "    </tr>\n",
       "    <tr>\n",
       "      <th>非常に満足</th>\n",
       "      <td>82</td>\n",
       "    </tr>\n",
       "    <tr>\n",
       "      <th>非常に満足</th>\n",
       "      <td>94</td>\n",
       "    </tr>\n",
       "    <tr>\n",
       "      <th>不満</th>\n",
       "      <td>24</td>\n",
       "    </tr>\n",
       "    <tr>\n",
       "      <th>不満</th>\n",
       "      <td>31</td>\n",
       "    </tr>\n",
       "  </tbody>\n",
       "</table>\n",
       "</div>"
      ],
      "text/plain": [
       "              score\n",
       "satisfaction       \n",
       "普通               47\n",
       "普通               51\n",
       "満足               75\n",
       "非常に満足            95\n",
       "非常に不満             3\n",
       "非常に不満            14\n",
       "非常に満足            82\n",
       "非常に満足            94\n",
       "不満               24\n",
       "不満               31"
      ]
     },
     "execution_count": 24,
     "metadata": {},
     "output_type": "execute_result"
    }
   ],
   "source": [
    "new_survey_df = survey_df.set_index(\"satisfaction\")\n",
    "new_survey_df"
   ]
  },
  {
   "cell_type": "code",
   "execution_count": 25,
   "id": "1c3e2a39",
   "metadata": {},
   "outputs": [
    {
     "data": {
      "text/plain": [
       "CategoricalIndex(['普通', '普通', '満足', '非常に満足', '非常に不満', '非常に不満', '非常に満足',\n",
       "                  '非常に満足', '不満', '不満'],\n",
       "                 categories=['非常に不満', '不満', '普通', '満足', '非常に満足'], ordered=True, dtype='category', name='satisfaction')"
      ]
     },
     "execution_count": 25,
     "metadata": {},
     "output_type": "execute_result"
    }
   ],
   "source": [
    "new_survey_df.index"
   ]
  },
  {
   "cell_type": "code",
   "execution_count": 26,
   "id": "23d92542",
   "metadata": {},
   "outputs": [
    {
     "data": {
      "text/html": [
       "<div>\n",
       "<style scoped>\n",
       "    .dataframe tbody tr th:only-of-type {\n",
       "        vertical-align: middle;\n",
       "    }\n",
       "\n",
       "    .dataframe tbody tr th {\n",
       "        vertical-align: top;\n",
       "    }\n",
       "\n",
       "    .dataframe thead th {\n",
       "        text-align: right;\n",
       "    }\n",
       "</style>\n",
       "<table border=\"1\" class=\"dataframe\">\n",
       "  <thead>\n",
       "    <tr style=\"text-align: right;\">\n",
       "      <th></th>\n",
       "      <th>score</th>\n",
       "    </tr>\n",
       "    <tr>\n",
       "      <th>satisfaction</th>\n",
       "      <th></th>\n",
       "    </tr>\n",
       "  </thead>\n",
       "  <tbody>\n",
       "    <tr>\n",
       "      <th>非常に満足</th>\n",
       "      <td>95</td>\n",
       "    </tr>\n",
       "    <tr>\n",
       "      <th>非常に満足</th>\n",
       "      <td>82</td>\n",
       "    </tr>\n",
       "    <tr>\n",
       "      <th>非常に満足</th>\n",
       "      <td>94</td>\n",
       "    </tr>\n",
       "  </tbody>\n",
       "</table>\n",
       "</div>"
      ],
      "text/plain": [
       "              score\n",
       "satisfaction       \n",
       "非常に満足            95\n",
       "非常に満足            82\n",
       "非常に満足            94"
      ]
     },
     "execution_count": 26,
     "metadata": {},
     "output_type": "execute_result"
    }
   ],
   "source": [
    "new_survey_df.loc[\"非常に満足\", :]"
   ]
  },
  {
   "cell_type": "code",
   "execution_count": 27,
   "id": "1a7108b2",
   "metadata": {},
   "outputs": [
    {
     "data": {
      "text/html": [
       "<div>\n",
       "<style scoped>\n",
       "    .dataframe tbody tr th:only-of-type {\n",
       "        vertical-align: middle;\n",
       "    }\n",
       "\n",
       "    .dataframe tbody tr th {\n",
       "        vertical-align: top;\n",
       "    }\n",
       "\n",
       "    .dataframe thead th {\n",
       "        text-align: right;\n",
       "    }\n",
       "</style>\n",
       "<table border=\"1\" class=\"dataframe\">\n",
       "  <thead>\n",
       "    <tr style=\"text-align: right;\">\n",
       "      <th></th>\n",
       "      <th>score</th>\n",
       "    </tr>\n",
       "    <tr>\n",
       "      <th>satisfaction</th>\n",
       "      <th></th>\n",
       "    </tr>\n",
       "  </thead>\n",
       "  <tbody>\n",
       "    <tr>\n",
       "      <th>非常に不満</th>\n",
       "      <td>3</td>\n",
       "    </tr>\n",
       "    <tr>\n",
       "      <th>非常に不満</th>\n",
       "      <td>14</td>\n",
       "    </tr>\n",
       "    <tr>\n",
       "      <th>不満</th>\n",
       "      <td>24</td>\n",
       "    </tr>\n",
       "    <tr>\n",
       "      <th>不満</th>\n",
       "      <td>31</td>\n",
       "    </tr>\n",
       "    <tr>\n",
       "      <th>普通</th>\n",
       "      <td>47</td>\n",
       "    </tr>\n",
       "    <tr>\n",
       "      <th>普通</th>\n",
       "      <td>51</td>\n",
       "    </tr>\n",
       "    <tr>\n",
       "      <th>満足</th>\n",
       "      <td>75</td>\n",
       "    </tr>\n",
       "    <tr>\n",
       "      <th>非常に満足</th>\n",
       "      <td>95</td>\n",
       "    </tr>\n",
       "    <tr>\n",
       "      <th>非常に満足</th>\n",
       "      <td>82</td>\n",
       "    </tr>\n",
       "    <tr>\n",
       "      <th>非常に満足</th>\n",
       "      <td>94</td>\n",
       "    </tr>\n",
       "  </tbody>\n",
       "</table>\n",
       "</div>"
      ],
      "text/plain": [
       "              score\n",
       "satisfaction       \n",
       "非常に不満             3\n",
       "非常に不満            14\n",
       "不満               24\n",
       "不満               31\n",
       "普通               47\n",
       "普通               51\n",
       "満足               75\n",
       "非常に満足            95\n",
       "非常に満足            82\n",
       "非常に満足            94"
      ]
     },
     "execution_count": 27,
     "metadata": {},
     "output_type": "execute_result"
    }
   ],
   "source": [
    "new_survey_df.sort_index()"
   ]
  },
  {
   "attachments": {},
   "cell_type": "markdown",
   "id": "23a855f3",
   "metadata": {},
   "source": [
    "## カテゴリーデータの結合"
   ]
  },
  {
   "cell_type": "code",
   "execution_count": 28,
   "id": "51a15477",
   "metadata": {},
   "outputs": [
    {
     "data": {
      "text/plain": [
       "['普通', '満足', '非常に満足', '非常に不満', '不満', '普通']\n",
       "Categories (5, object): ['普通', '満足', '非常に満足', '不満', '非常に不満']"
      ]
     },
     "execution_count": 28,
     "metadata": {},
     "output_type": "execute_result"
    }
   ],
   "source": [
    "from pandas.api.types import (\n",
    "    union_categoricals,\n",
    ")\n",
    "\n",
    "cat1 = pd.Categorical(\n",
    "    [\n",
    "        \"普通\",\n",
    "        \"満足\",\n",
    "        \"非常に満足\",\n",
    "    ]\n",
    ")\n",
    "cat2 = pd.Categorical(\n",
    "    [\n",
    "        \"非常に不満\",\n",
    "        \"不満\",\n",
    "        \"普通\",\n",
    "    ]\n",
    ")\n",
    "union_categoricals([cat1, cat2])"
   ]
  },
  {
   "cell_type": "code",
   "execution_count": 29,
   "id": "5e33488b",
   "metadata": {},
   "outputs": [
    {
     "ename": "TypeError",
     "evalue": "to union ordered Categoricals, all categories must be the same",
     "output_type": "error",
     "traceback": [
      "\u001b[0;31m---------------------------------------------------------------------------\u001b[0m",
      "\u001b[0;31mTypeError\u001b[0m                                 Traceback (most recent call last)",
      "Cell \u001b[0;32mIn[29], line 17\u001b[0m\n\u001b[1;32m      1\u001b[0m ordered_cat1 \u001b[38;5;241m=\u001b[39m pd\u001b[38;5;241m.\u001b[39mCategorical(\n\u001b[1;32m      2\u001b[0m     [\n\u001b[1;32m      3\u001b[0m         \u001b[38;5;124m\"\u001b[39m\u001b[38;5;124m普通\u001b[39m\u001b[38;5;124m\"\u001b[39m,\n\u001b[0;32m   (...)\u001b[0m\n\u001b[1;32m      7\u001b[0m     ordered\u001b[38;5;241m=\u001b[39m\u001b[38;5;28;01mTrue\u001b[39;00m,\n\u001b[1;32m      8\u001b[0m )\n\u001b[1;32m      9\u001b[0m ordered_cat2 \u001b[38;5;241m=\u001b[39m pd\u001b[38;5;241m.\u001b[39mCategorical(\n\u001b[1;32m     10\u001b[0m     [\n\u001b[1;32m     11\u001b[0m         \u001b[38;5;124m\"\u001b[39m\u001b[38;5;124m非常に不満\u001b[39m\u001b[38;5;124m\"\u001b[39m,\n\u001b[0;32m   (...)\u001b[0m\n\u001b[1;32m     15\u001b[0m     ordered\u001b[38;5;241m=\u001b[39m\u001b[38;5;28;01mTrue\u001b[39;00m,\n\u001b[1;32m     16\u001b[0m )\n\u001b[0;32m---> 17\u001b[0m \u001b[43munion_categoricals\u001b[49m\u001b[43m(\u001b[49m\u001b[43m[\u001b[49m\u001b[43mordered_cat1\u001b[49m\u001b[43m,\u001b[49m\u001b[43m \u001b[49m\u001b[43mordered_cat2\u001b[49m\u001b[43m]\u001b[49m\u001b[43m)\u001b[49m\n",
      "File \u001b[0;32m~/.local/lib/python3.11/site-packages/pandas/core/dtypes/concat.py:280\u001b[0m, in \u001b[0;36munion_categoricals\u001b[0;34m(to_union, sort_categories, ignore_order)\u001b[0m\n\u001b[1;32m    278\u001b[0m     \u001b[38;5;28;01mif\u001b[39;00m \u001b[38;5;28mall\u001b[39m(c\u001b[38;5;241m.\u001b[39mordered \u001b[38;5;28;01mfor\u001b[39;00m c \u001b[38;5;129;01min\u001b[39;00m to_union):\n\u001b[1;32m    279\u001b[0m         msg \u001b[38;5;241m=\u001b[39m \u001b[38;5;124m\"\u001b[39m\u001b[38;5;124mto union ordered Categoricals, all categories must be the same\u001b[39m\u001b[38;5;124m\"\u001b[39m\n\u001b[0;32m--> 280\u001b[0m         \u001b[38;5;28;01mraise\u001b[39;00m \u001b[38;5;167;01mTypeError\u001b[39;00m(msg)\n\u001b[1;32m    281\u001b[0m     \u001b[38;5;28;01mraise\u001b[39;00m \u001b[38;5;167;01mTypeError\u001b[39;00m(\u001b[38;5;124m\"\u001b[39m\u001b[38;5;124mCategorical.ordered must be the same\u001b[39m\u001b[38;5;124m\"\u001b[39m)\n\u001b[1;32m    283\u001b[0m \u001b[38;5;28;01mif\u001b[39;00m ignore_order:\n",
      "\u001b[0;31mTypeError\u001b[0m: to union ordered Categoricals, all categories must be the same"
     ]
    }
   ],
   "source": [
    "ordered_cat1 = pd.Categorical(\n",
    "    [\n",
    "        \"普通\",\n",
    "        \"満足\",\n",
    "        \"非常に満足\",\n",
    "    ],\n",
    "    ordered=True,\n",
    ")\n",
    "ordered_cat2 = pd.Categorical(\n",
    "    [\n",
    "        \"非常に不満\",\n",
    "        \"不満\",\n",
    "        \"普通\",\n",
    "    ],\n",
    "    ordered=True,\n",
    ")\n",
    "union_categoricals([ordered_cat1, ordered_cat2])"
   ]
  },
  {
   "cell_type": "code",
   "execution_count": 30,
   "id": "494c3018",
   "metadata": {},
   "outputs": [
    {
     "data": {
      "text/plain": [
       "['普通', '満足', '非常に満足', '非常に不満', '不満', '普通']\n",
       "Categories (5, object): ['普通', '満足', '非常に満足', '不満', '非常に不満']"
      ]
     },
     "execution_count": 30,
     "metadata": {},
     "output_type": "execute_result"
    }
   ],
   "source": [
    "union_categoricals(\n",
    "    [ordered_cat1, ordered_cat2],\n",
    "    ignore_order=True,\n",
    ")"
   ]
  }
 ],
 "metadata": {
  "kernelspec": {
   "display_name": "Python 3 (ipykernel)",
   "language": "python",
   "name": "python3"
  },
  "language_info": {
   "codemirror_mode": {
    "name": "ipython",
    "version": 3
   },
   "file_extension": ".py",
   "mimetype": "text/x-python",
   "name": "python",
   "nbconvert_exporter": "python",
   "pygments_lexer": "ipython3",
   "version": "3.11.4"
  }
 },
 "nbformat": 4,
 "nbformat_minor": 5
}
