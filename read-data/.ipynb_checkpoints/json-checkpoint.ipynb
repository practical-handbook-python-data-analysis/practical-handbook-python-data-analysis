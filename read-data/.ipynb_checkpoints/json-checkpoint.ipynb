{
 "cells": [
  {
   "cell_type": "markdown",
   "id": "e041b5f7",
   "metadata": {},
   "source": [
    "# JSON形式"
   ]
  },
  {
   "cell_type": "markdown",
   "id": "22532927",
   "metadata": {},
   "source": [
    "## JSON形式の特徴"
   ]
  },
  {
   "cell_type": "markdown",
   "id": "0ea08bb2",
   "metadata": {},
   "source": [
    "## データサンプル"
   ]
  },
  {
   "cell_type": "code",
   "execution_count": null,
   "id": "aff5809b",
   "metadata": {},
   "outputs": [],
   "source": [
    "from urllib.request import urlopen\n",
    "\n",
    "app_id = \"50099e09998a7d42212b5671e8ed2aa4c635be26\"  # これは自身で取得する　コード上は残しておきますがあとで消します。\n",
    "url = f\"http://api.e-stat.go.jp/rest/3.0/app/json/getStatsData?appId={app_id}&lang=J&statsDataId=0003443838&metaGetFlg=Y&cntGetFlg=N&explanationGetFlg=Y&annotationGetFlg=Y&sectionHeaderFlg=1&replaceSpChars=0\"\n",
    "with urlopen(url) as uf:\n",
    "    with open(\"data/population-202302.json\", \"wb\") as f:\n",
    "        f.write(uf.read())"
   ]
  },
  {
   "cell_type": "markdown",
   "id": "5b46675b",
   "metadata": {},
   "source": [
    "# JSON形式を扱うライブラリ"
   ]
  },
  {
   "cell_type": "markdown",
   "id": "48a86a6b",
   "metadata": {},
   "source": [
    "# jsonライブラリを使う"
   ]
  },
  {
   "cell_type": "code",
   "execution_count": null,
   "id": "7c3089d2",
   "metadata": {},
   "outputs": [],
   "source": [
    "import json\n",
    "\n",
    "with open(\"data/population-202302.json\", \"r\") as f:\n",
    "    data = json.load(f)\n",
    "\n",
    "type(data)"
   ]
  },
  {
   "cell_type": "code",
   "execution_count": null,
   "id": "59056289",
   "metadata": {},
   "outputs": [],
   "source": [
    "data"
   ]
  },
  {
   "cell_type": "code",
   "execution_count": null,
   "id": "73d82139",
   "metadata": {},
   "outputs": [],
   "source": [
    "data[\"GET_STATS_DATA\"][\"STATISTICAL_DATA\"][\"RESULT_INF\"]"
   ]
  },
  {
   "cell_type": "code",
   "execution_count": null,
   "id": "dd99a0f8",
   "metadata": {},
   "outputs": [],
   "source": [
    "data[\"GET_STATS_DATA\"][\"STATISTICAL_DATA\"][\"TABLE_INF\"][\"TITLE\"]"
   ]
  },
  {
   "cell_type": "code",
   "execution_count": null,
   "id": "e90dbf2d",
   "metadata": {},
   "outputs": [],
   "source": [
    "data[\"GET_STATS_DATA\"][\"STATISTICAL_DATA\"][\"DATA_INF\"][\"VALUE\"][0]"
   ]
  },
  {
   "cell_type": "code",
   "execution_count": null,
   "id": "e965d2ad",
   "metadata": {},
   "outputs": [],
   "source": [
    "len(data[\"GET_STATS_DATA\"][\"STATISTICAL_DATA\"][\"DATA_INF\"][\"VALUE\"])"
   ]
  },
  {
   "cell_type": "code",
   "execution_count": null,
   "id": "d94f1983",
   "metadata": {},
   "outputs": [],
   "source": [
    "values = data[\"GET_STATS_DATA\"][\"STATISTICAL_DATA\"][\"DATA_INF\"][\"VALUE\"]\n",
    "for i, d in enumerate(values):\n",
    "    for k, v in d.items():\n",
    "        print(k, v, end=\"|\")\n",
    "    print()\n",
    "    print(\"===\")\n",
    "    if i > 1:\n",
    "        break"
   ]
  },
  {
   "cell_type": "markdown",
   "id": "eca123f2",
   "metadata": {},
   "source": [
    "## pandasのDataFrameに変換"
   ]
  },
  {
   "cell_type": "code",
   "execution_count": null,
   "id": "3e1991ba",
   "metadata": {},
   "outputs": [],
   "source": [
    "import pandas as pd"
   ]
  },
  {
   "cell_type": "code",
   "execution_count": null,
   "id": "cee75485",
   "metadata": {},
   "outputs": [],
   "source": [
    "df = pd.DataFrame(\n",
    "    data[\"GET_STATS_DATA\"][\"STATISTICAL_DATA\"][\"DATA_INF\"][\"VALUE\"]\n",
    ")\n",
    "df.head()"
   ]
  },
  {
   "cell_type": "code",
   "execution_count": null,
   "id": "e632effc",
   "metadata": {},
   "outputs": [],
   "source": [
    "df.shape"
   ]
  },
  {
   "cell_type": "markdown",
   "id": "4790817c",
   "metadata": {},
   "source": [
    "# pandasを使って読み込む"
   ]
  },
  {
   "cell_type": "code",
   "execution_count": null,
   "id": "4532a6d5",
   "metadata": {},
   "outputs": [],
   "source": [
    "df_raw_json = pd.read_json(\"data/population-202302.json\")\n",
    "df_raw_json"
   ]
  },
  {
   "cell_type": "markdown",
   "id": "897a7f9a",
   "metadata": {},
   "source": [
    "## json_normalize関数を使う"
   ]
  },
  {
   "cell_type": "code",
   "execution_count": null,
   "id": "7179eea1",
   "metadata": {},
   "outputs": [],
   "source": [
    "import json\n",
    "\n",
    "with open(\"data/population-202302.json\", \"r\") as f:\n",
    "    data = json.load(f)\n",
    "\n",
    "values = data[\"GET_STATS_DATA\"][\"STATISTICAL_DATA\"][\"DATA_INF\"][\"VALUE\"]\n",
    "df_norm_json = pd.json_normalize(values)\n",
    "df_norm_json.head()"
   ]
  },
  {
   "cell_type": "code",
   "execution_count": null,
   "id": "157527d6",
   "metadata": {},
   "outputs": [],
   "source": [
    "df_norm_json.shape"
   ]
  },
  {
   "cell_type": "code",
   "execution_count": null,
   "id": "8bee4874",
   "metadata": {},
   "outputs": [],
   "source": [
    "# カラム名に該当する情報をJSONから取得して、columnsに代入\n",
    "columns = [\n",
    "    d[\"@name\"]\n",
    "    for d in data[\"GET_STATS_DATA\"][\"STATISTICAL_DATA\"][\"CLASS_INF\"][\n",
    "        \"CLASS_OBJ\"\n",
    "    ]\n",
    "]\n",
    "\n",
    "# JSONからの情報に不足している情報を付与\n",
    "df_norm_json.columns = columns + [\"unit\", \"$\"]\n",
    "df_norm_json.head()"
   ]
  }
 ],
 "metadata": {},
 "nbformat": 4,
 "nbformat_minor": 5
}
