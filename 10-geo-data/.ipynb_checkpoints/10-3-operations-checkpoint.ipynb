{
 "cells": [
  {
   "cell_type": "markdown",
   "id": "3b69e847",
   "metadata": {},
   "source": [
    "# 地理空間データの操作## Geometricオブジェクト"
   ]
  },
  {
   "cell_type": "code",
   "execution_count": 1,
   "id": "bf2915f2",
   "metadata": {},
   "outputs": [
    {
     "data": {
      "image/svg+xml": [
       "<svg xmlns=\"http://www.w3.org/2000/svg\" xmlns:xlink=\"http://www.w3.org/1999/xlink\" width=\"100.0\" height=\"100.0\" viewBox=\"0.0 0.0 2.0 2.0\" preserveAspectRatio=\"xMinYMin meet\"><g transform=\"matrix(1,0,0,-1,0,2.0)\"><circle cx=\"1.0\" cy=\"1.0\" r=\"0.06\" stroke=\"#555555\" stroke-width=\"0.02\" fill=\"#66cc99\" opacity=\"0.6\" /></g></svg>"
      ],
      "text/plain": [
       "<POINT (1 1)>"
      ]
     },
     "execution_count": 1,
     "metadata": {},
     "output_type": "execute_result"
    }
   ],
   "source": [
    "from shapely.geometry import Point\n",
    "\n",
    "Point(1, 1)\n",
    "# or\n",
    "Point([1, 1])"
   ]
  },
  {
   "cell_type": "code",
   "execution_count": 2,
   "id": "5c0b3605",
   "metadata": {},
   "outputs": [],
   "source": [
    "tokyo = Point(139.766667, 35.681111)\n",
    "shinjuku = Point(139.700278, 35.690833)\n",
    "shinagawa = Point(139.738694, 35.628222)"
   ]
  },
  {
   "cell_type": "code",
   "execution_count": 3,
   "id": "afe02165",
   "metadata": {},
   "outputs": [
    {
     "data": {
      "image/svg+xml": [
       "<svg xmlns=\"http://www.w3.org/2000/svg\" xmlns:xlink=\"http://www.w3.org/1999/xlink\" width=\"100.0\" height=\"100.0\" viewBox=\"139.69762244 35.67845544 0.0717001200000027 0.015033119999998235\" preserveAspectRatio=\"xMinYMin meet\"><g transform=\"matrix(1,0,0,-1,0,71.371944)\"><polyline fill=\"none\" stroke=\"#66cc99\" stroke-width=\"0.0014340024000000539\" points=\"139.766667,35.681111 139.700278,35.690833\" opacity=\"0.8\" /></g></svg>"
      ],
      "text/plain": [
       "<LINESTRING (139.767 35.681, 139.7 35.691)>"
      ]
     },
     "execution_count": 3,
     "metadata": {},
     "output_type": "execute_result"
    }
   ],
   "source": [
    "from shapely.geometry import LineString\n",
    "\n",
    "tokyo_shinjuku = LineString(\n",
    "    [\n",
    "        (139.766667, 35.681111),\n",
    "        (139.700278, 35.690833),\n",
    "    ]\n",
    ")\n",
    "tokyo_shinjuku"
   ]
  },
  {
   "cell_type": "code",
   "execution_count": 4,
   "id": "b8f44ccf",
   "metadata": {},
   "outputs": [
    {
     "data": {
      "image/svg+xml": [
       "<svg xmlns=\"http://www.w3.org/2000/svg\" xmlns:xlink=\"http://www.w3.org/1999/xlink\" width=\"100.0\" height=\"100.0\" viewBox=\"139.69762244 35.62556644 0.0717001200000027 0.06792211999999864\" preserveAspectRatio=\"xMinYMin meet\"><g transform=\"matrix(1,0,0,-1,0,71.31905499999999)\"><path fill-rule=\"evenodd\" fill=\"#66cc99\" stroke=\"#555555\" stroke-width=\"0.0014340024000000539\" opacity=\"0.6\" d=\"M 139.766667,35.681111 L 139.700278,35.690833 L 139.738694,35.628222 L 139.766667,35.681111 z\" /></g></svg>"
      ],
      "text/plain": [
       "<POLYGON ((139.767 35.681, 139.7 35.691, 139.739 35.628, 139.767 35.681))>"
      ]
     },
     "execution_count": 4,
     "metadata": {},
     "output_type": "execute_result"
    }
   ],
   "source": [
    "from shapely.geometry import Polygon\n",
    "\n",
    "tokyo_shinjuku_shinagawa = Polygon(\n",
    "    [\n",
    "        (139.766667, 35.681111),\n",
    "        (139.700278, 35.690833),\n",
    "        (139.738694, 35.628222),\n",
    "    ]\n",
    ")\n",
    "tokyo_shinjuku_shinagawa"
   ]
  },
  {
   "cell_type": "markdown",
   "id": "97d77a78",
   "metadata": {},
   "source": [
    "## Geometricオブジェクトの属性"
   ]
  },
  {
   "cell_type": "code",
   "execution_count": 5,
   "id": "307df6c0",
   "metadata": {},
   "outputs": [
    {
     "data": {
      "text/plain": [
       "'Point'"
      ]
     },
     "execution_count": 5,
     "metadata": {},
     "output_type": "execute_result"
    }
   ],
   "source": [
    "tokyo.geom_type"
   ]
  },
  {
   "cell_type": "code",
   "execution_count": 6,
   "id": "73fc0fad",
   "metadata": {},
   "outputs": [
    {
     "data": {
      "text/plain": [
       "'LineString'"
      ]
     },
     "execution_count": 6,
     "metadata": {},
     "output_type": "execute_result"
    }
   ],
   "source": [
    "tokyo_shinjuku.geom_type"
   ]
  },
  {
   "cell_type": "code",
   "execution_count": 7,
   "id": "33bf476d",
   "metadata": {},
   "outputs": [
    {
     "data": {
      "text/plain": [
       "'Polygon'"
      ]
     },
     "execution_count": 7,
     "metadata": {},
     "output_type": "execute_result"
    }
   ],
   "source": [
    "tokyo_shinjuku_shinagawa.geom_type"
   ]
  },
  {
   "cell_type": "code",
   "execution_count": 8,
   "id": "689098a8",
   "metadata": {},
   "outputs": [
    {
     "data": {
      "text/plain": [
       "(array('d', [139.766667, 139.700278]), array('d', [35.681111, 35.690833]))"
      ]
     },
     "execution_count": 8,
     "metadata": {},
     "output_type": "execute_result"
    }
   ],
   "source": [
    "tokyo_shinjuku.xy"
   ]
  },
  {
   "cell_type": "code",
   "execution_count": 9,
   "id": "9a2aecb5",
   "metadata": {},
   "outputs": [
    {
     "data": {
      "text/plain": [
       "[(139.766667, 35.681111), (139.700278, 35.690833)]"
      ]
     },
     "execution_count": 9,
     "metadata": {},
     "output_type": "execute_result"
    }
   ],
   "source": [
    "list(tokyo_shinjuku.coords)"
   ]
  },
  {
   "cell_type": "code",
   "execution_count": 10,
   "id": "600c1113",
   "metadata": {},
   "outputs": [
    {
     "data": {
      "text/plain": [
       "[(139.766667, 35.681111), (139.700278, 35.690833)]"
      ]
     },
     "execution_count": 10,
     "metadata": {},
     "output_type": "execute_result"
    }
   ],
   "source": [
    "tokyo_shinjuku.coords[:]"
   ]
  },
  {
   "cell_type": "code",
   "execution_count": 11,
   "id": "ee8e4e6f",
   "metadata": {},
   "outputs": [
    {
     "data": {
      "text/plain": [
       "0.06709706852763346"
      ]
     },
     "execution_count": 11,
     "metadata": {},
     "output_type": "execute_result"
    }
   ],
   "source": [
    "tokyo_shinjuku.length"
   ]
  },
  {
   "cell_type": "code",
   "execution_count": 12,
   "id": "c9a25b91",
   "metadata": {},
   "outputs": [
    {
     "data": {
      "text/plain": [
       "0.20038492517825351"
      ]
     },
     "execution_count": 12,
     "metadata": {},
     "output_type": "execute_result"
    }
   ],
   "source": [
    "tokyo_shinjuku_shinagawa.length"
   ]
  },
  {
   "cell_type": "code",
   "execution_count": 13,
   "id": "b592c3ee",
   "metadata": {},
   "outputs": [
    {
     "data": {
      "text/plain": [
       "0.0018916006635003781"
      ]
     },
     "execution_count": 13,
     "metadata": {},
     "output_type": "execute_result"
    }
   ],
   "source": [
    "tokyo_shinjuku_shinagawa.area"
   ]
  },
  {
   "cell_type": "code",
   "execution_count": 14,
   "id": "ad68f5b8",
   "metadata": {},
   "outputs": [
    {
     "data": {
      "text/plain": [
       "(139.700278, 35.681111, 139.766667, 35.690833)"
      ]
     },
     "execution_count": 14,
     "metadata": {},
     "output_type": "execute_result"
    }
   ],
   "source": [
    "tokyo_shinjuku.bounds"
   ]
  },
  {
   "cell_type": "code",
   "execution_count": 15,
   "id": "5c83b3f4",
   "metadata": {},
   "outputs": [
    {
     "data": {
      "text/plain": [
       "(139.700278, 35.628222, 139.766667, 35.690833)"
      ]
     },
     "execution_count": 15,
     "metadata": {},
     "output_type": "execute_result"
    }
   ],
   "source": [
    "tokyo_shinjuku_shinagawa.bounds"
   ]
  },
  {
   "cell_type": "markdown",
   "id": "a4ff75c1",
   "metadata": {},
   "source": [
    "## 距離の算出"
   ]
  },
  {
   "cell_type": "code",
   "execution_count": 16,
   "id": "6a818330",
   "metadata": {},
   "outputs": [
    {
     "data": {
      "text/plain": [
       "0.06709706852763346"
      ]
     },
     "execution_count": 16,
     "metadata": {},
     "output_type": "execute_result"
    }
   ],
   "source": [
    "tokyo.distance(shinjuku)"
   ]
  },
  {
   "cell_type": "code",
   "execution_count": 17,
   "id": "e12079ed",
   "metadata": {},
   "outputs": [
    {
     "data": {
      "text/plain": [
       "Distance(6.105560821865678)"
      ]
     },
     "execution_count": 17,
     "metadata": {},
     "output_type": "execute_result"
    }
   ],
   "source": [
    "from geopy import distance\n",
    "\n",
    "tokyo_shinjuku_distance = distance.geodesic(\n",
    "    list(reversed(tokyo.coords[0])),\n",
    "    list(reversed(shinjuku.coords[0])),\n",
    ")\n",
    "tokyo_shinjuku_distance"
   ]
  },
  {
   "cell_type": "code",
   "execution_count": 18,
   "id": "a72d4eb7",
   "metadata": {},
   "outputs": [
    {
     "data": {
      "text/plain": [
       "6105.560821865678"
      ]
     },
     "execution_count": 18,
     "metadata": {},
     "output_type": "execute_result"
    }
   ],
   "source": [
    "tokyo_shinjuku_distance.meters"
   ]
  },
  {
   "cell_type": "code",
   "execution_count": 19,
   "id": "cf6dca5b",
   "metadata": {},
   "outputs": [
    {
     "data": {
      "text/plain": [
       "6.105560821865678"
      ]
     },
     "execution_count": 19,
     "metadata": {},
     "output_type": "execute_result"
    }
   ],
   "source": [
    "tokyo_shinjuku_distance.km"
   ]
  }
 ],
 "metadata": {
  "kernelspec": {
   "display_name": "Python 3 (ipykernel)",
   "language": "python",
   "name": "python3"
  },
  "language_info": {
   "codemirror_mode": {
    "name": "ipython",
    "version": 3
   },
   "file_extension": ".py",
   "mimetype": "text/x-python",
   "name": "python",
   "nbconvert_exporter": "python",
   "pygments_lexer": "ipython3",
   "version": "3.11.4"
  }
 },
 "nbformat": 4,
 "nbformat_minor": 5
}
