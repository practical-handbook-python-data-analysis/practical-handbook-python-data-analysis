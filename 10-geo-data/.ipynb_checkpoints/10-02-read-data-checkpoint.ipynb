{
 "cells": [
  {
   "cell_type": "markdown",
   "id": "1c6b465a",
   "metadata": {},
   "source": [
    "# 地理空間データのファイル形式と読み込み"
   ]
  },
  {
   "cell_type": "markdown",
   "id": "ea8eeb83",
   "metadata": {},
   "source": [
    "## GeoJSON"
   ]
  },
  {
   "cell_type": "code",
   "execution_count": null,
   "id": "845d4d70",
   "metadata": {},
   "outputs": [],
   "source": [
    "from shapely import from_geojson\n",
    "\n",
    "geojson = \"\"\"{\n",
    "    \"type\": \"FeatureCollection\",\n",
    "    \"features\": [\n",
    "        {\n",
    "            \"type\": \"Feature\",\n",
    "            \"properties\": {\n",
    "                \"name\": \"yurakucho\"\n",
    "            },\n",
    "            \"geometry\": {\n",
    "                \"type\": \"Point\",\n",
    "                \"coordinates\": [\n",
    "                    35.675056,\n",
    "                    139.763333\n",
    "                ]\n",
    "            }\n",
    "        },\n",
    "        {\n",
    "            \"type\": \"Feature\",\n",
    "            \"properties\": {\n",
    "                \"name\": \"tokyo-kanda\"\n",
    "            },\n",
    "            \"geometry\": {\n",
    "                \"type\": \"LineString\",\n",
    "                \"coordinates\": [\n",
    "                    [\n",
    "                        35.681111,\n",
    "                        139.766667\n",
    "                    ],\n",
    "                    [\n",
    "                        35.691667,\n",
    "                        139.770833\n",
    "                    ]\n",
    "                ]\n",
    "            }\n",
    "        }\n",
    "    ]\n",
    "}\"\"\"\n",
    "geo_collection = from_geojson(geojson)"
   ]
  },
  {
   "cell_type": "code",
   "execution_count": null,
   "id": "5b8187a3",
   "metadata": {},
   "outputs": [],
   "source": [
    "type(geo_collection)"
   ]
  },
  {
   "cell_type": "code",
   "execution_count": null,
   "id": "235fc374",
   "metadata": {},
   "outputs": [],
   "source": [
    "from shapely import to_geojson\n",
    "\n",
    "print(to_geojson(geo_collection, indent=4))"
   ]
  },
  {
   "cell_type": "code",
   "execution_count": null,
   "id": "ba937f64",
   "metadata": {},
   "outputs": [],
   "source": [
    "from io import StringIO\n",
    "import geopandas as gpd\n",
    "\n",
    "geojson_gdf = gpd.read_file(StringIO(geojson))\n",
    "geojson_gdf"
   ]
  },
  {
   "cell_type": "code",
   "execution_count": null,
   "id": "7e8702b1",
   "metadata": {},
   "outputs": [],
   "source": [
    "type(geojson_gdf.loc[0, \"geometry\"])"
   ]
  },
  {
   "cell_type": "code",
   "execution_count": null,
   "id": "ea316a0e",
   "metadata": {},
   "outputs": [],
   "source": [
    "geojson_gdf.loc[0, \"geometry\"]"
   ]
  },
  {
   "cell_type": "code",
   "execution_count": null,
   "id": "f3ae47fc",
   "metadata": {},
   "outputs": [],
   "source": [
    "type(geojson_gdf.loc[1, \"geometry\"])"
   ]
  },
  {
   "cell_type": "code",
   "execution_count": null,
   "id": "d005c393",
   "metadata": {},
   "outputs": [],
   "source": [
    "geojson_gdf.loc[1, \"geometry\"]"
   ]
  },
  {
   "cell_type": "code",
   "execution_count": null,
   "id": "f8c92708",
   "metadata": {},
   "outputs": [],
   "source": [
    "print(geojson_gdf.to_json(indent=4))"
   ]
  },
  {
   "cell_type": "code",
   "execution_count": null,
   "id": "2866cff0",
   "metadata": {},
   "outputs": [],
   "source": [
    "geojson_gdf.to_file(\n",
    "    \"./data/yurakucho-kanda.geojson\",\n",
    "    driver=\"GeoJSON\",\n",
    ")"
   ]
  },
  {
   "cell_type": "code",
   "execution_count": null,
   "id": "5b310667",
   "metadata": {},
   "outputs": [],
   "source": [
    "# 対象外のセル\n",
    "!rm ./data/yurakucho-kanda.geojson"
   ]
  },
  {
   "cell_type": "markdown",
   "id": "3b20ccac",
   "metadata": {},
   "source": [
    "## シェープファイル"
   ]
  },
  {
   "cell_type": "code",
   "execution_count": null,
   "id": "545c87f7",
   "metadata": {},
   "outputs": [],
   "source": [
    "shapefile_gdf = gpd.read_file(\"./data/yurakucho\")\n",
    "shapefile_gdf"
   ]
  },
  {
   "cell_type": "code",
   "execution_count": null,
   "id": "5016cfcd",
   "metadata": {},
   "outputs": [],
   "source": [
    "shapefile_gdf.to_file(\"./data/yurakucho\")"
   ]
  },
  {
   "cell_type": "markdown",
   "id": "5bde2f9e",
   "metadata": {},
   "source": [
    "## GeoTIFF"
   ]
  },
  {
   "cell_type": "code",
   "execution_count": null,
   "id": "26a9c8c3",
   "metadata": {},
   "outputs": [],
   "source": [
    "import rasterio\n",
    "\n",
    "dataset = rasterio.open(\"./data/L03-b-14_5236.tif\")"
   ]
  },
  {
   "cell_type": "code",
   "execution_count": null,
   "id": "13a7901d",
   "metadata": {},
   "outputs": [],
   "source": [
    "dataset.bounds"
   ]
  },
  {
   "cell_type": "code",
   "execution_count": null,
   "id": "46c4da9b",
   "metadata": {},
   "outputs": [],
   "source": [
    "dataset.crs"
   ]
  },
  {
   "cell_type": "code",
   "execution_count": null,
   "id": "b6ac166f",
   "metadata": {},
   "outputs": [],
   "source": [
    "dataset.indexes"
   ]
  },
  {
   "cell_type": "code",
   "execution_count": null,
   "id": "70104188",
   "metadata": {},
   "outputs": [],
   "source": [
    "dataset.read(1)"
   ]
  },
  {
   "cell_type": "code",
   "execution_count": null,
   "id": "8fb79c8f",
   "metadata": {},
   "outputs": [],
   "source": [
    "from PIL import Image\n",
    "\n",
    "Image.fromarray(dataset.read(1))"
   ]
  }
 ],
 "metadata": {},
 "nbformat": 4,
 "nbformat_minor": 5
}
