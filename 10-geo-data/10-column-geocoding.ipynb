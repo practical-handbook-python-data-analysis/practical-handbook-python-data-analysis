{
 "cells": [
  {
   "cell_type": "markdown",
   "id": "102b6775",
   "metadata": {},
   "source": [
    "# コラム: ジオコーディング"
   ]
  },
  {
   "cell_type": "code",
   "execution_count": null,
   "id": "d4e6fe6a",
   "metadata": {},
   "outputs": [],
   "source": [
    "import json\n",
    "from io import StringIO\n",
    "from urllib import parse, request\n",
    "\n",
    "import folium\n",
    "import geopandas as gpd\n",
    "\n",
    "place = \"区役所\"\n",
    "url = parse.urlunparse(\n",
    "    (\n",
    "        \"https\",\n",
    "        \"msearch.gsi.go.jp\",\n",
    "        \"/address-search/AddressSearch\",\n",
    "        None,\n",
    "        parse.urlencode({\"q\": place}),\n",
    "        None,\n",
    "    )\n",
    ")\n",
    "res = request.urlopen(url)\n",
    "geojson = StringIO(\n",
    "    json.dumps(\n",
    "        {\n",
    "            \"type\": \"FeatureCollection\",\n",
    "            \"features\": json.loads(res.read().decode()),\n",
    "        }\n",
    "    )\n",
    ")\n",
    "gdf = gpd.read_file(geojson)\n",
    "center = (\n",
    "    gdf.loc[:, \"geometry\"].y.mean(),\n",
    "    gdf.loc[:, \"geometry\"].x.mean(),\n",
    ")\n",
    "m = folium.Map(location=center, zoom_start=7)\n",
    "gdf.apply(\n",
    "    lambda s: folium.Marker(\n",
    "        location=[\n",
    "            s[\"geometry\"].y,\n",
    "            s[\"geometry\"].x,\n",
    "        ]\n",
    "    ).add_to(m),\n",
    "    axis=1,\n",
    ")\n",
    "m"
   ]
  }
 ],
 "metadata": {
  "kernelspec": {
   "display_name": "Python 3 (ipykernel)",
   "language": "python",
   "name": "python3"
  },
  "language_info": {
   "codemirror_mode": {
    "name": "ipython",
    "version": 3
   },
   "file_extension": ".py",
   "mimetype": "text/x-python",
   "name": "python",
   "nbconvert_exporter": "python",
   "pygments_lexer": "ipython3",
   "version": "3.11.4"
  }
 },
 "nbformat": 4,
 "nbformat_minor": 5
}
