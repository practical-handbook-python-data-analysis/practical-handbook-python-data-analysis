{
 "cells": [
  {
   "attachments": {},
   "cell_type": "markdown",
   "id": "c609faf4",
   "metadata": {},
   "source": [
    "# 地理空間データの可視化"
   ]
  },
  {
   "attachments": {},
   "cell_type": "markdown",
   "id": "9d16935f",
   "metadata": {},
   "source": [
    "## ポイントの可視化"
   ]
  },
  {
   "cell_type": "code",
   "execution_count": null,
   "id": "3443e527",
   "metadata": {},
   "outputs": [],
   "source": [
    "import pandas as pd\n",
    "\n",
    "itami_wifi = pd.read_csv(\"data/282073publicwirelesslan202204.csv\")\n",
    "itami_wifi.iloc[:3, 3:10]"
   ]
  },
  {
   "cell_type": "code",
   "execution_count": null,
   "id": "cf3389f6",
   "metadata": {},
   "outputs": [],
   "source": [
    "itami_center = itami_wifi.loc[:, [\"緯度\", \"経度\"]].mean()\n",
    "itami_center"
   ]
  },
  {
   "cell_type": "code",
   "execution_count": null,
   "id": "22ebc10c",
   "metadata": {},
   "outputs": [],
   "source": [
    "import folium\n",
    "\n",
    "itami_wifi_map = folium.Map(\n",
    "    location=itami_center,\n",
    "    zoom_start=15.2,\n",
    "    width=800,\n",
    "    height=400,\n",
    ")\n",
    "itami_wifi_map"
   ]
  },
  {
   "cell_type": "code",
   "execution_count": null,
   "id": "436903f0",
   "metadata": {},
   "outputs": [],
   "source": [
    "marker = folium.Marker(location=itami_wifi.loc[0, [\"緯度\", \"経度\"]])\n",
    "marker.add_to(itami_wifi_map)\n",
    "itami_wifi_map"
   ]
  },
  {
   "cell_type": "code",
   "execution_count": null,
   "id": "7ac8470e",
   "metadata": {},
   "outputs": [],
   "source": [
    "itami_wifi.loc[:, [\"緯度\", \"経度\"]].apply(\n",
    "    lambda x: folium.Marker(location=x).add_to(itami_wifi_map),\n",
    "    axis=1,\n",
    ")\n",
    "itami_wifi_map"
   ]
  },
  {
   "cell_type": "code",
   "execution_count": null,
   "id": "420b2eb3",
   "metadata": {},
   "outputs": [],
   "source": [
    "import geopandas as gpd\n",
    "\n",
    "land_price_gdf = (\n",
    "    gpd.read_file(\n",
    "        \"https://nlftp.mlit.go.jp/ksj/gml/data/L01/L01-22/L01-22_25_GML.zip\"\n",
    "    )\n",
    "    .groupby(\"L01_005\")\n",
    "    .get_group(\"2022\")\n",
    ")\n",
    "land_price_gdf.loc[:3, [\"L01_006\", \"L01_023\", \"geometry\"]]"
   ]
  },
  {
   "cell_type": "code",
   "execution_count": null,
   "id": "f0f070b2",
   "metadata": {},
   "outputs": [],
   "source": [
    "land_price = land_price_gdf.apply(\n",
    "    lambda s: pd.Series(\n",
    "        (\n",
    "            s[\"geometry\"].y,\n",
    "            s[\"geometry\"].x,\n",
    "            s[\"L01_006\"],\n",
    "        )\n",
    "    ),\n",
    "    axis=1,\n",
    ").values\n",
    "land_price[:3]"
   ]
  },
  {
   "cell_type": "code",
   "execution_count": null,
   "id": "a816f6ad",
   "metadata": {},
   "outputs": [],
   "source": [
    "from folium.plugins import HeatMap\n",
    "\n",
    "shiga_center = (\n",
    "    land_price_gdf.loc[:, \"geometry\"].y.mean(),\n",
    "    land_price_gdf.loc[:, \"geometry\"].x.mean(),\n",
    ")\n",
    "land_price_map = folium.Map(\n",
    "    location=shiga_center,\n",
    "    zoom_start=10,\n",
    ")\n",
    "HeatMap(\n",
    "    data=land_price,\n",
    "    radius=12,\n",
    ").add_to(land_price_map)\n",
    "land_price_map"
   ]
  },
  {
   "attachments": {},
   "cell_type": "markdown",
   "id": "ac5c2b33",
   "metadata": {},
   "source": [
    "## ラインの可視化"
   ]
  },
  {
   "cell_type": "code",
   "execution_count": null,
   "id": "741bec8c",
   "metadata": {},
   "outputs": [],
   "source": [
    "minx, miny = land_price_gdf.loc[:, \"geometry\"].bounds.min()[\n",
    "    [\"minx\", \"miny\"]\n",
    "]\n",
    "maxx, maxy = land_price_gdf.loc[:, \"geometry\"].bounds.max()[\n",
    "    [\"maxx\", \"maxy\"]\n",
    "]\n",
    "rail_gdf = gpd.read_file(\n",
    "    \"https://nlftp.mlit.go.jp/ksj/gml/data/N02/N02-21/N02-21_GML.zip\"\n",
    ").cx[minx:maxx, miny:maxy]\n",
    "rail_gdf.head()"
   ]
  },
  {
   "cell_type": "code",
   "execution_count": null,
   "id": "10d258fb",
   "metadata": {},
   "outputs": [],
   "source": [
    "# 京津線のデータを抽出\n",
    "keishinsen = rail_gdf.groupby(\"N02_003\")[\"geometry\"].get_group(\"京津線\")\n",
    "# 中心となる座標\n",
    "keishinsen_center = (\n",
    "    keishinsen.map(lambda p: p.centroid.y).mean(),\n",
    "    keishinsen.map(lambda p: p.centroid.x).mean(),\n",
    ")\n",
    "keishinsen_center"
   ]
  },
  {
   "cell_type": "code",
   "execution_count": null,
   "id": "82d43503",
   "metadata": {},
   "outputs": [],
   "source": [
    "import numpy as np\n",
    "\n",
    "\n",
    "keishinsen_map = folium.Map(\n",
    "    location=keishinsen_center,\n",
    "    zoom_start=14,\n",
    ")\n",
    "keishinsen.apply(\n",
    "    lambda s: folium.PolyLine(\n",
    "        # 緯度, 経度の順番に変換、fliplr関数で順序を反転\n",
    "        locations=np.fliplr(s.coords),\n",
    "        weight=15  # 線の太さ\n",
    "    ).add_to(keishinsen_map)\n",
    ")\n",
    "keishinsen_map"
   ]
  },
  {
   "cell_type": "code",
   "execution_count": null,
   "id": "9a663e67",
   "metadata": {},
   "outputs": [],
   "source": [
    "rail_map = folium.Map(\n",
    "    location=shiga_center,\n",
    "    zoom_start=10,\n",
    ")\n",
    "folium.features.GeoJson(rail_gdf).add_to(rail_map)\n",
    "rail_map"
   ]
  },
  {
   "attachments": {},
   "cell_type": "markdown",
   "id": "343d080f",
   "metadata": {},
   "source": [
    "## ポリゴンの可視化"
   ]
  },
  {
   "cell_type": "code",
   "execution_count": null,
   "id": "e56f33ef",
   "metadata": {},
   "outputs": [],
   "source": [
    "did_gdf = gpd.read_file(\"./data/A16-15_25_DID.geojson\")\n",
    "did_gdf.head()"
   ]
  },
  {
   "cell_type": "code",
   "execution_count": null,
   "id": "7f0b5c5f",
   "metadata": {},
   "outputs": [],
   "source": [
    "did_map = folium.Map(\n",
    "    location=shiga_center,\n",
    "    zoom_start=10,\n",
    ")\n",
    "folium.GeoJson(did_gdf).add_to(did_map)\n",
    "did_map"
   ]
  },
  {
   "cell_type": "code",
   "execution_count": null,
   "id": "03519d5e",
   "metadata": {},
   "outputs": [],
   "source": [
    "did_choroplethmap = folium.Map(\n",
    "    location=shiga_center,\n",
    "    zoom_start=10,\n",
    ")\n",
    "folium.features.Choropleth(\n",
    "    geo_data=did_gdf,\n",
    "    data=did_gdf,\n",
    "    key_on=\"feature.properties.DIDid\",\n",
    "    columns=[\"DIDid\", \"人口\"],\n",
    "    legend_name=\"人口\",\n",
    ").add_to(did_choroplethmap)\n",
    "did_choroplethmap"
   ]
  }
 ],
 "metadata": {
  "kernelspec": {
   "display_name": "Python 3 (ipykernel)",
   "language": "python",
   "name": "python3"
  },
  "language_info": {
   "codemirror_mode": {
    "name": "ipython",
    "version": 3
   },
   "file_extension": ".py",
   "mimetype": "text/x-python",
   "name": "python",
   "nbconvert_exporter": "python",
   "pygments_lexer": "ipython3",
   "version": "3.11.4"
  }
 },
 "nbformat": 4,
 "nbformat_minor": 5
}
