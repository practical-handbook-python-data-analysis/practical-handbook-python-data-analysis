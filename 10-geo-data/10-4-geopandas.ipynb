{
 "cells": [
  {
   "cell_type": "markdown",
   "id": "cc66d324",
   "metadata": {},
   "source": [
    "# GeoPandas\n",
    "\n",
    "## GeoDataFrame"
   ]
  },
  {
   "cell_type": "code",
   "execution_count": null,
   "id": "8f78d7b9",
   "metadata": {},
   "outputs": [],
   "source": [
    "import geopandas as gpd\n",
    "\n",
    "gdf = gpd.read_file(\"./data/N03-20220101_25_GML/N03-22_25_220101.geojson\")\n",
    "gdf.head()"
   ]
  },
  {
   "cell_type": "code",
   "execution_count": null,
   "id": "961b5e51",
   "metadata": {},
   "outputs": [],
   "source": [
    "gdf = gpd.read_file(\"./data/N03-20220101_25_GML/\")\n",
    "gdf.head()"
   ]
  },
  {
   "cell_type": "markdown",
   "id": "8418e13a",
   "metadata": {},
   "source": [
    "## .cxインデクサ"
   ]
  },
  {
   "cell_type": "code",
   "execution_count": null,
   "id": "a4ae8bde",
   "metadata": {},
   "outputs": [],
   "source": [
    "gdf.cx[136.2:136.4, 35.5:35.6]"
   ]
  },
  {
   "cell_type": "markdown",
   "id": "f911c004",
   "metadata": {},
   "source": [
    "## GeoSeriesの処理"
   ]
  },
  {
   "cell_type": "code",
   "execution_count": null,
   "id": "a6cacdba",
   "metadata": {},
   "outputs": [],
   "source": [
    "gdf.dtypes"
   ]
  },
  {
   "cell_type": "code",
   "execution_count": null,
   "id": "21eb1fbd",
   "metadata": {},
   "outputs": [],
   "source": [
    "geoseries = gdf.loc[:, \"geometry\"]\n",
    "type(geoseries)"
   ]
  },
  {
   "cell_type": "code",
   "execution_count": null,
   "id": "1f0a613c",
   "metadata": {},
   "outputs": [],
   "source": [
    "type(geoseries[0])"
   ]
  },
  {
   "cell_type": "code",
   "execution_count": null,
   "id": "33654990",
   "metadata": {},
   "outputs": [],
   "source": [
    "geoseries[0]"
   ]
  },
  {
   "cell_type": "code",
   "execution_count": null,
   "id": "60121453",
   "metadata": {},
   "outputs": [],
   "source": [
    "geoseries[0].geom_type"
   ]
  },
  {
   "cell_type": "code",
   "execution_count": null,
   "id": "a8ea1a58",
   "metadata": {},
   "outputs": [],
   "source": [
    "geoseries.geom_type.head()"
   ]
  },
  {
   "cell_type": "code",
   "execution_count": null,
   "id": "a386074a",
   "metadata": {},
   "outputs": [],
   "source": [
    "geoseries.plot()"
   ]
  },
  {
   "cell_type": "code",
   "execution_count": null,
   "id": "394a25a2",
   "metadata": {},
   "outputs": [],
   "source": [
    "geoseries.length.head(3)"
   ]
  },
  {
   "cell_type": "code",
   "execution_count": null,
   "id": "cbdc4ea7",
   "metadata": {},
   "outputs": [],
   "source": [
    "geoseries_transformed = geoseries.to_crs(\"EPSG:6674\")\n",
    "geoseries_transformed.length.head(3)"
   ]
  },
  {
   "cell_type": "code",
   "execution_count": null,
   "id": "788dd047",
   "metadata": {},
   "outputs": [],
   "source": [
    "geoseries_transformed.area.head(3)"
   ]
  }
 ],
 "metadata": {
  "kernelspec": {
   "display_name": "Python 3 (ipykernel)",
   "language": "python",
   "name": "python3"
  },
  "language_info": {
   "codemirror_mode": {
    "name": "ipython",
    "version": 3
   },
   "file_extension": ".py",
   "mimetype": "text/x-python",
   "name": "python",
   "nbconvert_exporter": "python",
   "pygments_lexer": "ipython3",
   "version": "3.11.4"
  }
 },
 "nbformat": 4,
 "nbformat_minor": 5
}
