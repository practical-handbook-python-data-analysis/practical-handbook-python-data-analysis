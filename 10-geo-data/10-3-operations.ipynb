{
 "cells": [
  {
   "cell_type": "markdown",
   "id": "3b69e847",
   "metadata": {},
   "source": [
    "# 地理空間データの操作\n",
    "\n",
    "## Geometricオブジェクト"
   ]
  },
  {
   "cell_type": "code",
   "execution_count": null,
   "id": "bf2915f2",
   "metadata": {},
   "outputs": [],
   "source": [
    "from shapely.geometry import Point\n",
    "\n",
    "Point(1, 1)\n",
    "# or\n",
    "Point([1, 1])"
   ]
  },
  {
   "cell_type": "code",
   "execution_count": null,
   "id": "5c0b3605",
   "metadata": {},
   "outputs": [],
   "source": [
    "tokyo = Point(139.766667, 35.681111)\n",
    "shinjuku = Point(139.700278, 35.690833)\n",
    "shinagawa = Point(139.738694, 35.628222)"
   ]
  },
  {
   "cell_type": "code",
   "execution_count": null,
   "id": "afe02165",
   "metadata": {},
   "outputs": [],
   "source": [
    "from shapely.geometry import LineString\n",
    "\n",
    "tokyo_shinjuku = LineString(\n",
    "    [\n",
    "        (139.766667, 35.681111),\n",
    "        (139.700278, 35.690833),\n",
    "    ]\n",
    ")\n",
    "tokyo_shinjuku"
   ]
  },
  {
   "cell_type": "code",
   "execution_count": null,
   "id": "b8f44ccf",
   "metadata": {},
   "outputs": [],
   "source": [
    "from shapely.geometry import Polygon\n",
    "\n",
    "tokyo_shinjuku_shinagawa = Polygon(\n",
    "    [\n",
    "        (139.766667, 35.681111),\n",
    "        (139.700278, 35.690833),\n",
    "        (139.738694, 35.628222),\n",
    "    ]\n",
    ")\n",
    "tokyo_shinjuku_shinagawa"
   ]
  },
  {
   "cell_type": "markdown",
   "id": "97d77a78",
   "metadata": {},
   "source": [
    "## Geometricオブジェクトの属性"
   ]
  },
  {
   "cell_type": "code",
   "execution_count": null,
   "id": "307df6c0",
   "metadata": {},
   "outputs": [],
   "source": [
    "tokyo.geom_type"
   ]
  },
  {
   "cell_type": "code",
   "execution_count": null,
   "id": "73fc0fad",
   "metadata": {},
   "outputs": [],
   "source": [
    "tokyo_shinjuku.geom_type"
   ]
  },
  {
   "cell_type": "code",
   "execution_count": null,
   "id": "33bf476d",
   "metadata": {},
   "outputs": [],
   "source": [
    "tokyo_shinjuku_shinagawa.geom_type"
   ]
  },
  {
   "cell_type": "code",
   "execution_count": null,
   "id": "689098a8",
   "metadata": {},
   "outputs": [],
   "source": [
    "tokyo_shinjuku.xy"
   ]
  },
  {
   "cell_type": "code",
   "execution_count": null,
   "id": "9a2aecb5",
   "metadata": {},
   "outputs": [],
   "source": [
    "list(tokyo_shinjuku.coords)"
   ]
  },
  {
   "cell_type": "code",
   "execution_count": null,
   "id": "600c1113",
   "metadata": {},
   "outputs": [],
   "source": [
    "tokyo_shinjuku.coords[:]"
   ]
  },
  {
   "cell_type": "code",
   "execution_count": null,
   "id": "ee8e4e6f",
   "metadata": {},
   "outputs": [],
   "source": [
    "tokyo_shinjuku.length"
   ]
  },
  {
   "cell_type": "code",
   "execution_count": null,
   "id": "c9a25b91",
   "metadata": {},
   "outputs": [],
   "source": [
    "tokyo_shinjuku_shinagawa.length"
   ]
  },
  {
   "cell_type": "code",
   "execution_count": null,
   "id": "b592c3ee",
   "metadata": {},
   "outputs": [],
   "source": [
    "tokyo_shinjuku_shinagawa.area"
   ]
  },
  {
   "cell_type": "code",
   "execution_count": null,
   "id": "ad68f5b8",
   "metadata": {},
   "outputs": [],
   "source": [
    "tokyo_shinjuku.bounds"
   ]
  },
  {
   "cell_type": "code",
   "execution_count": null,
   "id": "5c83b3f4",
   "metadata": {},
   "outputs": [],
   "source": [
    "tokyo_shinjuku_shinagawa.bounds"
   ]
  },
  {
   "cell_type": "markdown",
   "id": "a4ff75c1",
   "metadata": {},
   "source": [
    "## 距離の算出"
   ]
  },
  {
   "cell_type": "code",
   "execution_count": null,
   "id": "6a818330",
   "metadata": {},
   "outputs": [],
   "source": [
    "tokyo.distance(shinjuku)"
   ]
  },
  {
   "cell_type": "code",
   "execution_count": null,
   "id": "e12079ed",
   "metadata": {},
   "outputs": [],
   "source": [
    "from geopy import distance\n",
    "\n",
    "tokyo_shinjuku_distance = distance.geodesic(\n",
    "    list(reversed(tokyo.coords[0])),\n",
    "    list(reversed(shinjuku.coords[0])),\n",
    ")\n",
    "tokyo_shinjuku_distance"
   ]
  },
  {
   "cell_type": "code",
   "execution_count": null,
   "id": "a72d4eb7",
   "metadata": {},
   "outputs": [],
   "source": [
    "tokyo_shinjuku_distance.meters"
   ]
  },
  {
   "cell_type": "code",
   "execution_count": null,
   "id": "cf6dca5b",
   "metadata": {},
   "outputs": [],
   "source": [
    "tokyo_shinjuku_distance.km"
   ]
  }
 ],
 "metadata": {
  "kernelspec": {
   "display_name": "Python 3 (ipykernel)",
   "language": "python",
   "name": "python3"
  },
  "language_info": {
   "codemirror_mode": {
    "name": "ipython",
    "version": 3
   },
   "file_extension": ".py",
   "mimetype": "text/x-python",
   "name": "python",
   "nbconvert_exporter": "python",
   "pygments_lexer": "ipython3",
   "version": "3.11.3"
  }
 },
 "nbformat": 4,
 "nbformat_minor": 5
}
