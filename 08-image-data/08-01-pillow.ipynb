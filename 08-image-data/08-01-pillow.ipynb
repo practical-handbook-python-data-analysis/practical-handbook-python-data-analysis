{
 "cells": [
  {
   "cell_type": "markdown",
   "id": "a42a7b24",
   "metadata": {},
   "source": [
    "# Pillowを使った画像の加工"
   ]
  },
  {
   "cell_type": "markdown",
   "id": "cd91e8b9",
   "metadata": {},
   "source": [
    "## サムネイル化"
   ]
  },
  {
   "cell_type": "code",
   "execution_count": null,
   "id": "28de729f",
   "metadata": {},
   "outputs": [],
   "source": [
    "from PIL import Image\n",
    "\n",
    "with Image.open(\"data/sample.jpg\") as im:\n",
    "    im.thumbnail((128, 128))\n",
    "    im.save(\"data/thumb-test.jpg\")"
   ]
  },
  {
   "cell_type": "code",
   "execution_count": null,
   "id": "89fc0ef1",
   "metadata": {},
   "outputs": [],
   "source": [
    "# Jupyter Notebookで実行する場合にNotebook内に画像を表示する設定\n",
    "from PIL import ImageShow\n",
    "\n",
    "ImageShow.register(ImageShow.IPythonViewer, order=0)"
   ]
  },
  {
   "cell_type": "code",
   "execution_count": null,
   "id": "fe564ab9",
   "metadata": {},
   "outputs": [],
   "source": [
    "with Image.open(\"data/thumb-test.jpg\") as thumb:\n",
    "    print(thumb.size)\n",
    "    thumb.show()"
   ]
  },
  {
   "cell_type": "markdown",
   "id": "9e8fc315",
   "metadata": {},
   "source": [
    "## クロップ（切り取り）"
   ]
  },
  {
   "cell_type": "code",
   "execution_count": null,
   "id": "9d67f837",
   "metadata": {},
   "outputs": [],
   "source": [
    "def calc_cropping_box(image):\n",
    "    \"\"\"\n",
    "    クロップする四隅の座標を計算する関数\n",
    "    \"\"\"\n",
    "    x, y = image.size\n",
    "    print(f\"{x=}, {y=}\")\n",
    "    if x > y:  # 幅が大きい（横長）場合の処理：高さが正方形の1辺の長さ\n",
    "        left = (x - y) // 2\n",
    "        upper = 0\n",
    "        right = left + y\n",
    "        lower = y\n",
    "    else:  # 高さが大きい（縦長）場合の処理：幅が正方形の1辺の長さ\n",
    "        left = 0\n",
    "        upper = (y - x) // 2\n",
    "        right = x\n",
    "        lower = upper + x\n",
    "    box = (\n",
    "        left,\n",
    "        upper,\n",
    "        right,\n",
    "        lower,\n",
    "    )  # 切り取る四隅の座標\n",
    "    print(f\"{box=}\")\n",
    "    return box"
   ]
  },
  {
   "cell_type": "code",
   "execution_count": null,
   "id": "58f0fc3c",
   "metadata": {},
   "outputs": [],
   "source": [
    "with Image.open(\"data/sample.jpg\") as im:\n",
    "    box = calc_cropping_box(im)\n",
    "    cropped = im.crop(box)\n",
    "    cropped.save(\"data/cropped-test.jpg\")"
   ]
  },
  {
   "cell_type": "code",
   "execution_count": null,
   "id": "a059bc54",
   "metadata": {},
   "outputs": [],
   "source": [
    "with Image.open(\"data/cropped-test.jpg\") as cropped:\n",
    "    x, y = cropped.size\n",
    "    print(f\"{x=}, {y=}\")\n",
    "    cropped.show()"
   ]
  },
  {
   "cell_type": "markdown",
   "id": "b6c85a6f",
   "metadata": {},
   "source": [
    "## グレースケール（モノクロ）化"
   ]
  },
  {
   "cell_type": "code",
   "execution_count": null,
   "id": "1bcf1303",
   "metadata": {},
   "outputs": [],
   "source": [
    "with Image.open(\"data/sample.jpg\") as im:\n",
    "    im_gray = im.convert(\"L\")\n",
    "    im_gray.save(\"data/gray-test.jpg\")"
   ]
  },
  {
   "cell_type": "markdown",
   "id": "9a8b6c72",
   "metadata": {},
   "source": [
    "## 複数の画像をまとめて処理する方法"
   ]
  },
  {
   "cell_type": "code",
   "execution_count": null,
   "id": "303bbec2",
   "metadata": {},
   "outputs": [],
   "source": [
    "import pathlib\n",
    "\n",
    "current = pathlib.Path(\".\")"
   ]
  },
  {
   "cell_type": "code",
   "execution_count": null,
   "id": "38ab92d2",
   "metadata": {},
   "outputs": [],
   "source": [
    "for filename in current.glob(\"data/sample*.jpg\"):\n",
    "    stem = filename.stem  # 拡張子を含まないファイル名\n",
    "    suffix = filename.suffix  # 拡張子\n",
    "    with Image.open(filename) as im:\n",
    "        print(filename)\n",
    "        # クロップ\n",
    "        box = calc_cropping_box(im)\n",
    "        cropped = im.crop(box)\n",
    "        # サムネイル化\n",
    "        cropped.thumbnail((128, 128))\n",
    "        cropped.save(current / f\"data/cropped-{stem}{suffix}\")\n",
    "        # グレースケール化\n",
    "        gray = cropped.convert(\"L\")\n",
    "        gray.save(current / f\"data/cropped-gray-{stem}{suffix}\")"
   ]
  },
  {
   "cell_type": "code",
   "execution_count": null,
   "id": "b6328ba6",
   "metadata": {},
   "outputs": [],
   "source": [
    "for filename in current.glob(\"data/cropped-sample*.jpg\"):\n",
    "    with Image.open(filename) as im:\n",
    "        print(filename)\n",
    "        im.show()"
   ]
  },
  {
   "cell_type": "code",
   "execution_count": null,
   "id": "864c4287",
   "metadata": {},
   "outputs": [],
   "source": [
    "for filename in current.glob(\"data/cropped-gray-sample*.jpg\"):\n",
    "    with Image.open(filename) as im:\n",
    "        print(filename)\n",
    "        im.show()"
   ]
  }
 ],
 "metadata": {
  "language_info": {
   "name": "python"
  }
 },
 "nbformat": 4,
 "nbformat_minor": 5
}
