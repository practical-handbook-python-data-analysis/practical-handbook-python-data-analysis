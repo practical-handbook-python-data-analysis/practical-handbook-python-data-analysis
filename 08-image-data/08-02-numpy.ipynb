{
 "cells": [
  {
   "cell_type": "markdown",
   "id": "e0b6ccf9",
   "metadata": {},
   "source": [
    "# NumPyを使った画像データ処理"
   ]
  },
  {
   "cell_type": "markdown",
   "id": "dc96a811",
   "metadata": {},
   "source": [
    "## 画像とNumPy配列の間の変換"
   ]
  },
  {
   "cell_type": "markdown",
   "id": "f98dae05",
   "metadata": {},
   "source": [
    "### 画像をNumPy配列に変換\n",
    "※ここで読み込んでいる画像はUSCデータベース [https://sipi.usc.edu/database/database.php](https://sipi.usc.edu/database/database.php) からダウンロードできます。"
   ]
  },
  {
   "cell_type": "code",
   "execution_count": null,
   "id": "9430c8a9",
   "metadata": {},
   "outputs": [],
   "source": [
    "from PIL import Image\n",
    "import numpy as np\n",
    "\n",
    "im = Image.open(\"data/4.2.07.tiff\")\n",
    "print(im.format)\n",
    "print(im.size)\n",
    "print(im.mode)"
   ]
  },
  {
   "cell_type": "code",
   "execution_count": null,
   "id": "8fb6b6f8",
   "metadata": {},
   "outputs": [],
   "source": [
    "im_array = np.array(im)\n",
    "print(type(im_array))"
   ]
  },
  {
   "cell_type": "code",
   "execution_count": null,
   "id": "33a7329c",
   "metadata": {},
   "outputs": [],
   "source": [
    "print(im_array.shape)"
   ]
  },
  {
   "cell_type": "code",
   "execution_count": null,
   "id": "221cce25",
   "metadata": {},
   "outputs": [],
   "source": [
    "print(im_array[0, 0, :])"
   ]
  },
  {
   "cell_type": "code",
   "execution_count": null,
   "id": "678a135d",
   "metadata": {},
   "outputs": [],
   "source": [
    "print(im_array[256, :, :])"
   ]
  },
  {
   "cell_type": "code",
   "execution_count": null,
   "id": "40cb4d3c",
   "metadata": {},
   "outputs": [],
   "source": [
    "print(im_array[256, 128, :])"
   ]
  },
  {
   "cell_type": "markdown",
   "id": "86eed713",
   "metadata": {},
   "source": [
    "### NumPy配列を画像に変換"
   ]
  },
  {
   "cell_type": "code",
   "execution_count": null,
   "id": "06fefc70",
   "metadata": {},
   "outputs": [],
   "source": [
    "Image.fromarray(im_array)"
   ]
  },
  {
   "cell_type": "markdown",
   "id": "36a1188e",
   "metadata": {},
   "source": [
    "## 拡大／縮小"
   ]
  },
  {
   "cell_type": "code",
   "execution_count": null,
   "id": "16f41ac5",
   "metadata": {},
   "outputs": [],
   "source": [
    "import cv2 as cv\n",
    "\n",
    "# 幅128ピクセル、高さ256ピクセルに変換\n",
    "im_resized1 = cv.resize(im_array, (128, 256))\n",
    "Image.fromarray(im_resized1)"
   ]
  },
  {
   "cell_type": "code",
   "execution_count": null,
   "id": "2632edbb",
   "metadata": {},
   "outputs": [],
   "source": [
    "# 横方向に0.25倍、縦方向に0.5倍\n",
    "im_resized2 = cv.resize(im_array, dsize=None, fx=0.25, fy=0.5)\n",
    "Image.fromarray(im_resized2)"
   ]
  },
  {
   "cell_type": "code",
   "execution_count": null,
   "id": "21f23d24",
   "metadata": {},
   "outputs": [],
   "source": [
    "im_resized3 = cv.resize(\n",
    "    im_array,\n",
    "    (128, 256),\n",
    "    interpolation=cv.INTER_AREA,\n",
    ")\n",
    "Image.fromarray(im_resized3)"
   ]
  },
  {
   "cell_type": "code",
   "execution_count": null,
   "id": "20f1a4b4",
   "metadata": {},
   "outputs": [],
   "source": [
    "# 縦に3倍、横に2倍\n",
    "im_repeated = im_array.repeat(3, axis=0).repeat(2, axis=1)\n",
    "Image.fromarray(im_repeated)"
   ]
  },
  {
   "cell_type": "markdown",
   "id": "b17d5d4c",
   "metadata": {},
   "source": [
    "## 切り取り／貼り付け"
   ]
  },
  {
   "cell_type": "code",
   "execution_count": null,
   "id": "e4e3353a",
   "metadata": {},
   "outputs": [],
   "source": [
    "# 中央右のピーマンを縦330、横280の長方形に切り取る\n",
    "im_cropped = im_array[170:500, 160:440, :]\n",
    "Image.fromarray(im_cropped)"
   ]
  },
  {
   "cell_type": "code",
   "execution_count": null,
   "id": "f018cc36",
   "metadata": {},
   "outputs": [],
   "source": [
    "# 左上隅に貼り付け\n",
    "im_pasted = im_array.copy()\n",
    "im_pasted[0:330, 0:280, :] = im_cropped\n",
    "Image.fromarray(im_pasted)"
   ]
  },
  {
   "cell_type": "markdown",
   "id": "7fb680f8",
   "metadata": {},
   "source": [
    "## 分割（n等分）"
   ]
  },
  {
   "cell_type": "code",
   "execution_count": null,
   "id": "1b25c4df",
   "metadata": {},
   "outputs": [],
   "source": [
    "# 左右に2等分\n",
    "im_left, im_right = np.split(im_array, 2, axis=1)\n",
    "Image.fromarray(im_left)  # 左"
   ]
  },
  {
   "cell_type": "code",
   "execution_count": null,
   "id": "de137567",
   "metadata": {},
   "outputs": [],
   "source": [
    "# 上下左右に2等分（4分割）\n",
    "im_split_list = []\n",
    "for part in np.split(im_array, 2, axis=0):\n",
    "    im_split_list.extend(np.split(part, 2, axis=1))\n",
    "\n",
    "Image.fromarray(im_split_list[3])  # 右下"
   ]
  },
  {
   "cell_type": "markdown",
   "id": "e6a4b02a",
   "metadata": {},
   "source": [
    "## 90度単位での回転"
   ]
  },
  {
   "cell_type": "code",
   "execution_count": null,
   "id": "f405acdd",
   "metadata": {},
   "outputs": [],
   "source": [
    "# 反時計回りに270°回転\n",
    "im_rotated270 = np.rot90(im_array, k=3)  # k=-1でも同じ\n",
    "Image.fromarray(im_rotated270)"
   ]
  },
  {
   "cell_type": "markdown",
   "id": "49162095",
   "metadata": {},
   "source": [
    "## 反転"
   ]
  },
  {
   "cell_type": "code",
   "execution_count": null,
   "id": "11abd587",
   "metadata": {},
   "outputs": [],
   "source": [
    "# 上下反転\n",
    "im_flipped_vertical = np.flip(im_array, axis=0)\n",
    "Image.fromarray(im_flipped_vertical)"
   ]
  },
  {
   "cell_type": "code",
   "execution_count": null,
   "id": "30535b0e",
   "metadata": {},
   "outputs": [],
   "source": [
    "# 左右反転\n",
    "im_flipped_horizontal = np.flip(im_array, axis=1)\n",
    "Image.fromarray(im_flipped_horizontal)"
   ]
  },
  {
   "cell_type": "code",
   "execution_count": null,
   "id": "57250f7c",
   "metadata": {},
   "outputs": [],
   "source": [
    "# 上下左右反転（180°回転と同じ）\n",
    "im_flipped_both = np.flip(im_array, axis=(0, 1))\n",
    "Image.fromarray(im_flipped_both)"
   ]
  },
  {
   "cell_type": "code",
   "execution_count": null,
   "id": "f04bf5c0",
   "metadata": {},
   "outputs": [],
   "source": [
    "# 反転方向の指定なし\n",
    "im_flipped_wrong = np.flip(im_array)\n",
    "Image.fromarray(im_flipped_wrong)"
   ]
  },
  {
   "cell_type": "markdown",
   "id": "03e987cf",
   "metadata": {},
   "source": [
    "## 複製／貼り合わせ"
   ]
  },
  {
   "cell_type": "code",
   "execution_count": null,
   "id": "97a6cab7",
   "metadata": {},
   "outputs": [],
   "source": [
    "# 縦方向に3回、横方向に2回複製。\n",
    "im_tiled = np.tile(im_cropped, reps=(3, 2, 1))\n",
    "Image.fromarray(im_tiled)"
   ]
  },
  {
   "cell_type": "code",
   "execution_count": null,
   "id": "81dc5d51",
   "metadata": {},
   "outputs": [],
   "source": [
    "# 縦方向に並べる\n",
    "im_concatenated_vertical = np.concatenate(\n",
    "    [im_array, im_flipped_vertical],\n",
    "    axis=0,\n",
    ")\n",
    "Image.fromarray(im_concatenated_vertical)"
   ]
  },
  {
   "cell_type": "code",
   "execution_count": null,
   "id": "8a02f0c6",
   "metadata": {},
   "outputs": [],
   "source": [
    "# 横方向に並べる\n",
    "im_concatenated_horizontal = np.concatenate(\n",
    "    [im_array, im_flipped_horizontal],\n",
    "    axis=1,\n",
    ")\n",
    "Image.fromarray(im_concatenated_horizontal)"
   ]
  },
  {
   "cell_type": "markdown",
   "id": "59e08ea2",
   "metadata": {},
   "source": [
    "## 次元の操作"
   ]
  },
  {
   "cell_type": "markdown",
   "id": "5b976671",
   "metadata": {},
   "source": [
    "### ravel()"
   ]
  },
  {
   "cell_type": "code",
   "execution_count": null,
   "id": "061398cb",
   "metadata": {},
   "outputs": [],
   "source": [
    "im_2d = im_array[:, :, 0]  # Rチャネルを抽出\n",
    "print(f\"{im_2d.shape=}\")\n",
    "print(f\"{np.ravel(im_2d).shape=}\")  # 要素の数は512x512\n",
    "print(np.array_equal(np.ravel(im_2d), im_2d.flatten()))  # 同じ結果であることを確認"
   ]
  },
  {
   "cell_type": "code",
   "execution_count": null,
   "id": "dce0510c",
   "metadata": {},
   "outputs": [],
   "source": [
    "im_order = im_2d[0:2, 0:2]  # 配列の左隅の2行2列\n",
    "print(im_order)\n",
    "print(f'行を優先： {np.ravel(im_order, order=\"C\")}')  # C言語形式、デフォルト\n",
    "print(f'列を優先： {np.ravel(im_order, order=\"F\")}')  # FORTRAN言語形式"
   ]
  },
  {
   "cell_type": "markdown",
   "id": "03076d1b",
   "metadata": {},
   "source": [
    "### expand_dims()"
   ]
  },
  {
   "cell_type": "code",
   "execution_count": null,
   "id": "37d0cd4d",
   "metadata": {},
   "outputs": [],
   "source": [
    "im_3d_last = np.expand_dims(im_2d, axis=-1)  # 最後に追加\n",
    "im_3d_first = np.expand_dims(im_2d, axis=0)  # 先頭に追加\n",
    "im_3d_1 = np.expand_dims(im_2d, axis=1)  # 1番目に追加\n",
    "\n",
    "print(f\"{im_3d_last.shape=}\")\n",
    "print(f\"{im_3d_first.shape=}\")\n",
    "print(f\"{im_3d_1.shape=}\")"
   ]
  },
  {
   "cell_type": "markdown",
   "id": "4e2e2615",
   "metadata": {},
   "source": [
    "### squeeze()"
   ]
  },
  {
   "cell_type": "code",
   "execution_count": null,
   "id": "e4c74adb",
   "metadata": {},
   "outputs": [],
   "source": [
    "im_2d_squeezed_last = np.squeeze(im_3d_last, axis=-1)\n",
    "im_2d_squeezed_1 = np.squeeze(im_3d_1, axis=1)\n",
    "\n",
    "print(f\"{im_2d_squeezed_last.shape=}\")\n",
    "print(f\"{im_2d_squeezed_1.shape=}\")\n",
    "\n",
    "# 同じ結果であることを確認\n",
    "print(\n",
    "    np.array_equal(\n",
    "        im_2d_squeezed_last,\n",
    "        im_2d_squeezed_1,\n",
    "    )\n",
    ")"
   ]
  },
  {
   "cell_type": "markdown",
   "id": "cdacf887",
   "metadata": {},
   "source": [
    "## HWCとCHWとの変換"
   ]
  },
  {
   "cell_type": "markdown",
   "id": "7f29a876",
   "metadata": {},
   "source": [
    "### HWCからCHWへ"
   ]
  },
  {
   "cell_type": "code",
   "execution_count": null,
   "id": "2af5faca",
   "metadata": {},
   "outputs": [],
   "source": [
    "im_hwc = im_cropped.copy()  # 切り取ったピーマン\n",
    "print(im_hwc.shape)"
   ]
  },
  {
   "cell_type": "code",
   "execution_count": null,
   "id": "3d6a6d21",
   "metadata": {},
   "outputs": [],
   "source": [
    "print(np.swapaxes(im_hwc, 1, 2).swapaxes(0, 1).shape)"
   ]
  },
  {
   "cell_type": "code",
   "execution_count": null,
   "id": "a87a1c79",
   "metadata": {},
   "outputs": [],
   "source": [
    "print(np.moveaxis(im_hwc, 2, 0).shape)"
   ]
  },
  {
   "cell_type": "code",
   "execution_count": null,
   "id": "0a3ba5fa",
   "metadata": {},
   "outputs": [],
   "source": [
    "print(np.transpose(im_hwc, (2, 0, 1)).shape)"
   ]
  },
  {
   "cell_type": "markdown",
   "id": "45f4ec55",
   "metadata": {},
   "source": [
    "### CHWからHWCへ"
   ]
  },
  {
   "cell_type": "code",
   "execution_count": null,
   "id": "71910e54",
   "metadata": {},
   "outputs": [],
   "source": [
    "# 準備（CHWに変換しておく。）\n",
    "im_chw = np.transpose(im_hwc, (2, 0, 1))\n",
    "print(im_chw.shape)"
   ]
  },
  {
   "cell_type": "code",
   "execution_count": null,
   "id": "addae8c5",
   "metadata": {},
   "outputs": [],
   "source": [
    "print(np.swapaxes(im_chw, 1, 2).swapaxes(0, 2).shape)"
   ]
  },
  {
   "cell_type": "code",
   "execution_count": null,
   "id": "231c0672",
   "metadata": {},
   "outputs": [],
   "source": [
    "print(np.moveaxis(im_chw, 0, 2).shape)"
   ]
  },
  {
   "cell_type": "code",
   "execution_count": null,
   "id": "28adac79",
   "metadata": {},
   "outputs": [],
   "source": [
    "print(np.transpose(im_chw, (1, 2, 0)).shape)"
   ]
  },
  {
   "cell_type": "markdown",
   "id": "d1f6e24c",
   "metadata": {},
   "source": [
    "## 色（チャネル）の積み重ね／変換"
   ]
  },
  {
   "cell_type": "code",
   "execution_count": null,
   "id": "4cdeaa03",
   "metadata": {},
   "outputs": [],
   "source": [
    "# チャネルごとに分割した配列から元の配列を再構成\n",
    "im_stacked = np.stack(\n",
    "    [\n",
    "        im_array[:, :, 0],\n",
    "        im_array[:, :, 1],\n",
    "        im_array[:, :, 2],\n",
    "    ],\n",
    "    axis=2,\n",
    ")\n",
    "print(np.array_equal(im_stacked, im_array))"
   ]
  },
  {
   "cell_type": "code",
   "execution_count": null,
   "id": "04ac7529",
   "metadata": {},
   "outputs": [],
   "source": [
    "# NumPyのみ\n",
    "im_rgb = im_array.copy()\n",
    "im_bgr_np = im_rgb[:, :, [2, 1, 0]]  # 色（チャネル）の軸を並べ替える"
   ]
  },
  {
   "cell_type": "code",
   "execution_count": null,
   "id": "f6f1d378",
   "metadata": {},
   "outputs": [],
   "source": [
    "# OpenCVのcvtColor関数\n",
    "im_bgr_cv = cv.cvtColor(im_rgb, code=cv.COLOR_RGB2BGR)\n",
    "print(np.array_equal(im_bgr_np, im_bgr_cv))  # NumPyと同じ結果であることを確認"
   ]
  },
  {
   "cell_type": "code",
   "execution_count": null,
   "id": "bf07ab1e",
   "metadata": {},
   "outputs": [],
   "source": [
    "# NumPyのみ\n",
    "im_rgb_np = im_bgr_np[:, :, [2, 1, 0]]  # 色（チャネル）の軸を並べ替える\n",
    "print(np.array_equal(im_rgb_np, im_rgb))  # 元に戻ったことを確認"
   ]
  },
  {
   "cell_type": "code",
   "execution_count": null,
   "id": "7b5e2db0",
   "metadata": {},
   "outputs": [],
   "source": [
    "# OpenCVのcvtColor関数\n",
    "im_rgb_cv = cv.cvtColor(im_bgr_cv, code=cv.COLOR_BGR2RGB)\n",
    "print(np.array_equal(im_rgb_cv, im_rgb))  # 元に戻ったことを確認"
   ]
  }
 ],
 "metadata": {},
 "nbformat": 4,
 "nbformat_minor": 5
}
