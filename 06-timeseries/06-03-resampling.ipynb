{
 "cells": [
  {
   "cell_type": "markdown",
   "id": "f85b790a",
   "metadata": {},
   "source": [
    "# リサンプリング"
   ]
  },
  {
   "cell_type": "markdown",
   "id": "8f5a3e12",
   "metadata": {},
   "source": [
    "## resample() メソッド"
   ]
  },
  {
   "cell_type": "code",
   "execution_count": 1,
   "id": "8e2e99a6",
   "metadata": {},
   "outputs": [
    {
     "data": {
      "text/plain": [
       "2023-01-01    0\n",
       "2023-01-02    1\n",
       "2023-01-03    2\n",
       "2023-01-04    3\n",
       "2023-01-05    4\n",
       "Freq: D, dtype: int64"
      ]
     },
     "execution_count": 1,
     "metadata": {},
     "output_type": "execute_result"
    }
   ],
   "source": [
    "import pandas as pd\n",
    "\n",
    "ser = pd.Series(\n",
    "    range(21),\n",
    "    index=pd.date_range(\"2023-01-01\", periods=21),\n",
    ")\n",
    "ser.head()"
   ]
  },
  {
   "cell_type": "code",
   "execution_count": 2,
   "id": "8ead6f97",
   "metadata": {},
   "outputs": [
    {
     "data": {
      "text/plain": [
       "2023-01-01      0\n",
       "2023-01-08     28\n",
       "2023-01-15     77\n",
       "2023-01-22    105\n",
       "Freq: W-SUN, dtype: int64"
      ]
     },
     "execution_count": 2,
     "metadata": {},
     "output_type": "execute_result"
    }
   ],
   "source": [
    "ser.resample(\"1W\").sum()"
   ]
  },
  {
   "cell_type": "code",
   "execution_count": 3,
   "id": "a7de6c0c",
   "metadata": {},
   "outputs": [
    {
     "data": {
      "text/html": [
       "<div>\n",
       "<style scoped>\n",
       "    .dataframe tbody tr th:only-of-type {\n",
       "        vertical-align: middle;\n",
       "    }\n",
       "\n",
       "    .dataframe tbody tr th {\n",
       "        vertical-align: top;\n",
       "    }\n",
       "\n",
       "    .dataframe thead th {\n",
       "        text-align: right;\n",
       "    }\n",
       "</style>\n",
       "<table border=\"1\" class=\"dataframe\">\n",
       "  <thead>\n",
       "    <tr style=\"text-align: right;\">\n",
       "      <th></th>\n",
       "      <th>open</th>\n",
       "      <th>high</th>\n",
       "      <th>low</th>\n",
       "      <th>close</th>\n",
       "    </tr>\n",
       "  </thead>\n",
       "  <tbody>\n",
       "    <tr>\n",
       "      <th>2023-01-01</th>\n",
       "      <td>0</td>\n",
       "      <td>0</td>\n",
       "      <td>0</td>\n",
       "      <td>0</td>\n",
       "    </tr>\n",
       "    <tr>\n",
       "      <th>2023-01-08</th>\n",
       "      <td>1</td>\n",
       "      <td>7</td>\n",
       "      <td>1</td>\n",
       "      <td>7</td>\n",
       "    </tr>\n",
       "    <tr>\n",
       "      <th>2023-01-15</th>\n",
       "      <td>8</td>\n",
       "      <td>14</td>\n",
       "      <td>8</td>\n",
       "      <td>14</td>\n",
       "    </tr>\n",
       "    <tr>\n",
       "      <th>2023-01-22</th>\n",
       "      <td>15</td>\n",
       "      <td>20</td>\n",
       "      <td>15</td>\n",
       "      <td>20</td>\n",
       "    </tr>\n",
       "  </tbody>\n",
       "</table>\n",
       "</div>"
      ],
      "text/plain": [
       "            open  high  low  close\n",
       "2023-01-01     0     0    0      0\n",
       "2023-01-08     1     7    1      7\n",
       "2023-01-15     8    14    8     14\n",
       "2023-01-22    15    20   15     20"
      ]
     },
     "execution_count": 3,
     "metadata": {},
     "output_type": "execute_result"
    }
   ],
   "source": [
    "ser.resample(\"1W\").ohlc()"
   ]
  },
  {
   "cell_type": "code",
   "execution_count": 4,
   "id": "8cfbb2e6",
   "metadata": {},
   "outputs": [
    {
     "data": {
      "text/plain": [
       "2023-01-01     0\n",
       "2023-01-04     3\n",
       "2023-01-07     6\n",
       "2023-01-10     9\n",
       "2023-01-13    12\n",
       "2023-01-16    15\n",
       "2023-01-19    18\n",
       "Freq: 3D, dtype: int64"
      ]
     },
     "execution_count": 4,
     "metadata": {},
     "output_type": "execute_result"
    }
   ],
   "source": [
    "ser.resample(\"3D\", closed=\"left\").first()"
   ]
  },
  {
   "cell_type": "code",
   "execution_count": 5,
   "id": "8c112b6a",
   "metadata": {},
   "outputs": [
    {
     "data": {
      "text/plain": [
       "2022-12-29     0\n",
       "2023-01-01     1\n",
       "2023-01-04     4\n",
       "2023-01-07     7\n",
       "2023-01-10    10\n",
       "2023-01-13    13\n",
       "2023-01-16    16\n",
       "2023-01-19    19\n",
       "Freq: 3D, dtype: int64"
      ]
     },
     "execution_count": 5,
     "metadata": {},
     "output_type": "execute_result"
    }
   ],
   "source": [
    "ser.resample(\"3D\", closed=\"right\").first()"
   ]
  }
 ],
 "metadata": {
  "kernelspec": {
   "display_name": "Python 3 (ipykernel)",
   "language": "python",
   "name": "python3"
  },
  "language_info": {
   "codemirror_mode": {
    "name": "ipython",
    "version": 3
   },
   "file_extension": ".py",
   "mimetype": "text/x-python",
   "name": "python",
   "nbconvert_exporter": "python",
   "pygments_lexer": "ipython3",
   "version": "3.11.3"
  }
 },
 "nbformat": 4,
 "nbformat_minor": 5
}
