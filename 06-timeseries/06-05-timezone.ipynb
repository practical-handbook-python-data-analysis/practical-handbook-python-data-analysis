{
 "cells": [
  {
   "cell_type": "markdown",
   "id": "f1fa7f9a",
   "metadata": {},
   "source": [
    "# タイムゾーン情報を含むdatetime型の操作"
   ]
  },
  {
   "cell_type": "markdown",
   "id": "8981e1e8",
   "metadata": {},
   "source": [
    "## タイムゾーン情報の付与と変換"
   ]
  },
  {
   "cell_type": "code",
   "execution_count": 1,
   "id": "5042665c",
   "metadata": {},
   "outputs": [],
   "source": [
    "import pandas as pd\n",
    "\n",
    "ts = pd.Timestamp(\"2023-01-01\")"
   ]
  },
  {
   "cell_type": "code",
   "execution_count": 2,
   "id": "57f537d0",
   "metadata": {},
   "outputs": [
    {
     "name": "stdout",
     "output_type": "stream",
     "text": [
      "None\n"
     ]
    }
   ],
   "source": [
    "print(ts.tz)"
   ]
  },
  {
   "cell_type": "code",
   "execution_count": 3,
   "id": "24513191",
   "metadata": {},
   "outputs": [
    {
     "name": "stdout",
     "output_type": "stream",
     "text": [
      "2023-01-01 00:00:00+00:00\n"
     ]
    }
   ],
   "source": [
    "ts_utc = ts.tz_localize(\"UTC\")\n",
    "print(ts_utc)"
   ]
  },
  {
   "cell_type": "code",
   "execution_count": 4,
   "id": "878e1ab7",
   "metadata": {},
   "outputs": [
    {
     "name": "stdout",
     "output_type": "stream",
     "text": [
      "UTC\n"
     ]
    }
   ],
   "source": [
    "print(ts_utc.tz)"
   ]
  },
  {
   "cell_type": "code",
   "execution_count": 5,
   "id": "7d87a921",
   "metadata": {},
   "outputs": [
    {
     "data": {
      "text/plain": [
       "['Asia/Tokyo']"
      ]
     },
     "execution_count": 5,
     "metadata": {},
     "output_type": "execute_result"
    }
   ],
   "source": [
    "import zoneinfo\n",
    "\n",
    "[x for x in zoneinfo.available_timezones() if \"Tokyo\" in x]"
   ]
  },
  {
   "cell_type": "code",
   "execution_count": 6,
   "id": "baa73c18",
   "metadata": {},
   "outputs": [
    {
     "data": {
      "text/plain": [
       "Timestamp('2023-01-01 00:00:00+0000', tz='UTC')"
      ]
     },
     "execution_count": 6,
     "metadata": {},
     "output_type": "execute_result"
    }
   ],
   "source": [
    "pd.Timestamp(\"2023-01-01T00:00Z\")"
   ]
  },
  {
   "cell_type": "code",
   "execution_count": 7,
   "id": "bec4ce1e",
   "metadata": {},
   "outputs": [
    {
     "data": {
      "text/plain": [
       "Timestamp('2023-01-01 00:00:00+0900', tz='Asia/Tokyo')"
      ]
     },
     "execution_count": 7,
     "metadata": {},
     "output_type": "execute_result"
    }
   ],
   "source": [
    "pd.Timestamp(\"2023-01-01\", tz=\"Asia/Tokyo\")"
   ]
  },
  {
   "cell_type": "code",
   "execution_count": 8,
   "id": "3ba54ec4",
   "metadata": {},
   "outputs": [
    {
     "data": {
      "text/plain": [
       "Timestamp('2023-01-01 09:00:00+0900', tz='Asia/Tokyo')"
      ]
     },
     "execution_count": 8,
     "metadata": {},
     "output_type": "execute_result"
    }
   ],
   "source": [
    "ts_utc.tz_convert(\"Asia/Tokyo\")"
   ]
  },
  {
   "cell_type": "code",
   "execution_count": 9,
   "id": "24ed0a0b",
   "metadata": {},
   "outputs": [
    {
     "data": {
      "text/plain": [
       "DatetimeIndex(['2023-01-01 00:00:00+00:00', '2023-01-02 00:00:00+00:00',\n",
       "               '2023-01-03 00:00:00+00:00', '2023-01-04 00:00:00+00:00',\n",
       "               '2023-01-05 00:00:00+00:00'],\n",
       "              dtype='datetime64[ns, UTC]', freq='D')"
      ]
     },
     "execution_count": 9,
     "metadata": {},
     "output_type": "execute_result"
    }
   ],
   "source": [
    "ser = pd.Series(\n",
    "    range(5),\n",
    "    index=pd.date_range(\"2023-01-01\", periods=5),\n",
    ")\n",
    "ser.index.tz_localize(\"UTC\")"
   ]
  },
  {
   "cell_type": "code",
   "execution_count": 10,
   "id": "6179e54d",
   "metadata": {},
   "outputs": [
    {
     "data": {
      "text/plain": [
       "DatetimeIndex(['2023-01-01 09:00:00+09:00', '2023-01-02 09:00:00+09:00',\n",
       "               '2023-01-03 09:00:00+09:00', '2023-01-04 09:00:00+09:00',\n",
       "               '2023-01-05 09:00:00+09:00'],\n",
       "              dtype='datetime64[ns, Asia/Tokyo]', freq='D')"
      ]
     },
     "execution_count": 10,
     "metadata": {},
     "output_type": "execute_result"
    }
   ],
   "source": [
    "ser_utc = pd.Series(\n",
    "    range(5),\n",
    "    index=pd.date_range(\"2023-01-01\", periods=5, tz=\"UTC\"),\n",
    ")\n",
    "ser_utc.index.tz_convert(\"Asia/Tokyo\")"
   ]
  },
  {
   "cell_type": "code",
   "execution_count": 11,
   "id": "6e044719",
   "metadata": {},
   "outputs": [
    {
     "data": {
      "text/plain": [
       "2023-01-01 00:00:00+00:00    0\n",
       "2023-01-02 00:00:00+00:00    1\n",
       "2023-01-03 00:00:00+00:00    2\n",
       "2023-01-04 00:00:00+00:00    3\n",
       "2023-01-05 00:00:00+00:00    4\n",
       "Freq: D, dtype: int64"
      ]
     },
     "execution_count": 11,
     "metadata": {},
     "output_type": "execute_result"
    }
   ],
   "source": [
    "ser.tz_localize(\"UTC\")"
   ]
  },
  {
   "cell_type": "code",
   "execution_count": 12,
   "id": "d0dbb958",
   "metadata": {},
   "outputs": [
    {
     "data": {
      "text/plain": [
       "2023-01-01 09:00:00+09:00    0\n",
       "2023-01-02 09:00:00+09:00    1\n",
       "2023-01-03 09:00:00+09:00    2\n",
       "2023-01-04 09:00:00+09:00    3\n",
       "2023-01-05 09:00:00+09:00    4\n",
       "Freq: D, dtype: int64"
      ]
     },
     "execution_count": 12,
     "metadata": {},
     "output_type": "execute_result"
    }
   ],
   "source": [
    "ser_utc.tz_convert(\"Asia/Tokyo\")"
   ]
  },
  {
   "cell_type": "code",
   "execution_count": 13,
   "id": "ca06984b",
   "metadata": {},
   "outputs": [
    {
     "data": {
      "text/plain": [
       "2023-01-01 00:00:00+00:00    0\n",
       "2023-01-02 00:00:00+00:00    1\n",
       "2023-01-03 00:00:00+00:00    2\n",
       "2023-01-04 00:00:00+00:00    3\n",
       "2023-01-05 00:00:00+00:00    4\n",
       "Freq: D, dtype: int64"
      ]
     },
     "execution_count": 13,
     "metadata": {},
     "output_type": "execute_result"
    }
   ],
   "source": [
    "ser_utc"
   ]
  },
  {
   "cell_type": "code",
   "execution_count": 14,
   "id": "972d9d77",
   "metadata": {},
   "outputs": [
    {
     "data": {
      "text/plain": [
       "2"
      ]
     },
     "execution_count": 14,
     "metadata": {},
     "output_type": "execute_result"
    }
   ],
   "source": [
    "ser_utc.loc[pd.Timestamp(\"2023-01-03\", tz=\"UTC\")]"
   ]
  }
 ],
 "metadata": {
  "kernelspec": {
   "display_name": "Python 3 (ipykernel)",
   "language": "python",
   "name": "python3"
  },
  "language_info": {
   "codemirror_mode": {
    "name": "ipython",
    "version": 3
   },
   "file_extension": ".py",
   "mimetype": "text/x-python",
   "name": "python",
   "nbconvert_exporter": "python",
   "pygments_lexer": "ipython3",
   "version": "3.11.4"
  }
 },
 "nbformat": 4,
 "nbformat_minor": 5
}
