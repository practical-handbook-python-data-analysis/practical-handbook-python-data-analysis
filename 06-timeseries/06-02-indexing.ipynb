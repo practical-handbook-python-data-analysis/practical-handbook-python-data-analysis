{
 "cells": [
  {
   "attachments": {},
   "cell_type": "markdown",
   "id": "699154d8",
   "metadata": {},
   "source": [
    "# 時系列データのインデックス"
   ]
  },
  {
   "attachments": {},
   "cell_type": "markdown",
   "id": "0641b632",
   "metadata": {},
   "source": [
    "## DatetimeIndex クラス"
   ]
  },
  {
   "cell_type": "code",
   "execution_count": 1,
   "id": "a887162d",
   "metadata": {},
   "outputs": [
    {
     "data": {
      "text/plain": [
       "DatetimeIndex(['2023-01-01', '2023-01-02'], dtype='datetime64[ns]', freq=None)"
      ]
     },
     "execution_count": 1,
     "metadata": {},
     "output_type": "execute_result"
    }
   ],
   "source": [
    "import datetime\n",
    "\n",
    "import pandas as pd\n",
    "\n",
    "# datetime型を要素としたリスト\n",
    "pd.DatetimeIndex(\n",
    "    [\n",
    "        datetime.datetime(2023, 1, 1),\n",
    "        datetime.datetime(2023, 1, 2),\n",
    "    ]\n",
    ")"
   ]
  },
  {
   "cell_type": "code",
   "execution_count": 2,
   "id": "5f5820e6",
   "metadata": {},
   "outputs": [
    {
     "data": {
      "text/plain": [
       "DatetimeIndex(['2023-01-01', '2023-01-02'], dtype='datetime64[ns]', freq=None)"
      ]
     },
     "execution_count": 2,
     "metadata": {},
     "output_type": "execute_result"
    }
   ],
   "source": [
    "# 文字列を要素としたリスト\n",
    "pd.DatetimeIndex([\"2023-01-01\", \"2023-01-02\"])"
   ]
  },
  {
   "attachments": {},
   "cell_type": "markdown",
   "id": "b6aa44b0",
   "metadata": {},
   "source": [
    "## date_range() 関数"
   ]
  },
  {
   "cell_type": "code",
   "execution_count": 3,
   "id": "94796fd3",
   "metadata": {},
   "outputs": [
    {
     "data": {
      "text/plain": [
       "DatetimeIndex(['2023-01-01', '2023-01-02', '2023-01-03'], dtype='datetime64[ns]', freq='D')"
      ]
     },
     "execution_count": 3,
     "metadata": {},
     "output_type": "execute_result"
    }
   ],
   "source": [
    "pd.date_range(start=\"2023-01-01\", end=\"2023-01-03\")"
   ]
  },
  {
   "cell_type": "code",
   "execution_count": 4,
   "id": "370f9da1",
   "metadata": {},
   "outputs": [
    {
     "data": {
      "text/plain": [
       "DatetimeIndex(['2023-01-01', '2023-01-02', '2023-01-03'], dtype='datetime64[ns]', freq='D')"
      ]
     },
     "execution_count": 4,
     "metadata": {},
     "output_type": "execute_result"
    }
   ],
   "source": [
    "pd.date_range(start=\"2023-01-01\", periods=3)"
   ]
  },
  {
   "cell_type": "code",
   "execution_count": 5,
   "id": "8693aa22",
   "metadata": {},
   "outputs": [
    {
     "data": {
      "text/plain": [
       "DatetimeIndex(['2023-01-01 09:00:00', '2023-01-01 09:00:01',\n",
       "               '2023-01-01 09:00:02', '2023-01-01 09:00:03',\n",
       "               '2023-01-01 09:00:04'],\n",
       "              dtype='datetime64[ns]', freq='S')"
      ]
     },
     "execution_count": 5,
     "metadata": {},
     "output_type": "execute_result"
    }
   ],
   "source": [
    "pd.date_range(\n",
    "    \"2023-01-01 9:00:00\",\n",
    "    periods=5,\n",
    "    freq=\"1S\",\n",
    ")"
   ]
  },
  {
   "cell_type": "code",
   "execution_count": 6,
   "id": "80a5eb76",
   "metadata": {},
   "outputs": [
    {
     "data": {
      "text/plain": [
       "DatetimeIndex(['2022-01-01 09:00:00', '2022-01-01 09:00:01',\n",
       "               '2022-01-01 09:00:02', '2022-01-01 09:00:03',\n",
       "               '2022-01-01 09:00:04'],\n",
       "              dtype='datetime64[ns]', freq='<DateOffset: seconds=1>')"
      ]
     },
     "execution_count": 6,
     "metadata": {},
     "output_type": "execute_result"
    }
   ],
   "source": [
    "pd.date_range(\n",
    "    \"2022-01-01 9:00:00\",\n",
    "    periods=5,\n",
    "    freq=pd.DateOffset(seconds=1),\n",
    ")"
   ]
  },
  {
   "attachments": {},
   "cell_type": "markdown",
   "id": "41c7132c",
   "metadata": {},
   "source": [
    "## DatetimeIndexの参照"
   ]
  },
  {
   "cell_type": "code",
   "execution_count": 7,
   "id": "07902634",
   "metadata": {},
   "outputs": [
    {
     "data": {
      "text/plain": [
       "2023-01-01 00:00:00    0.511822\n",
       "2023-01-01 01:00:00    0.950464\n",
       "2023-01-01 02:00:00    0.144160\n",
       "2023-01-01 03:00:00    0.948649\n",
       "2023-01-01 04:00:00    0.311831\n",
       "Freq: H, dtype: float64"
      ]
     },
     "execution_count": 7,
     "metadata": {},
     "output_type": "execute_result"
    }
   ],
   "source": [
    "import numpy as np\n",
    "\n",
    "rng = np.random.default_rng(1)\n",
    "ts_ser = pd.Series(\n",
    "    rng.random(1000),\n",
    "    index=pd.date_range(\n",
    "        \"2023-01-01\",\n",
    "        periods=1000,\n",
    "        freq=\"1H\",\n",
    "    ),\n",
    ")\n",
    "ts_ser.head()"
   ]
  },
  {
   "cell_type": "code",
   "execution_count": 8,
   "id": "277eaab2",
   "metadata": {},
   "outputs": [
    {
     "data": {
      "text/plain": [
       "2023-02-11 11:00:00    0.565484\n",
       "2023-02-11 12:00:00    0.937429\n",
       "2023-02-11 13:00:00    0.018766\n",
       "2023-02-11 14:00:00    0.865663\n",
       "2023-02-11 15:00:00    0.962473\n",
       "Freq: H, dtype: float64"
      ]
     },
     "execution_count": 8,
     "metadata": {},
     "output_type": "execute_result"
    }
   ],
   "source": [
    "ts_ser.tail()"
   ]
  },
  {
   "cell_type": "code",
   "execution_count": 9,
   "id": "5444a03f",
   "metadata": {},
   "outputs": [
    {
     "data": {
      "text/plain": [
       "DatetimeIndex(['2023-01-01 00:00:00', '2023-01-01 01:00:00',\n",
       "               '2023-01-01 02:00:00', '2023-01-01 03:00:00',\n",
       "               '2023-01-01 04:00:00', '2023-01-01 05:00:00',\n",
       "               '2023-01-01 06:00:00', '2023-01-01 07:00:00',\n",
       "               '2023-01-01 08:00:00', '2023-01-01 09:00:00',\n",
       "               ...\n",
       "               '2023-02-11 06:00:00', '2023-02-11 07:00:00',\n",
       "               '2023-02-11 08:00:00', '2023-02-11 09:00:00',\n",
       "               '2023-02-11 10:00:00', '2023-02-11 11:00:00',\n",
       "               '2023-02-11 12:00:00', '2023-02-11 13:00:00',\n",
       "               '2023-02-11 14:00:00', '2023-02-11 15:00:00'],\n",
       "              dtype='datetime64[ns]', length=1000, freq='H')"
      ]
     },
     "execution_count": 9,
     "metadata": {},
     "output_type": "execute_result"
    }
   ],
   "source": [
    "ts_ser.index"
   ]
  },
  {
   "cell_type": "code",
   "execution_count": 10,
   "id": "b7fff994",
   "metadata": {},
   "outputs": [
    {
     "data": {
      "text/plain": [
       "0.9624731102430444"
      ]
     },
     "execution_count": 10,
     "metadata": {},
     "output_type": "execute_result"
    }
   ],
   "source": [
    "ts_ser.loc[datetime.datetime(2023, 2, 11, 15, 0)]\n",
    "# or\n",
    "ts_ser.loc[\"2023-02-11 15:00\"]"
   ]
  },
  {
   "cell_type": "code",
   "execution_count": 11,
   "id": "2ca95733",
   "metadata": {},
   "outputs": [
    {
     "data": {
      "text/plain": [
       "2023-01-01 10:00:00    0.753513\n",
       "2023-01-02 10:00:00    0.613003\n",
       "2023-01-03 10:00:00    0.876537\n",
       "2023-01-04 10:00:00    0.768517\n",
       "2023-01-05 10:00:00    0.543669\n",
       "Freq: 24H, dtype: float64"
      ]
     },
     "execution_count": 11,
     "metadata": {},
     "output_type": "execute_result"
    }
   ],
   "source": [
    "ts_ser.loc[datetime.time(10, 0)].head()"
   ]
  },
  {
   "cell_type": "code",
   "execution_count": 12,
   "id": "e81e37b3",
   "metadata": {},
   "outputs": [
    {
     "data": {
      "text/plain": [
       "2023-02-01 00:00:00    0.141853\n",
       "2023-02-01 01:00:00    0.595077\n",
       "2023-02-01 02:00:00    0.819055\n",
       "2023-02-01 03:00:00    0.193619\n",
       "2023-02-01 04:00:00    0.913415\n",
       "Freq: H, dtype: float64"
      ]
     },
     "execution_count": 12,
     "metadata": {},
     "output_type": "execute_result"
    }
   ],
   "source": [
    "ts_ser.loc[\"2023-02\"].head()"
   ]
  },
  {
   "cell_type": "code",
   "execution_count": 13,
   "id": "b19df712",
   "metadata": {},
   "outputs": [
    {
     "data": {
      "text/plain": [
       "2023-01-10 03:00:00    0.570565\n",
       "2023-01-10 04:00:00    0.158555\n",
       "2023-01-10 05:00:00    0.952029\n",
       "Freq: H, dtype: float64"
      ]
     },
     "execution_count": 13,
     "metadata": {},
     "output_type": "execute_result"
    }
   ],
   "source": [
    "ts_ser.loc[\"2023-01-10 3:00\":\"2023-01-10 5:00\"]"
   ]
  },
  {
   "cell_type": "code",
   "execution_count": 14,
   "id": "380e5fe6",
   "metadata": {},
   "outputs": [
    {
     "data": {
      "text/plain": [
       "2023-01-01 10:00:00    0.753513\n",
       "2023-01-01 11:00:00    0.538143\n",
       "2023-01-01 12:00:00    0.329732\n",
       "2023-01-01 13:00:00    0.788429\n",
       "2023-01-01 14:00:00    0.303195\n",
       "2023-01-01 15:00:00    0.453498\n",
       "2023-01-01 16:00:00    0.134042\n",
       "2023-01-01 17:00:00    0.403113\n",
       "2023-01-02 10:00:00    0.613003\n",
       "2023-01-02 11:00:00    0.917298\n",
       "dtype: float64"
      ]
     },
     "execution_count": 14,
     "metadata": {},
     "output_type": "execute_result"
    }
   ],
   "source": [
    "ts_ser.between_time(\"10:00\", \"17:00\").head(10)"
   ]
  },
  {
   "attachments": {},
   "cell_type": "markdown",
   "id": "8dd90519",
   "metadata": {},
   "source": [
    "## PeriodIndex クラス"
   ]
  },
  {
   "cell_type": "code",
   "execution_count": 15,
   "id": "722042dd",
   "metadata": {},
   "outputs": [
    {
     "data": {
      "text/plain": [
       "PeriodIndex(['2023-01', '2023-02'], dtype='period[M]')"
      ]
     },
     "execution_count": 15,
     "metadata": {},
     "output_type": "execute_result"
    }
   ],
   "source": [
    "# datetime型を要素としたリスト\n",
    "pd.PeriodIndex(\n",
    "    [\n",
    "        datetime.datetime(2023, 1, 1),\n",
    "        datetime.datetime(2023, 2, 2),\n",
    "    ],\n",
    "    freq=\"M\",\n",
    ")"
   ]
  },
  {
   "cell_type": "code",
   "execution_count": 16,
   "id": "364cbe8c",
   "metadata": {},
   "outputs": [
    {
     "data": {
      "text/plain": [
       "PeriodIndex(['2023-01', '2023-02'], dtype='period[M]')"
      ]
     },
     "execution_count": 16,
     "metadata": {},
     "output_type": "execute_result"
    }
   ],
   "source": [
    "# 文字列を要素としたリスト\n",
    "pd.PeriodIndex(\n",
    "    [\"2023-01-01\", \"2023-02-01\"],\n",
    "    dtype=\"period[M]\",  # freq=\"M\"でも可\n",
    ")"
   ]
  },
  {
   "attachments": {},
   "cell_type": "markdown",
   "id": "b2e3c3d7",
   "metadata": {},
   "source": [
    "## period_range() 関数"
   ]
  },
  {
   "cell_type": "code",
   "execution_count": 17,
   "id": "f798b66c",
   "metadata": {},
   "outputs": [
    {
     "data": {
      "text/plain": [
       "PeriodIndex(['2023-01-01', '2023-01-02', '2023-01-03'], dtype='period[D]')"
      ]
     },
     "execution_count": 17,
     "metadata": {},
     "output_type": "execute_result"
    }
   ],
   "source": [
    "pd.period_range(start=\"2023-01-01\", end=\"2023-01-03\")"
   ]
  },
  {
   "cell_type": "code",
   "execution_count": 18,
   "id": "fabc048c",
   "metadata": {},
   "outputs": [
    {
     "data": {
      "text/plain": [
       "PeriodIndex(['2023-01-01', '2023-01-02', '2023-01-03'], dtype='period[D]')"
      ]
     },
     "execution_count": 18,
     "metadata": {},
     "output_type": "execute_result"
    }
   ],
   "source": [
    "pd.period_range(start=\"2023-01-01\", periods=3)"
   ]
  },
  {
   "cell_type": "code",
   "execution_count": 19,
   "id": "859d1a99",
   "metadata": {},
   "outputs": [
    {
     "data": {
      "text/plain": [
       "PeriodIndex(['2023-01-01 09:00:00', '2023-01-01 09:00:01',\n",
       "             '2023-01-01 09:00:02', '2023-01-01 09:00:03',\n",
       "             '2023-01-01 09:00:04'],\n",
       "            dtype='period[S]')"
      ]
     },
     "execution_count": 19,
     "metadata": {},
     "output_type": "execute_result"
    }
   ],
   "source": [
    "pd.period_range(\n",
    "    \"2023-01-01 9:00:00\",\n",
    "    periods=5,\n",
    "    freq=\"1S\",\n",
    ")"
   ]
  },
  {
   "cell_type": "code",
   "execution_count": 20,
   "id": "ee3b56db",
   "metadata": {},
   "outputs": [
    {
     "data": {
      "text/plain": [
       "2023Q1    0.542327\n",
       "2023Q2    0.967883\n",
       "2023Q3    0.704782\n",
       "2023Q4    0.545225\n",
       "2024Q1    0.463675\n",
       "2024Q2    0.466399\n",
       "2024Q3    0.681997\n",
       "2024Q4    0.234505\n",
       "2025Q1    0.715401\n",
       "2025Q2    0.490990\n",
       "Freq: Q-DEC, dtype: float64"
      ]
     },
     "execution_count": 20,
     "metadata": {},
     "output_type": "execute_result"
    }
   ],
   "source": [
    "pd_ser = pd.Series(\n",
    "    rng.random(10),\n",
    "    index=pd.period_range(\n",
    "        \"2023-01-01\",\n",
    "        periods=10,\n",
    "        freq=\"1Q\",\n",
    "    ),\n",
    ")\n",
    "pd_ser"
   ]
  },
  {
   "cell_type": "code",
   "execution_count": 21,
   "id": "185487aa",
   "metadata": {},
   "outputs": [
    {
     "data": {
      "text/plain": [
       "0.5452252080293496"
      ]
     },
     "execution_count": 21,
     "metadata": {},
     "output_type": "execute_result"
    }
   ],
   "source": [
    "pd_ser.loc[datetime.datetime(2023, 10, 1)]"
   ]
  },
  {
   "cell_type": "code",
   "execution_count": 22,
   "id": "5da24bc4",
   "metadata": {},
   "outputs": [
    {
     "data": {
      "text/plain": [
       "0.5452252080293496"
      ]
     },
     "execution_count": 22,
     "metadata": {},
     "output_type": "execute_result"
    }
   ],
   "source": [
    "pd_ser.loc[datetime.datetime(2023, 12, 31)]"
   ]
  },
  {
   "cell_type": "code",
   "execution_count": 23,
   "id": "e67706a3",
   "metadata": {},
   "outputs": [
    {
     "data": {
      "text/plain": [
       "0.5452252080293496"
      ]
     },
     "execution_count": 23,
     "metadata": {},
     "output_type": "execute_result"
    }
   ],
   "source": [
    "pd_ser.loc[\"2023Q4\"]"
   ]
  },
  {
   "cell_type": "code",
   "execution_count": 24,
   "id": "611c29c4",
   "metadata": {},
   "outputs": [
    {
     "data": {
      "text/plain": [
       "2023Q1    0.542327\n",
       "2023Q2    0.967883\n",
       "2023Q3    0.704782\n",
       "2023Q4    0.545225\n",
       "Freq: Q-DEC, dtype: float64"
      ]
     },
     "execution_count": 24,
     "metadata": {},
     "output_type": "execute_result"
    }
   ],
   "source": [
    "pd_ser.loc[\"2023\"]"
   ]
  },
  {
   "cell_type": "code",
   "execution_count": 25,
   "id": "73a9ccec",
   "metadata": {},
   "outputs": [
    {
     "data": {
      "text/plain": [
       "2023Q3    0.704782\n",
       "2023Q4    0.545225\n",
       "2024Q1    0.463675\n",
       "2024Q2    0.466399\n",
       "Freq: Q-DEC, dtype: float64"
      ]
     },
     "execution_count": 25,
     "metadata": {},
     "output_type": "execute_result"
    }
   ],
   "source": [
    "pd_ser.loc[\"2023Q3\":\"2024Q2\"]"
   ]
  }
 ],
 "metadata": {
  "kernelspec": {
   "display_name": "Python 3 (ipykernel)",
   "language": "python",
   "name": "python3"
  },
  "language_info": {
   "codemirror_mode": {
    "name": "ipython",
    "version": 3
   },
   "file_extension": ".py",
   "mimetype": "text/x-python",
   "name": "python",
   "nbconvert_exporter": "python",
   "pygments_lexer": "ipython3",
   "version": "3.11.3"
  }
 },
 "nbformat": 4,
 "nbformat_minor": 5
}
