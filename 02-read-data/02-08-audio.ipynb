{
 "cells": [
  {
   "cell_type": "markdown",
   "id": "ab2fcef4",
   "metadata": {},
   "source": [
    "# 音声データ"
   ]
  },
  {
   "cell_type": "code",
   "execution_count": null,
   "id": "5ec7cfd6",
   "metadata": {},
   "outputs": [],
   "source": [
    "from scipy.io import wavfile\n",
    "\n",
    "filename = \"data/sample.wav\"\n",
    "samplingrate, data = wavfile.read(filename)"
   ]
  },
  {
   "cell_type": "code",
   "execution_count": null,
   "id": "8de12953",
   "metadata": {},
   "outputs": [],
   "source": [
    "print(type(samplingrate))\n",
    "print(samplingrate)"
   ]
  },
  {
   "cell_type": "code",
   "execution_count": null,
   "id": "642883df",
   "metadata": {},
   "outputs": [],
   "source": [
    "print(type(data))\n",
    "print(data.dtype)"
   ]
  },
  {
   "cell_type": "code",
   "execution_count": null,
   "id": "c26f57c4",
   "metadata": {},
   "outputs": [],
   "source": [
    "data.shape"
   ]
  },
  {
   "cell_type": "code",
   "execution_count": null,
   "id": "5bea28ba",
   "metadata": {},
   "outputs": [],
   "source": [
    "data[0]"
   ]
  },
  {
   "cell_type": "code",
   "execution_count": null,
   "id": "8ebc5213",
   "metadata": {},
   "outputs": [],
   "source": [
    "length = data.shape[0] / samplingrate\n",
    "print(length)"
   ]
  },
  {
   "cell_type": "code",
   "execution_count": null,
   "id": "488af5b2",
   "metadata": {},
   "outputs": [],
   "source": [
    "import matplotlib.pyplot as plt\n",
    "import numpy as np"
   ]
  },
  {
   "cell_type": "code",
   "execution_count": null,
   "id": "2aaf34e4",
   "metadata": {},
   "outputs": [],
   "source": [
    "# 時間データ。0.0から長さ分、データの個数に分割した数値を生成\n",
    "t = np.linspace(0.0, length, data.shape[0])\n",
    "# 横軸に時間データ、縦軸にデータ\n",
    "plt.plot(t, data)\n",
    "plt.xlabel(\"time\")\n",
    "plt.ylabel(\"amplitude\")"
   ]
  }
 ],
 "metadata": {
  "language_info": {
   "name": "python"
  }
 },
 "nbformat": 4,
 "nbformat_minor": 5
}
