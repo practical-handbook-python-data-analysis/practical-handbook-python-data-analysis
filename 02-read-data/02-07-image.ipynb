{
 "cells": [
  {
   "cell_type": "markdown",
   "id": "3e0a39ba",
   "metadata": {},
   "source": [
    "# 画像データ"
   ]
  },
  {
   "cell_type": "markdown",
   "id": "762a611e",
   "metadata": {},
   "source": [
    "## pillowで画像を読み取る"
   ]
  },
  {
   "cell_type": "code",
   "execution_count": null,
   "id": "253f6f20",
   "metadata": {},
   "outputs": [],
   "source": [
    "from PIL import Image\n",
    "\n",
    "im = Image.open(\"data/sample.jpg\")\n",
    "print(im.format)\n",
    "print(im.size)\n",
    "print(im.mode)"
   ]
  },
  {
   "cell_type": "code",
   "execution_count": null,
   "id": "04071e21",
   "metadata": {},
   "outputs": [],
   "source": [
    "im"
   ]
  },
  {
   "cell_type": "code",
   "execution_count": null,
   "id": "350848a6",
   "metadata": {},
   "outputs": [],
   "source": [
    "im.close()"
   ]
  },
  {
   "cell_type": "code",
   "execution_count": null,
   "id": "50782e5e",
   "metadata": {},
   "outputs": [],
   "source": [
    "with Image.open(\"data/sample.jpg\") as im:\n",
    "    print(im.format)\n",
    "    print(im.size)\n",
    "    print(im.mode)"
   ]
  }
 ],
 "metadata": {},
 "nbformat": 4,
 "nbformat_minor": 5
}
