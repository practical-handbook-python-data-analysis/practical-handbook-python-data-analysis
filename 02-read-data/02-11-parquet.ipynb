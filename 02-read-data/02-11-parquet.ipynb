{
 "cells": [
  {
   "cell_type": "markdown",
   "id": "77bded8e",
   "metadata": {},
   "source": [
    "# parquet形式"
   ]
  },
  {
   "cell_type": "markdown",
   "id": "6564e6a6",
   "metadata": {},
   "source": [
    "## pickle形式との違い"
   ]
  },
  {
   "cell_type": "markdown",
   "id": "e1e349d0",
   "metadata": {},
   "source": [
    "## `pandas`での利用"
   ]
  },
  {
   "cell_type": "code",
   "execution_count": null,
   "id": "09d3e605",
   "metadata": {},
   "outputs": [],
   "source": [
    "import pandas as pd\n",
    "\n",
    "df_from_csv = pd.read_csv(\n",
    "    \"data/FEH_00200524_230205124938.csv\",\n",
    "    encoding=\"cp932\",\n",
    "    parse_dates=[\"時間軸（年月日現在）\"],\n",
    "    date_format=\"%Y年%m月\",\n",
    "    thousands=\",\",\n",
    ")\n",
    "\n",
    "df_from_csv.to_parquet(\"data/population-202302.parquet\")\n",
    "df_from_csv.head()"
   ]
  },
  {
   "cell_type": "code",
   "execution_count": null,
   "id": "fc170cc7",
   "metadata": {},
   "outputs": [],
   "source": [
    "df_from_parquet = pd.read_parquet(\"data/population-202302.parquet\")\n",
    "df_from_parquet.head()"
   ]
  },
  {
   "cell_type": "code",
   "execution_count": null,
   "id": "0d0aabaf",
   "metadata": {},
   "outputs": [],
   "source": [
    "df_from_parquet.equals(df_from_csv)"
   ]
  },
  {
   "cell_type": "code",
   "execution_count": null,
   "id": "359d6258",
   "metadata": {},
   "outputs": [],
   "source": [
    "import os\n",
    "\n",
    "# parquet形式\n",
    "os.path.getsize(\"data/population-202302.parquet\")"
   ]
  },
  {
   "cell_type": "code",
   "execution_count": null,
   "id": "f8c1ecfc",
   "metadata": {},
   "outputs": [],
   "source": [
    "# pickle形式\n",
    "df_from_csv.to_pickle(\"data/population-202302.pickle\")\n",
    "os.path.getsize(\"data/population-202302.pickle\")"
   ]
  }
 ],
 "metadata": {
  "language_info": {
   "name": "python"
  }
 },
 "nbformat": 4,
 "nbformat_minor": 5
}
