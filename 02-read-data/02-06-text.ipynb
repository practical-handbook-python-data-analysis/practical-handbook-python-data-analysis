{
 "cells": [
  {
   "cell_type": "markdown",
   "id": "a83b0231",
   "metadata": {},
   "source": [
    "# 文書データ"
   ]
  },
  {
   "cell_type": "markdown",
   "id": "eb36a9a9",
   "metadata": {},
   "source": [
    "## 青空文庫のデータをDataFrame化"
   ]
  },
  {
   "cell_type": "code",
   "execution_count": null,
   "id": "d8be46a6",
   "metadata": {},
   "outputs": [],
   "source": [
    "out = []\n",
    "with open(\"data/kokoro-1.txt\", \"r\", encoding=\"utf-8\") as f:  # ・・①\n",
    "    for line in f:  # ・・②\n",
    "        if not line.strip():  # ・・③\n",
    "            continue\n",
    "        data = {}\n",
    "        data[\"org\"] = line\n",
    "        data[\"length\"] = len(line)\n",
    "        out.append(data)  # ・・④\n",
    "out[0]"
   ]
  },
  {
   "cell_type": "code",
   "execution_count": null,
   "id": "d0f55457",
   "metadata": {},
   "outputs": [],
   "source": [
    "import pandas as pd\n",
    "\n",
    "df = pd.DataFrame(out)"
   ]
  },
  {
   "cell_type": "code",
   "execution_count": null,
   "id": "7ac172d4",
   "metadata": {},
   "outputs": [],
   "source": [
    "df"
   ]
  }
 ],
 "metadata": {
  "language_info": {
   "name": "python"
  }
 },
 "nbformat": 4,
 "nbformat_minor": 5
}
