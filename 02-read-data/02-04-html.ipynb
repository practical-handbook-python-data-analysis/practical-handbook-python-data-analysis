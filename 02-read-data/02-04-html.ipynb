{
 "cells": [
  {
   "cell_type": "markdown",
   "id": "35bbac95",
   "metadata": {},
   "source": [
    "# HTML形式"
   ]
  },
  {
   "cell_type": "markdown",
   "id": "8ae306b4",
   "metadata": {},
   "source": [
    "## Webスクレイピング"
   ]
  },
  {
   "cell_type": "markdown",
   "id": "f954a47a",
   "metadata": {},
   "source": [
    "## データサンプル"
   ]
  },
  {
   "cell_type": "markdown",
   "id": "cb491c09",
   "metadata": {},
   "source": [
    "## データの取得方法"
   ]
  },
  {
   "cell_type": "markdown",
   "id": "707ab982",
   "metadata": {},
   "source": [
    "### HTMLを取得してタグを解析する方法"
   ]
  },
  {
   "cell_type": "code",
   "execution_count": null,
   "id": "7e40f619",
   "metadata": {},
   "outputs": [],
   "source": [
    "from urllib.request import urlopen\n",
    "from bs4 import BeautifulSoup\n",
    "\n",
    "url = \"https://peps.python.org/\"  # WebサイトのURL\n",
    "attrs = (\n",
    "    \"type-status\",\n",
    "    \"number\",\n",
    "    \"title\",\n",
    "    \"authors\",\n",
    ")  # 取得するデータの属性名\n",
    "\n",
    "with urlopen(url) as f:  # urllibでWebサイトにアクセス・・①\n",
    "    html = f.read()\n",
    "\n",
    "# 取得したHTMLデータを BeautifulSoup で解析\n",
    "soup = BeautifulSoup(html, \"html.parser\")  # ・・②\n",
    "# HTML内のidを指定してデータを取得\n",
    "table = soup.find(id=\"historical-meta-peps-and-informational-peps\").table  # ・・③\n",
    "\n",
    "out = []\n",
    "for tr in table.tbody.find_all(\"tr\"):  # HTML tableタグ内の `tr` タグのすべてを取得・・④\n",
    "    line = []\n",
    "    for td in tr.find_all(\"td\"):  # trタグ内の `td` タグのすべてを取得・・⑤\n",
    "        text = td.text  # tdタグの文字列を取得\n",
    "        line.append(text)  # 中間データ用ののリストに追加\n",
    "\n",
    "    # 出力用のリストに取得した1行分のデータを辞書型で追加\n",
    "    out.append({k: v for k, v in zip(attrs, line)})  # ・・⑥\n",
    "\n",
    "print(out[0])"
   ]
  },
  {
   "cell_type": "code",
   "execution_count": null,
   "id": "a067bf36",
   "metadata": {},
   "outputs": [],
   "source": [
    "import pandas as pd\n",
    "\n",
    "df_html_parse = pd.DataFrame(out)\n",
    "df_html_parse.head()"
   ]
  },
  {
   "cell_type": "code",
   "execution_count": null,
   "id": "17da071b",
   "metadata": {},
   "outputs": [],
   "source": [
    "df_html_parse.shape"
   ]
  },
  {
   "cell_type": "markdown",
   "id": "ad56fb78",
   "metadata": {},
   "source": [
    "## pandasでテーブルタグを取得する方法"
   ]
  },
  {
   "cell_type": "code",
   "execution_count": null,
   "id": "3f1a72bf",
   "metadata": {},
   "outputs": [],
   "source": [
    "import pandas as pd\n",
    "\n",
    "url = \"https://peps.python.org/\"\n",
    "\n",
    "tables = pd.read_html(url)\n",
    "print(len(tables))"
   ]
  },
  {
   "cell_type": "code",
   "execution_count": null,
   "id": "9316c0f6",
   "metadata": {},
   "outputs": [],
   "source": [
    "print(type(tables))\n",
    "print([type(table) for table in tables])"
   ]
  },
  {
   "cell_type": "code",
   "execution_count": null,
   "id": "efd8d8b0",
   "metadata": {},
   "outputs": [],
   "source": [
    "df_table = tables[5]\n",
    "df_table.head()"
   ]
  },
  {
   "cell_type": "code",
   "execution_count": null,
   "id": "ba98357f",
   "metadata": {},
   "outputs": [],
   "source": [
    "df_table.shape"
   ]
  },
  {
   "cell_type": "code",
   "execution_count": null,
   "id": "888d0af0",
   "metadata": {},
   "outputs": [],
   "source": [
    "attrs = (\n",
    "    \"type-status\",\n",
    "    \"number\",\n",
    "    \"title\",\n",
    "    \"authors\",\n",
    ")\n",
    "df_table.columns = attrs\n",
    "df_table.head()"
   ]
  }
 ],
 "metadata": {
  "language_info": {
   "name": "python"
  }
 },
 "nbformat": 4,
 "nbformat_minor": 5
}
