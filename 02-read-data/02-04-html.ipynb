{
 "cells": [
  {
   "cell_type": "markdown",
   "id": "35bbac95",
   "metadata": {},
   "source": [
    "# HTML形式"
   ]
  },
  {
   "cell_type": "markdown",
   "id": "8ae306b4",
   "metadata": {},
   "source": [
    "## Webスクレイピング"
   ]
  },
  {
   "cell_type": "markdown",
   "id": "f954a47a",
   "metadata": {},
   "source": [
    "## データサンプル"
   ]
  },
  {
   "cell_type": "markdown",
   "id": "cb491c09",
   "metadata": {},
   "source": [
    "## データの取得方法"
   ]
  },
  {
   "cell_type": "markdown",
   "id": "707ab982",
   "metadata": {},
   "source": [
    "### HTMLを取得してタグを解析する方法"
   ]
  },
  {
   "cell_type": "code",
   "execution_count": 2,
   "id": "7e40f619",
   "metadata": {},
   "outputs": [
    {
     "name": "stdout",
     "output_type": "stream",
     "text": [
      "{'type-status': 'PS', 'number': '5', 'title': 'Guidelines for Language Evolution', 'authors': 'Paul Prescod'}\n"
     ]
    }
   ],
   "source": [
    "from urllib.request import urlopen\n",
    "from bs4 import BeautifulSoup\n",
    "\n",
    "url = \"https://peps.python.org/\"  # WebサイトのURL\n",
    "attrs = (\n",
    "    \"type-status\",\n",
    "    \"number\",\n",
    "    \"title\",\n",
    "    \"authors\",\n",
    ")  # 取得するデータの属性名\n",
    "\n",
    "with urlopen(url) as f:  # urllibでWebサイトにアクセス・・①\n",
    "    html = f.read()\n",
    "\n",
    "# 取得したHTMLデータを BeautifulSoup で解析\n",
    "soup = BeautifulSoup(html, \"html.parser\")  # ・・②\n",
    "# HTML内のidを指定してデータを取得\n",
    "table = soup.find(id=\"historical-meta-peps-and-informational-peps\").table  # ・・③\n",
    "\n",
    "out = []\n",
    "for tr in table.tbody.find_all(\"tr\"):  # HTML tableタグ内の `tr` タグのすべてを取得・・④\n",
    "    line = []\n",
    "    for td in tr.find_all(\"td\"):  # trタグ内の `td` タグのすべてを取得・・⑤\n",
    "        text = td.text  # tdタグの文字列を取得\n",
    "        line.append(text)  # 中間データ用ののリストに追加\n",
    "\n",
    "    # 出力用のリストに取得した1行分のデータを辞書型で追加\n",
    "    out.append({k: v for k, v in zip(attrs, line)})  # ・・⑥\n",
    "\n",
    "print(out[0])"
   ]
  },
  {
   "cell_type": "code",
   "execution_count": 3,
   "id": "a067bf36",
   "metadata": {},
   "outputs": [
    {
     "data": {
      "text/html": [
       "<div>\n",
       "<style scoped>\n",
       "    .dataframe tbody tr th:only-of-type {\n",
       "        vertical-align: middle;\n",
       "    }\n",
       "\n",
       "    .dataframe tbody tr th {\n",
       "        vertical-align: top;\n",
       "    }\n",
       "\n",
       "    .dataframe thead th {\n",
       "        text-align: right;\n",
       "    }\n",
       "</style>\n",
       "<table border=\"1\" class=\"dataframe\">\n",
       "  <thead>\n",
       "    <tr style=\"text-align: right;\">\n",
       "      <th></th>\n",
       "      <th>type-status</th>\n",
       "      <th>number</th>\n",
       "      <th>title</th>\n",
       "      <th>authors</th>\n",
       "    </tr>\n",
       "  </thead>\n",
       "  <tbody>\n",
       "    <tr>\n",
       "      <th>0</th>\n",
       "      <td>PS</td>\n",
       "      <td>5</td>\n",
       "      <td>Guidelines for Language Evolution</td>\n",
       "      <td>Paul Prescod</td>\n",
       "    </tr>\n",
       "    <tr>\n",
       "      <th>1</th>\n",
       "      <td>PS</td>\n",
       "      <td>6</td>\n",
       "      <td>Bug Fix Releases</td>\n",
       "      <td>Aahz, Anthony Baxter</td>\n",
       "    </tr>\n",
       "    <tr>\n",
       "      <th>2</th>\n",
       "      <td>IF</td>\n",
       "      <td>160</td>\n",
       "      <td>Python 1.6 Release Schedule</td>\n",
       "      <td>Fred L. Drake, Jr.</td>\n",
       "    </tr>\n",
       "    <tr>\n",
       "      <th>3</th>\n",
       "      <td>IF</td>\n",
       "      <td>200</td>\n",
       "      <td>Python 2.0 Release Schedule</td>\n",
       "      <td>Jeremy Hylton</td>\n",
       "    </tr>\n",
       "    <tr>\n",
       "      <th>4</th>\n",
       "      <td>IF</td>\n",
       "      <td>226</td>\n",
       "      <td>Python 2.1 Release Schedule</td>\n",
       "      <td>Jeremy Hylton</td>\n",
       "    </tr>\n",
       "  </tbody>\n",
       "</table>\n",
       "</div>"
      ],
      "text/plain": [
       "  type-status number                              title               authors\n",
       "0          PS      5  Guidelines for Language Evolution          Paul Prescod\n",
       "1          PS      6                   Bug Fix Releases  Aahz, Anthony Baxter\n",
       "2          IF    160        Python 1.6 Release Schedule    Fred L. Drake, Jr.\n",
       "3          IF    200        Python 2.0 Release Schedule         Jeremy Hylton\n",
       "4          IF    226        Python 2.1 Release Schedule         Jeremy Hylton"
      ]
     },
     "execution_count": 3,
     "metadata": {},
     "output_type": "execute_result"
    }
   ],
   "source": [
    "import pandas as pd\n",
    "\n",
    "df_html_parse = pd.DataFrame(out)\n",
    "df_html_parse.head()"
   ]
  },
  {
   "cell_type": "code",
   "execution_count": 4,
   "id": "17da071b",
   "metadata": {},
   "outputs": [
    {
     "data": {
      "text/plain": [
       "(36, 4)"
      ]
     },
     "execution_count": 4,
     "metadata": {},
     "output_type": "execute_result"
    }
   ],
   "source": [
    "df_html_parse.shape"
   ]
  },
  {
   "cell_type": "markdown",
   "id": "ad56fb78",
   "metadata": {},
   "source": [
    "## pandasでテーブルタグを取得する方法"
   ]
  },
  {
   "cell_type": "code",
   "execution_count": 6,
   "id": "3f1a72bf",
   "metadata": {},
   "outputs": [
    {
     "name": "stdout",
     "output_type": "stream",
     "text": [
      "12\n"
     ]
    }
   ],
   "source": [
    "import pandas as pd\n",
    "\n",
    "url = \"https://peps.python.org/\"\n",
    "\n",
    "tables = pd.read_html(url)\n",
    "print(len(tables))"
   ]
  },
  {
   "cell_type": "code",
   "execution_count": 7,
   "id": "9316c0f6",
   "metadata": {},
   "outputs": [
    {
     "name": "stdout",
     "output_type": "stream",
     "text": [
      "<class 'list'>\n",
      "[<class 'pandas.core.frame.DataFrame'>, <class 'pandas.core.frame.DataFrame'>, <class 'pandas.core.frame.DataFrame'>, <class 'pandas.core.frame.DataFrame'>, <class 'pandas.core.frame.DataFrame'>, <class 'pandas.core.frame.DataFrame'>, <class 'pandas.core.frame.DataFrame'>, <class 'pandas.core.frame.DataFrame'>, <class 'pandas.core.frame.DataFrame'>, <class 'pandas.core.frame.DataFrame'>, <class 'pandas.core.frame.DataFrame'>, <class 'pandas.core.frame.DataFrame'>]\n"
     ]
    }
   ],
   "source": [
    "print(type(tables))\n",
    "print([type(table) for table in tables])"
   ]
  },
  {
   "cell_type": "code",
   "execution_count": 8,
   "id": "efd8d8b0",
   "metadata": {},
   "outputs": [
    {
     "data": {
      "text/html": [
       "<div>\n",
       "<style scoped>\n",
       "    .dataframe tbody tr th:only-of-type {\n",
       "        vertical-align: middle;\n",
       "    }\n",
       "\n",
       "    .dataframe tbody tr th {\n",
       "        vertical-align: top;\n",
       "    }\n",
       "\n",
       "    .dataframe thead th {\n",
       "        text-align: right;\n",
       "    }\n",
       "</style>\n",
       "<table border=\"1\" class=\"dataframe\">\n",
       "  <thead>\n",
       "    <tr style=\"text-align: right;\">\n",
       "      <th></th>\n",
       "      <th>Unnamed: 0</th>\n",
       "      <th>PEP</th>\n",
       "      <th>Title</th>\n",
       "      <th>Authors</th>\n",
       "      <th>Unnamed: 4</th>\n",
       "    </tr>\n",
       "  </thead>\n",
       "  <tbody>\n",
       "    <tr>\n",
       "      <th>0</th>\n",
       "      <td>SF</td>\n",
       "      <td>100</td>\n",
       "      <td>Python Unicode Integration</td>\n",
       "      <td>Marc-André Lemburg</td>\n",
       "      <td>2.0</td>\n",
       "    </tr>\n",
       "    <tr>\n",
       "      <th>1</th>\n",
       "      <td>SF</td>\n",
       "      <td>201</td>\n",
       "      <td>Lockstep Iteration</td>\n",
       "      <td>Barry Warsaw</td>\n",
       "      <td>2.0</td>\n",
       "    </tr>\n",
       "    <tr>\n",
       "      <th>2</th>\n",
       "      <td>SF</td>\n",
       "      <td>202</td>\n",
       "      <td>List Comprehensions</td>\n",
       "      <td>Barry Warsaw</td>\n",
       "      <td>2.0</td>\n",
       "    </tr>\n",
       "    <tr>\n",
       "      <th>3</th>\n",
       "      <td>SF</td>\n",
       "      <td>203</td>\n",
       "      <td>Augmented Assignments</td>\n",
       "      <td>Thomas Wouters</td>\n",
       "      <td>2.0</td>\n",
       "    </tr>\n",
       "    <tr>\n",
       "      <th>4</th>\n",
       "      <td>SF</td>\n",
       "      <td>205</td>\n",
       "      <td>Weak References</td>\n",
       "      <td>Fred L. Drake, Jr.</td>\n",
       "      <td>2.1</td>\n",
       "    </tr>\n",
       "  </tbody>\n",
       "</table>\n",
       "</div>"
      ],
      "text/plain": [
       "  Unnamed: 0  PEP                       Title             Authors Unnamed: 4\n",
       "0         SF  100  Python Unicode Integration  Marc-André Lemburg        2.0\n",
       "1         SF  201          Lockstep Iteration        Barry Warsaw        2.0\n",
       "2         SF  202         List Comprehensions        Barry Warsaw        2.0\n",
       "3         SF  203       Augmented Assignments      Thomas Wouters        2.0\n",
       "4         SF  205             Weak References  Fred L. Drake, Jr.        2.1"
      ]
     },
     "execution_count": 8,
     "metadata": {},
     "output_type": "execute_result"
    }
   ],
   "source": [
    "df_table = tables[5]\n",
    "df_table.head()"
   ]
  },
  {
   "cell_type": "code",
   "execution_count": 9,
   "id": "ba98357f",
   "metadata": {},
   "outputs": [
    {
     "data": {
      "text/plain": [
       "(249, 5)"
      ]
     },
     "execution_count": 9,
     "metadata": {},
     "output_type": "execute_result"
    }
   ],
   "source": [
    "df_table.shape"
   ]
  },
  {
   "cell_type": "code",
   "execution_count": 11,
   "id": "888d0af0",
   "metadata": {},
   "outputs": [
    {
     "data": {
      "text/html": [
       "<div>\n",
       "<style scoped>\n",
       "    .dataframe tbody tr th:only-of-type {\n",
       "        vertical-align: middle;\n",
       "    }\n",
       "\n",
       "    .dataframe tbody tr th {\n",
       "        vertical-align: top;\n",
       "    }\n",
       "\n",
       "    .dataframe thead th {\n",
       "        text-align: right;\n",
       "    }\n",
       "</style>\n",
       "<table border=\"1\" class=\"dataframe\">\n",
       "  <thead>\n",
       "    <tr style=\"text-align: right;\">\n",
       "      <th></th>\n",
       "      <th>type-status</th>\n",
       "      <th>number</th>\n",
       "      <th>title</th>\n",
       "      <th>authors</th>\n",
       "      <th>name-code</th>\n",
       "    </tr>\n",
       "  </thead>\n",
       "  <tbody>\n",
       "    <tr>\n",
       "      <th>0</th>\n",
       "      <td>SF</td>\n",
       "      <td>100</td>\n",
       "      <td>Python Unicode Integration</td>\n",
       "      <td>Marc-André Lemburg</td>\n",
       "      <td>2.0</td>\n",
       "    </tr>\n",
       "    <tr>\n",
       "      <th>1</th>\n",
       "      <td>SF</td>\n",
       "      <td>201</td>\n",
       "      <td>Lockstep Iteration</td>\n",
       "      <td>Barry Warsaw</td>\n",
       "      <td>2.0</td>\n",
       "    </tr>\n",
       "    <tr>\n",
       "      <th>2</th>\n",
       "      <td>SF</td>\n",
       "      <td>202</td>\n",
       "      <td>List Comprehensions</td>\n",
       "      <td>Barry Warsaw</td>\n",
       "      <td>2.0</td>\n",
       "    </tr>\n",
       "    <tr>\n",
       "      <th>3</th>\n",
       "      <td>SF</td>\n",
       "      <td>203</td>\n",
       "      <td>Augmented Assignments</td>\n",
       "      <td>Thomas Wouters</td>\n",
       "      <td>2.0</td>\n",
       "    </tr>\n",
       "    <tr>\n",
       "      <th>4</th>\n",
       "      <td>SF</td>\n",
       "      <td>205</td>\n",
       "      <td>Weak References</td>\n",
       "      <td>Fred L. Drake, Jr.</td>\n",
       "      <td>2.1</td>\n",
       "    </tr>\n",
       "  </tbody>\n",
       "</table>\n",
       "</div>"
      ],
      "text/plain": [
       "  type-status  number                       title             authors  \\\n",
       "0          SF     100  Python Unicode Integration  Marc-André Lemburg   \n",
       "1          SF     201          Lockstep Iteration        Barry Warsaw   \n",
       "2          SF     202         List Comprehensions        Barry Warsaw   \n",
       "3          SF     203       Augmented Assignments      Thomas Wouters   \n",
       "4          SF     205             Weak References  Fred L. Drake, Jr.   \n",
       "\n",
       "  name-code  \n",
       "0       2.0  \n",
       "1       2.0  \n",
       "2       2.0  \n",
       "3       2.0  \n",
       "4       2.1  "
      ]
     },
     "execution_count": 11,
     "metadata": {},
     "output_type": "execute_result"
    }
   ],
   "source": [
    "attrs = (\n",
    "    \"type-status\",\n",
    "    \"number\",\n",
    "    \"title\",\n",
    "    \"authors\",\n",
    "    \"name-code\" # 追加 column appended\n",
    ")\n",
    "df_table.columns = attrs\n",
    "df_table.head()"
   ]
  }
 ],
 "metadata": {
  "kernelspec": {
   "display_name": "Python 3",
   "language": "python",
   "name": "python3"
  },
  "language_info": {
   "codemirror_mode": {
    "name": "ipython",
    "version": 3
   },
   "file_extension": ".py",
   "mimetype": "text/x-python",
   "name": "python",
   "nbconvert_exporter": "python",
   "pygments_lexer": "ipython3",
   "version": "3.11.4"
  }
 },
 "nbformat": 4,
 "nbformat_minor": 5
}
