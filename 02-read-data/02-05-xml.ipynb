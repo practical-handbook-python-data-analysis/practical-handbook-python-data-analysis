{
 "cells": [
  {
   "cell_type": "markdown",
   "id": "5ba8b931",
   "metadata": {},
   "source": [
    "# XML形式"
   ]
  },
  {
   "cell_type": "markdown",
   "id": "807084d0",
   "metadata": {},
   "source": [
    "## データサンプル"
   ]
  },
  {
   "cell_type": "markdown",
   "id": "551e614f",
   "metadata": {},
   "source": [
    "## XML形式のデータを読み込む"
   ]
  },
  {
   "cell_type": "code",
   "execution_count": 1,
   "id": "fb61397c",
   "metadata": {},
   "outputs": [],
   "source": [
    "import xml.etree.ElementTree as ET\n",
    "\n",
    "tree = ET.parse(\"data/ueno-map.kml\")\n",
    "root = tree.getroot()"
   ]
  },
  {
   "cell_type": "code",
   "execution_count": 2,
   "id": "867af5a0",
   "metadata": {},
   "outputs": [
    {
     "data": {
      "text/plain": [
       "'上野駅周辺飲食店'"
      ]
     },
     "execution_count": 2,
     "metadata": {},
     "output_type": "execute_result"
    }
   ],
   "source": [
    "namespace = \"{http://www.opengis.net/kml/2.2}\"\n",
    "name = root[0].find(f\"{namespace}name\").text\n",
    "name"
   ]
  },
  {
   "cell_type": "code",
   "execution_count": 3,
   "id": "476d04e4",
   "metadata": {},
   "outputs": [
    {
     "data": {
      "text/plain": [
       "[{'id': 1,\n",
       "  'name': 'ラーメン屋',\n",
       "  'shops': [{'name': '東京じゃんがら ecute上野店',\n",
       "    'lon': '139.7771312',\n",
       "    'lat': '35.7140434',\n",
       "    'alt': '0'},\n",
       "   {'name': '博多ラーメン 長浜や 上野店',\n",
       "    'lon': '139.7775269',\n",
       "    'lat': '35.7124554',\n",
       "    'alt': '0'},\n",
       "   {'name': \"T'sたんたん エキュート上野店\",\n",
       "    'lon': '139.7771408',\n",
       "    'lat': '35.7140681',\n",
       "    'alt': '0'},\n",
       "   {'name': '鯛塩そば灯花 アトレ上野店',\n",
       "    'lon': '139.7770178',\n",
       "    'lat': '35.7133078',\n",
       "    'alt': '0'},\n",
       "   {'name': '横浜家系ラーメン 壱角家 上野店',\n",
       "    'lon': '139.7778759',\n",
       "    'lat': '35.7123833',\n",
       "    'alt': '0'},\n",
       "   {'name': '麺屋 天王', 'lon': '139.7797678', 'lat': '35.7141222', 'alt': '0'},\n",
       "   {'name': '一蘭 アトレ上野山下口店',\n",
       "    'lon': '139.7752174',\n",
       "    'lat': '35.7124196',\n",
       "    'alt': '0'},\n",
       "   {'name': 'らーめん花の華 上野店',\n",
       "    'lon': '139.7788319',\n",
       "    'lat': '35.7121706',\n",
       "    'alt': '0'},\n",
       "   {'name': '六厘舎 上野店', 'lon': '139.7750484', 'lat': '35.7121834', 'alt': '0'},\n",
       "   {'name': '横浜家系ラーメン希家 上野店',\n",
       "    'lon': '139.7786098',\n",
       "    'lat': '35.7118269',\n",
       "    'alt': '0'}]},\n",
       " {'id': 2,\n",
       "  'name': 'カレー屋',\n",
       "  'shops': [{'name': 'シターラ ダイナー エキュート上野店（SITAARA DINER）',\n",
       "    'lon': '139.776792',\n",
       "    'lat': '35.7132653',\n",
       "    'alt': '0'},\n",
       "   {'name': 'マイカリー食堂 上野店',\n",
       "    'lon': '139.778374',\n",
       "    'lat': '35.712958',\n",
       "    'alt': '0'},\n",
       "   {'name': 'インド・ネパール料理&バー ナマステ上野キッチン（Namaste UENO Kitchen）',\n",
       "    'lon': '139.779736',\n",
       "    'lat': '35.714079',\n",
       "    'alt': '0'},\n",
       "   {'name': 'カレー専門店 クラウンエース 上野アメ横店',\n",
       "    'lon': '139.7750854',\n",
       "    'lat': '35.7112609',\n",
       "    'alt': '0'},\n",
       "   {'name': 'スルタン 東上野店',\n",
       "    'lon': '139.7828001',\n",
       "    'lat': '35.7155242',\n",
       "    'alt': '0'},\n",
       "   {'name': 'Re Nepaka(ネパカ)上野店',\n",
       "    'lon': '139.7802984',\n",
       "    'lat': '35.7107611',\n",
       "    'alt': '0'},\n",
       "   {'name': 'カレーの店 サカエヤ',\n",
       "    'lon': '139.7800917',\n",
       "    'lat': '35.7073677',\n",
       "    'alt': '0'},\n",
       "   {'name': 'カレー clover(くろーばー)',\n",
       "    'lon': '139.7709038',\n",
       "    'lat': '35.7062837',\n",
       "    'alt': '0'},\n",
       "   {'name': 'ゴーゴーカレー 上野御徒町店',\n",
       "    'lon': '139.7754455',\n",
       "    'lat': '35.708453',\n",
       "    'alt': '0'},\n",
       "   {'name': 'ラッフルズカリー',\n",
       "    'lon': '139.778286',\n",
       "    'lat': '35.7073153',\n",
       "    'alt': '0'}]},\n",
       " {'id': 3,\n",
       "  'name': '焼肉屋',\n",
       "  'shops': [{'name': 'ブ厚い焼肉 焼肉フジ 上野駅前本店',\n",
       "    'lon': '139.7790501',\n",
       "    'lat': '35.7138809',\n",
       "    'alt': '0'},\n",
       "   {'name': '焼肉 USHIHACHI 上野店',\n",
       "    'lon': '139.777376',\n",
       "    'lat': '35.712613',\n",
       "    'alt': '0'},\n",
       "   {'name': '絵のある街 上野店',\n",
       "    'lon': '139.7755379',\n",
       "    'lat': '35.7109052',\n",
       "    'alt': '0'},\n",
       "   {'name': '焼肉陽山道 上野駅前店',\n",
       "    'lon': '139.7755765',\n",
       "    'lat': '35.7098862',\n",
       "    'alt': '0'},\n",
       "   {'name': '和家 NAGOMIYA 上野店',\n",
       "    'lon': '139.7751193',\n",
       "    'lat': '35.7107406',\n",
       "    'alt': '0'},\n",
       "   {'name': '焼肉ホルモン本舗 炎 上野駅前店',\n",
       "    'lon': '139.7762069',\n",
       "    'lat': '35.7112493',\n",
       "    'alt': '0'},\n",
       "   {'name': '肉の街 上野本店', 'lon': '139.775175', 'lat': '35.711006', 'alt': '0'},\n",
       "   {'name': '太昌園上野駅前店', 'lon': '139.7754445', 'lat': '35.7104037', 'alt': '0'},\n",
       "   {'name': '焼肉ひだり', 'lon': '139.7810698', 'lat': '35.711169', 'alt': '0'},\n",
       "   {'name': '土古里 上野バンブーガーデン店',\n",
       "    'lon': '139.7745426',\n",
       "    'lat': '35.7124233',\n",
       "    'alt': '0'}]}]"
      ]
     },
     "execution_count": 3,
     "metadata": {},
     "output_type": "execute_result"
    }
   ],
   "source": [
    "folders = root[0].findall(f\"{namespace}Folder\")  # Folderノードを取得  # ・・①\n",
    "out = []\n",
    "for i, folder in enumerate(folders):  # Folderノードを繰り返し処理\n",
    "    folder_name = folder.find(\n",
    "        f\"{namespace}name\"\n",
    "    ).text  # Folderノードのnameがカテゴリー名  # ・・②\n",
    "\n",
    "    shops = folder.findall(f\"{namespace}Placemark\")  # 店舗の情報にアクセス\n",
    "    shops_list = []\n",
    "    for shop in shops:  # ・・③\n",
    "        shop_name = shop.find(f\"{namespace}name\").text  # 店舗の名称を取得\n",
    "        coordinates = (\n",
    "            shop.find(f\"{namespace}Point\")\n",
    "            .find(f\"{namespace}coordinates\")\n",
    "            .text  # ・・④\n",
    "        )  # 経度、緯度、高度の情報を取得\n",
    "        lon, lat, alt = [\n",
    "            s.strip() for s in coordinates.split(\",\", 2)  # ・・⑤\n",
    "        ]  # 情報を分割\n",
    "        # 店舗の情報を辞書にしてリストに追記\n",
    "        shops_list.append(  # ・・⑥\n",
    "            {\n",
    "                \"name\": shop_name,\n",
    "                \"lon\": lon,\n",
    "                \"lat\": lat,\n",
    "                \"alt\": alt,\n",
    "            }\n",
    "        )\n",
    "\n",
    "    # カテゴリーごとの情報を辞書型にして、リストに追記\n",
    "    out.append(  # ・・⑦\n",
    "        {\n",
    "            \"id\": i + 1,\n",
    "            \"name\": folder_name,\n",
    "            \"shops\": shops_list,\n",
    "        }\n",
    "    )\n",
    "out"
   ]
  },
  {
   "cell_type": "markdown",
   "id": "15f2c900",
   "metadata": {},
   "source": [
    "## pandasのオブジェクトに変換する"
   ]
  },
  {
   "cell_type": "code",
   "execution_count": 4,
   "id": "a34c85fd",
   "metadata": {},
   "outputs": [],
   "source": [
    "import pandas as pd\n",
    "\n",
    "df = pd.json_normalize(\n",
    "    out,\n",
    "    record_path=\"shops\",\n",
    "    meta=[\"name\"],\n",
    "    record_prefix=\"shop.\",\n",
    ")"
   ]
  },
  {
   "cell_type": "code",
   "execution_count": 5,
   "id": "bc11276a",
   "metadata": {},
   "outputs": [
    {
     "data": {
      "text/html": [
       "<div>\n",
       "<style scoped>\n",
       "    .dataframe tbody tr th:only-of-type {\n",
       "        vertical-align: middle;\n",
       "    }\n",
       "\n",
       "    .dataframe tbody tr th {\n",
       "        vertical-align: top;\n",
       "    }\n",
       "\n",
       "    .dataframe thead th {\n",
       "        text-align: right;\n",
       "    }\n",
       "</style>\n",
       "<table border=\"1\" class=\"dataframe\">\n",
       "  <thead>\n",
       "    <tr style=\"text-align: right;\">\n",
       "      <th></th>\n",
       "      <th>shop.name</th>\n",
       "      <th>shop.lon</th>\n",
       "      <th>shop.lat</th>\n",
       "      <th>shop.alt</th>\n",
       "      <th>name</th>\n",
       "    </tr>\n",
       "  </thead>\n",
       "  <tbody>\n",
       "    <tr>\n",
       "      <th>0</th>\n",
       "      <td>東京じゃんがら ecute上野店</td>\n",
       "      <td>139.7771312</td>\n",
       "      <td>35.7140434</td>\n",
       "      <td>0</td>\n",
       "      <td>ラーメン屋</td>\n",
       "    </tr>\n",
       "    <tr>\n",
       "      <th>1</th>\n",
       "      <td>博多ラーメン 長浜や 上野店</td>\n",
       "      <td>139.7775269</td>\n",
       "      <td>35.7124554</td>\n",
       "      <td>0</td>\n",
       "      <td>ラーメン屋</td>\n",
       "    </tr>\n",
       "    <tr>\n",
       "      <th>2</th>\n",
       "      <td>T'sたんたん エキュート上野店</td>\n",
       "      <td>139.7771408</td>\n",
       "      <td>35.7140681</td>\n",
       "      <td>0</td>\n",
       "      <td>ラーメン屋</td>\n",
       "    </tr>\n",
       "    <tr>\n",
       "      <th>3</th>\n",
       "      <td>鯛塩そば灯花 アトレ上野店</td>\n",
       "      <td>139.7770178</td>\n",
       "      <td>35.7133078</td>\n",
       "      <td>0</td>\n",
       "      <td>ラーメン屋</td>\n",
       "    </tr>\n",
       "    <tr>\n",
       "      <th>4</th>\n",
       "      <td>横浜家系ラーメン 壱角家 上野店</td>\n",
       "      <td>139.7778759</td>\n",
       "      <td>35.7123833</td>\n",
       "      <td>0</td>\n",
       "      <td>ラーメン屋</td>\n",
       "    </tr>\n",
       "  </tbody>\n",
       "</table>\n",
       "</div>"
      ],
      "text/plain": [
       "          shop.name     shop.lon    shop.lat shop.alt   name\n",
       "0  東京じゃんがら ecute上野店  139.7771312  35.7140434        0  ラーメン屋\n",
       "1    博多ラーメン 長浜や 上野店  139.7775269  35.7124554        0  ラーメン屋\n",
       "2  T'sたんたん エキュート上野店  139.7771408  35.7140681        0  ラーメン屋\n",
       "3     鯛塩そば灯花 アトレ上野店  139.7770178  35.7133078        0  ラーメン屋\n",
       "4  横浜家系ラーメン 壱角家 上野店  139.7778759  35.7123833        0  ラーメン屋"
      ]
     },
     "execution_count": 5,
     "metadata": {},
     "output_type": "execute_result"
    }
   ],
   "source": [
    "df.head()"
   ]
  },
  {
   "cell_type": "code",
   "execution_count": 6,
   "id": "f18184f7",
   "metadata": {},
   "outputs": [
    {
     "data": {
      "text/html": [
       "<div>\n",
       "<style scoped>\n",
       "    .dataframe tbody tr th:only-of-type {\n",
       "        vertical-align: middle;\n",
       "    }\n",
       "\n",
       "    .dataframe tbody tr th {\n",
       "        vertical-align: top;\n",
       "    }\n",
       "\n",
       "    .dataframe thead th {\n",
       "        text-align: right;\n",
       "    }\n",
       "</style>\n",
       "<table border=\"1\" class=\"dataframe\">\n",
       "  <thead>\n",
       "    <tr style=\"text-align: right;\">\n",
       "      <th></th>\n",
       "      <th>shop.name</th>\n",
       "      <th>shop.lon</th>\n",
       "      <th>shop.lat</th>\n",
       "      <th>shop.alt</th>\n",
       "      <th>name</th>\n",
       "    </tr>\n",
       "  </thead>\n",
       "  <tbody>\n",
       "    <tr>\n",
       "      <th>25</th>\n",
       "      <td>焼肉ホルモン本舗 炎 上野駅前店</td>\n",
       "      <td>139.7762069</td>\n",
       "      <td>35.7112493</td>\n",
       "      <td>0</td>\n",
       "      <td>焼肉屋</td>\n",
       "    </tr>\n",
       "    <tr>\n",
       "      <th>26</th>\n",
       "      <td>肉の街 上野本店</td>\n",
       "      <td>139.775175</td>\n",
       "      <td>35.711006</td>\n",
       "      <td>0</td>\n",
       "      <td>焼肉屋</td>\n",
       "    </tr>\n",
       "    <tr>\n",
       "      <th>27</th>\n",
       "      <td>太昌園上野駅前店</td>\n",
       "      <td>139.7754445</td>\n",
       "      <td>35.7104037</td>\n",
       "      <td>0</td>\n",
       "      <td>焼肉屋</td>\n",
       "    </tr>\n",
       "    <tr>\n",
       "      <th>28</th>\n",
       "      <td>焼肉ひだり</td>\n",
       "      <td>139.7810698</td>\n",
       "      <td>35.711169</td>\n",
       "      <td>0</td>\n",
       "      <td>焼肉屋</td>\n",
       "    </tr>\n",
       "    <tr>\n",
       "      <th>29</th>\n",
       "      <td>土古里 上野バンブーガーデン店</td>\n",
       "      <td>139.7745426</td>\n",
       "      <td>35.7124233</td>\n",
       "      <td>0</td>\n",
       "      <td>焼肉屋</td>\n",
       "    </tr>\n",
       "  </tbody>\n",
       "</table>\n",
       "</div>"
      ],
      "text/plain": [
       "           shop.name     shop.lon    shop.lat shop.alt name\n",
       "25  焼肉ホルモン本舗 炎 上野駅前店  139.7762069  35.7112493        0  焼肉屋\n",
       "26          肉の街 上野本店   139.775175   35.711006        0  焼肉屋\n",
       "27          太昌園上野駅前店  139.7754445  35.7104037        0  焼肉屋\n",
       "28             焼肉ひだり  139.7810698   35.711169        0  焼肉屋\n",
       "29   土古里 上野バンブーガーデン店  139.7745426  35.7124233        0  焼肉屋"
      ]
     },
     "execution_count": 6,
     "metadata": {},
     "output_type": "execute_result"
    }
   ],
   "source": [
    "df.tail()"
   ]
  },
  {
   "cell_type": "markdown",
   "id": "22fd0476",
   "metadata": {},
   "source": [
    "### Note: RSS"
   ]
  },
  {
   "cell_type": "code",
   "execution_count": 8,
   "id": "f07dd981",
   "metadata": {},
   "outputs": [],
   "source": [
    "import feedparser\n",
    "\n",
    "url = \"https://blog.python.org/feeds/posts/default?alt=rss\"\n",
    "d = feedparser.parse(url)"
   ]
  },
  {
   "cell_type": "code",
   "execution_count": null,
   "id": "a3b555f8",
   "metadata": {},
   "outputs": [],
   "source": [
    "d[\"feed\"][\"title\"]  # RSSのタイトルを取得"
   ]
  },
  {
   "cell_type": "code",
   "execution_count": 9,
   "id": "0ea91869",
   "metadata": {},
   "outputs": [
    {
     "name": "stdout",
     "output_type": "stream",
     "text": [
      "2024-05-08T18:11:10.014-04:00, Python 3.13.0 beta 1 released\n",
      "2024-04-09T15:16:28.923-04:00, Python 3.12.3 and 3.13.0a6 released\n",
      "2024-04-08T04:50:48.835-04:00, Python 3.11.9 is now available\n",
      "2024-03-19T20:39:05.768-04:00, Python 3.10.14, 3.9.19, and 3.8.19 is now available\n",
      "2024-03-12T20:01:02.277-04:00, Python 3.13.0 alpha 5 is now available\n",
      "2024-02-15T16:09:52.409-05:00, Python 3.13.0 alpha 4 is now available\n",
      "2024-02-07T10:07:21.471-05:00, Python 3.12.2 and 3.11.8 are now available.\n",
      "2024-01-17T19:30:36.556-05:00, Python 3.13.0 alpha 3 is now available.\n",
      "2023-12-10T11:10:22.240-05:00, Python 3.11.7 is now available\n",
      "2023-12-07T19:50:22.570-05:00, Python 3.12.1 is now available\n",
      "2023-11-22T19:46:04.221-05:00, Python 3.13.0 alpha 2 is now available\n",
      "2023-10-13T08:31:36.016-04:00, Python 3.13.0 alpha 1 is now available\n",
      "2023-10-03T05:25:29.509-04:00, Python 3.11.6 is now available\n",
      "2023-10-02T12:00:23.445-04:00, Python 3.12.0 (final) now available\n",
      "2023-09-19T07:21:28.701-04:00, Python 3.12.0 release candidate 3 now available\n",
      "2023-09-06T07:05:37.140-04:00, Python 3.12.0 release candidate 2 now available\n",
      "2023-08-24T17:02:05.635-04:00, Python 3.11.5, 3.10.13, 3.9.18, and 3.8.18 is now available\n",
      "2023-08-06T09:11:17.156-04:00, Python 3.12.0 release candidate 1 released\n",
      "2023-07-11T16:17:25.359-04:00, Python 3.12.0 beta 4 released\n",
      "2023-06-20T14:52:23.393-04:00, Python 3.12.0 beta 3 released\n",
      "2023-06-07T02:56:21.596-04:00, Python 3.11.4, 3.10.12, 3.9.17, 3.8.17, 3.7.17, and 3.12.0 beta 2 are now available\n",
      "2023-05-22T17:05:07.963-04:00, Python 3.12.0 beta 1 released\n",
      "2023-04-06T18:35:19.167-04:00, Python 3.11.3, Python 3.10.11 and 3.12.0 alpha 7 are available\n",
      "2023-03-07T23:38:51.147-05:00, Python 3.12.0 alpha 6 released\n",
      "2023-02-08T09:31:59.611-05:00, Python 3.11.2, Python 3.10.10 and 3.12.0 alpha 5 are available\n"
     ]
    }
   ],
   "source": [
    "for entry in d.entries:\n",
    "    print(entry.date, end=\", \")  # エントリーの日付を出力\n",
    "    print(entry.title)  # エントリーごとのタイトルを出力"
   ]
  }
 ],
 "metadata": {
  "kernelspec": {
   "display_name": "Python 3",
   "language": "python",
   "name": "python3"
  },
  "language_info": {
   "codemirror_mode": {
    "name": "ipython",
    "version": 3
   },
   "file_extension": ".py",
   "mimetype": "text/x-python",
   "name": "python",
   "nbconvert_exporter": "python",
   "pygments_lexer": "ipython3",
   "version": "3.11.4"
  }
 },
 "nbformat": 4,
 "nbformat_minor": 5
}
