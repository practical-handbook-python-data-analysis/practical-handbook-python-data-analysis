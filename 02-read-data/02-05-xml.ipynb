{
 "cells": [
  {
   "cell_type": "markdown",
   "id": "5ba8b931",
   "metadata": {},
   "source": [
    "# XML形式"
   ]
  },
  {
   "cell_type": "markdown",
   "id": "807084d0",
   "metadata": {},
   "source": [
    "## データサンプル"
   ]
  },
  {
   "cell_type": "markdown",
   "id": "551e614f",
   "metadata": {},
   "source": [
    "## XML形式のデータを読み込む"
   ]
  },
  {
   "cell_type": "code",
   "execution_count": null,
   "id": "fb61397c",
   "metadata": {},
   "outputs": [],
   "source": [
    "import xml.etree.ElementTree as ET\n",
    "\n",
    "tree = ET.parse(\"data/ueno-map.kml\")\n",
    "root = tree.getroot()"
   ]
  },
  {
   "cell_type": "code",
   "execution_count": null,
   "id": "867af5a0",
   "metadata": {},
   "outputs": [],
   "source": [
    "namespace = \"{http://www.opengis.net/kml/2.2}\"\n",
    "name = root[0].find(f\"{namespace}name\").text\n",
    "name"
   ]
  },
  {
   "cell_type": "code",
   "execution_count": null,
   "id": "476d04e4",
   "metadata": {},
   "outputs": [],
   "source": [
    "folders = root[0].findall(f\"{namespace}Folder\")  # Folderノードを取得  # ・・①\n",
    "out = []\n",
    "for i, folder in enumerate(folders):  # Folderノードを繰り返し処理\n",
    "    folder_name = folder.find(\n",
    "        f\"{namespace}name\"\n",
    "    ).text  # Folderノードのnameがカテゴリー名  # ・・②\n",
    "\n",
    "    shops = folder.findall(f\"{namespace}Placemark\")  # 店舗の情報にアクセス\n",
    "    shops_list = []\n",
    "    for shop in shops:  # ・・③\n",
    "        shop_name = shop.find(f\"{namespace}name\").text  # 店舗の名称を取得\n",
    "        coordinates = (\n",
    "            shop.find(f\"{namespace}Point\")\n",
    "            .find(f\"{namespace}coordinates\")\n",
    "            .text  # ・・④\n",
    "        )  # 経度、緯度、高度の情報を取得\n",
    "        lon, lat, alt = [\n",
    "            s.strip() for s in coordinates.split(\",\", 2)  # ・・⑤\n",
    "        ]  # 情報を分割\n",
    "        # 店舗の情報を辞書にしてリストに追記\n",
    "        shops_list.append(  # ・・⑥\n",
    "            {\n",
    "                \"name\": shop_name,\n",
    "                \"lon\": lon,\n",
    "                \"lat\": lat,\n",
    "                \"alt\": alt,\n",
    "            }\n",
    "        )\n",
    "\n",
    "    # カテゴリーごとの情報を辞書型にして、リストに追記\n",
    "    out.append(  # ・・⑦\n",
    "        {\n",
    "            \"id\": i + 1,\n",
    "            \"name\": folder_name,\n",
    "            \"shops\": shops_list,\n",
    "        }\n",
    "    )\n",
    "out"
   ]
  },
  {
   "cell_type": "markdown",
   "id": "15f2c900",
   "metadata": {},
   "source": [
    "## pandasのオブジェクトに変換する"
   ]
  },
  {
   "cell_type": "code",
   "execution_count": null,
   "id": "a34c85fd",
   "metadata": {},
   "outputs": [],
   "source": [
    "import pandas as pd\n",
    "\n",
    "df = pd.json_normalize(\n",
    "    out,\n",
    "    record_path=\"shops\",\n",
    "    meta=[\"name\"],\n",
    "    record_prefix=\"shop.\",\n",
    ")"
   ]
  },
  {
   "cell_type": "code",
   "execution_count": null,
   "id": "bc11276a",
   "metadata": {},
   "outputs": [],
   "source": [
    "df.head()"
   ]
  },
  {
   "cell_type": "code",
   "execution_count": null,
   "id": "f18184f7",
   "metadata": {},
   "outputs": [],
   "source": [
    "df.tail()"
   ]
  },
  {
   "cell_type": "markdown",
   "id": "22fd0476",
   "metadata": {},
   "source": [
    "### Note: RSS"
   ]
  },
  {
   "cell_type": "code",
   "execution_count": null,
   "id": "f07dd981",
   "metadata": {},
   "outputs": [],
   "source": [
    "import feedparser\n",
    "\n",
    "url = \"https://blog.python.org/feeds/posts/default?alt=rss\"\n",
    "d = feedparser.parse(url)"
   ]
  },
  {
   "cell_type": "code",
   "execution_count": null,
   "id": "a3b555f8",
   "metadata": {},
   "outputs": [],
   "source": [
    "d[\"feed\"][\"title\"]  # RSSのタイトルを取得"
   ]
  },
  {
   "cell_type": "code",
   "execution_count": null,
   "id": "0ea91869",
   "metadata": {},
   "outputs": [],
   "source": [
    "for entry in d.entries:\n",
    "    print(entry.date, end=\", \")  # エントリーの日付を出力\n",
    "    print(entry.title)  # エントリーごとのタイトルを出力"
   ]
  }
 ],
 "metadata": {
  "language_info": {
   "name": "python"
  }
 },
 "nbformat": 4,
 "nbformat_minor": 5
}
