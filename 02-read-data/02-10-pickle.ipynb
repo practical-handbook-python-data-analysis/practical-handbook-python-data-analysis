{
 "cells": [
  {
   "cell_type": "markdown",
   "id": "8d4d6fdd",
   "metadata": {},
   "source": [
    "# pickle形式"
   ]
  },
  {
   "cell_type": "markdown",
   "id": "3a7494df",
   "metadata": {},
   "source": [
    "## pickleの注意点"
   ]
  },
  {
   "cell_type": "code",
   "execution_count": null,
   "id": "61fa7705",
   "metadata": {},
   "outputs": [],
   "source": [
    "import pickle\n",
    "import pandas as pd"
   ]
  },
  {
   "cell_type": "code",
   "execution_count": null,
   "id": "165feac9",
   "metadata": {},
   "outputs": [],
   "source": [
    "df = pd.read_csv(\n",
    "    \"data/FEH_00200524_230205124938.csv\",\n",
    "    encoding=\"cp932\",\n",
    "    parse_dates=[\"時間軸（年月日現在）\"],\n",
    "    date_format=\"%Y年%m月\",\n",
    "    thousands=\",\",\n",
    ")\n",
    "df.head()"
   ]
  },
  {
   "cell_type": "code",
   "execution_count": null,
   "id": "8eceacf4",
   "metadata": {},
   "outputs": [],
   "source": [
    "with open(\"data/csv-to-pickle.pickle\", \"wb\") as f:  # ・・①\n",
    "    pickle.dump(df, f)  # ・・②"
   ]
  },
  {
   "cell_type": "code",
   "execution_count": null,
   "id": "3b86db1a",
   "metadata": {},
   "outputs": [],
   "source": [
    "with open(\"data/csv-to-pickle.pickle\", \"rb\") as f:  # ・・③\n",
    "    df_loaded = pickle.load(f)  # ・・④"
   ]
  },
  {
   "cell_type": "code",
   "execution_count": null,
   "id": "ceffefe0",
   "metadata": {},
   "outputs": [],
   "source": [
    "df_loaded.head(2)"
   ]
  },
  {
   "cell_type": "code",
   "execution_count": null,
   "id": "731ff338",
   "metadata": {},
   "outputs": [],
   "source": [
    "df_loaded.dtypes"
   ]
  },
  {
   "cell_type": "code",
   "execution_count": null,
   "id": "cc503a74",
   "metadata": {},
   "outputs": [],
   "source": [
    "df.to_pickle(\"data/df-to-pickle.pickle\")"
   ]
  },
  {
   "cell_type": "code",
   "execution_count": null,
   "id": "0bcef25d",
   "metadata": {},
   "outputs": [],
   "source": [
    "df_loaded2 = pd.read_pickle(\"data/df-to-pickle.pickle\")"
   ]
  },
  {
   "cell_type": "code",
   "execution_count": null,
   "id": "b3480f94",
   "metadata": {},
   "outputs": [],
   "source": [
    "df_loaded2.head(2)"
   ]
  }
 ],
 "metadata": {
  "language_info": {
   "name": "python"
  }
 },
 "nbformat": 4,
 "nbformat_minor": 5
}
