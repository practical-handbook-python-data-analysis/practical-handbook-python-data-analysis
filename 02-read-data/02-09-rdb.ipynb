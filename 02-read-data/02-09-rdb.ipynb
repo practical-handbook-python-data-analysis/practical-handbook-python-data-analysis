{
 "cells": [
  {
   "cell_type": "markdown",
   "id": "ca99070c",
   "metadata": {},
   "source": [
    "# RDBデータ"
   ]
  },
  {
   "cell_type": "markdown",
   "id": "e0ff974a",
   "metadata": {},
   "source": [
    "## SQLite3"
   ]
  },
  {
   "cell_type": "markdown",
   "id": "6b86fd05",
   "metadata": {},
   "source": [
    "## データサンプル"
   ]
  },
  {
   "cell_type": "markdown",
   "id": "f1b22052",
   "metadata": {},
   "source": [
    "# sqlite3モジュールを使う"
   ]
  },
  {
   "cell_type": "code",
   "execution_count": null,
   "id": "8793d951",
   "metadata": {},
   "outputs": [],
   "source": [
    "import sqlite3\n",
    "\n",
    "con = sqlite3.connect(\"data/sakila-sqlite3/sakila_master.db\")  # ・・①"
   ]
  },
  {
   "cell_type": "code",
   "execution_count": null,
   "id": "950556be",
   "metadata": {},
   "outputs": [],
   "source": [
    "cur = con.cursor()  # コネクションからカーソルオブジェクトを取得 ・・②\n",
    "# select文を実行してfor文で順次データを取得\n",
    "for table in cur.execute(  #  ・・③\n",
    "    \"SELECT name FROM sqlite_master WHERE type='table';\"\n",
    "):\n",
    "    print(table[0])  # ・・④"
   ]
  },
  {
   "cell_type": "code",
   "execution_count": null,
   "id": "3c0c33dc",
   "metadata": {},
   "outputs": [],
   "source": [
    "cur.execute(\"SELECT count(*) FROM film;\")\n",
    "cur.fetchall()"
   ]
  },
  {
   "cell_type": "code",
   "execution_count": null,
   "id": "bc94c377",
   "metadata": {},
   "outputs": [],
   "source": [
    "for data in cur.execute(\n",
    "    \"SELECT FILM_ID, TITLE, RELEASE_YEAR, LENGTH, LAST_UPDATE FROM film LIMIT 10;\"\n",
    "):\n",
    "    print(data)"
   ]
  },
  {
   "cell_type": "code",
   "execution_count": null,
   "id": "ef453765",
   "metadata": {},
   "outputs": [],
   "source": [
    "limit = 5\n",
    "\n",
    "for data in cur.execute(\n",
    "    \"SELECT FILM_ID, TITLE, RELEASE_YEAR, LENGTH, LAST_UPDATE\"\n",
    "    \" FROM film LIMIT (?);\",\n",
    "    (limit,),\n",
    "):\n",
    "    print(data)"
   ]
  },
  {
   "cell_type": "code",
   "execution_count": null,
   "id": "8bcc5522",
   "metadata": {},
   "outputs": [],
   "source": [
    "limit = 20\n",
    "\n",
    "for data in cur.execute(\n",
    "    \"SELECT F.FILM_ID, F.TITLE, F.RELEASE_YEAR, F.LENGTH, F.LAST_UPDATE, C.NAME\"\n",
    "    \" FROM film as F\"\n",
    "    \" LEFT JOIN film_category as FC ON F.FILM_ID = FC.FILM_ID\"\n",
    "    \" LEFT JOIN category as C ON FC.CATEGORY_ID = C.CATEGORY_ID\"\n",
    "    \" ORDER BY F.TITLE\"\n",
    "    \" LIMIT (?);\",\n",
    "    (limit,),\n",
    "):\n",
    "    print(data)"
   ]
  },
  {
   "cell_type": "markdown",
   "id": "a34dcb7a",
   "metadata": {},
   "source": [
    "# pandasを使う"
   ]
  },
  {
   "cell_type": "code",
   "execution_count": null,
   "id": "da081d40",
   "metadata": {},
   "outputs": [],
   "source": [
    "import pandas as pd\n",
    "\n",
    "df = pd.read_sql(\n",
    "    \"SELECT F.FILM_ID, F.TITLE, F.RELEASE_YEAR, F.LENGTH, F.LAST_UPDATE, C.NAME\"\n",
    "    \" FROM film as F\"\n",
    "    \" LEFT JOIN film_category as FC ON F.FILM_ID = FC.FILM_ID\"\n",
    "    \" LEFT JOIN category as C ON FC.CATEGORY_ID = C.CATEGORY_ID\",\n",
    "    con=con,\n",
    "    parse_dates=[\"last_update\"],\n",
    ")\n",
    "df.head()"
   ]
  },
  {
   "cell_type": "code",
   "execution_count": null,
   "id": "02fe6f8e",
   "metadata": {},
   "outputs": [],
   "source": [
    "df.shape"
   ]
  },
  {
   "cell_type": "code",
   "execution_count": null,
   "id": "39d6929b",
   "metadata": {},
   "outputs": [],
   "source": [
    "df.dtypes"
   ]
  },
  {
   "cell_type": "code",
   "execution_count": null,
   "id": "d999bcea",
   "metadata": {},
   "outputs": [],
   "source": [
    "con.close()  # コネクションを閉じる"
   ]
  }
 ],
 "metadata": {
  "language_info": {
   "name": "python"
  }
 },
 "nbformat": 4,
 "nbformat_minor": 5
}
