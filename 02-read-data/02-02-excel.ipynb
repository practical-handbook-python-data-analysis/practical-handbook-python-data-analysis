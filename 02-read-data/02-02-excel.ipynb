{
 "cells": [
  {
   "cell_type": "markdown",
   "id": "d521ec1e",
   "metadata": {},
   "source": [
    "# Excel形式"
   ]
  },
  {
   "cell_type": "markdown",
   "id": "a36adfbb",
   "metadata": {},
   "source": [
    "## PythonでExcelファイルを取り扱う"
   ]
  },
  {
   "cell_type": "markdown",
   "id": "fa491e74",
   "metadata": {},
   "source": [
    "## データサンプル"
   ]
  },
  {
   "cell_type": "markdown",
   "id": "f67c0cf6",
   "metadata": {},
   "source": [
    "## pandasを使う"
   ]
  },
  {
   "cell_type": "code",
   "execution_count": null,
   "id": "5bccfc57",
   "metadata": {},
   "outputs": [],
   "source": [
    "import pandas as pd\n",
    "\n",
    "df = pd.read_excel(\n",
    "    \"data/FEH_00200524_230205132438.xlsx\",\n",
    "    header=12,\n",
    "    nrows=27,\n",
    ")"
   ]
  },
  {
   "cell_type": "code",
   "execution_count": null,
   "id": "0d78d5c0",
   "metadata": {},
   "outputs": [],
   "source": [
    "df.head()"
   ]
  },
  {
   "cell_type": "code",
   "execution_count": null,
   "id": "553b8022",
   "metadata": {},
   "outputs": [],
   "source": [
    "df.shape"
   ]
  },
  {
   "cell_type": "code",
   "execution_count": null,
   "id": "7cdf5892",
   "metadata": {},
   "outputs": [],
   "source": [
    "df.loc[:, \"/男女別\"].isna().all()"
   ]
  },
  {
   "cell_type": "markdown",
   "id": "cb679b1d",
   "metadata": {},
   "source": [
    "## pandasでデータ加工しExcelファイルに書き込む"
   ]
  },
  {
   "cell_type": "code",
   "execution_count": null,
   "id": "5f4b9ebf",
   "metadata": {},
   "outputs": [],
   "source": [
    "df.head()"
   ]
  },
  {
   "cell_type": "code",
   "execution_count": null,
   "id": "7f8ba88d",
   "metadata": {},
   "outputs": [],
   "source": [
    "df.dtypes"
   ]
  },
  {
   "cell_type": "code",
   "execution_count": null,
   "id": "27b3fd2d",
   "metadata": {},
   "outputs": [],
   "source": [
    "cleaned_df = pd.concat(\n",
    "    [\n",
    "        df.loc[:, [\"年齢5歳階級 コード\", \"年齢5歳階級\"]],\n",
    "        df.loc[:, [\"男女計\", \"男\", \"女\"]]\n",
    "            # カンマ(,)を削除\n",
    "            .applymap(lambda x: x.replace(\",\", \"\"))  # ・・①\n",
    "            # \"男女計\", \"男\", \"女\"の3つの列を整数型に変換する\n",
    "            .astype(\"int\"),  # ・・②\n",
    "    ],\n",
    "    axis=1,\n",
    ")"
   ]
  },
  {
   "cell_type": "code",
   "execution_count": null,
   "id": "3632b695",
   "metadata": {},
   "outputs": [],
   "source": [
    "processed_df = cleaned_df.assign(\n",
    "    女性比率=cleaned_df.loc[:, \"女\"] / cleaned_df.loc[:, \"男女計\"]\n",
    ")\n",
    "processed_df.tail()"
   ]
  },
  {
   "cell_type": "code",
   "execution_count": null,
   "id": "5623cb41",
   "metadata": {},
   "outputs": [],
   "source": [
    "processed_df.to_excel(\"data/人口統計.xlsx\")"
   ]
  },
  {
   "cell_type": "markdown",
   "id": "9d42c1f3",
   "metadata": {},
   "source": [
    "## Pythonのオブジェクトとして扱う"
   ]
  },
  {
   "cell_type": "code",
   "execution_count": null,
   "id": "9835e9ee",
   "metadata": {},
   "outputs": [],
   "source": [
    "import openpyxl\n",
    "\n",
    "wb = openpyxl.load_workbook(\"data/FEH_00200524_230205132438.xlsx\")\n",
    "sheet = wb.worksheets[0]  # 最初のシートの読み込み"
   ]
  },
  {
   "cell_type": "code",
   "execution_count": null,
   "id": "98306db3",
   "metadata": {},
   "outputs": [],
   "source": [
    "print(sheet[\"B1\"].value)"
   ]
  },
  {
   "cell_type": "code",
   "execution_count": null,
   "id": "47135e74",
   "metadata": {},
   "outputs": [],
   "source": [
    "out = []\n",
    "for row in sheet.iter_rows(min_row=14, max_row=40):  # ・・①\n",
    "    inner = []\n",
    "    for cell in row:  # ・・②\n",
    "        inner.append(cell.value)\n",
    "    out.append(inner)  # ・・③\n",
    "print(out)"
   ]
  },
  {
   "cell_type": "code",
   "execution_count": null,
   "id": "450753e7",
   "metadata": {},
   "outputs": [],
   "source": [
    "print(len(out))"
   ]
  }
 ],
 "metadata": {
  "language_info": {
   "name": "python"
  }
 },
 "nbformat": 4,
 "nbformat_minor": 5
}
