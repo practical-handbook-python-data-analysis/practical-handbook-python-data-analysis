{
 "cells": [
  {
   "cell_type": "markdown",
   "id": "d521ec1e",
   "metadata": {},
   "source": [
    "# Excel形式"
   ]
  },
  {
   "cell_type": "markdown",
   "id": "a36adfbb",
   "metadata": {},
   "source": [
    "## PythonでExcelファイルを取り扱う"
   ]
  },
  {
   "cell_type": "markdown",
   "id": "fa491e74",
   "metadata": {},
   "source": [
    "## データサンプル"
   ]
  },
  {
   "cell_type": "markdown",
   "id": "f67c0cf6",
   "metadata": {},
   "source": [
    "## pandasを使う"
   ]
  },
  {
   "cell_type": "code",
   "execution_count": 1,
   "id": "5bccfc57",
   "metadata": {},
   "outputs": [],
   "source": [
    "import pandas as pd\n",
    "\n",
    "df = pd.read_excel(\n",
    "    \"data/FEH_00200524_230205132438.xlsx\",\n",
    "    header=12,\n",
    "    nrows=27,\n",
    ")"
   ]
  },
  {
   "cell_type": "code",
   "execution_count": 2,
   "id": "0d78d5c0",
   "metadata": {},
   "outputs": [
    {
     "data": {
      "text/html": [
       "<div>\n",
       "<style scoped>\n",
       "    .dataframe tbody tr th:only-of-type {\n",
       "        vertical-align: middle;\n",
       "    }\n",
       "\n",
       "    .dataframe tbody tr th {\n",
       "        vertical-align: top;\n",
       "    }\n",
       "\n",
       "    .dataframe thead th {\n",
       "        text-align: right;\n",
       "    }\n",
       "</style>\n",
       "<table border=\"1\" class=\"dataframe\">\n",
       "  <thead>\n",
       "    <tr style=\"text-align: right;\">\n",
       "      <th></th>\n",
       "      <th>年齢5歳階級 コード</th>\n",
       "      <th>年齢5歳階級</th>\n",
       "      <th>/男女別</th>\n",
       "      <th>男女計</th>\n",
       "      <th>男</th>\n",
       "      <th>女</th>\n",
       "    </tr>\n",
       "  </thead>\n",
       "  <tbody>\n",
       "    <tr>\n",
       "      <th>0</th>\n",
       "      <td>1000</td>\n",
       "      <td>総数</td>\n",
       "      <td>NaN</td>\n",
       "      <td>12,477</td>\n",
       "      <td>6,066</td>\n",
       "      <td>6,412</td>\n",
       "    </tr>\n",
       "    <tr>\n",
       "      <th>1</th>\n",
       "      <td>1001</td>\n",
       "      <td>0～4歳</td>\n",
       "      <td>NaN</td>\n",
       "      <td>422</td>\n",
       "      <td>216</td>\n",
       "      <td>206</td>\n",
       "    </tr>\n",
       "    <tr>\n",
       "      <th>2</th>\n",
       "      <td>1002</td>\n",
       "      <td>5～9歳</td>\n",
       "      <td>NaN</td>\n",
       "      <td>493</td>\n",
       "      <td>252</td>\n",
       "      <td>240</td>\n",
       "    </tr>\n",
       "    <tr>\n",
       "      <th>3</th>\n",
       "      <td>1003</td>\n",
       "      <td>10～14歳</td>\n",
       "      <td>NaN</td>\n",
       "      <td>530</td>\n",
       "      <td>272</td>\n",
       "      <td>258</td>\n",
       "    </tr>\n",
       "    <tr>\n",
       "      <th>4</th>\n",
       "      <td>1004</td>\n",
       "      <td>15～19歳</td>\n",
       "      <td>NaN</td>\n",
       "      <td>552</td>\n",
       "      <td>283</td>\n",
       "      <td>269</td>\n",
       "    </tr>\n",
       "  </tbody>\n",
       "</table>\n",
       "</div>"
      ],
      "text/plain": [
       "   年齢5歳階級 コード  年齢5歳階級  /男女別     男女計      男      女\n",
       "0        1000      総数   NaN  12,477  6,066  6,412\n",
       "1        1001    0～4歳   NaN     422    216    206\n",
       "2        1002    5～9歳   NaN     493    252    240\n",
       "3        1003  10～14歳   NaN     530    272    258\n",
       "4        1004  15～19歳   NaN     552    283    269"
      ]
     },
     "execution_count": 2,
     "metadata": {},
     "output_type": "execute_result"
    }
   ],
   "source": [
    "df.head()"
   ]
  },
  {
   "cell_type": "code",
   "execution_count": 3,
   "id": "553b8022",
   "metadata": {},
   "outputs": [
    {
     "data": {
      "text/plain": [
       "(27, 6)"
      ]
     },
     "execution_count": 3,
     "metadata": {},
     "output_type": "execute_result"
    }
   ],
   "source": [
    "df.shape"
   ]
  },
  {
   "cell_type": "code",
   "execution_count": 4,
   "id": "7cdf5892",
   "metadata": {},
   "outputs": [
    {
     "data": {
      "text/plain": [
       "True"
      ]
     },
     "execution_count": 4,
     "metadata": {},
     "output_type": "execute_result"
    }
   ],
   "source": [
    "df.loc[:, \"/男女別\"].isna().all()"
   ]
  },
  {
   "cell_type": "markdown",
   "id": "cb679b1d",
   "metadata": {},
   "source": [
    "## pandasでデータ加工しExcelファイルに書き込む"
   ]
  },
  {
   "cell_type": "code",
   "execution_count": 5,
   "id": "5f4b9ebf",
   "metadata": {},
   "outputs": [
    {
     "data": {
      "text/html": [
       "<div>\n",
       "<style scoped>\n",
       "    .dataframe tbody tr th:only-of-type {\n",
       "        vertical-align: middle;\n",
       "    }\n",
       "\n",
       "    .dataframe tbody tr th {\n",
       "        vertical-align: top;\n",
       "    }\n",
       "\n",
       "    .dataframe thead th {\n",
       "        text-align: right;\n",
       "    }\n",
       "</style>\n",
       "<table border=\"1\" class=\"dataframe\">\n",
       "  <thead>\n",
       "    <tr style=\"text-align: right;\">\n",
       "      <th></th>\n",
       "      <th>年齢5歳階級 コード</th>\n",
       "      <th>年齢5歳階級</th>\n",
       "      <th>/男女別</th>\n",
       "      <th>男女計</th>\n",
       "      <th>男</th>\n",
       "      <th>女</th>\n",
       "    </tr>\n",
       "  </thead>\n",
       "  <tbody>\n",
       "    <tr>\n",
       "      <th>0</th>\n",
       "      <td>1000</td>\n",
       "      <td>総数</td>\n",
       "      <td>NaN</td>\n",
       "      <td>12,477</td>\n",
       "      <td>6,066</td>\n",
       "      <td>6,412</td>\n",
       "    </tr>\n",
       "    <tr>\n",
       "      <th>1</th>\n",
       "      <td>1001</td>\n",
       "      <td>0～4歳</td>\n",
       "      <td>NaN</td>\n",
       "      <td>422</td>\n",
       "      <td>216</td>\n",
       "      <td>206</td>\n",
       "    </tr>\n",
       "    <tr>\n",
       "      <th>2</th>\n",
       "      <td>1002</td>\n",
       "      <td>5～9歳</td>\n",
       "      <td>NaN</td>\n",
       "      <td>493</td>\n",
       "      <td>252</td>\n",
       "      <td>240</td>\n",
       "    </tr>\n",
       "    <tr>\n",
       "      <th>3</th>\n",
       "      <td>1003</td>\n",
       "      <td>10～14歳</td>\n",
       "      <td>NaN</td>\n",
       "      <td>530</td>\n",
       "      <td>272</td>\n",
       "      <td>258</td>\n",
       "    </tr>\n",
       "    <tr>\n",
       "      <th>4</th>\n",
       "      <td>1004</td>\n",
       "      <td>15～19歳</td>\n",
       "      <td>NaN</td>\n",
       "      <td>552</td>\n",
       "      <td>283</td>\n",
       "      <td>269</td>\n",
       "    </tr>\n",
       "  </tbody>\n",
       "</table>\n",
       "</div>"
      ],
      "text/plain": [
       "   年齢5歳階級 コード  年齢5歳階級  /男女別     男女計      男      女\n",
       "0        1000      総数   NaN  12,477  6,066  6,412\n",
       "1        1001    0～4歳   NaN     422    216    206\n",
       "2        1002    5～9歳   NaN     493    252    240\n",
       "3        1003  10～14歳   NaN     530    272    258\n",
       "4        1004  15～19歳   NaN     552    283    269"
      ]
     },
     "execution_count": 5,
     "metadata": {},
     "output_type": "execute_result"
    }
   ],
   "source": [
    "df.head()"
   ]
  },
  {
   "cell_type": "code",
   "execution_count": 6,
   "id": "7f8ba88d",
   "metadata": {},
   "outputs": [
    {
     "data": {
      "text/plain": [
       "年齢5歳階級 コード      int64\n",
       "年齢5歳階級         object\n",
       "/男女別          float64\n",
       "男女計            object\n",
       "男              object\n",
       "女              object\n",
       "dtype: object"
      ]
     },
     "execution_count": 6,
     "metadata": {},
     "output_type": "execute_result"
    }
   ],
   "source": [
    "df.dtypes"
   ]
  },
  {
   "cell_type": "code",
   "execution_count": 1,
   "id": "27b3fd2d",
   "metadata": {},
   "outputs": [
    {
     "ename": "NameError",
     "evalue": "name 'pd' is not defined",
     "output_type": "error",
     "traceback": [
      "\u001b[0;31m---------------------------------------------------------------------------\u001b[0m",
      "\u001b[0;31mNameError\u001b[0m                                 Traceback (most recent call last)",
      "Cell \u001b[0;32mIn[1], line 1\u001b[0m\n\u001b[0;32m----> 1\u001b[0m cleaned_df \u001b[38;5;241m=\u001b[39m \u001b[43mpd\u001b[49m\u001b[38;5;241m.\u001b[39mconcat(\n\u001b[1;32m      2\u001b[0m     [\n\u001b[1;32m      3\u001b[0m         df\u001b[38;5;241m.\u001b[39mloc[:, [\u001b[38;5;124m\"\u001b[39m\u001b[38;5;124m年齢5歳階級 コード\u001b[39m\u001b[38;5;124m\"\u001b[39m, \u001b[38;5;124m\"\u001b[39m\u001b[38;5;124m年齢5歳階級\u001b[39m\u001b[38;5;124m\"\u001b[39m]],\n\u001b[1;32m      4\u001b[0m         df\u001b[38;5;241m.\u001b[39mloc[:, [\u001b[38;5;124m\"\u001b[39m\u001b[38;5;124m男女計\u001b[39m\u001b[38;5;124m\"\u001b[39m, \u001b[38;5;124m\"\u001b[39m\u001b[38;5;124m男\u001b[39m\u001b[38;5;124m\"\u001b[39m, \u001b[38;5;124m\"\u001b[39m\u001b[38;5;124m女\u001b[39m\u001b[38;5;124m\"\u001b[39m]]\n\u001b[1;32m      5\u001b[0m             \u001b[38;5;66;03m# カンマ(,)を削除\u001b[39;00m\n\u001b[1;32m      6\u001b[0m             \u001b[38;5;241m.\u001b[39mapplymap(\u001b[38;5;28;01mlambda\u001b[39;00m x: x\u001b[38;5;241m.\u001b[39mreplace(\u001b[38;5;124m\"\u001b[39m\u001b[38;5;124m,\u001b[39m\u001b[38;5;124m\"\u001b[39m, \u001b[38;5;124m\"\u001b[39m\u001b[38;5;124m\"\u001b[39m))  \u001b[38;5;66;03m# ・・①\u001b[39;00m\n\u001b[1;32m      7\u001b[0m             \u001b[38;5;66;03m# \"男女計\", \"男\", \"女\"の3つの列を整数型に変換する\u001b[39;00m\n\u001b[1;32m      8\u001b[0m             \u001b[38;5;241m.\u001b[39mastype(\u001b[38;5;124m\"\u001b[39m\u001b[38;5;124mint\u001b[39m\u001b[38;5;124m\"\u001b[39m),  \u001b[38;5;66;03m# ・・②\u001b[39;00m\n\u001b[1;32m      9\u001b[0m     ],\n\u001b[1;32m     10\u001b[0m     axis\u001b[38;5;241m=\u001b[39m\u001b[38;5;241m1\u001b[39m,\n\u001b[1;32m     11\u001b[0m )\n",
      "\u001b[0;31mNameError\u001b[0m: name 'pd' is not defined"
     ]
    }
   ],
   "source": [
    "cleaned_df = pd.concat(\n",
    "    [\n",
    "        df.loc[:, [\"年齢5歳階級 コード\", \"年齢5歳階級\"]],\n",
    "        df.loc[:, [\"男女計\", \"男\", \"女\"]]\n",
    "            # カンマ(,)を削除\n",
    "            .applymap(lambda x: x.replace(\",\", \"\"))  # ・・①\n",
    "            # \"男女計\", \"男\", \"女\"の3つの列を整数型に変換する\n",
    "            .astype(\"int\"),  # ・・②\n",
    "    ],\n",
    "    axis=1,\n",
    ")"
   ]
  },
  {
   "cell_type": "code",
   "execution_count": 8,
   "id": "3632b695",
   "metadata": {},
   "outputs": [
    {
     "data": {
      "text/html": [
       "<div>\n",
       "<style scoped>\n",
       "    .dataframe tbody tr th:only-of-type {\n",
       "        vertical-align: middle;\n",
       "    }\n",
       "\n",
       "    .dataframe tbody tr th {\n",
       "        vertical-align: top;\n",
       "    }\n",
       "\n",
       "    .dataframe thead th {\n",
       "        text-align: right;\n",
       "    }\n",
       "</style>\n",
       "<table border=\"1\" class=\"dataframe\">\n",
       "  <thead>\n",
       "    <tr style=\"text-align: right;\">\n",
       "      <th></th>\n",
       "      <th>年齢5歳階級 コード</th>\n",
       "      <th>年齢5歳階級</th>\n",
       "      <th>男女計</th>\n",
       "      <th>男</th>\n",
       "      <th>女</th>\n",
       "      <th>女性比率</th>\n",
       "    </tr>\n",
       "  </thead>\n",
       "  <tbody>\n",
       "    <tr>\n",
       "      <th>22</th>\n",
       "      <td>2000</td>\n",
       "      <td>（再掲）15歳未満</td>\n",
       "      <td>1445</td>\n",
       "      <td>740</td>\n",
       "      <td>705</td>\n",
       "      <td>0.487889</td>\n",
       "    </tr>\n",
       "    <tr>\n",
       "      <th>23</th>\n",
       "      <td>1023</td>\n",
       "      <td>（再掲）15～64歳</td>\n",
       "      <td>7411</td>\n",
       "      <td>3755</td>\n",
       "      <td>3657</td>\n",
       "      <td>0.493456</td>\n",
       "    </tr>\n",
       "    <tr>\n",
       "      <th>24</th>\n",
       "      <td>1024</td>\n",
       "      <td>（再掲）65歳以上</td>\n",
       "      <td>3621</td>\n",
       "      <td>1571</td>\n",
       "      <td>2050</td>\n",
       "      <td>0.566142</td>\n",
       "    </tr>\n",
       "    <tr>\n",
       "      <th>25</th>\n",
       "      <td>1026</td>\n",
       "      <td>（再掲）うち75歳以上</td>\n",
       "      <td>1953</td>\n",
       "      <td>773</td>\n",
       "      <td>1179</td>\n",
       "      <td>0.603687</td>\n",
       "    </tr>\n",
       "    <tr>\n",
       "      <th>26</th>\n",
       "      <td>1027</td>\n",
       "      <td>（再掲）うち85歳以上</td>\n",
       "      <td>665</td>\n",
       "      <td>214</td>\n",
       "      <td>451</td>\n",
       "      <td>0.678195</td>\n",
       "    </tr>\n",
       "  </tbody>\n",
       "</table>\n",
       "</div>"
      ],
      "text/plain": [
       "    年齢5歳階級 コード       年齢5歳階級   男女計     男     女      女性比率\n",
       "22        2000    （再掲）15歳未満  1445   740   705  0.487889\n",
       "23        1023   （再掲）15～64歳  7411  3755  3657  0.493456\n",
       "24        1024    （再掲）65歳以上  3621  1571  2050  0.566142\n",
       "25        1026  （再掲）うち75歳以上  1953   773  1179  0.603687\n",
       "26        1027  （再掲）うち85歳以上   665   214   451  0.678195"
      ]
     },
     "execution_count": 8,
     "metadata": {},
     "output_type": "execute_result"
    }
   ],
   "source": [
    "processed_df = cleaned_df.assign(\n",
    "    女性比率=cleaned_df.loc[:, \"女\"] / cleaned_df.loc[:, \"男女計\"]\n",
    ")\n",
    "processed_df.tail()"
   ]
  },
  {
   "cell_type": "code",
   "execution_count": 9,
   "id": "5623cb41",
   "metadata": {},
   "outputs": [],
   "source": [
    "processed_df.to_excel(\"data/人口統計.xlsx\")"
   ]
  },
  {
   "cell_type": "markdown",
   "id": "9d42c1f3",
   "metadata": {},
   "source": [
    "## Pythonのオブジェクトとして扱う"
   ]
  },
  {
   "cell_type": "code",
   "execution_count": null,
   "id": "9835e9ee",
   "metadata": {},
   "outputs": [],
   "source": [
    "import openpyxl\n",
    "\n",
    "wb = openpyxl.load_workbook(\"data/FEH_00200524_230205132438.xlsx\")\n",
    "sheet = wb.worksheets[0]  # 最初のシートの読み込み"
   ]
  },
  {
   "cell_type": "code",
   "execution_count": null,
   "id": "98306db3",
   "metadata": {},
   "outputs": [],
   "source": [
    "print(sheet[\"B1\"].value)"
   ]
  },
  {
   "cell_type": "code",
   "execution_count": null,
   "id": "47135e74",
   "metadata": {},
   "outputs": [],
   "source": [
    "out = []\n",
    "for row in sheet.iter_rows(min_row=14, max_row=40):  # ・・①\n",
    "    inner = []\n",
    "    for cell in row:  # ・・②\n",
    "        inner.append(cell.value)\n",
    "    out.append(inner)  # ・・③\n",
    "print(out)"
   ]
  },
  {
   "cell_type": "code",
   "execution_count": null,
   "id": "450753e7",
   "metadata": {},
   "outputs": [],
   "source": [
    "print(len(out))"
   ]
  }
 ],
 "metadata": {
  "kernelspec": {
   "display_name": "Python 3",
   "language": "python",
   "name": "python3"
  },
  "language_info": {
   "codemirror_mode": {
    "name": "ipython",
    "version": 3
   },
   "file_extension": ".py",
   "mimetype": "text/x-python",
   "name": "python",
   "nbconvert_exporter": "python",
   "pygments_lexer": "ipython3",
   "version": "3.11.4"
  }
 },
 "nbformat": 4,
 "nbformat_minor": 5
}
