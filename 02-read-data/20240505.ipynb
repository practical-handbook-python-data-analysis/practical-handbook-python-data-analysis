{
 "cells": [
  {
   "cell_type": "code",
   "execution_count": 9,
   "metadata": {},
   "outputs": [
    {
     "name": "stdout",
     "output_type": "stream",
     "text": [
      "\"表章項目\"|\"人口\"|\"概算値\"|\"全国\"|\"時間軸（年月日現在）\"|\"年齢5歳階級\"|\"/男女別\"|\"男女計\"|\"男\"|\"女\"|\n",
      "===\n",
      "\"人口【万人】\"|\"総人口\"|\"概算値\"|\"全国\"|\"2021年12月\"|\"総数\"|\"\"|\"12|547\"|\"6|099\"|\"6|448\"|\n",
      "===\n",
      "\"人口【万人】\"|\"総人口\"|\"概算値\"|\"全国\"|\"2021年12月\"|\"0～4歳\"|\"\"|\"437\"|\"224\"|\"214\"|\n",
      "===\n"
     ]
    }
   ],
   "source": [
    "with open('data/FEH_00200524_230205124938.csv', 'r', encoding='cp932') as f:\n",
    "    for i, row in enumerate(f):\n",
    "        for col in row.strip().split(','):\n",
    "            print(col, end='|')\n",
    "        print()\n",
    "        print('===')\n",
    "        if i > 1:\n",
    "            break"
   ]
  },
  {
   "cell_type": "code",
   "execution_count": 10,
   "metadata": {},
   "outputs": [
    {
     "name": "stdout",
     "output_type": "stream",
     "text": [
      "     表章項目   人口  概算値  全国 時間軸（年月日現在）  年齢5歳階級  /男女別     男女計      男      女\n",
      "0  人口【万人】  総人口  概算値  全国   2021年12月      総数   NaN  12,547  6,099  6,448\n",
      "1  人口【万人】  総人口  概算値  全国   2021年12月    0～4歳   NaN     437    224    214\n",
      "2  人口【万人】  総人口  概算値  全国   2021年12月    5～9歳   NaN     503    258    245\n",
      "3  人口【万人】  総人口  概算値  全国   2021年12月  10～14歳   NaN     535    274    261\n",
      "4  人口【万人】  総人口  概算値  全国   2021年12月  15～19歳   NaN     559    287    272\n",
      "       表章項目   人口  概算値  全国 時間軸（年月日現在）       年齢5歳階級  /男女別    男女計      男      女\n",
      "373  人口【万人】  総人口  概算値  全国    2023年1月    （再掲）15歳未満   NaN  1,445    740    705\n",
      "374  人口【万人】  総人口  概算値  全国    2023年1月   （再掲）15～64歳   NaN  7,411  3,755  3,657\n",
      "375  人口【万人】  総人口  概算値  全国    2023年1月    （再掲）65歳以上   NaN  3,621  1,571  2,050\n",
      "376  人口【万人】  総人口  概算値  全国    2023年1月  （再掲）うち75歳以上   NaN  1,953    773  1,179\n",
      "377  人口【万人】  総人口  概算値  全国    2023年1月  （再掲）うち85歳以上   NaN    665    214    451\n"
     ]
    }
   ],
   "source": [
    "# 2-1-4\n",
    "# PandasでCSVファイルを読み込む\n",
    "import pandas as pd\n",
    "df = pd.read_csv('data/FEH_00200524_230205124938.csv', encoding='cp932')\n",
    "print(df.head()) # 先頭5行を表示\n",
    "print(df.tail()) # 末尾5行を表示"
   ]
  },
  {
   "cell_type": "code",
   "execution_count": 11,
   "metadata": {},
   "outputs": [
    {
     "data": {
      "text/plain": [
       "(378, 10)"
      ]
     },
     "execution_count": 11,
     "metadata": {},
     "output_type": "execute_result"
    }
   ],
   "source": [
    "df.shape # 行数と列数を表示"
   ]
  },
  {
   "cell_type": "code",
   "execution_count": 12,
   "metadata": {},
   "outputs": [
    {
     "data": {
      "text/plain": [
       "表章項目           object\n",
       "人口             object\n",
       "概算値            object\n",
       "全国             object\n",
       "時間軸（年月日現在）     object\n",
       "年齢5歳階級         object\n",
       "/男女別          float64\n",
       "男女計            object\n",
       "男              object\n",
       "女              object\n",
       "dtype: object"
      ]
     },
     "execution_count": 12,
     "metadata": {},
     "output_type": "execute_result"
    }
   ],
   "source": [
    "df.dtypes # データ型を表示"
   ]
  },
  {
   "cell_type": "code",
   "execution_count": 13,
   "metadata": {},
   "outputs": [
    {
     "data": {
      "text/html": [
       "<div>\n",
       "<style scoped>\n",
       "    .dataframe tbody tr th:only-of-type {\n",
       "        vertical-align: middle;\n",
       "    }\n",
       "\n",
       "    .dataframe tbody tr th {\n",
       "        vertical-align: top;\n",
       "    }\n",
       "\n",
       "    .dataframe thead th {\n",
       "        text-align: right;\n",
       "    }\n",
       "</style>\n",
       "<table border=\"1\" class=\"dataframe\">\n",
       "  <thead>\n",
       "    <tr style=\"text-align: right;\">\n",
       "      <th></th>\n",
       "      <th>表章項目</th>\n",
       "      <th>人口</th>\n",
       "      <th>概算値</th>\n",
       "      <th>全国</th>\n",
       "      <th>時間軸（年月日現在）</th>\n",
       "      <th>年齢5歳階級</th>\n",
       "      <th>/男女別</th>\n",
       "      <th>男女計</th>\n",
       "      <th>男</th>\n",
       "      <th>女</th>\n",
       "    </tr>\n",
       "  </thead>\n",
       "  <tbody>\n",
       "    <tr>\n",
       "      <th>0</th>\n",
       "      <td>人口【万人】</td>\n",
       "      <td>総人口</td>\n",
       "      <td>概算値</td>\n",
       "      <td>全国</td>\n",
       "      <td>2021-12-01</td>\n",
       "      <td>総数</td>\n",
       "      <td>NaN</td>\n",
       "      <td>12547</td>\n",
       "      <td>6099</td>\n",
       "      <td>6448</td>\n",
       "    </tr>\n",
       "    <tr>\n",
       "      <th>1</th>\n",
       "      <td>人口【万人】</td>\n",
       "      <td>総人口</td>\n",
       "      <td>概算値</td>\n",
       "      <td>全国</td>\n",
       "      <td>2021-12-01</td>\n",
       "      <td>0～4歳</td>\n",
       "      <td>NaN</td>\n",
       "      <td>437</td>\n",
       "      <td>224</td>\n",
       "      <td>214</td>\n",
       "    </tr>\n",
       "    <tr>\n",
       "      <th>2</th>\n",
       "      <td>人口【万人】</td>\n",
       "      <td>総人口</td>\n",
       "      <td>概算値</td>\n",
       "      <td>全国</td>\n",
       "      <td>2021-12-01</td>\n",
       "      <td>5～9歳</td>\n",
       "      <td>NaN</td>\n",
       "      <td>503</td>\n",
       "      <td>258</td>\n",
       "      <td>245</td>\n",
       "    </tr>\n",
       "    <tr>\n",
       "      <th>3</th>\n",
       "      <td>人口【万人】</td>\n",
       "      <td>総人口</td>\n",
       "      <td>概算値</td>\n",
       "      <td>全国</td>\n",
       "      <td>2021-12-01</td>\n",
       "      <td>10～14歳</td>\n",
       "      <td>NaN</td>\n",
       "      <td>535</td>\n",
       "      <td>274</td>\n",
       "      <td>261</td>\n",
       "    </tr>\n",
       "    <tr>\n",
       "      <th>4</th>\n",
       "      <td>人口【万人】</td>\n",
       "      <td>総人口</td>\n",
       "      <td>概算値</td>\n",
       "      <td>全国</td>\n",
       "      <td>2021-12-01</td>\n",
       "      <td>15～19歳</td>\n",
       "      <td>NaN</td>\n",
       "      <td>559</td>\n",
       "      <td>287</td>\n",
       "      <td>272</td>\n",
       "    </tr>\n",
       "  </tbody>\n",
       "</table>\n",
       "</div>"
      ],
      "text/plain": [
       "     表章項目   人口  概算値  全国 時間軸（年月日現在）  年齢5歳階級  /男女別    男女計     男     女\n",
       "0  人口【万人】  総人口  概算値  全国 2021-12-01      総数   NaN  12547  6099  6448\n",
       "1  人口【万人】  総人口  概算値  全国 2021-12-01    0～4歳   NaN    437   224   214\n",
       "2  人口【万人】  総人口  概算値  全国 2021-12-01    5～9歳   NaN    503   258   245\n",
       "3  人口【万人】  総人口  概算値  全国 2021-12-01  10～14歳   NaN    535   274   261\n",
       "4  人口【万人】  総人口  概算値  全国 2021-12-01  15～19歳   NaN    559   287   272"
      ]
     },
     "execution_count": 13,
     "metadata": {},
     "output_type": "execute_result"
    }
   ],
   "source": [
    "# import pandas as pd\n",
    "df_parsed = pd.read_csv(\n",
    "    'data/FEH_00200524_230205124938.csv', \n",
    "    encoding='cp932', \n",
    "    parse_dates=['時間軸（年月日現在）'],\n",
    "    date_format='%Y年%m月',\n",
    "    thousands=',',\n",
    "    )\n",
    "df_parsed.head()\n"
   ]
  },
  {
   "cell_type": "code",
   "execution_count": 14,
   "metadata": {},
   "outputs": [
    {
     "data": {
      "text/plain": [
       "表章項目                  object\n",
       "人口                    object\n",
       "概算値                   object\n",
       "全国                    object\n",
       "時間軸（年月日現在）    datetime64[ns]\n",
       "年齢5歳階級                object\n",
       "/男女別                 float64\n",
       "男女計                    int64\n",
       "男                      int64\n",
       "女                      int64\n",
       "dtype: object"
      ]
     },
     "execution_count": 14,
     "metadata": {},
     "output_type": "execute_result"
    }
   ],
   "source": [
    "df_parsed.dtypes"
   ]
  },
  {
   "cell_type": "code",
   "execution_count": 15,
   "metadata": {},
   "outputs": [
    {
     "name": "stdout",
     "output_type": "stream",
     "text": [
      "\"表章項目\",\"人口\",\"概算値\",\"全国\",\"時間軸（年月日現在）\",\"年齢5歳階級\",\"/男女別\",\"男女計\",\"男\",\"女\"|\n",
      "===\n",
      "\"人口【万人】\",\"総人口\",\"概算値\",\"全国\",\"2021年12月\",\"総数\",\"\",\"12,547\",\"6,099\",\"6,448\"|\n",
      "===\n",
      "\"人口【万人】\",\"総人口\",\"概算値\",\"全国\",\"2021年12月\",\"0～4歳\",\"\",\"437\",\"224\",\"214\"|\n",
      "===\n"
     ]
    }
   ],
   "source": [
    "# 2-1-5 csvモジュールで読み込み\n",
    "import csv\n",
    "with open(\n",
    "    'data/FEH_00200524_230205124938.csv',\n",
    "    'r', encoding='cp932',\n",
    "    newline='',\n",
    "    ) as f:\n",
    "    data = csv.reader(\n",
    "        f,\n",
    "        delimiter='\\t',\n",
    "        quotechar=\"'\")\n",
    "    for i, row in enumerate(data):\n",
    "        for col in row:\n",
    "            print(col, end='|')\n",
    "        print()\n",
    "        print('===')\n",
    "        if i > 1:\n",
    "            break"
   ]
  },
  {
   "cell_type": "code",
   "execution_count": 16,
   "metadata": {},
   "outputs": [],
   "source": [
    "# 2-2-3 pandasでExcelファイルを読み込む\n",
    "import pandas as pd\n",
    "df = pd.read_excel(\n",
    "    'data/FEH_00200524_230205132438.xlsx',\n",
    "    header=12,\n",
    "    nrows=27,\n",
    "    )"
   ]
  },
  {
   "cell_type": "code",
   "execution_count": 17,
   "metadata": {},
   "outputs": [
    {
     "data": {
      "text/html": [
       "<div>\n",
       "<style scoped>\n",
       "    .dataframe tbody tr th:only-of-type {\n",
       "        vertical-align: middle;\n",
       "    }\n",
       "\n",
       "    .dataframe tbody tr th {\n",
       "        vertical-align: top;\n",
       "    }\n",
       "\n",
       "    .dataframe thead th {\n",
       "        text-align: right;\n",
       "    }\n",
       "</style>\n",
       "<table border=\"1\" class=\"dataframe\">\n",
       "  <thead>\n",
       "    <tr style=\"text-align: right;\">\n",
       "      <th></th>\n",
       "      <th>年齢5歳階級 コード</th>\n",
       "      <th>年齢5歳階級</th>\n",
       "      <th>/男女別</th>\n",
       "      <th>男女計</th>\n",
       "      <th>男</th>\n",
       "      <th>女</th>\n",
       "    </tr>\n",
       "  </thead>\n",
       "  <tbody>\n",
       "    <tr>\n",
       "      <th>0</th>\n",
       "      <td>1000</td>\n",
       "      <td>総数</td>\n",
       "      <td>NaN</td>\n",
       "      <td>12,477</td>\n",
       "      <td>6,066</td>\n",
       "      <td>6,412</td>\n",
       "    </tr>\n",
       "    <tr>\n",
       "      <th>1</th>\n",
       "      <td>1001</td>\n",
       "      <td>0～4歳</td>\n",
       "      <td>NaN</td>\n",
       "      <td>422</td>\n",
       "      <td>216</td>\n",
       "      <td>206</td>\n",
       "    </tr>\n",
       "    <tr>\n",
       "      <th>2</th>\n",
       "      <td>1002</td>\n",
       "      <td>5～9歳</td>\n",
       "      <td>NaN</td>\n",
       "      <td>493</td>\n",
       "      <td>252</td>\n",
       "      <td>240</td>\n",
       "    </tr>\n",
       "    <tr>\n",
       "      <th>3</th>\n",
       "      <td>1003</td>\n",
       "      <td>10～14歳</td>\n",
       "      <td>NaN</td>\n",
       "      <td>530</td>\n",
       "      <td>272</td>\n",
       "      <td>258</td>\n",
       "    </tr>\n",
       "    <tr>\n",
       "      <th>4</th>\n",
       "      <td>1004</td>\n",
       "      <td>15～19歳</td>\n",
       "      <td>NaN</td>\n",
       "      <td>552</td>\n",
       "      <td>283</td>\n",
       "      <td>269</td>\n",
       "    </tr>\n",
       "  </tbody>\n",
       "</table>\n",
       "</div>"
      ],
      "text/plain": [
       "   年齢5歳階級 コード  年齢5歳階級  /男女別     男女計      男      女\n",
       "0        1000      総数   NaN  12,477  6,066  6,412\n",
       "1        1001    0～4歳   NaN     422    216    206\n",
       "2        1002    5～9歳   NaN     493    252    240\n",
       "3        1003  10～14歳   NaN     530    272    258\n",
       "4        1004  15～19歳   NaN     552    283    269"
      ]
     },
     "execution_count": 17,
     "metadata": {},
     "output_type": "execute_result"
    }
   ],
   "source": [
    "df.head()"
   ]
  },
  {
   "cell_type": "code",
   "execution_count": 18,
   "metadata": {},
   "outputs": [
    {
     "data": {
      "text/html": [
       "<div>\n",
       "<style scoped>\n",
       "    .dataframe tbody tr th:only-of-type {\n",
       "        vertical-align: middle;\n",
       "    }\n",
       "\n",
       "    .dataframe tbody tr th {\n",
       "        vertical-align: top;\n",
       "    }\n",
       "\n",
       "    .dataframe thead th {\n",
       "        text-align: right;\n",
       "    }\n",
       "</style>\n",
       "<table border=\"1\" class=\"dataframe\">\n",
       "  <thead>\n",
       "    <tr style=\"text-align: right;\">\n",
       "      <th></th>\n",
       "      <th>年齢5歳階級 コード</th>\n",
       "      <th>年齢5歳階級</th>\n",
       "      <th>/男女別</th>\n",
       "      <th>男女計</th>\n",
       "      <th>男</th>\n",
       "      <th>女</th>\n",
       "    </tr>\n",
       "  </thead>\n",
       "  <tbody>\n",
       "    <tr>\n",
       "      <th>22</th>\n",
       "      <td>2000</td>\n",
       "      <td>（再掲）15歳未満</td>\n",
       "      <td>NaN</td>\n",
       "      <td>1,445</td>\n",
       "      <td>740</td>\n",
       "      <td>705</td>\n",
       "    </tr>\n",
       "    <tr>\n",
       "      <th>23</th>\n",
       "      <td>1023</td>\n",
       "      <td>（再掲）15～64歳</td>\n",
       "      <td>NaN</td>\n",
       "      <td>7,411</td>\n",
       "      <td>3,755</td>\n",
       "      <td>3,657</td>\n",
       "    </tr>\n",
       "    <tr>\n",
       "      <th>24</th>\n",
       "      <td>1024</td>\n",
       "      <td>（再掲）65歳以上</td>\n",
       "      <td>NaN</td>\n",
       "      <td>3,621</td>\n",
       "      <td>1,571</td>\n",
       "      <td>2,050</td>\n",
       "    </tr>\n",
       "    <tr>\n",
       "      <th>25</th>\n",
       "      <td>1026</td>\n",
       "      <td>（再掲）うち75歳以上</td>\n",
       "      <td>NaN</td>\n",
       "      <td>1,953</td>\n",
       "      <td>773</td>\n",
       "      <td>1,179</td>\n",
       "    </tr>\n",
       "    <tr>\n",
       "      <th>26</th>\n",
       "      <td>1027</td>\n",
       "      <td>（再掲）うち85歳以上</td>\n",
       "      <td>NaN</td>\n",
       "      <td>665</td>\n",
       "      <td>214</td>\n",
       "      <td>451</td>\n",
       "    </tr>\n",
       "  </tbody>\n",
       "</table>\n",
       "</div>"
      ],
      "text/plain": [
       "    年齢5歳階級 コード       年齢5歳階級  /男女別    男女計      男      女\n",
       "22        2000    （再掲）15歳未満   NaN  1,445    740    705\n",
       "23        1023   （再掲）15～64歳   NaN  7,411  3,755  3,657\n",
       "24        1024    （再掲）65歳以上   NaN  3,621  1,571  2,050\n",
       "25        1026  （再掲）うち75歳以上   NaN  1,953    773  1,179\n",
       "26        1027  （再掲）うち85歳以上   NaN    665    214    451"
      ]
     },
     "execution_count": 18,
     "metadata": {},
     "output_type": "execute_result"
    }
   ],
   "source": [
    "df.tail()"
   ]
  },
  {
   "cell_type": "code",
   "execution_count": 19,
   "metadata": {},
   "outputs": [
    {
     "data": {
      "text/plain": [
       "年齢5歳階級 コード      int64\n",
       "年齢5歳階級         object\n",
       "/男女別          float64\n",
       "男女計            object\n",
       "男              object\n",
       "女              object\n",
       "dtype: object"
      ]
     },
     "execution_count": 19,
     "metadata": {},
     "output_type": "execute_result"
    }
   ],
   "source": [
    "df.dtypes"
   ]
  },
  {
   "cell_type": "code",
   "execution_count": 20,
   "metadata": {},
   "outputs": [
    {
     "data": {
      "text/plain": [
       "(27, 6)"
      ]
     },
     "execution_count": 20,
     "metadata": {},
     "output_type": "execute_result"
    }
   ],
   "source": [
    "df.shape"
   ]
  },
  {
   "cell_type": "code",
   "execution_count": 21,
   "metadata": {},
   "outputs": [
    {
     "data": {
      "text/plain": [
       "True"
      ]
     },
     "execution_count": 21,
     "metadata": {},
     "output_type": "execute_result"
    }
   ],
   "source": [
    "df.loc[:, '/男女別'].isna().all()"
   ]
  },
  {
   "cell_type": "code",
   "execution_count": 22,
   "metadata": {},
   "outputs": [
    {
     "data": {
      "text/html": [
       "<div>\n",
       "<style scoped>\n",
       "    .dataframe tbody tr th:only-of-type {\n",
       "        vertical-align: middle;\n",
       "    }\n",
       "\n",
       "    .dataframe tbody tr th {\n",
       "        vertical-align: top;\n",
       "    }\n",
       "\n",
       "    .dataframe thead th {\n",
       "        text-align: right;\n",
       "    }\n",
       "</style>\n",
       "<table border=\"1\" class=\"dataframe\">\n",
       "  <thead>\n",
       "    <tr style=\"text-align: right;\">\n",
       "      <th></th>\n",
       "      <th>年齢5歳階級 コード</th>\n",
       "      <th>年齢5歳階級</th>\n",
       "      <th>/男女別</th>\n",
       "      <th>男女計</th>\n",
       "      <th>男</th>\n",
       "      <th>女</th>\n",
       "    </tr>\n",
       "  </thead>\n",
       "  <tbody>\n",
       "    <tr>\n",
       "      <th>0</th>\n",
       "      <td>1000</td>\n",
       "      <td>総数</td>\n",
       "      <td>NaN</td>\n",
       "      <td>12,477</td>\n",
       "      <td>6,066</td>\n",
       "      <td>6,412</td>\n",
       "    </tr>\n",
       "    <tr>\n",
       "      <th>1</th>\n",
       "      <td>1001</td>\n",
       "      <td>0～4歳</td>\n",
       "      <td>NaN</td>\n",
       "      <td>422</td>\n",
       "      <td>216</td>\n",
       "      <td>206</td>\n",
       "    </tr>\n",
       "    <tr>\n",
       "      <th>2</th>\n",
       "      <td>1002</td>\n",
       "      <td>5～9歳</td>\n",
       "      <td>NaN</td>\n",
       "      <td>493</td>\n",
       "      <td>252</td>\n",
       "      <td>240</td>\n",
       "    </tr>\n",
       "    <tr>\n",
       "      <th>3</th>\n",
       "      <td>1003</td>\n",
       "      <td>10～14歳</td>\n",
       "      <td>NaN</td>\n",
       "      <td>530</td>\n",
       "      <td>272</td>\n",
       "      <td>258</td>\n",
       "    </tr>\n",
       "    <tr>\n",
       "      <th>4</th>\n",
       "      <td>1004</td>\n",
       "      <td>15～19歳</td>\n",
       "      <td>NaN</td>\n",
       "      <td>552</td>\n",
       "      <td>283</td>\n",
       "      <td>269</td>\n",
       "    </tr>\n",
       "  </tbody>\n",
       "</table>\n",
       "</div>"
      ],
      "text/plain": [
       "   年齢5歳階級 コード  年齢5歳階級  /男女別     男女計      男      女\n",
       "0        1000      総数   NaN  12,477  6,066  6,412\n",
       "1        1001    0～4歳   NaN     422    216    206\n",
       "2        1002    5～9歳   NaN     493    252    240\n",
       "3        1003  10～14歳   NaN     530    272    258\n",
       "4        1004  15～19歳   NaN     552    283    269"
      ]
     },
     "execution_count": 22,
     "metadata": {},
     "output_type": "execute_result"
    }
   ],
   "source": [
    "# 2-2-4 pandasでExcelファイルの書き込み\n",
    "df.head()"
   ]
  },
  {
   "cell_type": "code",
   "execution_count": 23,
   "metadata": {},
   "outputs": [
    {
     "data": {
      "text/plain": [
       "年齢5歳階級 コード      int64\n",
       "年齢5歳階級         object\n",
       "/男女別          float64\n",
       "男女計            object\n",
       "男              object\n",
       "女              object\n",
       "dtype: object"
      ]
     },
     "execution_count": 23,
     "metadata": {},
     "output_type": "execute_result"
    }
   ],
   "source": [
    "df.dtypes"
   ]
  },
  {
   "cell_type": "code",
   "execution_count": 30,
   "metadata": {},
   "outputs": [],
   "source": [
    "# import pandas as pd\n",
    "cleaned_df = pd.concat(\n",
    "    [\n",
    "        df.loc[:, ['年齢5歳階級 コード', '年齢5歳階級']],\n",
    "        df.loc[:, ['男女計', '男', '女']]\n",
    "            # カンマ（，）を削除\n",
    "            .applymap(lambda x: x.replace(',', ''))\n",
    "            # \"男女計\"，\"男\"，\"女\"の３つの列を整数型に変換する\n",
    "            .astype('int')\n",
    "    ],\n",
    "    axis=1,\n",
    "    )\n"
   ]
  },
  {
   "cell_type": "code",
   "execution_count": 29,
   "metadata": {},
   "outputs": [],
   "source": [
    "cleaned_df = pd.concat(\n",
    "    [\n",
    "        df.loc[:, [\"年齢5歳階級 コード\", \"年齢5歳階級\"]],\n",
    "        df.loc[:, [\"男女計\", \"男\", \"女\"]]\n",
    "            # カンマ(,)を削除\n",
    "            .applymap(lambda x: x.replace(\",\", \"\"))  # ・・①\n",
    "            # \"男女計\", \"男\", \"女\"の3つの列を整数型に変換する\n",
    "            .astype(\"int\"),  # ・・②\n",
    "    ],\n",
    "    axis=1,\n",
    ")"
   ]
  },
  {
   "cell_type": "code",
   "execution_count": 32,
   "metadata": {},
   "outputs": [
    {
     "data": {
      "text/html": [
       "<div>\n",
       "<style scoped>\n",
       "    .dataframe tbody tr th:only-of-type {\n",
       "        vertical-align: middle;\n",
       "    }\n",
       "\n",
       "    .dataframe tbody tr th {\n",
       "        vertical-align: top;\n",
       "    }\n",
       "\n",
       "    .dataframe thead th {\n",
       "        text-align: right;\n",
       "    }\n",
       "</style>\n",
       "<table border=\"1\" class=\"dataframe\">\n",
       "  <thead>\n",
       "    <tr style=\"text-align: right;\">\n",
       "      <th></th>\n",
       "      <th>年齢5歳階級 コード</th>\n",
       "      <th>年齢5歳階級</th>\n",
       "      <th>男女計</th>\n",
       "      <th>男</th>\n",
       "      <th>女</th>\n",
       "      <th>女性比率</th>\n",
       "    </tr>\n",
       "  </thead>\n",
       "  <tbody>\n",
       "    <tr>\n",
       "      <th>22</th>\n",
       "      <td>2000</td>\n",
       "      <td>（再掲）15歳未満</td>\n",
       "      <td>1445</td>\n",
       "      <td>740</td>\n",
       "      <td>705</td>\n",
       "      <td>0.487889</td>\n",
       "    </tr>\n",
       "    <tr>\n",
       "      <th>23</th>\n",
       "      <td>1023</td>\n",
       "      <td>（再掲）15～64歳</td>\n",
       "      <td>7411</td>\n",
       "      <td>3755</td>\n",
       "      <td>3657</td>\n",
       "      <td>0.493456</td>\n",
       "    </tr>\n",
       "    <tr>\n",
       "      <th>24</th>\n",
       "      <td>1024</td>\n",
       "      <td>（再掲）65歳以上</td>\n",
       "      <td>3621</td>\n",
       "      <td>1571</td>\n",
       "      <td>2050</td>\n",
       "      <td>0.566142</td>\n",
       "    </tr>\n",
       "    <tr>\n",
       "      <th>25</th>\n",
       "      <td>1026</td>\n",
       "      <td>（再掲）うち75歳以上</td>\n",
       "      <td>1953</td>\n",
       "      <td>773</td>\n",
       "      <td>1179</td>\n",
       "      <td>0.603687</td>\n",
       "    </tr>\n",
       "    <tr>\n",
       "      <th>26</th>\n",
       "      <td>1027</td>\n",
       "      <td>（再掲）うち85歳以上</td>\n",
       "      <td>665</td>\n",
       "      <td>214</td>\n",
       "      <td>451</td>\n",
       "      <td>0.678195</td>\n",
       "    </tr>\n",
       "  </tbody>\n",
       "</table>\n",
       "</div>"
      ],
      "text/plain": [
       "    年齢5歳階級 コード       年齢5歳階級   男女計     男     女      女性比率\n",
       "22        2000    （再掲）15歳未満  1445   740   705  0.487889\n",
       "23        1023   （再掲）15～64歳  7411  3755  3657  0.493456\n",
       "24        1024    （再掲）65歳以上  3621  1571  2050  0.566142\n",
       "25        1026  （再掲）うち75歳以上  1953   773  1179  0.603687\n",
       "26        1027  （再掲）うち85歳以上   665   214   451  0.678195"
      ]
     },
     "execution_count": 32,
     "metadata": {},
     "output_type": "execute_result"
    }
   ],
   "source": [
    "processed_df = cleaned_df.assign(\n",
    "    女性比率=cleaned_df.loc[:, '女'] / cleaned_df.loc[:, '男女計']\n",
    ")\n",
    "processed_df.tail()"
   ]
  },
  {
   "cell_type": "code",
   "execution_count": 33,
   "metadata": {},
   "outputs": [],
   "source": [
    "processed_df.to_excel('data/processed.xlsx', index=False)"
   ]
  }
 ],
 "metadata": {
  "kernelspec": {
   "display_name": "Python 3",
   "language": "python",
   "name": "python3"
  },
  "language_info": {
   "codemirror_mode": {
    "name": "ipython",
    "version": 3
   },
   "file_extension": ".py",
   "mimetype": "text/x-python",
   "name": "python",
   "nbconvert_exporter": "python",
   "pygments_lexer": "ipython3",
   "version": "3.11.4"
  }
 },
 "nbformat": 4,
 "nbformat_minor": 2
}
