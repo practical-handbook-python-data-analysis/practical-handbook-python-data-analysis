{
 "cells": [
  {
   "cell_type": "markdown",
   "id": "415c5b9b",
   "metadata": {},
   "source": [
    "# CSV形式"
   ]
  },
  {
   "cell_type": "markdown",
   "id": "d9c44373",
   "metadata": {},
   "source": [
    "## CSV形式のデータを扱う"
   ]
  },
  {
   "cell_type": "markdown",
   "id": "24e0ad6f",
   "metadata": {},
   "source": [
    "## データサンプル"
   ]
  },
  {
   "cell_type": "markdown",
   "id": "36ca912d",
   "metadata": {},
   "source": [
    "## テキストファイルとして読み込む"
   ]
  },
  {
   "cell_type": "code",
   "execution_count": 4,
   "id": "aef2c523",
   "metadata": {},
   "outputs": [
    {
     "name": "stdout",
     "output_type": "stream",
     "text": [
      "\"表章項目\"|\"人口\"|\"概算値\"|\"全国\"|\"時間軸（年月日現在）\"|\"年齢5歳階級\"|\"/男女別\"|\"男女計\"|\"男\"|\"女\"|\n",
      "===\n",
      "\"人口【万人】\"|\"総人口\"|\"概算値\"|\"全国\"|\"2021年12月\"|\"総数\"|\"\"|\"12|547\"|\"6|099\"|\"6|448\"|\n",
      "===\n",
      "\"人口【万人】\"|\"総人口\"|\"概算値\"|\"全国\"|\"2021年12月\"|\"0～4歳\"|\"\"|\"437\"|\"224\"|\"214\"|\n",
      "===\n"
     ]
    }
   ],
   "source": [
    "with open(\"data/FEH_00200524_230205124938.csv\", \"r\", encoding=\"cp932\") as f:  # ・・①\n",
    "    for i, row in enumerate(f):  # ・・②\n",
    "        for col in row.strip().split(\",\"):  # ・・③\n",
    "            print(col, end=\"|\")  # ・・④\n",
    "        print()\n",
    "        print(\"===\")\n",
    "        if i > 1:  # ・・⑤\n",
    "            break"
   ]
  },
  {
   "cell_type": "markdown",
   "id": "5fcbf1fc",
   "metadata": {},
   "source": [
    "## pandasを使う"
   ]
  },
  {
   "cell_type": "code",
   "execution_count": 6,
   "id": "3345b13e",
   "metadata": {},
   "outputs": [],
   "source": [
    "import pandas as pd\n",
    "\n",
    "df = pd.read_csv(\"data/FEH_00200524_230205124938.csv\", encoding=\"cp932\")"
   ]
  },
  {
   "cell_type": "code",
   "execution_count": 7,
   "id": "734636ce",
   "metadata": {},
   "outputs": [
    {
     "data": {
      "text/html": [
       "<div>\n",
       "<style scoped>\n",
       "    .dataframe tbody tr th:only-of-type {\n",
       "        vertical-align: middle;\n",
       "    }\n",
       "\n",
       "    .dataframe tbody tr th {\n",
       "        vertical-align: top;\n",
       "    }\n",
       "\n",
       "    .dataframe thead th {\n",
       "        text-align: right;\n",
       "    }\n",
       "</style>\n",
       "<table border=\"1\" class=\"dataframe\">\n",
       "  <thead>\n",
       "    <tr style=\"text-align: right;\">\n",
       "      <th></th>\n",
       "      <th>表章項目</th>\n",
       "      <th>人口</th>\n",
       "      <th>概算値</th>\n",
       "      <th>全国</th>\n",
       "      <th>時間軸（年月日現在）</th>\n",
       "      <th>年齢5歳階級</th>\n",
       "      <th>/男女別</th>\n",
       "      <th>男女計</th>\n",
       "      <th>男</th>\n",
       "      <th>女</th>\n",
       "    </tr>\n",
       "  </thead>\n",
       "  <tbody>\n",
       "    <tr>\n",
       "      <th>0</th>\n",
       "      <td>人口【万人】</td>\n",
       "      <td>総人口</td>\n",
       "      <td>概算値</td>\n",
       "      <td>全国</td>\n",
       "      <td>2021年12月</td>\n",
       "      <td>総数</td>\n",
       "      <td>NaN</td>\n",
       "      <td>12,547</td>\n",
       "      <td>6,099</td>\n",
       "      <td>6,448</td>\n",
       "    </tr>\n",
       "    <tr>\n",
       "      <th>1</th>\n",
       "      <td>人口【万人】</td>\n",
       "      <td>総人口</td>\n",
       "      <td>概算値</td>\n",
       "      <td>全国</td>\n",
       "      <td>2021年12月</td>\n",
       "      <td>0～4歳</td>\n",
       "      <td>NaN</td>\n",
       "      <td>437</td>\n",
       "      <td>224</td>\n",
       "      <td>214</td>\n",
       "    </tr>\n",
       "    <tr>\n",
       "      <th>2</th>\n",
       "      <td>人口【万人】</td>\n",
       "      <td>総人口</td>\n",
       "      <td>概算値</td>\n",
       "      <td>全国</td>\n",
       "      <td>2021年12月</td>\n",
       "      <td>5～9歳</td>\n",
       "      <td>NaN</td>\n",
       "      <td>503</td>\n",
       "      <td>258</td>\n",
       "      <td>245</td>\n",
       "    </tr>\n",
       "    <tr>\n",
       "      <th>3</th>\n",
       "      <td>人口【万人】</td>\n",
       "      <td>総人口</td>\n",
       "      <td>概算値</td>\n",
       "      <td>全国</td>\n",
       "      <td>2021年12月</td>\n",
       "      <td>10～14歳</td>\n",
       "      <td>NaN</td>\n",
       "      <td>535</td>\n",
       "      <td>274</td>\n",
       "      <td>261</td>\n",
       "    </tr>\n",
       "    <tr>\n",
       "      <th>4</th>\n",
       "      <td>人口【万人】</td>\n",
       "      <td>総人口</td>\n",
       "      <td>概算値</td>\n",
       "      <td>全国</td>\n",
       "      <td>2021年12月</td>\n",
       "      <td>15～19歳</td>\n",
       "      <td>NaN</td>\n",
       "      <td>559</td>\n",
       "      <td>287</td>\n",
       "      <td>272</td>\n",
       "    </tr>\n",
       "  </tbody>\n",
       "</table>\n",
       "</div>"
      ],
      "text/plain": [
       "     表章項目   人口  概算値  全国 時間軸（年月日現在）  年齢5歳階級  /男女別     男女計      男      女\n",
       "0  人口【万人】  総人口  概算値  全国   2021年12月      総数   NaN  12,547  6,099  6,448\n",
       "1  人口【万人】  総人口  概算値  全国   2021年12月    0～4歳   NaN     437    224    214\n",
       "2  人口【万人】  総人口  概算値  全国   2021年12月    5～9歳   NaN     503    258    245\n",
       "3  人口【万人】  総人口  概算値  全国   2021年12月  10～14歳   NaN     535    274    261\n",
       "4  人口【万人】  総人口  概算値  全国   2021年12月  15～19歳   NaN     559    287    272"
      ]
     },
     "execution_count": 7,
     "metadata": {},
     "output_type": "execute_result"
    }
   ],
   "source": [
    "df.head()"
   ]
  },
  {
   "cell_type": "code",
   "execution_count": 8,
   "id": "26df9052",
   "metadata": {},
   "outputs": [
    {
     "data": {
      "text/html": [
       "<div>\n",
       "<style scoped>\n",
       "    .dataframe tbody tr th:only-of-type {\n",
       "        vertical-align: middle;\n",
       "    }\n",
       "\n",
       "    .dataframe tbody tr th {\n",
       "        vertical-align: top;\n",
       "    }\n",
       "\n",
       "    .dataframe thead th {\n",
       "        text-align: right;\n",
       "    }\n",
       "</style>\n",
       "<table border=\"1\" class=\"dataframe\">\n",
       "  <thead>\n",
       "    <tr style=\"text-align: right;\">\n",
       "      <th></th>\n",
       "      <th>表章項目</th>\n",
       "      <th>人口</th>\n",
       "      <th>概算値</th>\n",
       "      <th>全国</th>\n",
       "      <th>時間軸（年月日現在）</th>\n",
       "      <th>年齢5歳階級</th>\n",
       "      <th>/男女別</th>\n",
       "      <th>男女計</th>\n",
       "      <th>男</th>\n",
       "      <th>女</th>\n",
       "    </tr>\n",
       "  </thead>\n",
       "  <tbody>\n",
       "    <tr>\n",
       "      <th>373</th>\n",
       "      <td>人口【万人】</td>\n",
       "      <td>総人口</td>\n",
       "      <td>概算値</td>\n",
       "      <td>全国</td>\n",
       "      <td>2023年1月</td>\n",
       "      <td>（再掲）15歳未満</td>\n",
       "      <td>NaN</td>\n",
       "      <td>1,445</td>\n",
       "      <td>740</td>\n",
       "      <td>705</td>\n",
       "    </tr>\n",
       "    <tr>\n",
       "      <th>374</th>\n",
       "      <td>人口【万人】</td>\n",
       "      <td>総人口</td>\n",
       "      <td>概算値</td>\n",
       "      <td>全国</td>\n",
       "      <td>2023年1月</td>\n",
       "      <td>（再掲）15～64歳</td>\n",
       "      <td>NaN</td>\n",
       "      <td>7,411</td>\n",
       "      <td>3,755</td>\n",
       "      <td>3,657</td>\n",
       "    </tr>\n",
       "    <tr>\n",
       "      <th>375</th>\n",
       "      <td>人口【万人】</td>\n",
       "      <td>総人口</td>\n",
       "      <td>概算値</td>\n",
       "      <td>全国</td>\n",
       "      <td>2023年1月</td>\n",
       "      <td>（再掲）65歳以上</td>\n",
       "      <td>NaN</td>\n",
       "      <td>3,621</td>\n",
       "      <td>1,571</td>\n",
       "      <td>2,050</td>\n",
       "    </tr>\n",
       "    <tr>\n",
       "      <th>376</th>\n",
       "      <td>人口【万人】</td>\n",
       "      <td>総人口</td>\n",
       "      <td>概算値</td>\n",
       "      <td>全国</td>\n",
       "      <td>2023年1月</td>\n",
       "      <td>（再掲）うち75歳以上</td>\n",
       "      <td>NaN</td>\n",
       "      <td>1,953</td>\n",
       "      <td>773</td>\n",
       "      <td>1,179</td>\n",
       "    </tr>\n",
       "    <tr>\n",
       "      <th>377</th>\n",
       "      <td>人口【万人】</td>\n",
       "      <td>総人口</td>\n",
       "      <td>概算値</td>\n",
       "      <td>全国</td>\n",
       "      <td>2023年1月</td>\n",
       "      <td>（再掲）うち85歳以上</td>\n",
       "      <td>NaN</td>\n",
       "      <td>665</td>\n",
       "      <td>214</td>\n",
       "      <td>451</td>\n",
       "    </tr>\n",
       "  </tbody>\n",
       "</table>\n",
       "</div>"
      ],
      "text/plain": [
       "       表章項目   人口  概算値  全国 時間軸（年月日現在）       年齢5歳階級  /男女別    男女計      男      女\n",
       "373  人口【万人】  総人口  概算値  全国    2023年1月    （再掲）15歳未満   NaN  1,445    740    705\n",
       "374  人口【万人】  総人口  概算値  全国    2023年1月   （再掲）15～64歳   NaN  7,411  3,755  3,657\n",
       "375  人口【万人】  総人口  概算値  全国    2023年1月    （再掲）65歳以上   NaN  3,621  1,571  2,050\n",
       "376  人口【万人】  総人口  概算値  全国    2023年1月  （再掲）うち75歳以上   NaN  1,953    773  1,179\n",
       "377  人口【万人】  総人口  概算値  全国    2023年1月  （再掲）うち85歳以上   NaN    665    214    451"
      ]
     },
     "execution_count": 8,
     "metadata": {},
     "output_type": "execute_result"
    }
   ],
   "source": [
    "df.tail()"
   ]
  },
  {
   "cell_type": "code",
   "execution_count": 9,
   "id": "51160ff6",
   "metadata": {},
   "outputs": [
    {
     "data": {
      "text/plain": [
       "(378, 10)"
      ]
     },
     "execution_count": 9,
     "metadata": {},
     "output_type": "execute_result"
    }
   ],
   "source": [
    "df.shape"
   ]
  },
  {
   "cell_type": "code",
   "execution_count": 10,
   "id": "c8ae97c4",
   "metadata": {},
   "outputs": [
    {
     "data": {
      "text/plain": [
       "表章項目           object\n",
       "人口             object\n",
       "概算値            object\n",
       "全国             object\n",
       "時間軸（年月日現在）     object\n",
       "年齢5歳階級         object\n",
       "/男女別          float64\n",
       "男女計            object\n",
       "男              object\n",
       "女              object\n",
       "dtype: object"
      ]
     },
     "execution_count": 10,
     "metadata": {},
     "output_type": "execute_result"
    }
   ],
   "source": [
    "df.dtypes"
   ]
  },
  {
   "cell_type": "markdown",
   "id": "57bc6ca7",
   "metadata": {},
   "source": [
    "### データ型を変換して取り込む"
   ]
  },
  {
   "cell_type": "code",
   "execution_count": 11,
   "id": "b701768c",
   "metadata": {},
   "outputs": [
    {
     "data": {
      "text/html": [
       "<div>\n",
       "<style scoped>\n",
       "    .dataframe tbody tr th:only-of-type {\n",
       "        vertical-align: middle;\n",
       "    }\n",
       "\n",
       "    .dataframe tbody tr th {\n",
       "        vertical-align: top;\n",
       "    }\n",
       "\n",
       "    .dataframe thead th {\n",
       "        text-align: right;\n",
       "    }\n",
       "</style>\n",
       "<table border=\"1\" class=\"dataframe\">\n",
       "  <thead>\n",
       "    <tr style=\"text-align: right;\">\n",
       "      <th></th>\n",
       "      <th>表章項目</th>\n",
       "      <th>人口</th>\n",
       "      <th>概算値</th>\n",
       "      <th>全国</th>\n",
       "      <th>時間軸（年月日現在）</th>\n",
       "      <th>年齢5歳階級</th>\n",
       "      <th>/男女別</th>\n",
       "      <th>男女計</th>\n",
       "      <th>男</th>\n",
       "      <th>女</th>\n",
       "    </tr>\n",
       "  </thead>\n",
       "  <tbody>\n",
       "    <tr>\n",
       "      <th>0</th>\n",
       "      <td>人口【万人】</td>\n",
       "      <td>総人口</td>\n",
       "      <td>概算値</td>\n",
       "      <td>全国</td>\n",
       "      <td>2021-12-01</td>\n",
       "      <td>総数</td>\n",
       "      <td>NaN</td>\n",
       "      <td>12547</td>\n",
       "      <td>6099</td>\n",
       "      <td>6448</td>\n",
       "    </tr>\n",
       "    <tr>\n",
       "      <th>1</th>\n",
       "      <td>人口【万人】</td>\n",
       "      <td>総人口</td>\n",
       "      <td>概算値</td>\n",
       "      <td>全国</td>\n",
       "      <td>2021-12-01</td>\n",
       "      <td>0～4歳</td>\n",
       "      <td>NaN</td>\n",
       "      <td>437</td>\n",
       "      <td>224</td>\n",
       "      <td>214</td>\n",
       "    </tr>\n",
       "    <tr>\n",
       "      <th>2</th>\n",
       "      <td>人口【万人】</td>\n",
       "      <td>総人口</td>\n",
       "      <td>概算値</td>\n",
       "      <td>全国</td>\n",
       "      <td>2021-12-01</td>\n",
       "      <td>5～9歳</td>\n",
       "      <td>NaN</td>\n",
       "      <td>503</td>\n",
       "      <td>258</td>\n",
       "      <td>245</td>\n",
       "    </tr>\n",
       "    <tr>\n",
       "      <th>3</th>\n",
       "      <td>人口【万人】</td>\n",
       "      <td>総人口</td>\n",
       "      <td>概算値</td>\n",
       "      <td>全国</td>\n",
       "      <td>2021-12-01</td>\n",
       "      <td>10～14歳</td>\n",
       "      <td>NaN</td>\n",
       "      <td>535</td>\n",
       "      <td>274</td>\n",
       "      <td>261</td>\n",
       "    </tr>\n",
       "    <tr>\n",
       "      <th>4</th>\n",
       "      <td>人口【万人】</td>\n",
       "      <td>総人口</td>\n",
       "      <td>概算値</td>\n",
       "      <td>全国</td>\n",
       "      <td>2021-12-01</td>\n",
       "      <td>15～19歳</td>\n",
       "      <td>NaN</td>\n",
       "      <td>559</td>\n",
       "      <td>287</td>\n",
       "      <td>272</td>\n",
       "    </tr>\n",
       "  </tbody>\n",
       "</table>\n",
       "</div>"
      ],
      "text/plain": [
       "     表章項目   人口  概算値  全国 時間軸（年月日現在）  年齢5歳階級  /男女別    男女計     男     女\n",
       "0  人口【万人】  総人口  概算値  全国 2021-12-01      総数   NaN  12547  6099  6448\n",
       "1  人口【万人】  総人口  概算値  全国 2021-12-01    0～4歳   NaN    437   224   214\n",
       "2  人口【万人】  総人口  概算値  全国 2021-12-01    5～9歳   NaN    503   258   245\n",
       "3  人口【万人】  総人口  概算値  全国 2021-12-01  10～14歳   NaN    535   274   261\n",
       "4  人口【万人】  総人口  概算値  全国 2021-12-01  15～19歳   NaN    559   287   272"
      ]
     },
     "execution_count": 11,
     "metadata": {},
     "output_type": "execute_result"
    }
   ],
   "source": [
    "df_parsed = pd.read_csv(\n",
    "    \"data/FEH_00200524_230205124938.csv\",\n",
    "    encoding=\"cp932\",\n",
    "    parse_dates=[\"時間軸（年月日現在）\"],\n",
    "    date_format=\"%Y年%m月\",\n",
    "    thousands=\",\",\n",
    ")\n",
    "df_parsed.head()"
   ]
  },
  {
   "cell_type": "code",
   "execution_count": null,
   "id": "d43525da",
   "metadata": {},
   "outputs": [],
   "source": [
    "df_parsed.dtypes"
   ]
  },
  {
   "cell_type": "markdown",
   "id": "07b47749",
   "metadata": {},
   "source": [
    "### read_csvの便利なオプション"
   ]
  },
  {
   "cell_type": "markdown",
   "id": "500aa381",
   "metadata": {},
   "source": [
    "## csvモジュールを使う"
   ]
  },
  {
   "cell_type": "code",
   "execution_count": null,
   "id": "f8a1fba3",
   "metadata": {},
   "outputs": [],
   "source": [
    "import csv\n",
    "\n",
    "with open(\n",
    "    \"data/FEH_00200524_230205124938.csv\",\n",
    "    \"r\",\n",
    "    encoding=\"cp932\",\n",
    "    newline=\"\",\n",
    ") as f:  # ・・①\n",
    "    data = csv.reader(f)  # ・・②\n",
    "    for i, row in enumerate(data):\n",
    "        for col in row:\n",
    "            print(col, end=\"|\")\n",
    "        print()\n",
    "        print(\"===\")\n",
    "        if i > 1:\n",
    "            break"
   ]
  }
 ],
 "metadata": {
  "kernelspec": {
   "display_name": "Python 3",
   "language": "python",
   "name": "python3"
  },
  "language_info": {
   "codemirror_mode": {
    "name": "ipython",
    "version": 3
   },
   "file_extension": ".py",
   "mimetype": "text/x-python",
   "name": "python",
   "nbconvert_exporter": "python",
   "pygments_lexer": "ipython3",
   "version": "3.11.4"
  }
 },
 "nbformat": 4,
 "nbformat_minor": 5
}
