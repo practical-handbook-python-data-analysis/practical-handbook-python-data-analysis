{
 "cells": [
  {
   "cell_type": "markdown",
   "id": "415c5b9b",
   "metadata": {},
   "source": [
    "# CSV形式"
   ]
  },
  {
   "cell_type": "markdown",
   "id": "d9c44373",
   "metadata": {},
   "source": [
    "## CSV形式のデータを扱う"
   ]
  },
  {
   "cell_type": "markdown",
   "id": "24e0ad6f",
   "metadata": {},
   "source": [
    "## データサンプル"
   ]
  },
  {
   "cell_type": "markdown",
   "id": "36ca912d",
   "metadata": {},
   "source": [
    "## テキストファイルとして読み込む"
   ]
  },
  {
   "cell_type": "code",
   "execution_count": null,
   "id": "aef2c523",
   "metadata": {},
   "outputs": [],
   "source": [
    "with open(\"data/FEH_00200524_230205124938.csv\", \"r\", encoding=\"cp932\") as f:  # ・・①\n",
    "    for i, row in enumerate(f):  # ・・②\n",
    "        for col in row.strip().split(\",\"):  # ・・③\n",
    "            print(col, end=\"|\")  # ・・④\n",
    "        print()\n",
    "        print(\"===\")\n",
    "        if i > 1:  # ・・⑤\n",
    "            break"
   ]
  },
  {
   "cell_type": "markdown",
   "id": "5fcbf1fc",
   "metadata": {},
   "source": [
    "## pandasを使う"
   ]
  },
  {
   "cell_type": "code",
   "execution_count": null,
   "id": "3345b13e",
   "metadata": {},
   "outputs": [],
   "source": [
    "import pandas as pd\n",
    "\n",
    "df = pd.read_csv(\"data/FEH_00200524_230205124938.csv\", encoding=\"cp932\")"
   ]
  },
  {
   "cell_type": "code",
   "execution_count": null,
   "id": "734636ce",
   "metadata": {},
   "outputs": [],
   "source": [
    "df.head()"
   ]
  },
  {
   "cell_type": "code",
   "execution_count": null,
   "id": "26df9052",
   "metadata": {},
   "outputs": [],
   "source": [
    "df.tail()"
   ]
  },
  {
   "cell_type": "code",
   "execution_count": null,
   "id": "51160ff6",
   "metadata": {},
   "outputs": [],
   "source": [
    "df.shape"
   ]
  },
  {
   "cell_type": "code",
   "execution_count": null,
   "id": "c8ae97c4",
   "metadata": {},
   "outputs": [],
   "source": [
    "df.dtypes"
   ]
  },
  {
   "cell_type": "markdown",
   "id": "57bc6ca7",
   "metadata": {},
   "source": [
    "### データ型を変換して取り込む"
   ]
  },
  {
   "cell_type": "code",
   "execution_count": null,
   "id": "b701768c",
   "metadata": {},
   "outputs": [],
   "source": [
    "df_parsed = pd.read_csv(\n",
    "    \"data/FEH_00200524_230205124938.csv\",\n",
    "    encoding=\"cp932\",\n",
    "    parse_dates=[\"時間軸（年月日現在）\"],\n",
    "    date_format=\"%Y年%m月\",\n",
    "    thousands=\",\",\n",
    ")\n",
    "df_parsed.head()"
   ]
  },
  {
   "cell_type": "code",
   "execution_count": null,
   "id": "d43525da",
   "metadata": {},
   "outputs": [],
   "source": [
    "df_parsed.dtypes"
   ]
  },
  {
   "cell_type": "markdown",
   "id": "07b47749",
   "metadata": {},
   "source": [
    "### read_csvの便利なオプション"
   ]
  },
  {
   "cell_type": "markdown",
   "id": "500aa381",
   "metadata": {},
   "source": [
    "## csvモジュールを使う"
   ]
  },
  {
   "cell_type": "code",
   "execution_count": null,
   "id": "f8a1fba3",
   "metadata": {},
   "outputs": [],
   "source": [
    "import csv\n",
    "\n",
    "with open(\n",
    "    \"data/FEH_00200524_230205124938.csv\",\n",
    "    \"r\",\n",
    "    encoding=\"cp932\",\n",
    "    newline=\"\",\n",
    ") as f:  # ・・①\n",
    "    data = csv.reader(f)  # ・・②\n",
    "    for i, row in enumerate(data):\n",
    "        for col in row:\n",
    "            print(col, end=\"|\")\n",
    "        print()\n",
    "        print(\"===\")\n",
    "        if i > 1:\n",
    "            break"
   ]
  }
 ],
 "metadata": {
  "language_info": {
   "name": "python"
  }
 },
 "nbformat": 4,
 "nbformat_minor": 5
}
