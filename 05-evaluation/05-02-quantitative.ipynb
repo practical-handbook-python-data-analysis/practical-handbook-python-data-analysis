{
 "cells": [
  {
   "cell_type": "markdown",
   "id": "8269aa01",
   "metadata": {},
   "source": [
    "# 定量的評価（統計量）"
   ]
  },
  {
   "cell_type": "markdown",
   "id": "48315332",
   "metadata": {},
   "source": [
    "## 要約統計量の確認"
   ]
  },
  {
   "cell_type": "code",
   "execution_count": null,
   "id": "e0fb2d75",
   "metadata": {},
   "outputs": [],
   "source": [
    "import pandas as pd\n",
    "\n",
    "df = pd.read_parquet(\"data/penguins.parquet\")\n",
    "\n",
    "df.describe()"
   ]
  },
  {
   "cell_type": "code",
   "execution_count": null,
   "id": "b4e8be25",
   "metadata": {},
   "outputs": [],
   "source": [
    "df.describe(include=\"all\")"
   ]
  },
  {
   "cell_type": "code",
   "execution_count": null,
   "id": "b82fd74b",
   "metadata": {},
   "outputs": [],
   "source": [
    "df.loc[:, \"Body_Mass\"].describe()"
   ]
  },
  {
   "cell_type": "code",
   "execution_count": null,
   "id": "26a08e69",
   "metadata": {},
   "outputs": [],
   "source": [
    "df.loc[:, \"Body_Mass\"].quantile([0.75, 0.8, 0.85, 0.9, 0.95, 0.99, 1])"
   ]
  },
  {
   "cell_type": "code",
   "execution_count": null,
   "id": "cad5bf82",
   "metadata": {},
   "outputs": [],
   "source": [
    "df.loc[:, \"Species_short\"].value_counts()"
   ]
  }
 ],
 "metadata": {},
 "nbformat": 4,
 "nbformat_minor": 5
}
