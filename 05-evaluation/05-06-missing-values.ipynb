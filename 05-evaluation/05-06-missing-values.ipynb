{
 "cells": [
  {
   "cell_type": "markdown",
   "id": "a3252545",
   "metadata": {},
   "source": [
    "# 欠損値"
   ]
  },
  {
   "cell_type": "markdown",
   "id": "b7f076b8",
   "metadata": {},
   "source": [
    "## 欠損値の基礎知識\n",
    "### データ型"
   ]
  },
  {
   "cell_type": "code",
   "execution_count": null,
   "id": "51445022",
   "metadata": {},
   "outputs": [],
   "source": [
    "import numpy as np\n",
    "import pandas as pd\n",
    "\n",
    "rng = np.random.default_rng(1)\n",
    "float_ser = pd.Series(rng.random(4), index=range(0, 8, 2)).reindex(range(4))\n",
    "float_ser"
   ]
  },
  {
   "cell_type": "code",
   "execution_count": null,
   "id": "8a9621c9",
   "metadata": {},
   "outputs": [],
   "source": [
    "dt_ser = pd.Series(\n",
    "    pd.date_range(\"2023-01-01\", periods=4),\n",
    "    index=range(0, 8, 2),\n",
    ").reindex(range(4))\n",
    "dt_ser"
   ]
  },
  {
   "cell_type": "code",
   "execution_count": null,
   "id": "eae4624d",
   "metadata": {},
   "outputs": [],
   "source": [
    "int_ser = pd.Series(\n",
    "    rng.integers(0, 10, 4),\n",
    "    index=range(0, 8, 2),\n",
    "    dtype=pd.Int64Dtype(),\n",
    ").reindex(range(4))\n",
    "int_ser"
   ]
  },
  {
   "cell_type": "code",
   "execution_count": null,
   "id": "d83aecf1",
   "metadata": {},
   "outputs": [],
   "source": [
    "int_ser.dtype"
   ]
  },
  {
   "cell_type": "markdown",
   "id": "85513aba",
   "metadata": {},
   "source": [
    "### データの型変換"
   ]
  },
  {
   "cell_type": "code",
   "execution_count": null,
   "id": "55960188",
   "metadata": {},
   "outputs": [],
   "source": [
    "# int型\n",
    "pd.Series([1, None, 3])"
   ]
  },
  {
   "cell_type": "code",
   "execution_count": null,
   "id": "d33f51be",
   "metadata": {},
   "outputs": [],
   "source": [
    "# bool型\n",
    "pd.Series([True, None, False])"
   ]
  },
  {
   "cell_type": "code",
   "execution_count": null,
   "id": "07eeb47a",
   "metadata": {},
   "outputs": [],
   "source": [
    "# float型\n",
    "pd.Series([1.0, None, 3.0])"
   ]
  },
  {
   "cell_type": "code",
   "execution_count": null,
   "id": "5fa76111",
   "metadata": {},
   "outputs": [],
   "source": [
    "# object型\n",
    "pd.Series([\"a\", None, \"c\"])"
   ]
  },
  {
   "cell_type": "markdown",
   "id": "78fe5d39",
   "metadata": {},
   "source": [
    "### 欠損値を含むデータの評価"
   ]
  },
  {
   "cell_type": "code",
   "execution_count": null,
   "id": "1c8a31ec",
   "metadata": {},
   "outputs": [],
   "source": [
    "np.nan == np.nan"
   ]
  },
  {
   "cell_type": "code",
   "execution_count": null,
   "id": "faba76c2",
   "metadata": {},
   "outputs": [],
   "source": [
    "np.nan > np.nan"
   ]
  },
  {
   "cell_type": "code",
   "execution_count": null,
   "id": "d8f38adc",
   "metadata": {},
   "outputs": [],
   "source": [
    "pd.NaT == pd.NaT"
   ]
  },
  {
   "cell_type": "code",
   "execution_count": null,
   "id": "3904c993",
   "metadata": {},
   "outputs": [],
   "source": [
    "pd.NA == pd.NA"
   ]
  },
  {
   "cell_type": "code",
   "execution_count": null,
   "id": "a26766ed",
   "metadata": {},
   "outputs": [],
   "source": [
    "pd.isna(float_ser)\n",
    "# or\n",
    "pd.isnull(float_ser)\n",
    "# or\n",
    "float_ser.isna()\n",
    "# or\n",
    "float_ser.isnull()"
   ]
  },
  {
   "cell_type": "code",
   "execution_count": null,
   "id": "11cc9e7d",
   "metadata": {},
   "outputs": [],
   "source": [
    "int_ser.isna()"
   ]
  },
  {
   "cell_type": "code",
   "execution_count": null,
   "id": "b54b5334",
   "metadata": {},
   "outputs": [],
   "source": [
    "dt_ser.isna()"
   ]
  },
  {
   "cell_type": "markdown",
   "id": "3200eb1d",
   "metadata": {},
   "source": [
    "### 欠損値を含むデータの演算"
   ]
  },
  {
   "cell_type": "code",
   "execution_count": null,
   "id": "e07489bd",
   "metadata": {},
   "outputs": [],
   "source": [
    "int_ser.sum()"
   ]
  },
  {
   "cell_type": "code",
   "execution_count": null,
   "id": "e0d25fc7",
   "metadata": {},
   "outputs": [],
   "source": [
    "int_ser.cumsum()"
   ]
  },
  {
   "cell_type": "code",
   "execution_count": null,
   "id": "2e7df6af",
   "metadata": {},
   "outputs": [],
   "source": [
    "int_ser.sum(skipna=False)"
   ]
  },
  {
   "cell_type": "markdown",
   "id": "16fe01fb",
   "metadata": {},
   "source": [
    "## 欠損値の発生パターン（メカニズム）と対処方法"
   ]
  },
  {
   "cell_type": "markdown",
   "id": "a570d54c",
   "metadata": {},
   "source": [
    "### 欠損値の確認"
   ]
  },
  {
   "cell_type": "code",
   "execution_count": null,
   "id": "51a787a4",
   "metadata": {},
   "outputs": [],
   "source": [
    "df = pd.read_parquet(\"data/penguins.parquet\")\n",
    "\n",
    "print(df.isna().sum())"
   ]
  },
  {
   "cell_type": "markdown",
   "id": "28f66c90",
   "metadata": {},
   "source": [
    "### 欠損値の発生が完全にランダム(MCAR)な場合"
   ]
  },
  {
   "cell_type": "code",
   "execution_count": null,
   "id": "c60ffafa",
   "metadata": {},
   "outputs": [],
   "source": [
    "print(df.shape)"
   ]
  },
  {
   "cell_type": "code",
   "execution_count": null,
   "id": "f7cb2422",
   "metadata": {},
   "outputs": [],
   "source": [
    "print(df.dropna(subset=[\"Culmen_Length\"]).shape)"
   ]
  },
  {
   "cell_type": "code",
   "execution_count": null,
   "id": "eba5027d",
   "metadata": {},
   "outputs": [],
   "source": [
    "print(df.dropna(subset=[\"Culmen_Length\", \"Sex\"]).shape)"
   ]
  },
  {
   "cell_type": "code",
   "execution_count": null,
   "id": "be6cd3c0",
   "metadata": {},
   "outputs": [],
   "source": [
    "print(df.dropna().shape)"
   ]
  },
  {
   "cell_type": "code",
   "execution_count": null,
   "id": "5944104d",
   "metadata": {},
   "outputs": [],
   "source": [
    "print(df.dropna(axis=1).shape)"
   ]
  },
  {
   "cell_type": "code",
   "execution_count": null,
   "id": "f8abbbbb",
   "metadata": {},
   "outputs": [],
   "source": [
    "print(\n",
    "    df.dropna(\n",
    "        subset=[\"Culmen_Length\", \"Sex\"],\n",
    "        how=\"all\",\n",
    "    ).shape\n",
    ")"
   ]
  },
  {
   "cell_type": "code",
   "execution_count": null,
   "id": "36e691bd",
   "metadata": {},
   "outputs": [],
   "source": [
    "df.loc[:, \"Culmen_Length\"].dropna()"
   ]
  },
  {
   "cell_type": "markdown",
   "id": "12cd07b1",
   "metadata": {},
   "source": [
    "### 欠損値の発生が何らかの原因による場合\n",
    "#### 単変量補完と多変量補完"
   ]
  },
  {
   "cell_type": "code",
   "execution_count": null,
   "id": "fdb9a87c",
   "metadata": {},
   "outputs": [],
   "source": [
    "# 種ごとの平均体重の確認\n",
    "df.groupby(\"Species_short\")[\"Body_Mass\"].mean()"
   ]
  },
  {
   "cell_type": "code",
   "execution_count": null,
   "id": "1691f424",
   "metadata": {},
   "outputs": [],
   "source": [
    "# 種ごとの欠損値の件数\n",
    "df.groupby(\"Species_short\")[\"Body_Mass\"].agg(lambda x: x.isna().sum())"
   ]
  },
  {
   "cell_type": "code",
   "execution_count": null,
   "id": "03a640ba",
   "metadata": {},
   "outputs": [],
   "source": [
    "# 種ごとに平均体重で補完\n",
    "df.groupby(\"Species_short\")[\"Body_Mass\"].transform(\n",
    "    lambda x: x.fillna(x.mean())\n",
    ")"
   ]
  },
  {
   "cell_type": "markdown",
   "id": "0238a5f0",
   "metadata": {},
   "source": [
    "### 行どうしに順序がある場合の補間"
   ]
  },
  {
   "cell_type": "code",
   "execution_count": null,
   "id": "1618363b",
   "metadata": {},
   "outputs": [],
   "source": [
    "df.loc[:, \"Body_Mass\"].head()"
   ]
  },
  {
   "cell_type": "code",
   "execution_count": null,
   "id": "384392cb",
   "metadata": {},
   "outputs": [],
   "source": [
    "df.loc[:, \"Body_Mass\"].fillna(method=\"ffill\")"
   ]
  },
  {
   "cell_type": "code",
   "execution_count": null,
   "id": "652fcf85",
   "metadata": {},
   "outputs": [],
   "source": [
    "df.loc[:, \"Body_Mass\"].fillna(method=\"bfill\")"
   ]
  },
  {
   "cell_type": "code",
   "execution_count": null,
   "id": "b38b68c1",
   "metadata": {},
   "outputs": [],
   "source": [
    "df.loc[:, \"Body_Mass\"].interpolate(method=\"linear\")"
   ]
  },
  {
   "cell_type": "code",
   "execution_count": null,
   "id": "c210dec2",
   "metadata": {},
   "outputs": [],
   "source": [
    "# \"linear\"の場合\n",
    "pd.Series([1.0, None, 10], index=[1, 10, 100]).interpolate(method=\"linear\")"
   ]
  },
  {
   "cell_type": "code",
   "execution_count": null,
   "id": "0ae00239",
   "metadata": {},
   "outputs": [],
   "source": [
    "# \"index\"の場合（\"values\"も同じ結果）\n",
    "pd.Series([1.0, None, 10], index=[1, 10, 100]).interpolate(method=\"index\")"
   ]
  },
  {
   "cell_type": "code",
   "execution_count": null,
   "id": "9f9fe347",
   "metadata": {},
   "outputs": [],
   "source": [
    "pd.Series(\n",
    "    [1.0, None, 10.0],\n",
    "    index=[\n",
    "        pd.Timestamp(\"2023-01-01\"),\n",
    "        pd.Timestamp(\"2023-01-10\"),\n",
    "        pd.Timestamp(\"2023-04-10\"),\n",
    "    ],\n",
    ").interpolate(method=\"time\")"
   ]
  }
 ],
 "metadata": {},
 "nbformat": 4,
 "nbformat_minor": 5
}
