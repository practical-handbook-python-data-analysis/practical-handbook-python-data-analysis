{
 "cells": [
  {
   "cell_type": "markdown",
   "id": "a9aca60d",
   "metadata": {},
   "source": [
    "# 使用するデータの紹介と読み込み"
   ]
  },
  {
   "cell_type": "markdown",
   "id": "e160940b",
   "metadata": {},
   "source": [
    "## データ読み込み"
   ]
  },
  {
   "cell_type": "code",
   "execution_count": null,
   "id": "ef7ce4a0",
   "metadata": {},
   "outputs": [],
   "source": [
    "# https://portal.edirepository.org/nis/mapbrowse?packageid=knb-lter-pal.219.5 にあるコードを改変\n",
    "import pandas as pd\n",
    "\n",
    "uris = [\n",
    "    # Adelie\n",
    "    \"https://pasta.lternet.edu/package/data/eml/knb-lter-pal/219/5/002f3893385f710df69eeebe893144ff\",\n",
    "    # Gentoo\n",
    "    \"https://pasta.lternet.edu/package/data/eml/knb-lter-pal/220/7/e03b43c924f226486f2f0ab6709d2381\",\n",
    "    # Chinstrap\n",
    "    \"https://pasta.lternet.edu/package/data/eml/knb-lter-pal/221/8/fe853aa8f7a59aa84cdd3197619ef462\",\n",
    "]\n",
    "\n",
    "\n",
    "def read_data(uri):\n",
    "    return pd.read_csv(\n",
    "        uri,\n",
    "        sep=\",\",\n",
    "        quotechar='\"',\n",
    "        usecols=[  # ・・①\n",
    "            \"Species\",\n",
    "            \"Island\",\n",
    "            \"Individual ID\",\n",
    "            \"Date Egg\",\n",
    "            \"Culmen Length (mm)\",\n",
    "            \"Culmen Depth (mm)\",\n",
    "            \"Flipper Length (mm)\",\n",
    "            \"Body Mass (g)\",\n",
    "            \"Sex\",\n",
    "            \"Comments\",\n",
    "        ],\n",
    "        na_values=\".\",  # 追加で欠損値として扱う文字列を指定\n",
    "    ).rename(  # ・・②\n",
    "        columns={\n",
    "            \"Individual ID\": \"Individual_ID\",\n",
    "            \"Date Egg\": \"Date_Egg\",\n",
    "            \"Culmen Length (mm)\": \"Culmen_Length\",\n",
    "            \"Culmen Depth (mm)\": \"Culmen_Depth\",\n",
    "            \"Flipper Length (mm)\": \"Flipper_Length\",\n",
    "            \"Body Mass (g)\": \"Body_Mass\",\n",
    "        }\n",
    "    )\n",
    "\n",
    "\n",
    "df = pd.concat([read_data(uri) for uri in uris], ignore_index=True)  # ・・③"
   ]
  },
  {
   "cell_type": "markdown",
   "id": "ff2074d4",
   "metadata": {},
   "source": [
    "## 読み込み結果の簡単なチェック"
   ]
  },
  {
   "cell_type": "code",
   "execution_count": null,
   "id": "f1e01906",
   "metadata": {},
   "outputs": [],
   "source": [
    "df.shape"
   ]
  },
  {
   "cell_type": "code",
   "execution_count": null,
   "id": "25de007a",
   "metadata": {},
   "outputs": [],
   "source": [
    "# 先頭を表示\n",
    "df.head()"
   ]
  },
  {
   "cell_type": "code",
   "execution_count": null,
   "id": "3217cfc3",
   "metadata": {},
   "outputs": [],
   "source": [
    "# 最後を表示\n",
    "df.tail()"
   ]
  },
  {
   "cell_type": "code",
   "execution_count": null,
   "id": "16466004",
   "metadata": {},
   "outputs": [],
   "source": [
    "df.dtypes"
   ]
  },
  {
   "cell_type": "code",
   "execution_count": null,
   "id": "099c5ceb",
   "metadata": {},
   "outputs": [],
   "source": [
    "df[\"Date_Egg\"] = pd.to_datetime(df.loc[:, \"Date_Egg\"], format=\"%Y-%m-%d\")"
   ]
  },
  {
   "cell_type": "code",
   "execution_count": null,
   "id": "03f1f404",
   "metadata": {},
   "outputs": [],
   "source": [
    "df[\"Species\"] = df.loc[:, \"Species\"].astype(\"category\")\n",
    "df[\"Island\"] = df.loc[:, \"Island\"].astype(\"category\")\n",
    "df[\"Sex\"] = df.loc[:, \"Sex\"].astype(\"category\")"
   ]
  },
  {
   "cell_type": "code",
   "execution_count": null,
   "id": "491f1388",
   "metadata": {},
   "outputs": [],
   "source": [
    "import re\n",
    "\n",
    "RE_SHORT = re.compile(r\"^\\w+\")  # 先頭から連続するUnicodeの単語文字にマッチ\n",
    "df[\"Species_short\"] = df.loc[:, \"Species\"].apply(\n",
    "    lambda x: re.search(RE_SHORT, x)[0]\n",
    ")"
   ]
  },
  {
   "cell_type": "code",
   "execution_count": null,
   "id": "04d3143b",
   "metadata": {},
   "outputs": [],
   "source": [
    "df.dtypes"
   ]
  },
  {
   "cell_type": "code",
   "execution_count": null,
   "id": "1ced633d",
   "metadata": {},
   "outputs": [],
   "source": [
    "df.loc[:, \"Species_short\"].cat.categories"
   ]
  },
  {
   "cell_type": "markdown",
   "id": "aeb4ba72",
   "metadata": {},
   "source": [
    "## 読み込んだデータの保存"
   ]
  },
  {
   "cell_type": "code",
   "execution_count": null,
   "id": "ea298892",
   "metadata": {},
   "outputs": [],
   "source": [
    "df.to_parquet(\"data/penguins.parquet\")"
   ]
  }
 ],
 "metadata": {},
 "nbformat": 4,
 "nbformat_minor": 5
}
