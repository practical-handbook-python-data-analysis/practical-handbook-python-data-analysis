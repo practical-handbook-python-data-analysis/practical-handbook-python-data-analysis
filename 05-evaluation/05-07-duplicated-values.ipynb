{
 "cells": [
  {
   "cell_type": "markdown",
   "id": "97caabd6",
   "metadata": {},
   "source": [
    "# 値の重複"
   ]
  },
  {
   "cell_type": "markdown",
   "id": "5fa187d4",
   "metadata": {},
   "source": [
    "## 重複の有無の確認方法"
   ]
  },
  {
   "cell_type": "code",
   "execution_count": null,
   "id": "efa21f03",
   "metadata": {},
   "outputs": [],
   "source": [
    "import pandas as pd\n",
    "\n",
    "df = pd.read_parquet(\"data/penguins.parquet\")\n",
    "df_adelie = df.loc[df.loc[:, \"Species_short\"] == \"Adelie\"]  # Adelieのみ\n",
    "print(df_adelie.shape)"
   ]
  },
  {
   "cell_type": "code",
   "execution_count": null,
   "id": "e5b38d2b",
   "metadata": {},
   "outputs": [],
   "source": [
    "df_adelie.nunique(dropna=False)"
   ]
  },
  {
   "cell_type": "code",
   "execution_count": null,
   "id": "2101cf10",
   "metadata": {},
   "outputs": [],
   "source": [
    "# データ全体\n",
    "df_adelie.duplicated().sum()  # 単に重複の有無を調べる場合はany()メソッド"
   ]
  },
  {
   "cell_type": "code",
   "execution_count": null,
   "id": "cb4d39ee",
   "metadata": {},
   "outputs": [],
   "source": [
    "# subsetを指定する例\n",
    "df_adelie.duplicated(\n",
    "    subset=[\n",
    "        \"Individual_ID\",\n",
    "    ]\n",
    ").sum()"
   ]
  },
  {
   "cell_type": "code",
   "execution_count": null,
   "id": "6c8fbd06",
   "metadata": {},
   "outputs": [],
   "source": [
    "# Individual_IDが重複している箇所（すべて、先頭部分）\n",
    "df_adelie.loc[\n",
    "    df_adelie.loc[:, \"Individual_ID\"].duplicated(keep=False)\n",
    "].sort_values(by=\"Individual_ID\").head()"
   ]
  },
  {
   "cell_type": "code",
   "execution_count": null,
   "id": "253244aa",
   "metadata": {},
   "outputs": [],
   "source": [
    "# Individual_IDが重複している箇所（最初の出現は含まない）\n",
    "df_adelie.loc[\n",
    "    df_adelie.loc[:, \"Individual_ID\"].duplicated(keep=\"first\")\n",
    "].sort_values(by=\"Individual_ID\").head()"
   ]
  },
  {
   "cell_type": "markdown",
   "id": "79b621af",
   "metadata": {},
   "source": [
    "## 重複の発生パターンと対処方法"
   ]
  },
  {
   "cell_type": "markdown",
   "id": "d66f0c87",
   "metadata": {},
   "source": [
    "### 行全体の重複への対処"
   ]
  },
  {
   "cell_type": "code",
   "execution_count": null,
   "id": "5c079763",
   "metadata": {},
   "outputs": [],
   "source": [
    "df_adelie_duplicated = pd.concat(\n",
    "    [df_adelie, df_adelie]\n",
    ")  # 重複のあるDataFrameを作成。\n",
    "print(f\"重複あり：{df_adelie_duplicated.shape}\")\n",
    "\n",
    "print(f\"重複除去：{df_adelie_duplicated.drop_duplicates().shape}\")  # 元と同じ"
   ]
  },
  {
   "cell_type": "markdown",
   "id": "41d239b0",
   "metadata": {},
   "source": [
    "### 一部の列の重複への対処"
   ]
  },
  {
   "cell_type": "code",
   "execution_count": null,
   "id": "803c04b6",
   "metadata": {},
   "outputs": [],
   "source": [
    "# 最初の出現を残す\n",
    "df_adelie.drop_duplicates(\n",
    "    subset=[\n",
    "        \"Individual_ID\",\n",
    "    ],\n",
    "    keep=\"first\",\n",
    ").head()"
   ]
  },
  {
   "cell_type": "code",
   "execution_count": null,
   "id": "380cb8b3",
   "metadata": {},
   "outputs": [],
   "source": [
    "# 最後の出現を残す\n",
    "df_adelie.drop_duplicates(\n",
    "    subset=[\n",
    "        \"Individual_ID\",\n",
    "    ],\n",
    "    keep=\"last\",\n",
    ").head()"
   ]
  },
  {
   "cell_type": "code",
   "execution_count": null,
   "id": "a8ebde79",
   "metadata": {},
   "outputs": [],
   "source": [
    "df_adelie.sort_values(by=\"Date_Egg\", ascending=False).drop_duplicates(\n",
    "    subset=\"Individual_ID\", keep=\"first\"\n",
    ").head()"
   ]
  },
  {
   "cell_type": "code",
   "execution_count": null,
   "id": "67f86f05",
   "metadata": {},
   "outputs": [],
   "source": [
    "# 平均値に集約\n",
    "df_adelie_agg = df_adelie.groupby(\"Individual_ID\")[\"Flipper_Length\"].mean()\n",
    "df_adelie_agg.head()"
   ]
  },
  {
   "cell_type": "code",
   "execution_count": null,
   "id": "8748bb1e",
   "metadata": {},
   "outputs": [],
   "source": [
    "df_adelie_agg.shape"
   ]
  }
 ],
 "metadata": {},
 "nbformat": 4,
 "nbformat_minor": 5
}
