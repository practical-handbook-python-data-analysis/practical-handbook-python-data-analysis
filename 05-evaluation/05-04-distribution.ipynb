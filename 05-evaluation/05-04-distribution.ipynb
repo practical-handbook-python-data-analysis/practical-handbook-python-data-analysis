{
 "cells": [
  {
   "cell_type": "markdown",
   "id": "40588a25",
   "metadata": {},
   "source": [
    "# データの分布の確認"
   ]
  },
  {
   "cell_type": "markdown",
   "id": "79f5f5fa",
   "metadata": {},
   "source": [
    "## 統計的な確認"
   ]
  },
  {
   "cell_type": "code",
   "execution_count": null,
   "id": "a0b1c50d",
   "metadata": {},
   "outputs": [],
   "source": [
    "import pandas as pd\n",
    "\n",
    "df = pd.read_parquet(\"data/penguins.parquet\")\n",
    "df.shape  # 行数と列数"
   ]
  },
  {
   "cell_type": "code",
   "execution_count": null,
   "id": "c7aac597",
   "metadata": {},
   "outputs": [],
   "source": [
    "df.loc[:, \"Sex\"].value_counts(dropna=False)"
   ]
  },
  {
   "cell_type": "code",
   "execution_count": null,
   "id": "41a9cfbb",
   "metadata": {},
   "outputs": [],
   "source": [
    "df.loc[:, \"Sex\"].value_counts(ascending=True, dropna=False)"
   ]
  },
  {
   "cell_type": "code",
   "execution_count": null,
   "id": "c8a8139a",
   "metadata": {},
   "outputs": [],
   "source": [
    "df.loc[:, \"Sex\"].value_counts(sort=False, dropna=False)"
   ]
  },
  {
   "cell_type": "code",
   "execution_count": null,
   "id": "28d97406",
   "metadata": {},
   "outputs": [],
   "source": [
    "df.loc[:, \"Sex\"].value_counts(normalize=True, dropna=False)"
   ]
  },
  {
   "cell_type": "markdown",
   "id": "cca9b097",
   "metadata": {},
   "source": [
    "## ヒストグラムによる分布の確認"
   ]
  },
  {
   "cell_type": "code",
   "execution_count": null,
   "id": "e48dc328",
   "metadata": {},
   "outputs": [],
   "source": [
    "import plotly.express as px\n",
    "\n",
    "px.histogram(df, x=\"Flipper_Length\")"
   ]
  },
  {
   "cell_type": "code",
   "execution_count": null,
   "id": "f285a416",
   "metadata": {},
   "outputs": [],
   "source": [
    "flipper_ranges = pd.cut(\n",
    "    df.loc[:, \"Flipper_Length\"],\n",
    "    bins=[0, 205, 300],\n",
    ")\n",
    "df.groupby(flipper_ranges)[\"Species_short\"].value_counts()"
   ]
  },
  {
   "cell_type": "code",
   "execution_count": null,
   "id": "413acc07",
   "metadata": {},
   "outputs": [],
   "source": [
    "px.histogram(\n",
    "    df,\n",
    "    x=\"Flipper_Length\",\n",
    "    color=\"Species_short\",\n",
    "    color_discrete_sequence=px.colors.qualitative.Dark2,\n",
    "    pattern_shape=\"Species_short\",\n",
    "    opacity=0.7,\n",
    "    barmode=\"overlay\",\n",
    ")"
   ]
  },
  {
   "cell_type": "code",
   "execution_count": null,
   "id": "e0b8aaa1",
   "metadata": {},
   "outputs": [],
   "source": [
    "px.histogram(df, x=\"Flipper_Length\", nbins=4)"
   ]
  },
  {
   "cell_type": "code",
   "execution_count": null,
   "id": "ed91f0ea",
   "metadata": {},
   "outputs": [],
   "source": [
    "import numpy as np\n",
    "\n",
    "bin_edges = np.histogram_bin_edges(\n",
    "    df.loc[:, \"Flipper_Length\"].dropna(),\n",
    "    bins=\"auto\",\n",
    ")\n",
    "print(len(bin_edges))  # 区間のしきい値の数（両端含む）"
   ]
  },
  {
   "cell_type": "markdown",
   "id": "afa7d1dd",
   "metadata": {},
   "source": [
    "## 散布図による分布の確認"
   ]
  },
  {
   "cell_type": "code",
   "execution_count": null,
   "id": "63355942",
   "metadata": {},
   "outputs": [],
   "source": [
    "px.scatter(\n",
    "    df,\n",
    "    x=\"Culmen_Length\",\n",
    "    y=\"Flipper_Length\",\n",
    "    color=\"Species_short\",\n",
    "    color_discrete_sequence=px.colors.qualitative.Dark2,\n",
    "    symbol=\"Species_short\",\n",
    ")"
   ]
  },
  {
   "cell_type": "code",
   "execution_count": null,
   "id": "075e806d",
   "metadata": {},
   "outputs": [],
   "source": [
    "df.groupby(\"Species_short\")[[\"Culmen_Length\", \"Flipper_Length\"]].corr()"
   ]
  }
 ],
 "metadata": {},
 "nbformat": 4,
 "nbformat_minor": 5
}
