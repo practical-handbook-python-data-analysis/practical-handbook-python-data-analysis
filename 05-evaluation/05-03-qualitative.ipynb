{
 "cells": [
  {
   "cell_type": "markdown",
   "id": "f7561894",
   "metadata": {},
   "source": [
    "# 定性的評価（可視化）"
   ]
  },
  {
   "cell_type": "markdown",
   "id": "9b160726",
   "metadata": {},
   "source": [
    "### pandas.DataFrameの `plot()`"
   ]
  },
  {
   "cell_type": "code",
   "execution_count": null,
   "id": "b4fc9a7e",
   "metadata": {},
   "outputs": [],
   "source": [
    "import pandas as pd\n",
    "\n",
    "df = pd.read_parquet(\"data/penguins.parquet\")\n",
    "\n",
    "# ペンギンのくちばしの長さ（横軸）とひれの長さ（縦軸）の散布図\n",
    "df.plot(\n",
    "    x=\"Culmen_Length\",\n",
    "    y=\"Flipper_Length\",\n",
    "    kind=\"scatter\",\n",
    ")"
   ]
  },
  {
   "cell_type": "markdown",
   "id": "44da1dce",
   "metadata": {},
   "source": [
    "### Matplotlibを使ったグラフ描画"
   ]
  },
  {
   "cell_type": "code",
   "execution_count": null,
   "id": "1cd54da0",
   "metadata": {},
   "outputs": [],
   "source": [
    "import matplotlib.pyplot as plt\n",
    "\n",
    "# 準備（subplotsコンストラクターを呼び出してAxesクラスのインスタンスを生成）\n",
    "_, ax = plt.subplots()\n",
    "\n",
    "# くちばしの長さ（横軸）とひれの長さ（縦軸）の散布図\n",
    "ax.scatter(\n",
    "    x=df.loc[:, \"Culmen_Length\"],\n",
    "    y=df.loc[:, \"Flipper_Length\"],\n",
    ")\n",
    "plt.show()"
   ]
  },
  {
   "cell_type": "markdown",
   "id": "de6d953e",
   "metadata": {},
   "source": [
    "### Plotlyを使ったグラフ描画"
   ]
  },
  {
   "cell_type": "code",
   "execution_count": null,
   "id": "a6564cf1",
   "metadata": {},
   "outputs": [],
   "source": [
    "import plotly.express as px\n",
    "\n",
    "# くちばしの長さ（横軸）とひれの長さ（縦軸）の散布図\n",
    "px.scatter(\n",
    "    df,\n",
    "    x=\"Culmen_Length\",\n",
    "    y=\"Flipper_Length\",\n",
    ")"
   ]
  },
  {
   "cell_type": "markdown",
   "id": "b9885123",
   "metadata": {},
   "source": [
    "## グラフの種類"
   ]
  },
  {
   "cell_type": "markdown",
   "id": "63da71ab",
   "metadata": {},
   "source": [
    "### 散布図"
   ]
  },
  {
   "cell_type": "code",
   "execution_count": null,
   "id": "4b6d1a62",
   "metadata": {},
   "outputs": [],
   "source": [
    "# くちばしの長さ（横軸）とひれの長さ（縦軸）の散布図\n",
    "px.scatter(\n",
    "    df,\n",
    "    x=\"Culmen_Length\",\n",
    "    y=\"Flipper_Length\",\n",
    ")"
   ]
  },
  {
   "cell_type": "code",
   "execution_count": null,
   "id": "318555f7",
   "metadata": {},
   "outputs": [],
   "source": [
    "px.scatter(\n",
    "    df,\n",
    "    x=\"Culmen_Length\",\n",
    "    y=\"Flipper_Length\",\n",
    "    color=\"Species_short\",\n",
    "    color_discrete_sequence=px.colors.qualitative.Dark2,\n",
    "    symbol=\"Species_short\",\n",
    ")"
   ]
  },
  {
   "cell_type": "markdown",
   "id": "ee70f847",
   "metadata": {},
   "source": [
    "### 折れ線グラフ"
   ]
  },
  {
   "cell_type": "markdown",
   "id": "f6689899",
   "metadata": {},
   "source": [
    "#### 平均体重の計算"
   ]
  },
  {
   "cell_type": "code",
   "execution_count": null,
   "id": "7df9e905",
   "metadata": {},
   "outputs": [],
   "source": [
    "df_avg_weight_year = (\n",
    "    df.assign(year=df.loc[:, \"Date_Egg\"].dt.to_period(\"Y\"))\n",
    "    .groupby([\"Species_short\", \"year\"], as_index=False)[\"Body_Mass\"]\n",
    "    .mean()\n",
    ")\n",
    "df_avg_weight_year"
   ]
  },
  {
   "cell_type": "markdown",
   "id": "fdf760ea",
   "metadata": {},
   "source": [
    "#### 折れ線グラフの描画"
   ]
  },
  {
   "cell_type": "code",
   "execution_count": null,
   "id": "39fb119c",
   "metadata": {},
   "outputs": [],
   "source": [
    "fig_line = px.line(\n",
    "    df_avg_weight_year.assign(\n",
    "        year=lambda x: x.loc[:, \"year\"].dt.to_timestamp()\n",
    "    ),\n",
    "    x=\"year\",\n",
    "    y=\"Body_Mass\",\n",
    "    color=\"Species_short\",\n",
    "    color_discrete_sequence=px.colors.qualitative.Dark2,\n",
    "    line_dash=\"Species_short\",\n",
    "    symbol=\"Species_short\",\n",
    ")\n",
    "\n",
    "fig_line.update_yaxes(rangemode=\"tozero\")  # 縦軸の最小値を0にする\n",
    "fig_line.update_xaxes(\n",
    "    tickformat=\"%Y\", dtick=\"M12\"\n",
    ")  # 目盛に年だけを表示し、間隔を12か月に設定\n",
    "fig_line.show()"
   ]
  },
  {
   "cell_type": "markdown",
   "id": "a1b0ac7c",
   "metadata": {},
   "source": [
    "### 棒グラフ"
   ]
  },
  {
   "cell_type": "markdown",
   "id": "0c207a4a",
   "metadata": {},
   "source": [
    "#### 平均体重の計算"
   ]
  },
  {
   "cell_type": "code",
   "execution_count": null,
   "id": "b339f560",
   "metadata": {},
   "outputs": [],
   "source": [
    "df_avg_weight_island = df.groupby(\n",
    "    [\"Species_short\", \"Island\"], as_index=False\n",
    ")[\"Body_Mass\"].mean()\n",
    "df_avg_weight_island"
   ]
  },
  {
   "cell_type": "markdown",
   "id": "359c39ec",
   "metadata": {},
   "source": [
    "#### 棒グラフの描画"
   ]
  },
  {
   "cell_type": "code",
   "execution_count": null,
   "id": "3588a1b7",
   "metadata": {},
   "outputs": [],
   "source": [
    "px.bar(\n",
    "    df_avg_weight_island,\n",
    "    x=\"Species_short\",\n",
    "    y=\"Body_Mass\",\n",
    "    color=\"Island\",\n",
    "    color_discrete_sequence=px.colors.qualitative.Dark2,\n",
    "    pattern_shape=\"Island\",\n",
    "    barmode=\"group\",\n",
    ")"
   ]
  },
  {
   "cell_type": "markdown",
   "id": "65336509",
   "metadata": {},
   "source": [
    "### ヒストグラム"
   ]
  },
  {
   "cell_type": "code",
   "execution_count": null,
   "id": "b909081a",
   "metadata": {},
   "outputs": [],
   "source": [
    "px.histogram(\n",
    "    df,\n",
    "    x=\"Body_Mass\",\n",
    "    color=\"Species_short\",\n",
    "    color_discrete_sequence=px.colors.qualitative.Dark2,\n",
    "    pattern_shape=\"Species_short\",\n",
    "    opacity=0.7,\n",
    "    barmode=\"overlay\",\n",
    ")"
   ]
  },
  {
   "cell_type": "code",
   "execution_count": null,
   "id": "d305a6c5",
   "metadata": {},
   "outputs": [],
   "source": [
    "# 種ごとのヒストグラムを横に並べる\n",
    "fig_col = px.histogram(\n",
    "    df,\n",
    "    x=\"Body_Mass\",\n",
    "    facet_col=\"Species_short\",\n",
    ")"
   ]
  },
  {
   "cell_type": "code",
   "execution_count": null,
   "id": "6c08e095",
   "metadata": {},
   "outputs": [],
   "source": [
    "import re\n",
    "\n",
    "RE_TITLE = re.compile(\n",
    "    r\"(?<=Species_short=).+\"\n",
    ")  # 「Species_short=」に続く任意の文字列にマッチ\n",
    "fig_col.for_each_annotation(\n",
    "    lambda a: a.update(text=re.search(RE_TITLE, a.text)[0])\n",
    ")\n",
    "fig_col.show()"
   ]
  },
  {
   "cell_type": "code",
   "execution_count": null,
   "id": "1a3549d0",
   "metadata": {},
   "outputs": [],
   "source": [
    "import plotly.graph_objects as go\n",
    "\n",
    "fig_col_notshared = go.Figure(fig_col)  # 元のオブジェクトをコピー\n",
    "\n",
    "fig_col_notshared.update_xaxes(matches=None)\n",
    "fig_col_notshared.update_yaxes(matches=None)\n",
    "fig_col_notshared.for_each_yaxis(lambda y: y.update(showticklabels=True))\n",
    "fig_col_notshared.show()"
   ]
  },
  {
   "cell_type": "code",
   "execution_count": null,
   "id": "b7282ebe",
   "metadata": {},
   "outputs": [],
   "source": [
    "fig_row = px.histogram(\n",
    "    df,\n",
    "    x=\"Body_Mass\",\n",
    "    facet_row=\"Species_short\",\n",
    ")\n",
    "fig_row.for_each_annotation(\n",
    "    lambda a: a.update(text=re.search(RE_TITLE, a.text)[0])\n",
    ")\n",
    "fig_row.update_xaxes(matches=None)\n",
    "fig_row.update_yaxes(matches=None)\n",
    "fig_row.for_each_xaxis(lambda x: x.update(showticklabels=True))\n",
    "fig_row.show()"
   ]
  },
  {
   "cell_type": "markdown",
   "id": "dc730fcc",
   "metadata": {},
   "source": [
    "### 箱ひげ図"
   ]
  },
  {
   "cell_type": "code",
   "execution_count": null,
   "id": "ec36ed92",
   "metadata": {},
   "outputs": [],
   "source": [
    "px.box(df, x=\"Species_short\", y=\"Body_Mass\")"
   ]
  }
 ],
 "metadata": {},
 "nbformat": 4,
 "nbformat_minor": 5
}
