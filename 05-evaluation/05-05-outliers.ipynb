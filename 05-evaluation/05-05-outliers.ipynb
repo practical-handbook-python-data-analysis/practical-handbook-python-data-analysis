{
 "cells": [
  {
   "cell_type": "markdown",
   "id": "1b45650c",
   "metadata": {},
   "source": [
    "# 外れ値、異常値"
   ]
  },
  {
   "cell_type": "markdown",
   "id": "d1084f56",
   "metadata": {},
   "source": [
    "## 外れ値の確認"
   ]
  },
  {
   "cell_type": "markdown",
   "id": "1b8d96d9",
   "metadata": {},
   "source": [
    "### 箱ひげ図による外れ値の確認"
   ]
  },
  {
   "cell_type": "code",
   "execution_count": null,
   "id": "32498126",
   "metadata": {},
   "outputs": [],
   "source": [
    "import pandas as pd\n",
    "import plotly.express as px\n",
    "\n",
    "df = pd.read_parquet(\"data/penguins.parquet\")\n",
    "px.box(df, x=\"Species_short\", y=\"Body_Mass\")"
   ]
  },
  {
   "cell_type": "markdown",
   "id": "b6485458",
   "metadata": {},
   "source": [
    "### 分位点による外れ値の確認"
   ]
  },
  {
   "cell_type": "code",
   "execution_count": null,
   "id": "0e158cfa",
   "metadata": {},
   "outputs": [],
   "source": [
    "df.groupby(\"Species_short\")[\"Body_Mass\"].quantile(\n",
    "    q=[0, 0.01, 0.05, 0.95, 0.99, 1]\n",
    ")"
   ]
  },
  {
   "cell_type": "markdown",
   "id": "52c693b0",
   "metadata": {},
   "source": [
    "### 正規分布と$2\\sigma$範囲による外れ値の確認"
   ]
  },
  {
   "cell_type": "code",
   "execution_count": null,
   "id": "9d50d87a",
   "metadata": {},
   "outputs": [],
   "source": [
    "df_chinstrap = df.loc[df.loc[:, \"Species_short\"] == \"Chinstrap\", :]\n",
    "\n",
    "px.histogram(df_chinstrap, x=\"Body_Mass\")"
   ]
  },
  {
   "cell_type": "code",
   "execution_count": null,
   "id": "52a5ef43",
   "metadata": {},
   "outputs": [],
   "source": [
    "import scipy.stats as stats\n",
    "\n",
    "stats.shapiro(df_chinstrap.loc[:, \"Body_Mass\"])"
   ]
  },
  {
   "cell_type": "code",
   "execution_count": null,
   "id": "100da24b",
   "metadata": {},
   "outputs": [],
   "source": [
    "sigma = df_chinstrap.loc[:, \"Body_Mass\"].std()  # 標準偏差\n",
    "avg = df_chinstrap.loc[:, \"Body_Mass\"].mean()\n",
    "print(f\"下限値：{avg - 2 * sigma} 上限値：{avg + 2 * sigma}\")"
   ]
  },
  {
   "cell_type": "code",
   "execution_count": null,
   "id": "464d2a87",
   "metadata": {},
   "outputs": [],
   "source": [
    "df_chinstrap.loc[:, \"Body_Mass\"].quantile(q=[0.025, 0.975])"
   ]
  },
  {
   "cell_type": "markdown",
   "id": "8ffa851d",
   "metadata": {},
   "source": [
    "## 外れ値への対処方法"
   ]
  },
  {
   "cell_type": "markdown",
   "id": "2fa5678b",
   "metadata": {},
   "source": [
    "### 上限値と下限値の設定"
   ]
  },
  {
   "cell_type": "code",
   "execution_count": null,
   "id": "17b3b739",
   "metadata": {},
   "outputs": [],
   "source": [
    "df_chinstrap = df_chinstrap.assign(\n",
    "    Body_Mass_clipped=df_chinstrap.loc[:, \"Body_Mass\"].clip(\n",
    "        lower=avg - 2 * sigma,\n",
    "        upper=avg + 2 * sigma,\n",
    "    )\n",
    ")"
   ]
  },
  {
   "cell_type": "code",
   "execution_count": null,
   "id": "06764deb",
   "metadata": {},
   "outputs": [],
   "source": [
    "px.histogram(\n",
    "    df_chinstrap.melt(\n",
    "        id_vars=\"Individual_ID\",\n",
    "        value_vars=[\"Body_Mass\", \"Body_Mass_clipped\"],\n",
    "    ),\n",
    "    x=\"value\",\n",
    "    facet_col=\"variable\",\n",
    ")"
   ]
  }
 ],
 "metadata": {},
 "nbformat": 4,
 "nbformat_minor": 5
}
