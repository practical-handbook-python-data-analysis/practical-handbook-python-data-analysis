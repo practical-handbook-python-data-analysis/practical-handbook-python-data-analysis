{
 "cells": [
  {
   "cell_type": "markdown",
   "id": "015f6000",
   "metadata": {},
   "source": [
    "# 欠損値"
   ]
  },
  {
   "cell_type": "markdown",
   "id": "46c1b73c",
   "metadata": {},
   "source": [
    "## 欠損値の基礎知識",
    "### データ型"
   ]
  },
  {
   "cell_type": "code",
   "execution_count": null,
   "id": "950a813c",
   "metadata": {},
   "outputs": [],
   "source": [
    "import numpy as np\n",
    "import pandas as pd\n",
    "\n",
    "rng = np.random.default_rng(1)\n",
    "float_ser = pd.Series(rng.random(4), index=range(0, 8, 2)).reindex(range(4))\n",
    "float_ser"
   ]
  },
  {
   "cell_type": "code",
   "execution_count": null,
   "id": "1770bd4a",
   "metadata": {},
   "outputs": [],
   "source": [
    "dt_ser = pd.Series(\n",
    "    pd.date_range(\"2023-01-01\", periods=4),\n",
    "    index=range(0, 8, 2),\n",
    ").reindex(range(4))\n",
    "dt_ser"
   ]
  },
  {
   "cell_type": "code",
   "execution_count": null,
   "id": "e6644a08",
   "metadata": {},
   "outputs": [],
   "source": [
    "int_ser = pd.Series(\n",
    "    rng.integers(0, 10, 4),\n",
    "    index=range(0, 8, 2),\n",
    "    dtype=pd.Int64Dtype(),\n",
    ").reindex(range(4))\n",
    "int_ser"
   ]
  },
  {
   "cell_type": "code",
   "execution_count": null,
   "id": "acd6c9a0",
   "metadata": {},
   "outputs": [],
   "source": [
    "int_ser.dtype"
   ]
  },
  {
   "cell_type": "markdown",
   "id": "8898f575",
   "metadata": {},
   "source": [
    "### データの型変換"
   ]
  },
  {
   "cell_type": "code",
   "execution_count": null,
   "id": "abf2add9",
   "metadata": {},
   "outputs": [],
   "source": [
    "# int型\n",
    "pd.Series([1, None, 3])"
   ]
  },
  {
   "cell_type": "code",
   "execution_count": null,
   "id": "f07b783f",
   "metadata": {},
   "outputs": [],
   "source": [
    "# bool型\n",
    "pd.Series([True, None, False])"
   ]
  },
  {
   "cell_type": "code",
   "execution_count": null,
   "id": "eac01230",
   "metadata": {},
   "outputs": [],
   "source": [
    "# float型\n",
    "pd.Series([1.0, None, 3.0])"
   ]
  },
  {
   "cell_type": "code",
   "execution_count": null,
   "id": "703974b4",
   "metadata": {},
   "outputs": [],
   "source": [
    "# object型\n",
    "pd.Series([\"a\", None, \"c\"])"
   ]
  },
  {
   "cell_type": "markdown",
   "id": "02420524",
   "metadata": {},
   "source": [
    "### 欠損値を含むデータの評価"
   ]
  },
  {
   "cell_type": "code",
   "execution_count": null,
   "id": "643d2bdc",
   "metadata": {},
   "outputs": [],
   "source": [
    "np.nan == np.nan"
   ]
  },
  {
   "cell_type": "code",
   "execution_count": null,
   "id": "11d79118",
   "metadata": {},
   "outputs": [],
   "source": [
    "np.nan > np.nan"
   ]
  },
  {
   "cell_type": "code",
   "execution_count": null,
   "id": "76307ebe",
   "metadata": {},
   "outputs": [],
   "source": [
    "pd.NaT == pd.NaT"
   ]
  },
  {
   "cell_type": "code",
   "execution_count": null,
   "id": "de6a4e7c",
   "metadata": {},
   "outputs": [],
   "source": [
    "pd.NA == pd.NA"
   ]
  },
  {
   "cell_type": "code",
   "execution_count": null,
   "id": "cca6aaeb",
   "metadata": {},
   "outputs": [],
   "source": [
    "pd.isna(float_ser)\n",
    "# or\n",
    "pd.isnull(float_ser)\n",
    "# or\n",
    "float_ser.isna()\n",
    "# or\n",
    "float_ser.isnull()"
   ]
  },
  {
   "cell_type": "code",
   "execution_count": null,
   "id": "aee727a9",
   "metadata": {},
   "outputs": [],
   "source": [
    "int_ser.isna()"
   ]
  },
  {
   "cell_type": "code",
   "execution_count": null,
   "id": "bff6c3b4",
   "metadata": {},
   "outputs": [],
   "source": [
    "dt_ser.isna()"
   ]
  },
  {
   "cell_type": "markdown",
   "id": "2786db8c",
   "metadata": {},
   "source": [
    "### 欠損値を含むデータの演算"
   ]
  },
  {
   "cell_type": "code",
   "execution_count": null,
   "id": "96c1c259",
   "metadata": {},
   "outputs": [],
   "source": [
    "int_ser.sum()"
   ]
  },
  {
   "cell_type": "code",
   "execution_count": null,
   "id": "7c471eb2",
   "metadata": {},
   "outputs": [],
   "source": [
    "int_ser.cumsum()"
   ]
  },
  {
   "cell_type": "code",
   "execution_count": null,
   "id": "56b7b0cd",
   "metadata": {},
   "outputs": [],
   "source": [
    "int_ser.sum(skipna=False)"
   ]
  },
  {
   "cell_type": "markdown",
   "id": "c7bb8069",
   "metadata": {},
   "source": [
    "## 欠損値の発生パターン（メカニズム）と対処方法"
   ]
  },
  {
   "cell_type": "markdown",
   "id": "11389e53",
   "metadata": {},
   "source": [
    "### 欠損値の確認"
   ]
  },
  {
   "cell_type": "code",
   "execution_count": null,
   "id": "e1ea2f31",
   "metadata": {},
   "outputs": [],
   "source": [
    "df = pd.read_parquet(\"data/penguins.parquet\")"
   ]
  },
  {
   "cell_type": "code",
   "execution_count": null,
   "id": "285af7c5",
   "metadata": {},
   "outputs": [],
   "source": [
    "print(df.isna().sum())"
   ]
  },
  {
   "cell_type": "markdown",
   "id": "cf994dc2",
   "metadata": {},
   "source": [
    "### 欠損値の発生が完全にランダム(MCAR)な場合"
   ]
  },
  {
   "cell_type": "code",
   "execution_count": null,
   "id": "f96f8383",
   "metadata": {},
   "outputs": [],
   "source": [
    "print(df.shape)"
   ]
  },
  {
   "cell_type": "code",
   "execution_count": null,
   "id": "bfc3379a",
   "metadata": {},
   "outputs": [],
   "source": [
    "print(df.dropna(subset=[\"Culmen_Length\"]).shape)"
   ]
  },
  {
   "cell_type": "code",
   "execution_count": null,
   "id": "b52a4ed4",
   "metadata": {},
   "outputs": [],
   "source": [
    "print(df.dropna(subset=[\"Culmen_Length\", \"Sex\"]).shape)"
   ]
  },
  {
   "cell_type": "code",
   "execution_count": null,
   "id": "daaed5d4",
   "metadata": {},
   "outputs": [],
   "source": [
    "print(df.dropna().shape)"
   ]
  },
  {
   "cell_type": "code",
   "execution_count": null,
   "id": "0bb08c68",
   "metadata": {},
   "outputs": [],
   "source": [
    "print(df.dropna(axis=1).shape)"
   ]
  },
  {
   "cell_type": "code",
   "execution_count": null,
   "id": "497dfd7b",
   "metadata": {},
   "outputs": [],
   "source": [
    "print(\n",
    "    df.dropna(\n",
    "        subset=[\"Culmen_Length\", \"Sex\"],\n",
    "        how=\"all\",\n",
    "    ).shape\n",
    ")"
   ]
  },
  {
   "cell_type": "code",
   "execution_count": null,
   "id": "65e6b7cf",
   "metadata": {},
   "outputs": [],
   "source": [
    "df.loc[:, \"Culmen_Length\"].dropna()"
   ]
  },
  {
   "cell_type": "markdown",
   "id": "399694e1",
   "metadata": {},
   "source": [
    "### 欠損値の発生が何らかの原因による場合",
    "#### 単変量補完と多変量補完"
   ]
  },
  {
   "cell_type": "code",
   "execution_count": null,
   "id": "1199ed81",
   "metadata": {},
   "outputs": [],
   "source": [
    "# 種ごとの平均体重の確認\n",
    "df.groupby(\"Species\")[\"Body_Mass\"].mean()"
   ]
  },
  {
   "cell_type": "code",
   "execution_count": null,
   "id": "baa07c65",
   "metadata": {},
   "outputs": [],
   "source": [
    "# 種ごとの欠損値の件数\n",
    "df.groupby(\"Species\")[\"Body_Mass\"].agg(lambda x: x.isna().sum())"
   ]
  },
  {
   "cell_type": "code",
   "execution_count": null,
   "id": "f8a1ea59",
   "metadata": {},
   "outputs": [],
   "source": [
    "# 種ごとに平均体重で補完。\n",
    "df.groupby(\"Species\")[\"Body_Mass\"].transform(lambda x: x.fillna(x.mean()))"
   ]
  },
  {
   "cell_type": "markdown",
   "id": "cac79936",
   "metadata": {},
   "source": [
    "### 行どうしに順序がある場合の補間"
   ]
  },
  {
   "cell_type": "code",
   "execution_count": null,
   "id": "0efaa487",
   "metadata": {},
   "outputs": [],
   "source": [
    "df.loc[:, \"Body_Mass\"].head()"
   ]
  },
  {
   "cell_type": "code",
   "execution_count": null,
   "id": "8b1d733f",
   "metadata": {},
   "outputs": [],
   "source": [
    "df.loc[:, \"Body_Mass\"].fillna(method=\"ffill\")"
   ]
  },
  {
   "cell_type": "code",
   "execution_count": null,
   "id": "a4dbc49b",
   "metadata": {},
   "outputs": [],
   "source": [
    "df.loc[:, \"Body_Mass\"].fillna(method=\"bfill\")"
   ]
  },
  {
   "cell_type": "code",
   "execution_count": null,
   "id": "7b051dc2",
   "metadata": {},
   "outputs": [],
   "source": [
    "df.loc[:, \"Body_Mass\"].interpolate(method=\"linear\")"
   ]
  },
  {
   "cell_type": "code",
   "execution_count": null,
   "id": "005206f5",
   "metadata": {},
   "outputs": [],
   "source": [
    "# \"linear\"の場合\n",
    "pd.Series([1.0, None, 10], index=[1, 10, 100]).interpolate(method=\"linear\")"
   ]
  },
  {
   "cell_type": "code",
   "execution_count": null,
   "id": "0e4422e2",
   "metadata": {},
   "outputs": [],
   "source": [
    "# \"index\"の場合\n",
    "pd.Series([1.0, None, 10], index=[1, 10, 100]).interpolate(method=\"index\")"
   ]
  },
  {
   "cell_type": "code",
   "execution_count": null,
   "id": "68bd2c8d",
   "metadata": {},
   "outputs": [],
   "source": [
    "pd.Series(\n",
    "    [1.0, None, 10.0],\n",
    "    index=[\n",
    "        pd.Timestamp(\"2023-01-01\"),\n",
    "        pd.Timestamp(\"2023-01-10\"),\n",
    "        pd.Timestamp(\"2023-04-10\"),\n",
    "    ],\n",
    ").interpolate(method=\"time\")"
   ]
  }
 ],
 "metadata": {},
 "nbformat": 4,
 "nbformat_minor": 5
}
