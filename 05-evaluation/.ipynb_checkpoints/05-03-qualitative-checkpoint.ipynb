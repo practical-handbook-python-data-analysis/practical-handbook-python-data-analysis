{
 "cells": [
  {
   "cell_type": "markdown",
   "id": "6e9dc193",
   "metadata": {},
   "source": [
    "# 定性的評価（可視化）"
   ]
  },
  {
   "cell_type": "markdown",
   "id": "bae78bda",
   "metadata": {},
   "source": [
    "## データ可視化のためのライブラリ"
   ]
  },
  {
   "cell_type": "markdown",
   "id": "2c8179e8",
   "metadata": {},
   "source": [
    "### pandas DataFrameの `plot()`"
   ]
  },
  {
   "cell_type": "code",
   "execution_count": null,
   "id": "962ddfb1",
   "metadata": {},
   "outputs": [],
   "source": [
    "import pandas as pd\n",
    "\n",
    "df = pd.read_parquet(\"data/penguins.parquet\")\n",
    "\n",
    "# ペンギンのくちばしの長さ（横軸）とひれの長さ（縦軸）の散布図\n",
    "df.plot(\n",
    "    x=\"Culmen_Length\",\n",
    "    y=\"Flipper_Length\",\n",
    "    kind=\"scatter\",\n",
    ")"
   ]
  },
  {
   "cell_type": "markdown",
   "id": "9fa00c99",
   "metadata": {},
   "source": [
    "### Matplotlibを使ったグラフ描画"
   ]
  },
  {
   "cell_type": "code",
   "execution_count": null,
   "id": "4f0c75ea",
   "metadata": {},
   "outputs": [],
   "source": [
    "import matplotlib.pyplot as plt\n",
    "\n",
    "# 準備（subplotsコンストラクターを呼び出してAxesクラスのインスタンスを生成）\n",
    "_, ax = plt.subplots()\n",
    "\n",
    "# くちばしの長さ（横軸）とひれの長さ（縦軸）の散布図\n",
    "ax.scatter(\n",
    "    x=df.loc[:, \"Culmen_Length\"],\n",
    "    y=df.loc[:, \"Flipper_Length\"],\n",
    ")\n",
    "plt.show()"
   ]
  },
  {
   "cell_type": "markdown",
   "id": "b6edbcc3",
   "metadata": {},
   "source": [
    "### Plotlyを使ったグラフ描画"
   ]
  },
  {
   "cell_type": "code",
   "execution_count": null,
   "id": "e3698ecd",
   "metadata": {},
   "outputs": [],
   "source": [
    "# 準備（Plotly Expressをインポート）\n",
    "import plotly.express as px\n",
    "\n",
    "# くちばしの長さ（横軸）とひれの長さ（縦軸）の散布図\n",
    "px.scatter(\n",
    "    df,\n",
    "    x=\"Culmen_Length\",\n",
    "    y=\"Flipper_Length\",\n",
    ")\n",
    "# 業務連絡：このセルの出力のグラフは削除して、画像を貼り付けているスクリーンショットを残す。"
   ]
  },
  {
   "cell_type": "markdown",
   "id": "8f503920",
   "metadata": {},
   "source": [
    "## グラフの種類"
   ]
  },
  {
   "cell_type": "markdown",
   "id": "14d00488",
   "metadata": {},
   "source": [
    "### 散布図"
   ]
  },
  {
   "cell_type": "code",
   "execution_count": null,
   "id": "8d5279cb",
   "metadata": {},
   "outputs": [],
   "source": [
    "# くちばしの長さ（横軸）とひれの長さ（縦軸）の散布図\n",
    "px.scatter(\n",
    "    df,\n",
    "    x=\"Culmen_Length\",\n",
    "    y=\"Flipper_Length\",\n",
    ")"
   ]
  },
  {
   "cell_type": "code",
   "execution_count": null,
   "id": "1713cfb0",
   "metadata": {},
   "outputs": [],
   "source": [
    "px.scatter(\n",
    "    df,\n",
    "    x=\"Culmen_Length\",\n",
    "    y=\"Flipper_Length\",\n",
    "    color=\"Species\",\n",
    "    color_discrete_sequence=px.colors.qualitative.Dark2,\n",
    "    symbol=\"Species\",\n",
    ")"
   ]
  },
  {
   "cell_type": "markdown",
   "id": "8cc7935c",
   "metadata": {},
   "source": [
    "### 折れ線グラフ"
   ]
  },
  {
   "cell_type": "markdown",
   "id": "b92528d0",
   "metadata": {},
   "source": [
    "#### 平均体重の計算"
   ]
  },
  {
   "cell_type": "code",
   "execution_count": null,
   "id": "b2b5a062",
   "metadata": {},
   "outputs": [],
   "source": [
    "df_avg_weight_year = (\n",
    "    df.assign(year=df.loc[:, \"Date_Egg\"].dt.to_period(\"Y\"))\n",
    "    .groupby([\"Species\", \"year\"], as_index=False)[\"Body_Mass\"]\n",
    "    .mean()\n",
    ")\n",
    "df_avg_weight_year"
   ]
  },
  {
   "cell_type": "markdown",
   "id": "02fe6c0e",
   "metadata": {},
   "source": [
    "#### 折れ線グラフの描画"
   ]
  },
  {
   "cell_type": "code",
   "execution_count": null,
   "id": "d2f8771e",
   "metadata": {},
   "outputs": [],
   "source": [
    "fig_line = px.line(\n",
    "    df_avg_weight_year.assign(\n",
    "        year=lambda x: x.loc[:, \"year\"].dt.to_timestamp()\n",
    "    ),\n",
    "    x=\"year\",\n",
    "    y=\"Body_Mass\",\n",
    "    color=\"Species\",\n",
    "    color_discrete_sequence=px.colors.qualitative.Dark2,\n",
    "    line_dash=\"Species\",\n",
    ")\n",
    "\n",
    "fig_line.update_yaxes(rangemode=\"tozero\")  # 縦軸の最小値を0にする。\n",
    "fig_line.update_xaxes(\n",
    "    tickformat=\"%Y\", dtick=\"M12\"\n",
    ")  # 目盛に年だけを表示し、間隔を12ヶ月に設定。\n",
    "fig_line.show()"
   ]
  },
  {
   "cell_type": "markdown",
   "id": "29394604",
   "metadata": {},
   "source": [
    "### 棒グラフ"
   ]
  },
  {
   "cell_type": "markdown",
   "id": "e400fb94",
   "metadata": {},
   "source": [
    "#### 平均体重の計算"
   ]
  },
  {
   "cell_type": "code",
   "execution_count": null,
   "id": "b82e5757",
   "metadata": {},
   "outputs": [],
   "source": [
    "df_avg_weight_island = df.groupby([\"Species\", \"Island\"], as_index=False)[\n",
    "    \"Body_Mass\"\n",
    "].mean()\n",
    "df_avg_weight_island"
   ]
  },
  {
   "cell_type": "markdown",
   "id": "efae9f73",
   "metadata": {},
   "source": [
    "#### 棒グラフの描画"
   ]
  },
  {
   "cell_type": "code",
   "execution_count": null,
   "id": "fbb796f2",
   "metadata": {},
   "outputs": [],
   "source": [
    "px.bar(\n",
    "    df_avg_weight_island,\n",
    "    x=\"Species\",\n",
    "    y=\"Body_Mass\",\n",
    "    color=\"Island\",\n",
    "    color_discrete_sequence=px.colors.qualitative.Dark2,\n",
    "    pattern_shape=\"Island\",\n",
    "    barmode=\"group\",\n",
    ")"
   ]
  },
  {
   "cell_type": "markdown",
   "id": "2cf3b6f0",
   "metadata": {},
   "source": [
    "### ヒストグラム"
   ]
  },
  {
   "cell_type": "code",
   "execution_count": null,
   "id": "28f25a3d",
   "metadata": {},
   "outputs": [],
   "source": [
    "px.histogram(\n",
    "    df,\n",
    "    x=\"Body_Mass\",\n",
    "    color=\"Species\",\n",
    "    color_discrete_sequence=px.colors.qualitative.Dark2,\n",
    "    pattern_shape=\"Species\",\n",
    "    opacity=0.7,\n",
    "    barmode=\"overlay\",\n",
    ")"
   ]
  },
  {
   "cell_type": "code",
   "execution_count": null,
   "id": "67d74369",
   "metadata": {},
   "outputs": [],
   "source": [
    "# 種ごとのヒストグラムを横に並べる。\n",
    "fig_col = px.histogram(\n",
    "    df,\n",
    "    x=\"Body_Mass\",\n",
    "    facet_col=\"Species\",\n",
    ")"
   ]
  },
  {
   "cell_type": "code",
   "execution_count": null,
   "id": "93128b7f",
   "metadata": {},
   "outputs": [],
   "source": [
    "import re\n",
    "\n",
    "pattern = re.compile(r\"(?<=Species=)[^\\s]+\")  # 「Species=」に続く空白を含まない文字列にマッチ。\n",
    "fig_col.for_each_annotation(\n",
    "    lambda a: a.update(text=re.search(pattern, a.text)[0])\n",
    ")\n",
    "fig_col.show()"
   ]
  },
  {
   "cell_type": "code",
   "execution_count": null,
   "id": "647e0550",
   "metadata": {},
   "outputs": [],
   "source": [
    "import plotly.graph_objects as go\n",
    "\n",
    "fig_col_notshared = go.Figure(fig_col)  # もとのオブジェクトをコピー。\n",
    "\n",
    "fig_col_notshared.update_xaxes(matches=None)\n",
    "fig_col_notshared.update_yaxes(matches=None)\n",
    "fig_col_notshared.for_each_yaxis(lambda y: y.update(showticklabels=True))\n",
    "fig_col_notshared.show()"
   ]
  },
  {
   "cell_type": "code",
   "execution_count": null,
   "id": "e0f26a9d",
   "metadata": {},
   "outputs": [],
   "source": [
    "fig_row = px.histogram(\n",
    "    df,\n",
    "    x=\"Body_Mass\",\n",
    "    facet_row=\"Species\",\n",
    ")\n",
    "fig_row.for_each_annotation(\n",
    "    lambda a: a.update(text=re.search(pattern, a.text)[0])\n",
    ")\n",
    "fig_row.update_xaxes(matches=None)\n",
    "fig_row.update_yaxes(matches=None)\n",
    "fig_row.for_each_xaxis(lambda x: x.update(showticklabels=True))\n",
    "fig_row.show()"
   ]
  },
  {
   "cell_type": "markdown",
   "id": "d0c3dbee",
   "metadata": {},
   "source": [
    "### 箱ひげ図"
   ]
  },
  {
   "cell_type": "code",
   "execution_count": null,
   "id": "7dd0c5eb",
   "metadata": {},
   "outputs": [],
   "source": [
    "px.box(df, x=\"Species\", y=\"Body_Mass\")"
   ]
  }
 ],
 "metadata": {},
 "nbformat": 4,
 "nbformat_minor": 5
}
