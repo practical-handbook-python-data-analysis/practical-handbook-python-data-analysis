{
 "cells": [
  {
   "cell_type": "markdown",
   "id": "35ac981c",
   "metadata": {},
   "source": [
    "# 値の重複"
   ]
  },
  {
   "cell_type": "markdown",
   "id": "51e02a72",
   "metadata": {},
   "source": [
    "## 重複の有無の確認方法"
   ]
  },
  {
   "cell_type": "code",
   "execution_count": null,
   "id": "e4d0cfa0",
   "metadata": {},
   "outputs": [],
   "source": [
    "import pandas as pd\n",
    "\n",
    "df = pd.read_parquet(\"data/penguins.parquet\")\n",
    "df_adelie = df.loc[\n",
    "    df.loc[:, \"Species\"] == \"Adelie Penguin (Pygoscelis adeliae)\"\n",
    "]  # Adelieのみ\n",
    "print(df_adelie.shape)"
   ]
  },
  {
   "cell_type": "code",
   "execution_count": null,
   "id": "e8886d10",
   "metadata": {},
   "outputs": [],
   "source": [
    "df_adelie.nunique(dropna=False)"
   ]
  },
  {
   "cell_type": "code",
   "execution_count": null,
   "id": "dfa3f8ad",
   "metadata": {},
   "outputs": [],
   "source": [
    "df_adelie.duplicated().sum()"
   ]
  },
  {
   "cell_type": "code",
   "execution_count": null,
   "id": "c152ed42",
   "metadata": {},
   "outputs": [],
   "source": [
    "# subsetを指定する例\n",
    "df_adelie.duplicated(\n",
    "    subset=[\n",
    "        \"Individual_ID\",\n",
    "        \"Flipper_Length\",\n",
    "    ]\n",
    ").sum()"
   ]
  },
  {
   "cell_type": "code",
   "execution_count": null,
   "id": "93fc12bf",
   "metadata": {},
   "outputs": [],
   "source": [
    "# Individual_IDが重複している箇所（すべて）\n",
    "df_adelie.loc[\n",
    "    df_adelie.loc[:, \"Individual_ID\"].duplicated(keep=False)\n",
    "].sort_values(by=\"Individual_ID\").head()"
   ]
  },
  {
   "cell_type": "code",
   "execution_count": null,
   "id": "e71226c3",
   "metadata": {},
   "outputs": [],
   "source": [
    "# Individual_IDが重複している箇所（最初の出現は含まない）\n",
    "df_adelie.loc[\n",
    "    df_adelie.loc[:, \"Individual_ID\"].duplicated(keep=\"first\")\n",
    "].sort_values(by=\"Individual_ID\").head()"
   ]
  },
  {
   "cell_type": "markdown",
   "id": "0da62cd5",
   "metadata": {},
   "source": [
    "## 重複の発生パターンと対処方法"
   ]
  },
  {
   "cell_type": "markdown",
   "id": "dc9f8fa8",
   "metadata": {},
   "source": [
    "### 行全体の重複への対処"
   ]
  },
  {
   "cell_type": "code",
   "execution_count": null,
   "id": "1c7051b7",
   "metadata": {},
   "outputs": [],
   "source": [
    "df_adelie_duplicated = pd.concat(\n",
    "    [df_adelie, df_adelie]\n",
    ")  # 重複のあるDataFrameを作成。\n",
    "print(f\"重複あり：{df_adelie_duplicated.shape}\")\n",
    "\n",
    "print(f\"重複除去：{df_adelie_duplicated.drop_duplicates().shape}\")  # 元と同じ"
   ]
  },
  {
   "cell_type": "markdown",
   "id": "39a19bdf",
   "metadata": {},
   "source": [
    "### 一部の列の重複への対処"
   ]
  },
  {
   "cell_type": "code",
   "execution_count": null,
   "id": "43591fe7",
   "metadata": {},
   "outputs": [],
   "source": [
    "# 最初の出現を残す。\n",
    "df_adelie.drop_duplicates(\n",
    "    subset=[\n",
    "        \"Individual_ID\",\n",
    "        \"Flipper_Length\",\n",
    "    ],\n",
    "    keep=\"first\",\n",
    ").head()"
   ]
  },
  {
   "cell_type": "code",
   "execution_count": null,
   "id": "5e8dd5e2",
   "metadata": {},
   "outputs": [],
   "source": [
    "# 最後の出現を残す。\n",
    "df_adelie.drop_duplicates(\n",
    "    subset=[\n",
    "        \"Individual_ID\",\n",
    "        \"Flipper_Length\",\n",
    "    ],\n",
    "    keep=\"last\",\n",
    ").head()"
   ]
  },
  {
   "cell_type": "code",
   "execution_count": null,
   "id": "085e67be",
   "metadata": {},
   "outputs": [],
   "source": [
    "df_adelie.sort_values(by=\"Date_Egg\", ascending=False).drop_duplicates(\n",
    "    subset=\"Individual_ID\", keep=\"first\"\n",
    ").head()"
   ]
  },
  {
   "cell_type": "code",
   "execution_count": null,
   "id": "e56efcb3",
   "metadata": {},
   "outputs": [],
   "source": [
    "# 平均値に集約。\n",
    "df_adelie_agg = df_adelie.groupby(\"Individual_ID\")[\"Flipper_Length\"].mean()\n",
    "df_adelie_agg.head()"
   ]
  },
  {
   "cell_type": "code",
   "execution_count": null,
   "id": "07441e0f",
   "metadata": {},
   "outputs": [],
   "source": [
    "df_adelie_agg.shape"
   ]
  }
 ],
 "metadata": {},
 "nbformat": 4,
 "nbformat_minor": 5
}
