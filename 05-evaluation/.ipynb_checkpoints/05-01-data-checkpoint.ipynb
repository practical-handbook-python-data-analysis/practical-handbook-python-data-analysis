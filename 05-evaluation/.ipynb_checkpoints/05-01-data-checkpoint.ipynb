{
 "cells": [
  {
   "cell_type": "markdown",
   "id": "d1092ed2",
   "metadata": {},
   "source": [
    "# 使用するデータの紹介と読み込み"
   ]
  },
  {
   "cell_type": "markdown",
   "id": "2ef0218b",
   "metadata": {},
   "source": [
    "## ペンギンデータの概要"
   ]
  },
  {
   "cell_type": "markdown",
   "id": "cbb34e1b",
   "metadata": {},
   "source": [
    "## データ読み込み"
   ]
  },
  {
   "cell_type": "code",
   "execution_count": null,
   "id": "371209bc",
   "metadata": {},
   "outputs": [],
   "source": [
    "# https://portal.edirepository.org/nis/codegenerationdownload?filename=knb-lter-pal.219.5.py を改変。\n",
    "import pandas as pd\n",
    "\n",
    "uris = [\n",
    "    # Adélie\n",
    "    \"https://pasta.lternet.edu/package/data/eml/knb-lter-pal/219/5/002f3893385f710df69eeebe893144ff\",\n",
    "    # Gentoo\n",
    "    \"https://pasta.lternet.edu/package/data/eml/knb-lter-pal/220/7/e03b43c924f226486f2f0ab6709d2381\",\n",
    "    # Chinstrap\n",
    "    \"https://pasta.lternet.edu/package/data/eml/knb-lter-pal/221/8/fe853aa8f7a59aa84cdd3197619ef462\",\n",
    "]\n",
    "\n",
    "df = pd.DataFrame()\n",
    "for uri in uris:\n",
    "    df_temp = pd.read_csv(\n",
    "        uri,\n",
    "        sep=\",\",\n",
    "        quotechar='\"',\n",
    "        usecols=[  # ・・①\n",
    "            \"Species\",\n",
    "            \"Island\",\n",
    "            \"Individual ID\",\n",
    "            \"Date Egg\",\n",
    "            \"Culmen Length (mm)\",\n",
    "            \"Culmen Depth (mm)\",\n",
    "            \"Flipper Length (mm)\",\n",
    "            \"Body Mass (g)\",\n",
    "            \"Sex\",\n",
    "            \"Comments\",\n",
    "        ],\n",
    "        na_values=\".\",  # 追加で欠損値として扱う文字列を指定。\n",
    "    ).rename(  # ・・②\n",
    "        columns={\n",
    "            \"Individual ID\": \"Individual_ID\",\n",
    "            \"Date Egg\": \"Date_Egg\",\n",
    "            \"Culmen Length (mm)\": \"Culmen_Length\",\n",
    "            \"Culmen Depth (mm)\": \"Culmen_Depth\",\n",
    "            \"Flipper Length (mm)\": \"Flipper_Length\",\n",
    "            \"Body Mass (g)\": \"Body_Mass\",\n",
    "        }\n",
    "    )\n",
    "    df = pd.concat([df, df_temp], ignore_index=True)  # ・・③"
   ]
  },
  {
   "cell_type": "markdown",
   "id": "93769425",
   "metadata": {},
   "source": [
    "## 読み込み結果の簡単なチェック"
   ]
  },
  {
   "cell_type": "code",
   "execution_count": null,
   "id": "09efe512",
   "metadata": {},
   "outputs": [],
   "source": [
    "df.shape"
   ]
  },
  {
   "cell_type": "code",
   "execution_count": null,
   "id": "8af93b09",
   "metadata": {},
   "outputs": [],
   "source": [
    "# 先頭を表示。\n",
    "df.head()"
   ]
  },
  {
   "cell_type": "code",
   "execution_count": null,
   "id": "ddfb9bed",
   "metadata": {},
   "outputs": [],
   "source": [
    "# 最後を表示。\n",
    "df.tail()"
   ]
  },
  {
   "cell_type": "code",
   "execution_count": null,
   "id": "5aa2bb15",
   "metadata": {},
   "outputs": [],
   "source": [
    "df.dtypes"
   ]
  },
  {
   "cell_type": "code",
   "execution_count": null,
   "id": "58a879d6",
   "metadata": {},
   "outputs": [],
   "source": [
    "df[\"Date_Egg\"] = pd.to_datetime(df.loc[:, \"Date_Egg\"], format=\"%Y-%m-%d\")"
   ]
  },
  {
   "cell_type": "code",
   "execution_count": null,
   "id": "2dcac6b8",
   "metadata": {},
   "outputs": [],
   "source": [
    "df[\"Species\"] = df.loc[:, \"Species\"].astype(\"category\")\n",
    "df[\"Island\"] = df.loc[:, \"Island\"].astype(\"category\")\n",
    "df[\"Sex\"] = df.loc[:, \"Sex\"].astype(\"category\")"
   ]
  },
  {
   "cell_type": "code",
   "execution_count": null,
   "id": "a04b94fb",
   "metadata": {},
   "outputs": [],
   "source": [
    "df.dtypes"
   ]
  },
  {
   "cell_type": "markdown",
   "id": "1d1c65b7",
   "metadata": {},
   "source": [
    "## 読み込んだデータの保存"
   ]
  },
  {
   "cell_type": "code",
   "execution_count": null,
   "id": "b5e097e8",
   "metadata": {},
   "outputs": [],
   "source": [
    "df.to_parquet(\"data/penguins.parquet\")"
   ]
  }
 ],
 "metadata": {},
 "nbformat": 4,
 "nbformat_minor": 5
}
