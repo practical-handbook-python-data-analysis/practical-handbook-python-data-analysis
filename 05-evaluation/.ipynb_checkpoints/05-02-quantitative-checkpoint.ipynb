{
 "cells": [
  {
   "cell_type": "markdown",
   "id": "5ca9b6c0",
   "metadata": {},
   "source": [
    "# 定量的評価（統計量）"
   ]
  },
  {
   "cell_type": "markdown",
   "id": "6d94477e",
   "metadata": {},
   "source": [
    "## 要約統計量の確認"
   ]
  },
  {
   "cell_type": "code",
   "execution_count": null,
   "id": "b7e4b863",
   "metadata": {},
   "outputs": [],
   "source": [
    "import pandas as pd\n",
    "\n",
    "df = pd.read_parquet(\"data/penguins.parquet\")\n",
    "\n",
    "df.describe()"
   ]
  },
  {
   "cell_type": "code",
   "execution_count": null,
   "id": "d0ad288f",
   "metadata": {},
   "outputs": [],
   "source": [
    "df.describe(datetime_is_numeric=True)"
   ]
  },
  {
   "cell_type": "code",
   "execution_count": null,
   "id": "b2829a62",
   "metadata": {},
   "outputs": [],
   "source": [
    "df.describe(\n",
    "    include=\"all\",\n",
    "    datetime_is_numeric=True,\n",
    ")"
   ]
  },
  {
   "cell_type": "code",
   "execution_count": null,
   "id": "91ead9c7",
   "metadata": {},
   "outputs": [],
   "source": [
    "df.loc[:, \"Body_Mass\"].describe()"
   ]
  },
  {
   "cell_type": "code",
   "execution_count": null,
   "id": "111ce787",
   "metadata": {},
   "outputs": [],
   "source": [
    "df.loc[:, \"Body_Mass\"].quantile([0.75, 0.8, 0.85, 0.9, 0.95, 0.99, 1])"
   ]
  },
  {
   "cell_type": "code",
   "execution_count": null,
   "id": "82e7f218",
   "metadata": {},
   "outputs": [],
   "source": [
    "df.loc[:, \"Species\"].value_counts()"
   ]
  }
 ],
 "metadata": {},
 "nbformat": 4,
 "nbformat_minor": 5
}
